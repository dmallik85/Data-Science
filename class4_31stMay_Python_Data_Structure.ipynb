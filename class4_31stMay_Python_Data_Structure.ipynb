{
 "cells": [
  {
   "cell_type": "markdown",
   "id": "8b998d52-4a01-43cf-a65d-bb747835320b",
   "metadata": {},
   "source": [
    "# Data Structure in Python\n",
    "Data structure which can hold, store and save data. In Python, data structures are used to store and organize data efficiently. Python provides several built-in data structures, as well as support for custom ones. Here's a summary of the main built-in data structures:\n",
    "1. List\n",
    "2. Tuple\n",
    "3. Set\n",
    "4. Dictionary"
   ]
  },
  {
   "cell_type": "code",
   "execution_count": 3,
   "id": "576c16e6-c90d-4a12-ad15-8061a4c95a6c",
   "metadata": {},
   "outputs": [
    {
     "data": {
      "text/plain": [
       "tuple"
      ]
     },
     "execution_count": 3,
     "metadata": {},
     "output_type": "execute_result"
    }
   ],
   "source": [
    "a=False, True, 777, \"Debu\"\n",
    "type(a)"
   ]
  },
  {
   "cell_type": "markdown",
   "id": "211a4ebd-42ae-4f5a-b9ff-019424e0e8b2",
   "metadata": {},
   "source": [
    "### List\n",
    "It is like a container which can store data and list is always in square brackets [].\n",
    "1. List can accomodate all kind of data.\n",
    "2. List is mutable - this means we can edit our data (update, insert, add, count)."
   ]
  },
  {
   "cell_type": "code",
   "execution_count": 12,
   "id": "108d23d0-1c83-420a-9a14-a314855c8347",
   "metadata": {},
   "outputs": [
    {
     "data": {
      "text/plain": [
       "list"
      ]
     },
     "execution_count": 12,
     "metadata": {},
     "output_type": "execute_result"
    }
   ],
   "source": [
    "# Create an empty list\n",
    "lists=[]\n",
    "type(lists)"
   ]
  },
  {
   "cell_type": "code",
   "execution_count": 18,
   "id": "ebd58f61-3b55-40fe-b1a3-123495c4c596",
   "metadata": {},
   "outputs": [
    {
     "name": "stdout",
     "output_type": "stream",
     "text": [
      "The type of datastructure is: <class 'list'>\n",
      "['a', 'b', 'c', 'd']\n"
     ]
    }
   ],
   "source": [
    "# Create a proper list\n",
    "lst=['a','b','c','d']\n",
    "print(\"The type of datastructure is:\",type(lst))\n",
    "print(lst)"
   ]
  },
  {
   "cell_type": "markdown",
   "id": "212cbdda-3ed5-416b-a5bd-300421034f62",
   "metadata": {},
   "source": [
    "### Copy() Method"
   ]
  },
  {
   "cell_type": "code",
   "execution_count": 20,
   "id": "64e08937-4082-45da-a6ed-264526885124",
   "metadata": {},
   "outputs": [
    {
     "name": "stdout",
     "output_type": "stream",
     "text": [
      "['a', 'b', 'c', 'd']\n"
     ]
    }
   ],
   "source": [
    "# How to create a copy of a list\n",
    "# Why do we need to copy a list? - it is because if we are in need to modify, update or delete the data from a list it is always good practice to \n",
    "# have a backup of the existing list before updating. In the below example, we are saving the above list named 'lst' into l2. Now if we edit l2 it\n",
    "# it doesn't harm the actual list 'lst'. Let's see how it works.\n",
    "l2=list(lst)\n",
    "print(l2)"
   ]
  },
  {
   "cell_type": "code",
   "execution_count": 24,
   "id": "9c222551-cb62-49fa-89e2-eccdac339500",
   "metadata": {},
   "outputs": [
    {
     "name": "stdout",
     "output_type": "stream",
     "text": [
      "[30, 40, 50, 60]\n"
     ]
    }
   ],
   "source": [
    "# Different way to copy a list\n",
    "# Use of copy() method\n",
    "marks=[30,40,50,60]\n",
    "copy_marks=marks.copy()\n",
    "print(copy_marks)"
   ]
  },
  {
   "cell_type": "code",
   "execution_count": 26,
   "id": "ad2c7092-e941-4489-aebb-225f9b4420e0",
   "metadata": {},
   "outputs": [
    {
     "name": "stdout",
     "output_type": "stream",
     "text": [
      "['d', 'e', 'b', 'u']\n"
     ]
    }
   ],
   "source": [
    "# Another way to make a list\n",
    "# This method seperates all the elements.\n",
    "lst=list('debu')\n",
    "print(lst)"
   ]
  },
  {
   "cell_type": "code",
   "execution_count": 28,
   "id": "0203ea85-e5f8-4c37-82d3-903494713ec4",
   "metadata": {},
   "outputs": [
    {
     "ename": "TypeError",
     "evalue": "'int' object is not iterable",
     "output_type": "error",
     "traceback": [
      "\u001b[1;31m---------------------------------------------------------------------------\u001b[0m",
      "\u001b[1;31mTypeError\u001b[0m                                 Traceback (most recent call last)",
      "Cell \u001b[1;32mIn[28], line 2\u001b[0m\n\u001b[0;32m      1\u001b[0m \u001b[38;5;66;03m# Let's try with integer value\u001b[39;00m\n\u001b[1;32m----> 2\u001b[0m lst\u001b[38;5;241m=\u001b[39m\u001b[38;5;28mlist\u001b[39m(\u001b[38;5;241m8765\u001b[39m)\n\u001b[0;32m      3\u001b[0m \u001b[38;5;28mprint\u001b[39m(lst)\n",
      "\u001b[1;31mTypeError\u001b[0m: 'int' object is not iterable"
     ]
    }
   ],
   "source": [
    "# Let's try with integer value\n",
    "lst=list(8765)\n",
    "print(lst)\n",
    "# This will throw an error as int object is not terable. In this case we have to defile list using []."
   ]
  },
  {
   "cell_type": "markdown",
   "id": "f264872b-530e-4596-9bc6-14bf38ddf9ed",
   "metadata": {},
   "source": [
    "### Important\n",
    "Copying a list or saving the list in a variable are not same. Let me explain: Please see below example where lst is saved in a variable called 'a'.\n",
    "when we ran id(a) to find memory location of this variable it displays: 2130384808704. Now after copying the list into another variable called 'b'\n",
    "and checked the id(b) again, it displays: 2130384878720. So, if we run b.clear() function to remove the value of b, it doesn't touch the original list."
   ]
  },
  {
   "cell_type": "code",
   "execution_count": 32,
   "id": "af15f138-3b86-4944-97eb-4189af1c1a74",
   "metadata": {},
   "outputs": [
    {
     "data": {
      "text/plain": [
       "2130384808704"
      ]
     },
     "execution_count": 32,
     "metadata": {},
     "output_type": "execute_result"
    }
   ],
   "source": [
    "lst=[20,30,40]\n",
    "a=lst\n",
    "id(a)"
   ]
  },
  {
   "cell_type": "code",
   "execution_count": 34,
   "id": "9652f8c6-b337-4e8f-a8f8-60ee8cbb8f80",
   "metadata": {},
   "outputs": [
    {
     "data": {
      "text/plain": [
       "2130384878720"
      ]
     },
     "execution_count": 34,
     "metadata": {},
     "output_type": "execute_result"
    }
   ],
   "source": [
    "b=lst.copy()\n",
    "id(b)"
   ]
  },
  {
   "cell_type": "markdown",
   "id": "4cba1f34-1080-4036-8745-6c44245707b5",
   "metadata": {},
   "source": [
    "### Append() Method"
   ]
  },
  {
   "cell_type": "code",
   "execution_count": 37,
   "id": "99d8044b-e8be-40b9-a7d4-ea11bf60b158",
   "metadata": {},
   "outputs": [
    {
     "name": "stdout",
     "output_type": "stream",
     "text": [
      "['Sachin']\n"
     ]
    }
   ],
   "source": [
    "# Let's try to append a value into the list\n",
    "# Create an empty list and append data by using the append() method\n",
    "l1=[]\n",
    "l1.append('Sachin')\n",
    "print(l1)"
   ]
  },
  {
   "cell_type": "code",
   "execution_count": 39,
   "id": "b0a92790-90ee-4937-a4a6-0f952598406e",
   "metadata": {},
   "outputs": [
    {
     "name": "stdout",
     "output_type": "stream",
     "text": [
      "['Sachin', 'Dhoni']\n"
     ]
    }
   ],
   "source": [
    "# Add one more value\n",
    "l1.append('Dhoni')\n",
    "print(l1)"
   ]
  },
  {
   "cell_type": "code",
   "execution_count": 41,
   "id": "10470c47-affa-429d-bf76-5337327adb87",
   "metadata": {},
   "outputs": [
    {
     "ename": "TypeError",
     "evalue": "list.append() takes exactly one argument (2 given)",
     "output_type": "error",
     "traceback": [
      "\u001b[1;31m---------------------------------------------------------------------------\u001b[0m",
      "\u001b[1;31mTypeError\u001b[0m                                 Traceback (most recent call last)",
      "Cell \u001b[1;32mIn[41], line 2\u001b[0m\n\u001b[0;32m      1\u001b[0m \u001b[38;5;66;03m# Add two more items in one attempt\u001b[39;00m\n\u001b[1;32m----> 2\u001b[0m l1\u001b[38;5;241m.\u001b[39mappend(\u001b[38;5;124m'\u001b[39m\u001b[38;5;124mKarthik\u001b[39m\u001b[38;5;124m'\u001b[39m,\u001b[38;5;124m'\u001b[39m\u001b[38;5;124mJadeja\u001b[39m\u001b[38;5;124m'\u001b[39m)\n\u001b[0;32m      3\u001b[0m \u001b[38;5;28mprint\u001b[39m(l1)\n",
      "\u001b[1;31mTypeError\u001b[0m: list.append() takes exactly one argument (2 given)"
     ]
    }
   ],
   "source": [
    "# Add two more items in one attempt\n",
    "l1.append('Karthik','Jadeja')\n",
    "print(l1)\n",
    "# This doesn't work as one argument is expected to pass"
   ]
  },
  {
   "cell_type": "code",
   "execution_count": 43,
   "id": "424dc542-27ad-495f-b81d-474d5fc0c471",
   "metadata": {},
   "outputs": [
    {
     "name": "stdout",
     "output_type": "stream",
     "text": [
      "['Sachin', 'Dhoni', ['Karthik', 'Jadeja']]\n"
     ]
    }
   ],
   "source": [
    "# How to fix this to append in one attempt\n",
    "l1.append(['Karthik','Jadeja'])\n",
    "print(l1)\n",
    "# But it adds a list into a list, it doesn't add an item into the existing list."
   ]
  },
  {
   "cell_type": "code",
   "execution_count": 45,
   "id": "f88c945c-e419-4e91-9429-c1c832a0074f",
   "metadata": {},
   "outputs": [
    {
     "name": "stdout",
     "output_type": "stream",
     "text": [
      "['Sachin', 'Dhoni', 'Karthik', 'Jadeja']\n"
     ]
    }
   ],
   "source": [
    "# The correct way to do it:\n",
    "l1=['Sachin','Dhoni']\n",
    "l1.append('Karthik')\n",
    "l1.append('Jadeja')\n",
    "print(l1)"
   ]
  },
  {
   "cell_type": "markdown",
   "id": "7d9794b2-e4c0-463a-8339-757ed90793c5",
   "metadata": {},
   "source": [
    "### index and insert method - to pass to two arguments"
   ]
  },
  {
   "cell_type": "code",
   "execution_count": 47,
   "id": "116459da-00f3-4130-9ad8-4917d81f3b7e",
   "metadata": {},
   "outputs": [
    {
     "name": "stdout",
     "output_type": "stream",
     "text": [
      "['Raju', 'Debu', 'Sameer', 'Ansika Mallik', 'Aarush Mallik']\n"
     ]
    }
   ],
   "source": [
    "# insert(index valu, value to insert) meaning of index is where we have to add objects and insert is what the object to add. Let's see\n",
    "l1=['Raju','Debu','Sameer','Ansika Mallik','Aarush Mallik']\n",
    "print(l1)"
   ]
  },
  {
   "cell_type": "code",
   "execution_count": 49,
   "id": "69db0b59-da1f-4be9-95f5-cddaaff6bc1d",
   "metadata": {},
   "outputs": [
    {
     "name": "stdout",
     "output_type": "stream",
     "text": [
      "['Raju', 'Debu', 'Sameer', 'Ashok', 'Ansika Mallik', 'Aarush Mallik']\n"
     ]
    }
   ],
   "source": [
    "# In the below code we are trying to insert the value 'Ashok' in place of 3rd index that is after 'Sameer'.\n",
    "l1.insert(3,'Ashok')\n",
    "print(l1)"
   ]
  },
  {
   "cell_type": "code",
   "execution_count": 51,
   "id": "097738b2-c567-4fea-b16d-2d0ecaa0f79d",
   "metadata": {},
   "outputs": [
    {
     "name": "stdout",
     "output_type": "stream",
     "text": [
      "[44, 56, 23, 89, 88, 45]\n"
     ]
    }
   ],
   "source": [
    "l1=[44,56,23,89,45]\n",
    "l1.insert(4,88)\n",
    "print(l1)"
   ]
  },
  {
   "cell_type": "code",
   "execution_count": 59,
   "id": "0c8fa19b-bb64-47e5-93a3-6457a46879cd",
   "metadata": {},
   "outputs": [
    {
     "data": {
      "text/plain": [
       "6"
      ]
     },
     "execution_count": 59,
     "metadata": {},
     "output_type": "execute_result"
    }
   ],
   "source": [
    "# Check the length of l1 variable is\n",
    "len(l1)"
   ]
  },
  {
   "cell_type": "markdown",
   "id": "f9cf99d0-4b1e-4321-8977-7514d622f7d6",
   "metadata": {},
   "source": [
    "### Indexing and Slicing"
   ]
  },
  {
   "cell_type": "code",
   "execution_count": 62,
   "id": "2531fbb3-4f08-4358-968c-5bfae095db4e",
   "metadata": {},
   "outputs": [
    {
     "data": {
      "text/plain": [
       "'Raju'"
      ]
     },
     "execution_count": 62,
     "metadata": {},
     "output_type": "execute_result"
    }
   ],
   "source": [
    "l1=['Raju','Debu','Sameer','Ansika Mallik','Aarush Mallik']\n",
    "l1[0]"
   ]
  },
  {
   "cell_type": "code",
   "execution_count": 64,
   "id": "40655230-f145-4721-ab73-d53cfefc9c62",
   "metadata": {},
   "outputs": [
    {
     "data": {
      "text/plain": [
       "'Debu'"
      ]
     },
     "execution_count": 64,
     "metadata": {},
     "output_type": "execute_result"
    }
   ],
   "source": [
    "l1[1]"
   ]
  },
  {
   "cell_type": "code",
   "execution_count": 66,
   "id": "8001030c-5496-4c81-a2d6-dc8ea8f056b2",
   "metadata": {},
   "outputs": [
    {
     "data": {
      "text/plain": [
       "'Aarush Mallik'"
      ]
     },
     "execution_count": 66,
     "metadata": {},
     "output_type": "execute_result"
    }
   ],
   "source": [
    "l1[4]"
   ]
  },
  {
   "cell_type": "code",
   "execution_count": 70,
   "id": "b4a1198b-1fd0-4c10-a55a-f256b37fc218",
   "metadata": {},
   "outputs": [
    {
     "name": "stdout",
     "output_type": "stream",
     "text": [
      "['Raju', 'Debu', 'Sameer', 'Ansika Mallik', 'Taalu']\n"
     ]
    }
   ],
   "source": [
    "# The above examples describes that by using index value we can pick a value from the list. This method can be used to replace a value in the list. Let's\n",
    "# see how to replace.\n",
    "l1[4]='Taalu'\n",
    "print(l1)"
   ]
  },
  {
   "cell_type": "code",
   "execution_count": 74,
   "id": "320d5550-eacb-4a3c-a240-dc0103f207a6",
   "metadata": {},
   "outputs": [
    {
     "data": {
      "text/plain": [
       "['Debu', 'Sameer', 'Ansika Mallik', 'Taalu']"
      ]
     },
     "execution_count": 74,
     "metadata": {},
     "output_type": "execute_result"
    }
   ],
   "source": [
    "# Listing a value from certain index position\n",
    "l1[1:]"
   ]
  },
  {
   "cell_type": "code",
   "execution_count": 76,
   "id": "508a8944-c07a-4bb4-816a-1984e2edb568",
   "metadata": {},
   "outputs": [
    {
     "data": {
      "text/plain": [
       "['Ansika Mallik', 'Taalu']"
      ]
     },
     "execution_count": 76,
     "metadata": {},
     "output_type": "execute_result"
    }
   ],
   "source": [
    "l1[3:]"
   ]
  },
  {
   "cell_type": "code",
   "execution_count": 90,
   "id": "6cf530f4-accf-4135-931a-176ab7c686f2",
   "metadata": {},
   "outputs": [
    {
     "data": {
      "text/plain": [
       "[23, 45, 67, 32, 67, 78, 99, 555]"
      ]
     },
     "execution_count": 90,
     "metadata": {},
     "output_type": "execute_result"
    }
   ],
   "source": [
    "# We can use + sign to concatenate list, just we did for string\n",
    "l1=[23,45,67,32,67,78,99]\n",
    "# Now we want to add [555]\n",
    "l1+[555]"
   ]
  },
  {
   "cell_type": "code",
   "execution_count": 92,
   "id": "c5d0ea2f-9d1e-449e-a058-91b4ab58cc50",
   "metadata": {},
   "outputs": [
    {
     "name": "stdout",
     "output_type": "stream",
     "text": [
      "[23, 45, 67, 32, 67, 78, 99]\n"
     ]
    }
   ],
   "source": [
    "# But the above output doesn't add it permanently. Let's print l1 and see.\n",
    "print(l1)"
   ]
  },
  {
   "cell_type": "code",
   "execution_count": 98,
   "id": "76623e37-c448-4bed-a86d-8a220a95fd81",
   "metadata": {},
   "outputs": [
    {
     "name": "stdout",
     "output_type": "stream",
     "text": [
      "[23, 45, 67, 32, 67, 78, 99, 555]\n"
     ]
    }
   ],
   "source": [
    "# The above process doesn't add the value permanently. To add it permanently we should use either append() or this way:\n",
    "l1=[23,45,67,32,67,78,99]\n",
    "l1=l1+[555]\n",
    "print(l1)"
   ]
  },
  {
   "cell_type": "markdown",
   "id": "51fa4095-2438-492b-b34e-de232926f0dd",
   "metadata": {},
   "source": [
    "### How to duplicate a list"
   ]
  },
  {
   "cell_type": "code",
   "execution_count": 103,
   "id": "938eca24-196d-47e2-b9f6-7207ed5bb920",
   "metadata": {},
   "outputs": [
    {
     "name": "stdout",
     "output_type": "stream",
     "text": [
      "[23, 45, 67, 32, 67, 78, 99, 555, 23, 45, 67, 32, 67, 78, 99, 555, 23, 45, 67, 32, 67, 78, 99, 555, 23, 45, 67, 32, 67, 78, 99, 555]\n"
     ]
    }
   ],
   "source": [
    "# By using * we can duplicate a list\n",
    "print(l1 * 4)"
   ]
  },
  {
   "cell_type": "code",
   "execution_count": 109,
   "id": "0ca52d58-27ef-4321-9b4c-ab9cfe756ad8",
   "metadata": {},
   "outputs": [
    {
     "name": "stdout",
     "output_type": "stream",
     "text": [
      "--------------------------------------------------------------------------------------------------------------------------------------------\n",
      "[23, 45, 67, 32, 67, 78, 99, 555, 23, 45, 67, 32, 67, 78, 99, 555, 23, 45, 67, 32, 67, 78, 99, 555, 23, 45, 67, 32, 67, 78, 99, 555]\n",
      "--------------------------------------------------------------------------------------------------------------------------------------------\n"
     ]
    }
   ],
   "source": [
    "# If we want to make the code easily understable we can do like this\n",
    "print(\"-\" * 140)\n",
    "print(l1 * 4)\n",
    "# But it doesn't double it permanently\n",
    "print(\"-\" * 140)"
   ]
  },
  {
   "cell_type": "markdown",
   "id": "ebbab8db-ce11-4ae0-941e-d82198955380",
   "metadata": {},
   "source": [
    "### Advanced List and Count() Method\n",
    "The count() method counts the number of times a value exists in a list or the number of duplicate values"
   ]
  },
  {
   "cell_type": "code",
   "execution_count": 114,
   "id": "8516b65e-1ebb-4107-a313-0948546a5188",
   "metadata": {},
   "outputs": [
    {
     "data": {
      "text/plain": [
       "2"
      ]
     },
     "execution_count": 114,
     "metadata": {},
     "output_type": "execute_result"
    }
   ],
   "source": [
    "marks=[10,23,45,67,89,45,23,45,67,8998,90,65,54,43]\n",
    "marks.count(23)"
   ]
  },
  {
   "cell_type": "code",
   "execution_count": 116,
   "id": "688e3c9f-21ae-4346-9f72-f69822bf8832",
   "metadata": {},
   "outputs": [
    {
     "data": {
      "text/plain": [
       "3"
      ]
     },
     "execution_count": 116,
     "metadata": {},
     "output_type": "execute_result"
    }
   ],
   "source": [
    "marks.count(45)"
   ]
  },
  {
   "cell_type": "markdown",
   "id": "58289819-b5c0-40e8-b823-934e890abeb2",
   "metadata": {},
   "source": [
    "### Extend Method\n",
    "It is confusing extend and append method. Let's see how both works"
   ]
  },
  {
   "cell_type": "code",
   "execution_count": 119,
   "id": "f9544c39-27de-4abd-a4ad-1010a6f32304",
   "metadata": {},
   "outputs": [
    {
     "data": {
      "text/plain": [
       "['Tara', 'Sitara']"
      ]
     },
     "execution_count": 119,
     "metadata": {},
     "output_type": "execute_result"
    }
   ],
   "source": [
    "lst=['Tara','Sitara']\n",
    "lst"
   ]
  },
  {
   "cell_type": "code",
   "execution_count": 121,
   "id": "d9c6e50a-7220-43a7-b8e8-82268cad6b78",
   "metadata": {},
   "outputs": [
    {
     "data": {
      "text/plain": [
       "['Tara', 'Sitara', ['Chinki', 'Pinki']]"
      ]
     },
     "execution_count": 121,
     "metadata": {},
     "output_type": "execute_result"
    }
   ],
   "source": [
    "lst.append(['Chinki','Pinki'])\n",
    "lst"
   ]
  },
  {
   "cell_type": "code",
   "execution_count": 123,
   "id": "322b84b5-1b35-49d0-b421-787b67c5c69e",
   "metadata": {},
   "outputs": [
    {
     "data": {
      "text/plain": [
       "['Tara', 'Sitara', 'Chinki', 'Pinki']"
      ]
     },
     "execution_count": 123,
     "metadata": {},
     "output_type": "execute_result"
    }
   ],
   "source": [
    "# This doesn't look right, we should use extend() method instead of append() method.\n",
    "lst=['Tara','Sitara']\n",
    "lst.extend(['Chinki','Pinki'])\n",
    "lst"
   ]
  },
  {
   "cell_type": "markdown",
   "id": "e388d701-fa66-4c2f-b0c5-c681980c0f3d",
   "metadata": {},
   "source": [
    "### pop() or Delete Method\n",
    "This deletes the last index element from the list. Let's see how it works"
   ]
  },
  {
   "cell_type": "code",
   "execution_count": 127,
   "id": "2f8e35f3-f03d-433c-b8df-aba1df7fa97f",
   "metadata": {},
   "outputs": [
    {
     "name": "stdout",
     "output_type": "stream",
     "text": [
      "['Raju', 'Debu', 'Sameer', 'Ansika Mallik', 'Aarush Mallik']\n"
     ]
    }
   ],
   "source": [
    "l1=['Raju','Debu','Sameer','Ansika Mallik','Aarush Mallik']\n",
    "print(l1)"
   ]
  },
  {
   "cell_type": "code",
   "execution_count": 129,
   "id": "760caa00-2395-47e6-a0ae-a6173781b125",
   "metadata": {},
   "outputs": [
    {
     "name": "stdout",
     "output_type": "stream",
     "text": [
      "Aarush Mallik\n"
     ]
    }
   ],
   "source": [
    "l2=l1.pop()\n",
    "print(l2)"
   ]
  },
  {
   "cell_type": "code",
   "execution_count": 133,
   "id": "5a25bf96-3714-499a-bfc3-f889a3ba564a",
   "metadata": {},
   "outputs": [
    {
     "name": "stdout",
     "output_type": "stream",
     "text": [
      "['Raju', 'Debu', 'Sameer', 'Ansika Mallik']\n"
     ]
    }
   ],
   "source": [
    "print(l1)"
   ]
  },
  {
   "cell_type": "code",
   "execution_count": 135,
   "id": "b39ed75c-944e-447f-92a7-8906d4952d36",
   "metadata": {},
   "outputs": [
    {
     "name": "stdout",
     "output_type": "stream",
     "text": [
      "Sameer\n",
      "['Raju', 'Debu', 'Ansika Mallik']\n"
     ]
    }
   ],
   "source": [
    "# We can pass index value to remove the exact element. Let's see how:\n",
    "l3=l1.pop(2)\n",
    "print(l3)\n",
    "print(l1)"
   ]
  },
  {
   "cell_type": "markdown",
   "id": "af6f3bc7-6474-4651-9771-6009c2015cf3",
   "metadata": {},
   "source": [
    "### Remove() Method\n",
    "How it works?\n",
    "It removes the valued passed to remove. It checks the passed value from the list and deletes it from the list but it doesn't continue to check the list if that value is repeated in the list. Let's see how it works:"
   ]
  },
  {
   "cell_type": "code",
   "execution_count": 150,
   "id": "5e4f0ab2-4151-4458-bcb6-f25cfa6d9058",
   "metadata": {},
   "outputs": [],
   "source": [
    "marks=[10,23,45,67,89,45,23,45,67,8998,90,65,54,43]\n",
    "marks.remove(45)"
   ]
  },
  {
   "cell_type": "code",
   "execution_count": 152,
   "id": "2fc440e7-0bed-4f35-b621-e59e04597441",
   "metadata": {},
   "outputs": [
    {
     "data": {
      "text/plain": [
       "[10, 23, 67, 89, 45, 23, 45, 67, 8998, 90, 65, 54, 43]"
      ]
     },
     "execution_count": 152,
     "metadata": {},
     "output_type": "execute_result"
    }
   ],
   "source": [
    "marks"
   ]
  },
  {
   "cell_type": "markdown",
   "id": "79f65734-03f7-42c4-98bf-0cb904202478",
   "metadata": {},
   "source": [
    "### Reverse Method\n",
    "It reverses the elements in reverse order."
   ]
  },
  {
   "cell_type": "code",
   "execution_count": 7,
   "id": "decaaad8-4faa-434d-aad5-a26a0b07b104",
   "metadata": {},
   "outputs": [
    {
     "name": "stdout",
     "output_type": "stream",
     "text": [
      "[43, 54, 65, 90, 8998, 67, 45, 23, 45, 89, 67, 45, 23, 10]\n"
     ]
    }
   ],
   "source": [
    "marks=[10,23,45,67,89,45,23,45,67,8998,90,65,54,43]\n",
    "marks.reverse()\n",
    "print(marks)"
   ]
  },
  {
   "cell_type": "markdown",
   "id": "4fdcef7a-4aef-42ca-a473-68b9345c8f3c",
   "metadata": {},
   "source": [
    "### Sort Method\n",
    "It helps in sorting the elements in ascending or descending order."
   ]
  },
  {
   "cell_type": "code",
   "execution_count": 10,
   "id": "1db49a6a-9238-4626-85f4-0a16cc1b9f7c",
   "metadata": {},
   "outputs": [
    {
     "name": "stdout",
     "output_type": "stream",
     "text": [
      "[10, 23, 23, 43, 45, 45, 45, 54, 65, 67, 67, 89, 90, 8998]\n"
     ]
    }
   ],
   "source": [
    "marks=[10,23,45,67,89,45,23,45,67,8998,90,65,54,43]\n",
    "marks.sort()\n",
    "print(marks)"
   ]
  },
  {
   "cell_type": "code",
   "execution_count": 12,
   "id": "5ca7d800-cfdd-43a1-9568-bf940ce5c0e7",
   "metadata": {},
   "outputs": [
    {
     "name": "stdout",
     "output_type": "stream",
     "text": [
      "[8998, 90, 89, 67, 67, 65, 54, 45, 45, 45, 43, 23, 23, 10]\n"
     ]
    }
   ],
   "source": [
    "# To display in reverse order\n",
    "marks.sort(reverse=True)\n",
    "print(marks)"
   ]
  },
  {
   "cell_type": "markdown",
   "id": "cd657979-5714-4c7f-85b1-21ecb3c14cf2",
   "metadata": {},
   "source": [
    "## Example- Basic Checks"
   ]
  },
  {
   "cell_type": "code",
   "execution_count": 17,
   "id": "587859da-b393-4cf9-be50-c13ca18247b1",
   "metadata": {},
   "outputs": [
    {
     "name": "stdout",
     "output_type": "stream",
     "text": [
      "True\n",
      "True\n",
      "False\n"
     ]
    }
   ],
   "source": [
    "fruits=[\"apple\",\"banana\"]\n",
    "print(\"apple\" in fruits)\n",
    "print(\"banana\" in fruits)\n",
    "print(\"grapes\" in fruits)"
   ]
  },
  {
   "cell_type": "code",
   "execution_count": 19,
   "id": "1395b0d1-6057-468a-abf1-247551429e17",
   "metadata": {},
   "outputs": [
    {
     "name": "stdout",
     "output_type": "stream",
     "text": [
      "True\n"
     ]
    }
   ],
   "source": [
    "print(\"grapes\" not in fruits)"
   ]
  },
  {
   "cell_type": "code",
   "execution_count": 21,
   "id": "4b1c7e1c-75a0-48e8-8880-18a4ea67c722",
   "metadata": {},
   "outputs": [
    {
     "name": "stdout",
     "output_type": "stream",
     "text": [
      "True\n"
     ]
    }
   ],
   "source": [
    "print(\"mango\" not in fruits)"
   ]
  },
  {
   "cell_type": "code",
   "execution_count": 25,
   "id": "84434150-c55b-4cfd-a3e6-b367d2ccc579",
   "metadata": {},
   "outputs": [
    {
     "name": "stdout",
     "output_type": "stream",
     "text": [
      "False\n"
     ]
    }
   ],
   "source": [
    "print(\"apple\" not in fruits)"
   ]
  },
  {
   "cell_type": "markdown",
   "id": "deeda74b-a40a-4c47-9d9a-3b38d2460a53",
   "metadata": {},
   "source": [
    "# Tuples\n",
    "Tuple is an order, immutable collection of items. Tuples are always defined in round brackets (). They also contain any data type.\n",
    "Let's see an example:"
   ]
  },
  {
   "cell_type": "code",
   "execution_count": 30,
   "id": "9136296e-4b20-4b91-94eb-d9fa18f1d475",
   "metadata": {},
   "outputs": [
    {
     "data": {
      "text/plain": [
       "tuple"
      ]
     },
     "execution_count": 30,
     "metadata": {},
     "output_type": "execute_result"
    }
   ],
   "source": [
    "my_tup=(1, \"Debu\", 23.4)\n",
    "type(my_tup)"
   ]
  },
  {
   "cell_type": "code",
   "execution_count": 36,
   "id": "9ff68e3a-1683-4391-b43e-0b3e7bddcb48",
   "metadata": {},
   "outputs": [
    {
     "data": {
      "text/plain": [
       "tuple"
      ]
     },
     "execution_count": 36,
     "metadata": {},
     "output_type": "execute_result"
    }
   ],
   "source": [
    "# If you do not declare the data structure type either list usin [] or string using '\"''' or using () for tuple, \n",
    "# it by default consider as TUPLE. Please see below:\n",
    "myval=1,\"Ansika\",4.5\n",
    "type(myval)"
   ]
  },
  {
   "cell_type": "code",
   "execution_count": 42,
   "id": "185bfb98-c311-45b7-a888-d82432940fdd",
   "metadata": {},
   "outputs": [
    {
     "ename": "AttributeError",
     "evalue": "'tuple' object has no attribute 'append'",
     "output_type": "error",
     "traceback": [
      "\u001b[1;31m---------------------------------------------------------------------------\u001b[0m",
      "\u001b[1;31mAttributeError\u001b[0m                            Traceback (most recent call last)",
      "Cell \u001b[1;32mIn[42], line 2\u001b[0m\n\u001b[0;32m      1\u001b[0m \u001b[38;5;66;03m# Running below code will throw the error \" 'tuple' object has no attribute 'append'\" because it is immutable.\u001b[39;00m\n\u001b[1;32m----> 2\u001b[0m myval\u001b[38;5;241m.\u001b[39mappend(\u001b[38;5;124m\"\u001b[39m\u001b[38;5;124mDebu\u001b[39m\u001b[38;5;124m\"\u001b[39m)\n",
      "\u001b[1;31mAttributeError\u001b[0m: 'tuple' object has no attribute 'append'"
     ]
    }
   ],
   "source": [
    "# Running below code will throw the error \" 'tuple' object has no attribute 'append'\" because it is immutable.\n",
    "myval.append(\"Debu\")"
   ]
  },
  {
   "cell_type": "markdown",
   "id": "8a4cf5c7-af94-44a5-98af-b61e9fec7044",
   "metadata": {},
   "source": [
    "### How to add elements into tuple\n",
    "Basically, it needs to be converted to list first, append or insert or extend and convert it back to tuple. Let's see how it works."
   ]
  },
  {
   "cell_type": "code",
   "execution_count": 45,
   "id": "d68e4147-e471-4d12-8054-3bffa503915e",
   "metadata": {},
   "outputs": [
    {
     "name": "stdout",
     "output_type": "stream",
     "text": [
      "(1, 'Ansika', 4.5, 'Debu')\n"
     ]
    }
   ],
   "source": [
    "myval=(1,\"Ansika\",4.5)\n",
    "myval=list(myval)      #Converting to list\n",
    "myval.append(\"Debu\")   #Appending a value called 'Debu'\n",
    "myval=tuple(myval)     #Converting back to tuple\n",
    "print(myval)"
   ]
  },
  {
   "cell_type": "code",
   "execution_count": 47,
   "id": "0322503c-2807-410a-af8d-77cb1c23508b",
   "metadata": {},
   "outputs": [
    {
     "data": {
      "text/plain": [
       "4"
      ]
     },
     "execution_count": 47,
     "metadata": {},
     "output_type": "execute_result"
    }
   ],
   "source": [
    "# Check what is the length of tuple\n",
    "len(myval)"
   ]
  },
  {
   "cell_type": "code",
   "execution_count": 49,
   "id": "8ae83fbc-b4e1-4e1e-bced-511d97cb51de",
   "metadata": {},
   "outputs": [
    {
     "data": {
      "text/plain": [
       "'Ansika'"
      ]
     },
     "execution_count": 49,
     "metadata": {},
     "output_type": "execute_result"
    }
   ],
   "source": [
    "# How to use indexing in tuple like lists\n",
    "myval[1]"
   ]
  },
  {
   "cell_type": "code",
   "execution_count": 51,
   "id": "67239e83-eef0-4b8a-9785-f568804888f2",
   "metadata": {},
   "outputs": [
    {
     "data": {
      "text/plain": [
       "'Debu'"
      ]
     },
     "execution_count": 51,
     "metadata": {},
     "output_type": "execute_result"
    }
   ],
   "source": [
    "myval[-1]"
   ]
  },
  {
   "cell_type": "markdown",
   "id": "490ac685-c096-4eb0-a9c2-163a1603f916",
   "metadata": {},
   "source": [
    "### index()\n",
    "The index() returns the position (index) of the first time a specific value appears in the tuple. Let's see:"
   ]
  },
  {
   "cell_type": "code",
   "execution_count": 54,
   "id": "74ef1566-8f64-49ac-a61a-7e9aeef96a35",
   "metadata": {},
   "outputs": [
    {
     "data": {
      "text/plain": [
       "2"
      ]
     },
     "execution_count": 54,
     "metadata": {},
     "output_type": "execute_result"
    }
   ],
   "source": [
    "myval.index(4.5)"
   ]
  },
  {
   "cell_type": "markdown",
   "id": "f5eabec3-d12a-423e-9366-15cb38bed9d5",
   "metadata": {},
   "source": [
    "## Basic Tuple Methods"
   ]
  },
  {
   "cell_type": "markdown",
   "id": "5abc8f68-ac41-4e43-8eb6-478dc70aa755",
   "metadata": {},
   "source": [
    "#### 1. count()\n",
    "It returns how many times a specifica value appears in a tuple"
   ]
  },
  {
   "cell_type": "code",
   "execution_count": 58,
   "id": "1f7ae89e-965f-434f-ba89-4547ca27526a",
   "metadata": {},
   "outputs": [
    {
     "data": {
      "text/plain": [
       "3"
      ]
     },
     "execution_count": 58,
     "metadata": {},
     "output_type": "execute_result"
    }
   ],
   "source": [
    "tup=(23,34,56,34,56,34,23,67,56,78,67,56,67)\n",
    "tup.count(34)"
   ]
  },
  {
   "cell_type": "code",
   "execution_count": 60,
   "id": "2d6fcd53-8969-4f4a-b6b4-497018968d69",
   "metadata": {},
   "outputs": [
    {
     "name": "stdout",
     "output_type": "stream",
     "text": [
      "apple\n"
     ]
    }
   ],
   "source": [
    "# Accessing elements in a tuple by using index value. Let's see the example:\n",
    "ttup='apple','banana','cherry'\n",
    "print(ttup[0])\n",
    "# It prints the first item"
   ]
  },
  {
   "cell_type": "code",
   "execution_count": 62,
   "id": "f38d2d20-1d36-4acb-8135-351b8bcf34c6",
   "metadata": {},
   "outputs": [
    {
     "name": "stdout",
     "output_type": "stream",
     "text": [
      "cherry\n"
     ]
    }
   ],
   "source": [
    "# Negative indexing or accessing the element from the last in a tuple\n",
    "print(ttup[-1])"
   ]
  },
  {
   "cell_type": "markdown",
   "id": "ad8a5867-c674-4ac9-a5e4-7179283aeacc",
   "metadata": {},
   "source": [
    "### Tuple Update\n",
    "A tuple can be updated by creating a new tuple with the desired changes or converting to a list as seen before. Let's see:"
   ]
  },
  {
   "cell_type": "code",
   "execution_count": 65,
   "id": "adf58b31-0d9d-40c0-867b-55abd38257e0",
   "metadata": {},
   "outputs": [
    {
     "name": "stdout",
     "output_type": "stream",
     "text": [
      "('apple', 'grapes', 'banana', 'cherry')\n"
     ]
    }
   ],
   "source": [
    "#Update by creating a new tuple\n",
    "ttup='apple','banana','cherry'\n",
    "ttup='apple','grapes','banana','cherry'\n",
    "print(ttup)"
   ]
  },
  {
   "cell_type": "code",
   "execution_count": 75,
   "id": "a185be84-fdb4-46ae-9269-f49c018af4a5",
   "metadata": {},
   "outputs": [
    {
     "name": "stdout",
     "output_type": "stream",
     "text": [
      "('apple', 'banana', 'cherry', 'grapes')\n"
     ]
    }
   ],
   "source": [
    "#Update by adding a value with conversion into a list first\n",
    "ttup='apple','banana','cherry'\n",
    "ttup=list(ttup)\n",
    "ttup.append('grapes')\n",
    "ttup=tuple(ttup)\n",
    "print(ttup)"
   ]
  },
  {
   "cell_type": "code",
   "execution_count": 77,
   "id": "1789033b-ac00-40a9-bdb4-02445f95ca76",
   "metadata": {},
   "outputs": [
    {
     "name": "stdout",
     "output_type": "stream",
     "text": [
      "('apple', 'banana', 'grapes')\n"
     ]
    }
   ],
   "source": [
    "#Update by removing a value with conversion into a list\n",
    "ttup=list(ttup)\n",
    "ttup.remove('cherry')\n",
    "ttup=tuple(ttup)\n",
    "print(ttup)"
   ]
  },
  {
   "cell_type": "code",
   "execution_count": null,
   "id": "70f7062d-8cfe-4c00-b0ca-0a5463f20438",
   "metadata": {},
   "outputs": [],
   "source": []
  }
 ],
 "metadata": {
  "kernelspec": {
   "display_name": "Python [conda env:base] *",
   "language": "python",
   "name": "conda-base-py"
  },
  "language_info": {
   "codemirror_mode": {
    "name": "ipython",
    "version": 3
   },
   "file_extension": ".py",
   "mimetype": "text/x-python",
   "name": "python",
   "nbconvert_exporter": "python",
   "pygments_lexer": "ipython3",
   "version": "3.12.7"
  }
 },
 "nbformat": 4,
 "nbformat_minor": 5
}
