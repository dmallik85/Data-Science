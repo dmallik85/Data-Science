{
 "cells": [
  {
   "cell_type": "markdown",
   "id": "56333138-51a3-4866-b9a4-9976aff59c79",
   "metadata": {},
   "source": [
    "# Lambda function\n",
    "A lambda function in Python is a small, anonymous function defined using the lambda keyword. Unlike regular functions defined with def, lambda functions do not have a name and are typically used for short, one-time operations."
   ]
  },
  {
   "cell_type": "markdown",
   "id": "0b502edd-8ddb-4c73-a143-cf7b9a96ee7e",
   "metadata": {},
   "source": [
    "### Syntax of lambda function"
   ]
  },
  {
   "cell_type": "code",
   "execution_count": null,
   "id": "bbfeec32-7428-4a20-bbd3-b226840990ef",
   "metadata": {},
   "outputs": [],
   "source": [
    "lambda arguments:expression"
   ]
  },
  {
   "cell_type": "code",
   "execution_count": 4,
   "id": "2e56462f-88d9-4769-8d01-4a3396720166",
   "metadata": {},
   "outputs": [
    {
     "data": {
      "text/plain": [
       "70"
      ]
     },
     "execution_count": 4,
     "metadata": {},
     "output_type": "execute_result"
    }
   ],
   "source": [
    "# Let's see this example\n",
    "add_number=lambda y:y+20\n",
    "add_number(50)"
   ]
  },
  {
   "cell_type": "code",
   "execution_count": 6,
   "id": "a42e1952-8970-4cda-9093-27b2042f70f8",
   "metadata": {},
   "outputs": [
    {
     "data": {
      "text/plain": [
       "12"
      ]
     },
     "execution_count": 6,
     "metadata": {},
     "output_type": "execute_result"
    }
   ],
   "source": [
    "# Let's check with multiple arguments\n",
    "mult_number=lambda x,y:x*y\n",
    "mult_number(4,3)"
   ]
  },
  {
   "cell_type": "markdown",
   "id": "fcef04f0-95fe-4064-81e4-153c8dc04f6d",
   "metadata": {},
   "source": [
    "## *args (arguments)\n",
    "\n",
    "In Python, *args and **kwargs are special syntaxes used in function definitions to allow a function to accept a variable number of arguments.\n",
    "* in case of *args we do not know how many number of arguments will be coming in as inputs in our function.\n",
    "* *args syntax allows a function to accept an arbitrary number of non-keyword, or positional, arguments.\n",
    "* When *args is used in a function definition, all the positional arguments passed to the function are collected into a tuple.\n",
    "* The name args is a convention; any valid variable name prefixed with a single asterisk (*) can be used (e.g., *numbers, *items).\n",
    "\n",
    "Syntax:\n",
    "    def function_name(*args):\n",
    "\n",
    "## **kwargs\n",
    "* The **kwargs syntax allows a function to accept an arbitrary number of keyworded arguments.\n",
    "* When **kwargs is used in a function definition, all the keyword arguments passed to the function are collected into a dictionary like key-value pairs. The keys of the dictionary are the argument names, and the values are their corresponding values.\n",
    "* Similar to *args, kwargs is a convention; any valid variable name prefixed with two asterisks (**) can be used (e.g., **options, **details).\n",
    "\n",
    "Syntax: def function_name(**kwargs):"
   ]
  },
  {
   "cell_type": "code",
   "execution_count": 15,
   "id": "47f203c9-d8cc-4c2d-a1b8-9368fe2b9d82",
   "metadata": {},
   "outputs": [
    {
     "name": "stdout",
     "output_type": "stream",
     "text": [
      "My args: Ramesh\n",
      "My args: Sachin\n",
      "My args: 100\n"
     ]
    }
   ],
   "source": [
    "# Example of *args\n",
    "def my_func(*args):\n",
    "    for i in args:\n",
    "        print(\"My args:\",i)\n",
    "my_func(\"Ramesh\",\"Sachin\",100)"
   ]
  },
  {
   "cell_type": "code",
   "execution_count": 25,
   "id": "5be56a6c-f2d9-4ea1-aae9-be474310a2bb",
   "metadata": {},
   "outputs": [
    {
     "name": "stdout",
     "output_type": "stream",
     "text": [
      "dict_keys(['Debu', 'Rohan'])\n",
      "dict_values([56, 89])\n",
      "dict_items([('Debu', 56), ('Rohan', 89)])\n"
     ]
    }
   ],
   "source": [
    "# Recap dictionary for **args\n",
    "d={\"Debu\":56,\"Rohan\":89}\n",
    "print(d.keys())\n",
    "print(d.values())\n",
    "print(d.items())"
   ]
  },
  {
   "cell_type": "code",
   "execution_count": 21,
   "id": "5c12e7bc-ccc4-4318-93d8-87eeaceb6fc8",
   "metadata": {},
   "outputs": [
    {
     "name": "stdout",
     "output_type": "stream",
     "text": [
      "student ['Debu', 'Rohan']\n",
      "marks [80, 78]\n"
     ]
    }
   ],
   "source": [
    "# Example of **kwargs\n",
    "def my_funct(**kwargs):\n",
    "    for key,value in kwargs.items():\n",
    "        print(key,value)\n",
    "my_funct(student=['Debu','Rohan'],marks=[80,78]) "
   ]
  },
  {
   "cell_type": "code",
   "execution_count": 28,
   "id": "147bbf91-a551-4648-a45c-1f9740f7bb0e",
   "metadata": {},
   "outputs": [
    {
     "name": "stdout",
     "output_type": "stream",
     "text": [
      "student ['Debu', 'Rohan']\n",
      "marks [80, 78]\n"
     ]
    }
   ],
   "source": [
    "# Another example of **kwargs\n",
    "def my_funct(**many):          # You can use anything in place of 'kwargs'. I used many in place of 'kwargs'.\n",
    "    for key,value in many.items():\n",
    "        print(key,value)\n",
    "my_funct(student=['Debu','Rohan'],marks=[80,78]) "
   ]
  },
  {
   "cell_type": "markdown",
   "id": "538cabfb-c6f2-40c7-9130-1076678dd3c2",
   "metadata": {},
   "source": [
    "# map() function\n",
    "The map() function in Python is a built-in function used to apply a specified function to each item in an iterable (such as a list, tuple, or string) and return the value for each iteration.\n",
    "It allows you to process and transform all items in an iterable (like list) without using an explicit loop.\n",
    "\n",
    "Syntax: map(function, iterable)"
   ]
  },
  {
   "cell_type": "code",
   "execution_count": 31,
   "id": "beac5fb6-ba46-4636-8990-7ebacf28ad46",
   "metadata": {},
   "outputs": [],
   "source": [
    "def grace_marks(marks):\n",
    "    if marks==33:\n",
    "        return marks+2\n",
    "    elif marks==32:\n",
    "        return marks+3\n",
    "    elif marks==31:\n",
    "        return marks+4\n",
    "    else:\n",
    "        return(marks)"
   ]
  },
  {
   "cell_type": "code",
   "execution_count": 35,
   "id": "c4f31e75-cd7a-4b22-ae7d-bab58d24cffd",
   "metadata": {},
   "outputs": [
    {
     "name": "stdout",
     "output_type": "stream",
     "text": [
      "[89, 35, 45, 35, 57, 35, 35, 34]\n"
     ]
    }
   ],
   "source": [
    "# Let's check above function for a list of marks\n",
    "student=[89,33,45,32,57,32,31,34]\n",
    "total=list(map(grace_marks,student))\n",
    "print(total)"
   ]
  },
  {
   "cell_type": "code",
   "execution_count": 37,
   "id": "710f2580-bbbe-4f6a-bbf4-dd6262dda277",
   "metadata": {},
   "outputs": [
    {
     "data": {
      "text/plain": [
       "4"
      ]
     },
     "execution_count": 37,
     "metadata": {},
     "output_type": "execute_result"
    }
   ],
   "source": [
    "# Let's check the total count of any given number from the list\n",
    "total.count(35)"
   ]
  },
  {
   "cell_type": "markdown",
   "id": "0ab54b17-fc2e-4465-96ce-4cbf22b4d9c0",
   "metadata": {},
   "source": [
    "# filter() fuction\n",
    "The filter() function in Python is a built-in function used to construct an iterator from elements of an iterable for which a function returns true. \n",
    "* function: This is a function that tests each element in the iterable. It can be a built-in function, a user-defined function, or a lambda function. For each element, this function should return True or False.\n",
    "* iterable: This is the sequence (e.g., list, tuple, string, set) whose elements are to be filtered.\n",
    "\n",
    "Syntax: filter(function, iterable)"
   ]
  },
  {
   "cell_type": "code",
   "execution_count": 40,
   "id": "962f5caa-610e-4766-83fe-6d6b5228374f",
   "metadata": {},
   "outputs": [],
   "source": [
    "# Let's see an example\n",
    "def filter_func(marks):\n",
    "    if marks<=35:\n",
    "        return(marks)"
   ]
  },
  {
   "cell_type": "code",
   "execution_count": 44,
   "id": "3986ba45-112b-4db5-9df9-14f872d4583d",
   "metadata": {},
   "outputs": [
    {
     "name": "stdout",
     "output_type": "stream",
     "text": [
      "[34, 32, 31, 34, 31]\n"
     ]
    }
   ],
   "source": [
    "score=[34,32,31,45,34,39,31]\n",
    "filtered_marks=list(filter(filter_func,score))\n",
    "print(filtered_marks)"
   ]
  },
  {
   "cell_type": "markdown",
   "id": "9fefa5cd-be9c-4943-bb69-931d07127e46",
   "metadata": {},
   "source": [
    "### Difference between map() and filter()\n",
    "\n",
    "#### map() function\n",
    "- map() applies a function to all the elements in the given iterable like a list.\n",
    "- it returns a new iterable with the transformed values.\n",
    "- it does not filter out any values - all elements are processed.\n",
    "\n"
   ]
  },
  {
   "cell_type": "code",
   "execution_count": 5,
   "id": "6bd64468-0918-4bc2-b7b3-7246535cc6db",
   "metadata": {},
   "outputs": [
    {
     "name": "stdout",
     "output_type": "stream",
     "text": [
      "[1, 4, 9, 16]\n"
     ]
    }
   ],
   "source": [
    "numbers = [1, 2, 3, 4]\n",
    "squared_numbers = list(map(lambda x: x * x, numbers))\n",
    "print(squared_numbers) # Output: [1, 4, 9, 16]"
   ]
  },
  {
   "cell_type": "markdown",
   "id": "c6cbc419-7c41-4f18-930b-e594e6415cd2",
   "metadata": {},
   "source": [
    "#### filter() function\n",
    "- The filter() function constructs an iterator from elements of an iterable for which a function returns True. It essentially filters out elements that do not satisfy a certain condition.\n",
    "- It returns a filter object (an iterator) which can be converted to a list, tuple, etc., to view the results."
   ]
  },
  {
   "cell_type": "code",
   "execution_count": 8,
   "id": "f83ac47c-2a39-4ec5-ad49-71623c441d95",
   "metadata": {},
   "outputs": [
    {
     "name": "stdout",
     "output_type": "stream",
     "text": [
      "[2, 4, 6]\n"
     ]
    }
   ],
   "source": [
    "numbers = [1, 2, 3, 4, 5, 6]\n",
    "even_numbers = list(filter(lambda x: x % 2 == 0, numbers))\n",
    "print(even_numbers)"
   ]
  },
  {
   "cell_type": "markdown",
   "id": "82b484e0-b4ed-46f7-9546-0444bfacfbcf",
   "metadata": {},
   "source": [
    "# Global and local variable\n",
    "- Global variable: a variable which can be used outside and inside the function.\n",
    "- Local variable: a variable which can only be used inside the function."
   ]
  },
  {
   "cell_type": "code",
   "execution_count": 13,
   "id": "8b3ba936-5710-4fc8-be5d-d8c4191b812a",
   "metadata": {},
   "outputs": [
    {
     "name": "stdout",
     "output_type": "stream",
     "text": [
      "printing inside the function and total is: 110\n"
     ]
    }
   ],
   "source": [
    "# Let's see an example\n",
    "extra_marks=10         #It's a global variable and can be used outside of the function.\n",
    "def global_marks():\n",
    "    some_marks=50      #It's a local variable and can be used inside the function.\n",
    "    print(\"printing inside the function and total is:\",50+some_marks+extra_marks)\n",
    "global_marks()"
   ]
  },
  {
   "cell_type": "code",
   "execution_count": 15,
   "id": "301ab25b-09f9-465a-9735-fa0cbf3203e8",
   "metadata": {},
   "outputs": [
    {
     "name": "stdout",
     "output_type": "stream",
     "text": [
      "You are converted to global, congratulations!\n"
     ]
    }
   ],
   "source": [
    "### How to use local variable outside the function. In other words, how to convert a local variable and use it outside a function.\n",
    "def func():\n",
    "    global var\n",
    "    var=\"You are converted to global, congratulations!\"\n",
    "    print(var)\n",
    "func() "
   ]
  },
  {
   "cell_type": "code",
   "execution_count": 17,
   "id": "2970f2e9-4f1e-41f6-aa3d-5cf18f38063b",
   "metadata": {},
   "outputs": [
    {
     "data": {
      "text/plain": [
       "'You are converted to global, congratulations!'"
      ]
     },
     "execution_count": 17,
     "metadata": {},
     "output_type": "execute_result"
    }
   ],
   "source": [
    "var  #You can use it outside the function"
   ]
  },
  {
   "cell_type": "markdown",
   "id": "5956bc5e-3fa4-44f7-bc26-249a18be202f",
   "metadata": {},
   "source": [
    "# Creating a function()"
   ]
  },
  {
   "cell_type": "code",
   "execution_count": 20,
   "id": "12b68d3c-ca1d-46d7-8278-78fa261f9845",
   "metadata": {},
   "outputs": [
    {
     "name": "stdout",
     "output_type": "stream",
     "text": [
      "10 is your lucky number\n"
     ]
    }
   ],
   "source": [
    "# Example 1\n",
    "def printing():\n",
    "    x=10\n",
    "    print(x,\"is your lucky number\")\n",
    "printing()\n",
    "    "
   ]
  },
  {
   "cell_type": "code",
   "execution_count": 22,
   "id": "8e447493-9804-4981-9616-6a570e3acfd1",
   "metadata": {},
   "outputs": [
    {
     "name": "stdout",
     "output_type": "stream",
     "text": [
      "Total marks are: 130\n"
     ]
    }
   ],
   "source": [
    "# Example 2\n",
    "def marks():\n",
    "    mark1=50\n",
    "    mark2=80\n",
    "    print(\"Total marks are:\",mark1+mark2)\n",
    "marks()"
   ]
  },
  {
   "cell_type": "code",
   "execution_count": 26,
   "id": "0201521d-1fe8-41a1-8aa5-c980ed78f2d0",
   "metadata": {},
   "outputs": [
    {
     "name": "stdout",
     "output_type": "stream",
     "text": [
      "5 is greater\n",
      "6 is greater\n"
     ]
    }
   ],
   "source": [
    "# Example 3\n",
    "def numbers(a,b):\n",
    "    if a>=b:\n",
    "        print(a,\"is greater\")\n",
    "    else:\n",
    "        print(b,\"is greater\")\n",
    "numbers(5,4)\n",
    "numbers(5,6)"
   ]
  },
  {
   "cell_type": "markdown",
   "id": "0ab1a408-2b88-43ec-867c-2dde33a3a323",
   "metadata": {},
   "source": [
    "## Calling a function\n",
    "How we are executing the code within the function.\n",
    "- Simply using the function name followed by parenthesis and pass arguments if decalred in the funciton"
   ]
  },
  {
   "cell_type": "code",
   "execution_count": 29,
   "id": "db9b702b-ef25-4099-9f22-f2d961a9a3d6",
   "metadata": {},
   "outputs": [
    {
     "name": "stdin",
     "output_type": "stream",
     "text": [
      "Please enter your name: Debu\n"
     ]
    },
    {
     "name": "stdout",
     "output_type": "stream",
     "text": [
      "Hello M/s. Debu\n"
     ]
    }
   ],
   "source": [
    "# Calling a simple function\n",
    "def greet():\n",
    "    name=input(\"Please enter your name:\")\n",
    "    print(\"Hello M/s.\",name)\n",
    "greet()"
   ]
  },
  {
   "cell_type": "code",
   "execution_count": 31,
   "id": "5ee76b4d-ce32-4fbc-81ad-26c7bc774a8b",
   "metadata": {},
   "outputs": [
    {
     "name": "stdout",
     "output_type": "stream",
     "text": [
      "5 is greater\n",
      "6 is greater\n"
     ]
    }
   ],
   "source": [
    "# Calling a function with arguments\n",
    "def numbers(a,b):\n",
    "    if a>=b:\n",
    "        print(a,\"is greater\")\n",
    "    else:\n",
    "        print(b,\"is greater\")\n",
    "numbers(5,4)\n",
    "numbers(5,6)"
   ]
  },
  {
   "cell_type": "code",
   "execution_count": 33,
   "id": "684170d1-5ee4-4f54-a616-15019c0e06de",
   "metadata": {},
   "outputs": [
    {
     "name": "stdout",
     "output_type": "stream",
     "text": [
      "17\n"
     ]
    }
   ],
   "source": [
    "# Function with a list as an argument\n",
    "def sum_list(numbers):\n",
    "    return sum(numbers)\n",
    "total=sum_list([2,4,5,6])\n",
    "print(total)"
   ]
  },
  {
   "cell_type": "markdown",
   "id": "0f5230fb-fda3-4685-93c5-ca7bc3e9c26c",
   "metadata": {},
   "source": [
    "# Arbitrary arguments\n",
    "- When we do not know how many arguments will be passed to your function. \n",
    "- Asteric is used before the paramenter."
   ]
  },
  {
   "cell_type": "code",
   "execution_count": 40,
   "id": "d86e3e58-edd1-4d9c-844b-40776e0b094a",
   "metadata": {},
   "outputs": [
    {
     "name": "stdout",
     "output_type": "stream",
     "text": [
      "apple\n",
      "banana\n",
      "cheery\n"
     ]
    }
   ],
   "source": [
    "# Let's check an example\n",
    "def print_fruits(*fruits):\n",
    "    for fruit in fruits:\n",
    "        print(fruit)\n",
    "print_fruits(\"apple\",\"banana\",\"cheery\")"
   ]
  },
  {
   "cell_type": "code",
   "execution_count": 46,
   "id": "595cd163-ee70-4184-bd32-fd66ea04121e",
   "metadata": {},
   "outputs": [
    {
     "name": "stdout",
     "output_type": "stream",
     "text": [
      "name:Mobile\n",
      "brand:Samsung\n",
      "memory:26GB\n"
     ]
    }
   ],
   "source": [
    "# Function with specific and arbitrary keyword arguments\n",
    "def describe_item(name, **names):\n",
    "    print(f\"name:{name}\")\n",
    "    for key, value in names.items():\n",
    "        print(f\"{key}:{value}\")\n",
    "describe_item(\"Mobile\",brand=\"Samsung\",memory=\"26GB\")"
   ]
  },
  {
   "cell_type": "code",
   "execution_count": 62,
   "id": "317f3cb4-66c0-4992-a2e1-79912a6aecb7",
   "metadata": {},
   "outputs": [
    {
     "name": "stdout",
     "output_type": "stream",
     "text": [
      "Hello M/s. Guest\n",
      "Hello M/s. Swapan\n"
     ]
    }
   ],
   "source": [
    "#Overriding default parameter\n",
    "def greet(name=\"Guest\"):\n",
    "    print(\"Hello M/s.\",name)\n",
    "greet()\n",
    "greet(name=\"Swapan\")"
   ]
  },
  {
   "cell_type": "markdown",
   "id": "b9d402c6-ecfb-4123-97ae-04394350e122",
   "metadata": {},
   "source": [
    "# Return statement\n",
    "It exits a function and return a value to the caller. It can return any type of value."
   ]
  },
  {
   "cell_type": "code",
   "execution_count": 69,
   "id": "5eaf48d2-8207-4ffc-8346-986887fb8e8d",
   "metadata": {},
   "outputs": [
    {
     "name": "stdout",
     "output_type": "stream",
     "text": [
      "25\n"
     ]
    }
   ],
   "source": [
    "def square(number):\n",
    "    return number**2\n",
    "output=square(5)\n",
    "print(output)\n",
    "    "
   ]
  },
  {
   "cell_type": "code",
   "execution_count": 71,
   "id": "6b7bf68b-6a56-4fe9-9662-5029e0018788",
   "metadata": {},
   "outputs": [
    {
     "data": {
      "text/plain": [
       "(9, 1)"
      ]
     },
     "execution_count": 71,
     "metadata": {},
     "output_type": "execute_result"
    }
   ],
   "source": [
    "def calculate(a,b):\n",
    "    sumof=a+b\n",
    "    diffof=a-b\n",
    "    return sumof, diffof\n",
    "calculate(5,4)"
   ]
  },
  {
   "cell_type": "code",
   "execution_count": 73,
   "id": "7b92c038-3495-4b61-8276-7d42c87783c9",
   "metadata": {},
   "outputs": [
    {
     "data": {
      "text/plain": [
       "[2, 4]"
      ]
     },
     "execution_count": 73,
     "metadata": {},
     "output_type": "execute_result"
    }
   ],
   "source": [
    "# Return a list from a function\n",
    "def even_num(numbers):\n",
    "    evens=[n for n in numbers if n%2==0]\n",
    "    return evens\n",
    "even_num([1,2,3,4])"
   ]
  }
 ],
 "metadata": {
  "kernelspec": {
   "display_name": "Python [conda env:base] *",
   "language": "python",
   "name": "conda-base-py"
  },
  "language_info": {
   "codemirror_mode": {
    "name": "ipython",
    "version": 3
   },
   "file_extension": ".py",
   "mimetype": "text/x-python",
   "name": "python",
   "nbconvert_exporter": "python",
   "pygments_lexer": "ipython3",
   "version": "3.12.7"
  }
 },
 "nbformat": 4,
 "nbformat_minor": 5
}
