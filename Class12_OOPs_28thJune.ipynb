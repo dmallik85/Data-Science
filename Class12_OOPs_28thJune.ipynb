{
 "cells": [
  {
   "cell_type": "markdown",
   "id": "d5a9e8f4-acf9-4736-b73b-8cd02b5f542b",
   "metadata": {},
   "source": [
    "### Pascal Case\n",
    "- In pascal case, each word starts with a capital letter.\n",
    "- This is the standard way of naming classess in python.\n",
    "\n",
    "Example:\n",
    "\n",
    "class EmployeeName:\n",
    "    pass"
   ]
  },
  {
   "cell_type": "markdown",
   "id": "b9ca243f-2a4e-4c3e-91a6-12ae99820c9c",
   "metadata": {},
   "source": [
    "### Camel Case\n",
    "Camel case is a naming convention where phrases are written without spaces or punctuation, and the first letter of each word (except possibly the very first word) is capitalized. There are two main variations:\n",
    "\n",
    "- **Upper camel case (Pascal Case):** The first letter of every word is capitalized.\n",
    "\n",
    "**Example:** MyVariableName.\n",
    "- **Lower camel case (camelCase):** The first letter of the first word is lowercase, and the first letter of subsequent words is capitalized.\n",
    "\n",
    "**Example:** myVariableName. \n"
   ]
  },
  {
   "cell_type": "markdown",
   "id": "e72eff43-ee12-46a9-aa06-32ae9c043002",
   "metadata": {},
   "source": [
    "# Inheritence\n",
    "\n",
    "Inheritance in Python is a fundamental concept in object-oriented programming (OOP) that allows a new class, referred to as a child class or derived class, to inherit attributes and methods from an existing class, known as a parent class or base class. This mechanism promotes code reusability and helps establish a logical hierarchy in a program. \n",
    "\n",
    "**Types of Inheritence**\n",
    "Python supports various types of inheritance:\n",
    "- Single Inheritance: A child class inherits from only one parent class.\n",
    "- Multiple Inheritance: A child class inherits from multiple parent classes.\n",
    "- Multilevel Inheritance: A child class inherits from a parent class, which itself is a child of another class.\n",
    "- Hierarchical Inheritance: Multiple child classes inherit from a single parent class.\n",
    "- Hybrid Inheritance: A combination of two or more types of inheritance."
   ]
  },
  {
   "cell_type": "markdown",
   "id": "f9e05cc4-6596-4e7d-890a-26a871f05a94",
   "metadata": {},
   "source": [
    "### Single Inheritence\n",
    "Definition: One child class inherits from one parent class."
   ]
  },
  {
   "cell_type": "code",
   "execution_count": 8,
   "id": "3af544bc-474e-45b9-a416-c705017108eb",
   "metadata": {},
   "outputs": [
    {
     "name": "stdout",
     "output_type": "stream",
     "text": [
      "This is parent class\n",
      "This is child class\n"
     ]
    }
   ],
   "source": [
    "class Parent:\n",
    "    def show_parent(self):\n",
    "        print(\"This is parent class\")\n",
    "\n",
    "class Child(Parent):\n",
    "    def show_child(self):\n",
    "        print(\"This is child class\")\n",
    "\n",
    "# Usage\n",
    "obj=Child()\n",
    "obj.show_parent()     #Output: This is parent class\n",
    "obj.show_child()      #Output: This is child class"
   ]
  },
  {
   "cell_type": "markdown",
   "id": "c0b4d17f-c4e8-4192-92eb-0f5b8a2edcf8",
   "metadata": {},
   "source": [
    "### Multiple Inheritence\n",
    "\n",
    "Definition: One child class inherits from more than one parent class."
   ]
  },
  {
   "cell_type": "code",
   "execution_count": 5,
   "id": "3cade560-b6d1-49af-b2da-dc0fa6bae65e",
   "metadata": {},
   "outputs": [
    {
     "name": "stdout",
     "output_type": "stream",
     "text": [
      "This is child\n",
      "This is father\n",
      "This is mother\n"
     ]
    }
   ],
   "source": [
    "# Example\n",
    "class Father():\n",
    "    def show_father(self):\n",
    "        print(\"This is father\")\n",
    "\n",
    "class Mother():\n",
    "    def show_mother(self):\n",
    "        print(\"This is mother\")\n",
    "\n",
    "class Child(Father, Mother):\n",
    "    def show_child(self):\n",
    "        print(\"This is child\")\n",
    "\n",
    "#Usage\n",
    "obj=Child()\n",
    "obj.show_child()\n",
    "obj.show_father()\n",
    "obj.show_mother()"
   ]
  },
  {
   "cell_type": "markdown",
   "id": "8276fda9-5a01-4f2b-af2f-f4d8c3692a8d",
   "metadata": {},
   "source": [
    "### Multilevel Inheritence\n",
    "\n",
    "Definition: A class which inherits from a child class, which in turn inherits from another class."
   ]
  },
  {
   "cell_type": "code",
   "execution_count": 8,
   "id": "2ea92a30-8a46-456d-9003-4b9dbdb659a3",
   "metadata": {},
   "outputs": [
    {
     "name": "stdout",
     "output_type": "stream",
     "text": [
      "This is Grand Parent\n",
      "This is Parent\n",
      "This is child\n"
     ]
    }
   ],
   "source": [
    "#Example\n",
    "class GrandParent():\n",
    "    def show_grandparent(self):\n",
    "        print(\"This is Grand Parent\")\n",
    "\n",
    "class Parent(GrandParent):\n",
    "    def show_parent(self):\n",
    "        print(\"This is Parent\")\n",
    "\n",
    "class Child(Parent):\n",
    "    def show_child(self):\n",
    "        print(\"This is child\")\n",
    "\n",
    "#Usage\n",
    "obj=Child()\n",
    "obj.show_grandparent()\n",
    "obj.show_parent()\n",
    "obj.show_child()"
   ]
  },
  {
   "cell_type": "markdown",
   "id": "ea0e699e-f91d-49f1-ba55-4cacc434869b",
   "metadata": {},
   "source": [
    "### Super() Function\n",
    "\n",
    "super() is built-in function in Python used inside a child to call something from the parent class.\n",
    "\n",
    "- It helps you to reuse code from parent class without writing it again."
   ]
  },
  {
   "cell_type": "code",
   "execution_count": 11,
   "id": "9e11722b-67ae-4c7d-9278-7a836ee91ba9",
   "metadata": {},
   "outputs": [
    {
     "name": "stdin",
     "output_type": "stream",
     "text": [
      "Enter your name: Debu\n",
      "Enter your last name: Mallik\n",
      "Enter your city: Kol\n",
      "Enter your user ID: dm\n",
      "Enter your password: 123\n",
      "Enter your phone number: 8999999999\n",
      "Enter your user ID: dm\n",
      "Enter your password: 123\n"
     ]
    },
    {
     "name": "stdout",
     "output_type": "stream",
     "text": [
      "Logged in successfully!\n"
     ]
    },
    {
     "name": "stdin",
     "output_type": "stream",
     "text": [
      "Please enter your Account Number: 111222\n"
     ]
    },
    {
     "name": "stdout",
     "output_type": "stream",
     "text": [
      "Account number is not valid.\n"
     ]
    },
    {
     "name": "stdin",
     "output_type": "stream",
     "text": [
      "Please enter your Account Number: 5555\n"
     ]
    },
    {
     "name": "stdout",
     "output_type": "stream",
     "text": [
      "Name = Debu\n",
      "Account Number = 5555\n",
      "Balance = 0\n",
      "You previous balance is = 0\n"
     ]
    },
    {
     "name": "stdin",
     "output_type": "stream",
     "text": [
      "Enter amount: 1000\n"
     ]
    },
    {
     "name": "stdout",
     "output_type": "stream",
     "text": [
      "Your account has been credited with 1000 and your current balance is 1000\n",
      "Your previous balance is 1000\n"
     ]
    },
    {
     "name": "stdin",
     "output_type": "stream",
     "text": [
      "Enter ammount to withdraw: 200\n"
     ]
    },
    {
     "name": "stdout",
     "output_type": "stream",
     "text": [
      "The withdraw amount is 200 and you current balance is 800\n"
     ]
    }
   ],
   "source": [
    "# Create an user account using class\n",
    "class Account:    #This is a class\n",
    "    def __init__(self,name=input(\"Enter your name:\"),\n",
    "                 last_name=input(\"Enter your last name:\"),\n",
    "                 city=input(\"Enter your city:\"),\n",
    "                 user_id=input(\"Enter your user ID:\"),\n",
    "                 password=input(\"Enter your password:\"),\n",
    "                 phone=input(\"Enter your phone number:\")):\n",
    "        self.name=name           #Data initialization\n",
    "        self.last_name=last_name\n",
    "        self.city=city\n",
    "        self.user_id=user_id\n",
    "        self.password=password\n",
    "        self.phone=phone\n",
    "    def login(self):      #Method\n",
    "        while True:\n",
    "            signin=input(\"Enter your user ID:\")\n",
    "            password=input(\"Enter your password:\")\n",
    "            if signin==self.user_id and password==self.password:\n",
    "                print(\"Logged in successfully!\")\n",
    "                break\n",
    "            else:\n",
    "                print(\"You have entered invalid username or password. Please try again.\")\n",
    "                continue\n",
    "\n",
    "\n",
    "class User_Account(Account):         # The class 'Account' has been inherited in new class 'User_Account'\n",
    "    def __init__(self,account_number,balance,*args):      #*args - inherits the attributes from parent class 'Account'\n",
    "        super().__init__(*args)\n",
    "        self.account_number=account_number\n",
    "        self.balance=balance\n",
    "\n",
    "    def user_details(self):     #Method 1\n",
    "        while True:\n",
    "            account=int(input(\"Please enter your Account Number:\"))\n",
    "            if account==self.account_number:\n",
    "                print(\"Name =\",self.name)\n",
    "                print(\"Account Number =\",self.account_number)\n",
    "                print(\"Balance =\",self.balance)\n",
    "                break\n",
    "            else:\n",
    "                print(\"Account number is not valid.\")\n",
    "                continue\n",
    "    def deposit(self):      #Method 2\n",
    "        print(\"You previous balance is =\",self.balance)\n",
    "        add_cash=int(input(\"Enter amount:\"))\n",
    "        self.balance=self.balance+add_cash\n",
    "        print(\"Your account has been credited with\",add_cash,\"and your current balance is\",self.balance)\n",
    "    def transfer(self):\n",
    "        print(\"Your previous balance is\",self.balance)\n",
    "        withdrawal=int(input(\"Enter ammount to withdraw:\"))\n",
    "        if withdrawal<=self.balance:\n",
    "            self.balance-=withdrawal\n",
    "            print(\"The withdraw amount is\",withdrawal,\"and you current balance is\",self.balance)\n",
    "        else:\n",
    "            print(\"Alert: Hello, you do not have sufficient balance to withdraw.\")\n",
    "\n",
    "bank=User_Account(5555,0)\n",
    "bank.login()\n",
    "bank.user_details()\n",
    "bank.deposit()\n",
    "bank.transfer()          "
   ]
  },
  {
   "cell_type": "markdown",
   "id": "92082240-3024-48a0-8847-5652b7fff797",
   "metadata": {},
   "source": [
    "# Encapsulation\n",
    "\n",
    "Encapsulation in Python is a fundamental concept in Object-Oriented Programming (OOP) that involves bundling data (attributes) and the methods (functions) that operate on that data into a single unit, typically a class. It also involves restricting direct access to some of the object's components, thereby controlling how the data is accessed and modified. \n",
    "\n",
    "**Real-life Example:**\n",
    "Think of Google services like Gmail, Photos, Google Drive - all are wrapped into a single **Google Account**\n",
    "\n",
    "You login once but you can access everything using the single account. That is **encapsulation** in action.\n",
    "\n",
    "### Abstraction\n",
    "\n",
    "Abstraction is a process of hiding unnecessary details and showing only the important parts. It helps in reducing complexity and focusing on what an object does instead of how it does it.\n",
    "\n",
    "**Example of Abstraction**\n",
    "Let's take an example of **Car**\n",
    "\n",
    "- Tyre\n",
    "- Engine\n",
    "- Body\n",
    "\n",
    "We don't need to know how each part is built to understand what a car is. We can break down each part into smaller parts (like the engine has pistons, fuel system etc.) until we reach basic details.\n",
    "\n",
    "This process is showing only the essential information while hiding the complex background is called abstraction."
   ]
  },
  {
   "cell_type": "code",
   "execution_count": 22,
   "id": "c3562878-e59e-4fc9-b551-7cdfc25ef3ae",
   "metadata": {},
   "outputs": [
    {
     "name": "stdout",
     "output_type": "stream",
     "text": [
      "Tyre \n",
      "\t Brand MRF\n",
      "\t Belted_bias True\n",
      "\t Opt_pressure 34\n",
      " \n",
      "\t Fuel type is Petrol\n",
      "\t Noise level is 2.3\n",
      "\n",
      "\t Body size of a car is Sedan\n"
     ]
    }
   ],
   "source": [
    "# Example\n",
    "\n",
    "class Tyres:\n",
    "    def __init__(self,brand,belted_bias,opt_pressure):\n",
    "        self.brand=brand\n",
    "        self.belted_bias=belted_bias\n",
    "        self.opt_pressure=opt_pressure\n",
    "    def __str__(self):    # __str__ is can be used if you don't want to define a method name, but you want this to execute.\n",
    "        return (\"Tyre \\n\\t Brand \"+self.brand+\n",
    "                \"\\n\\t Belted_bias \"+str(self.belted_bias)+\n",
    "                \"\\n\\t Opt_pressure \"+str(self.opt_pressure))\n",
    "\n",
    "class Engine:\n",
    "    def __init__(self,fuel_type,noise_level):\n",
    "        self.fuel_type=fuel_type\n",
    "        self.noise_level=noise_level\n",
    "    def __str__(self):\n",
    "        return (\"\\n\\t Fuel type is \"+str(self.fuel_type)+\n",
    "                \"\\n\\t Noise level is \"+str(self.noise_level))\n",
    "\n",
    "class Body():\n",
    "    def __init__(self,size):\n",
    "        self.size=size\n",
    "    def __str__(self):\n",
    "        return (\"\\n\\t Body size of a car is \"+self.size)\n",
    "\n",
    "class Car():\n",
    "    def __init__(self,Tyres,Engine,Body):\n",
    "        self.Tyres=Tyres\n",
    "        self.Engine=Engine\n",
    "        self.Body=Body\n",
    "    def __str__(self):\n",
    "        return str(self.Tyres) +\"\\n \" + str(self.Engine) + \"\\n\" + str(self.Body)\n",
    "t=Tyres(\"MRF\",True,34)\n",
    "e=Engine(\"Petrol\",2.3)\n",
    "b=Body(\"Sedan\")\n",
    "c=Car(t,e,b)\n",
    "print(c)\n"
   ]
  },
  {
   "cell_type": "markdown",
   "id": "7b314363-8f08-48ef-a2dd-c91f684f2d80",
   "metadata": {},
   "source": [
    "### In python everything is an object and classes are essentially blueprints for creating objects. Classes encapsulate data and functions that operate on that data."
   ]
  },
  {
   "cell_type": "code",
   "execution_count": 25,
   "id": "ba18cf4b-ded3-4e7b-b99e-10e64e813dce",
   "metadata": {},
   "outputs": [
    {
     "name": "stdout",
     "output_type": "stream",
     "text": [
      "5\n"
     ]
    }
   ],
   "source": [
    "#Example1: Basic class definition and object creation.\n",
    "class MyClass:\n",
    "    x=5\n",
    "\n",
    "obj=MyClass()\n",
    "print(obj.x)"
   ]
  },
  {
   "cell_type": "code",
   "execution_count": 27,
   "id": "ff31645f-5e93-462d-aa1c-511340bd5928",
   "metadata": {},
   "outputs": [
    {
     "name": "stdout",
     "output_type": "stream",
     "text": [
      "Hello World!\n"
     ]
    }
   ],
   "source": [
    "#Example2: Class with a method to manipulate class data.\n",
    "class Person:\n",
    "    def greet(self):\n",
    "        return \"Hello World!\"\n",
    "person1=Person()\n",
    "print(person1.greet())"
   ]
  },
  {
   "cell_type": "code",
   "execution_count": 31,
   "id": "7a41407d-9ea1-4f55-9063-dd7433280aac",
   "metadata": {},
   "outputs": [
    {
     "name": "stdout",
     "output_type": "stream",
     "text": [
      "12\n"
     ]
    }
   ],
   "source": [
    "#Example3: Class with attributes and methods\n",
    "class Rectangle:\n",
    "    def __init__(self,width,height):\n",
    "        self.width=width\n",
    "        self.height=height\n",
    "    def area(self):\n",
    "        return self.width * self.height\n",
    "rect=Rectangle(3,4)\n",
    "print(rect.area())"
   ]
  },
  {
   "cell_type": "markdown",
   "id": "32a85690-3d70-42ef-a477-8e255ef6719a",
   "metadata": {},
   "source": [
    "### Classess in python are created using the 'class' keyword"
   ]
  },
  {
   "cell_type": "code",
   "execution_count": 40,
   "id": "0888806b-573f-4f87-922f-224fe342309f",
   "metadata": {},
   "outputs": [
    {
     "data": {
      "text/plain": [
       "'Dog'"
      ]
     },
     "execution_count": 40,
     "metadata": {},
     "output_type": "execute_result"
    }
   ],
   "source": [
    "#Example1: Basic class with attribute\n",
    "class Animal:\n",
    "    species=\"Dog\"\n",
    "\n",
    "a=Animal()\n",
    "a.species"
   ]
  },
  {
   "cell_type": "code",
   "execution_count": 36,
   "id": "c46d52d3-14cb-406b-a498-77e661c51638",
   "metadata": {},
   "outputs": [
    {
     "name": "stdout",
     "output_type": "stream",
     "text": [
      "Puppy\n"
     ]
    }
   ],
   "source": [
    "#Example2: Class with an initializer method init\n",
    "class Animal:\n",
    "    def __init__(self,name):\n",
    "        self.name=name\n",
    "\n",
    "dog=Animal(\"Puppy\")\n",
    "print(dog.name)"
   ]
  },
  {
   "cell_type": "code",
   "execution_count": 38,
   "id": "b69fe5af-77fe-43b6-84f0-3cf0908d5aa6",
   "metadata": {},
   "outputs": [
    {
     "name": "stdout",
     "output_type": "stream",
     "text": [
      "Woof\n"
     ]
    }
   ],
   "source": [
    "#Example3: Class with a method\n",
    "class Animal:\n",
    "    def __init__(self,name):\n",
    "        self.name=name\n",
    "\n",
    "    def sound(self):\n",
    "        return (\"Woof\")\n",
    "\n",
    "dog=Animal(\"Puppy\")\n",
    "print(dog.sound())\n",
    "        "
   ]
  },
  {
   "cell_type": "markdown",
   "id": "3ad75cb8-7634-4155-9980-335ab989e9b7",
   "metadata": {},
   "source": [
    "#### The init() method in Python is a special method that is automatically invoked when a new object of a class is created. It is used for initializing the object's attributes."
   ]
  },
  {
   "cell_type": "code",
   "execution_count": 43,
   "id": "d309bade-cd77-46a0-857c-2a433c686cf8",
   "metadata": {},
   "outputs": [
    {
     "name": "stdout",
     "output_type": "stream",
     "text": [
      "Honda\n"
     ]
    }
   ],
   "source": [
    "#Example1: Simple init method\n",
    "class Car:\n",
    "    def __init__(self,model):\n",
    "        self.model=model\n",
    "\n",
    "my_car=Car(\"Honda\")\n",
    "print(my_car.model)"
   ]
  },
  {
   "cell_type": "code",
   "execution_count": 3,
   "id": "6ef52940-d2c3-4d3b-9a0f-098e67ed455d",
   "metadata": {},
   "outputs": [
    {
     "name": "stdout",
     "output_type": "stream",
     "text": [
      "Honda 2020\n"
     ]
    }
   ],
   "source": [
    "#Example2: init method with multiple attributes\n",
    "class Car:\n",
    "    def __init__(self,model,year):\n",
    "        self.model=model\n",
    "        self.year=year\n",
    "\n",
    "my_car=Car(\"Honda\",2020)\n",
    "print(my_car.model, my_car.year)"
   ]
  },
  {
   "cell_type": "code",
   "execution_count": 5,
   "id": "15570277-9d6f-4a06-8c2e-11a03d7c8f22",
   "metadata": {},
   "outputs": [
    {
     "name": "stdout",
     "output_type": "stream",
     "text": [
      "Honda 2020\n"
     ]
    }
   ],
   "source": [
    "#Example3: init method with default values\n",
    "class Car:\n",
    "    def __init__(self,model,year=2020):\n",
    "        self.model=model\n",
    "        self.year=year\n",
    "\n",
    "my_car=Car(\"Honda\")\n",
    "print(my_car.model, my_car.year)"
   ]
  },
  {
   "cell_type": "markdown",
   "id": "21bab4b9-cff3-4efc-89b9-1575defefd0d",
   "metadata": {},
   "source": [
    "### __str__ method is another special method in Python that defines how an object is represented as a string."
   ]
  },
  {
   "cell_type": "code",
   "execution_count": 8,
   "id": "b91b04c4-0c38-4139-b696-9dcc886c68bb",
   "metadata": {},
   "outputs": [
    {
     "name": "stdout",
     "output_type": "stream",
     "text": [
      "This is a book.\n"
     ]
    }
   ],
   "source": [
    "#Example1: Basic str method.\n",
    "class Book:\n",
    "    def __str__(self):\n",
    "        return \"This is a book.\"\n",
    "book=Book()\n",
    "print(book)"
   ]
  },
  {
   "cell_type": "code",
   "execution_count": 14,
   "id": "22b1d7c9-7536-44e1-a6e2-464f7ea73e74",
   "metadata": {},
   "outputs": [
    {
     "name": "stdout",
     "output_type": "stream",
     "text": [
      "Book title: Python\n"
     ]
    }
   ],
   "source": [
    "#Example2: __str__ method with attributes\n",
    "class Book:\n",
    "    def __init__(self,title):\n",
    "        self.title=title\n",
    "    def __str__(self):\n",
    "        return f\"Book title: {self.title}\"\n",
    "book=Book(\"Python\")\n",
    "print(book)"
   ]
  },
  {
   "cell_type": "code",
   "execution_count": 16,
   "id": "859a848f-9ebd-4499-9a58-9047db56483e",
   "metadata": {},
   "outputs": [
    {
     "name": "stdout",
     "output_type": "stream",
     "text": [
      "Python by John Doe\n"
     ]
    }
   ],
   "source": [
    "#Example3: Using str for detailed object description\n",
    "class Book:\n",
    "    def __init__(self,title,author):\n",
    "        self.title=title\n",
    "        self.author=author\n",
    "\n",
    "    def __repr__(self):\n",
    "        return f\"{self.title} by {self.author}\"\n",
    "\n",
    "book=Book(\"Python\",\"John Doe\")\n",
    "print(book)"
   ]
  },
  {
   "cell_type": "code",
   "execution_count": 18,
   "id": "4e6b7f32-5fcb-4ffb-8a58-aa755f74bc7d",
   "metadata": {},
   "outputs": [
    {
     "name": "stdout",
     "output_type": "stream",
     "text": [
      "Name: Alice, Age: 30\n"
     ]
    }
   ],
   "source": [
    "#Example4: Object method to display object attributes\n",
    "class Person:\n",
    "    def __init__(self,name,age):\n",
    "        self.name=name\n",
    "        self.age=age\n",
    "\n",
    "    def display_info(self):\n",
    "        return f\"Name: {self.name}, Age: {self.age}\"\n",
    "\n",
    "person1=Person(\"Alice\",30)\n",
    "print(person1.display_info())"
   ]
  },
  {
   "cell_type": "code",
   "execution_count": 3,
   "id": "57be853d-57f8-41b9-bf5a-e000e79e3733",
   "metadata": {},
   "outputs": [
    {
     "name": "stdout",
     "output_type": "stream",
     "text": [
      "31\n"
     ]
    }
   ],
   "source": [
    "#Example5: Object method to update attributes.\n",
    "class Person:\n",
    "    def __init__(self,name,age):\n",
    "        self.name=name\n",
    "        self.age=age\n",
    "\n",
    "    def update_age(self,new_age):\n",
    "        self.age=new_age\n",
    "person1=Person(\"Alice\",30)\n",
    "person1.update_age(31)\n",
    "print(person1.age)"
   ]
  },
  {
   "cell_type": "code",
   "execution_count": 11,
   "id": "b9eb960c-7a4b-4bd2-84e3-4c1b5e124e17",
   "metadata": {},
   "outputs": [
    {
     "name": "stdout",
     "output_type": "stream",
     "text": [
      "150\n",
      "80\n"
     ]
    }
   ],
   "source": [
    "#Example6: Object method interacting with other method\n",
    "class BankAccount:\n",
    "    def __init__(self,balance):\n",
    "        self.balance=balance\n",
    "\n",
    "    def deposit(self,amount):\n",
    "        self.balance += amount\n",
    "\n",
    "    def withdraw(self,amount):\n",
    "        if amount <= self.balance:\n",
    "            self.balance -= amount\n",
    "        else:\n",
    "            return \"Insufficient balance.\"\n",
    "\n",
    "account=BankAccount(100)\n",
    "account.deposit(50)\n",
    "print(account.balance)\n",
    "account.withdraw(70)\n",
    "print(account.balance)"
   ]
  },
  {
   "cell_type": "code",
   "execution_count": 13,
   "id": "f5416e9d-0ab7-4432-95e3-97c5d4222f7f",
   "metadata": {},
   "outputs": [
    {
     "name": "stdout",
     "output_type": "stream",
     "text": [
      "Hello Bob!\n"
     ]
    }
   ],
   "source": [
    "#Example7\": using self to access instance variables.\n",
    "class Person:\n",
    "    def __init__(self,name):\n",
    "        self.name=name\n",
    "    def greet(self):\n",
    "        return f\"Hello {self.name}!\"\n",
    "\n",
    "person1=Person(\"Bob\")\n",
    "print(person1.greet())"
   ]
  },
  {
   "cell_type": "code",
   "execution_count": 15,
   "id": "877cc308-3c41-4d70-9cb2-10c75bf632df",
   "metadata": {},
   "outputs": [
    {
     "name": "stdout",
     "output_type": "stream",
     "text": [
      "7\n",
      "12\n"
     ]
    }
   ],
   "source": [
    "#Example8: self used in multiple methods\n",
    "class Calculator:\n",
    "    def __init__(self,a,b):\n",
    "        self.a=a\n",
    "        self.b=b\n",
    "    def add(self):\n",
    "        return self.a + self.b\n",
    "\n",
    "    def multiply(self):\n",
    "        return self.a * self.b\n",
    "\n",
    "calc=Calculator(3,4)\n",
    "print(calc.add())\n",
    "print(calc.multiply())"
   ]
  },
  {
   "cell_type": "code",
   "execution_count": 17,
   "id": "755d8a4d-e84e-47c9-9d4a-3c7a394fae57",
   "metadata": {},
   "outputs": [
    {
     "name": "stdout",
     "output_type": "stream",
     "text": [
      "2\n"
     ]
    }
   ],
   "source": [
    "#Example9: Using self to modify instance variable\n",
    "class Counter:\n",
    "    def __init__(self):\n",
    "        self.count=0\n",
    "\n",
    "    def increment(self):\n",
    "        self.count +=1\n",
    "\n",
    "counter=Counter()\n",
    "counter.increment()\n",
    "counter.increment()\n",
    "print(counter.count)"
   ]
  },
  {
   "cell_type": "markdown",
   "id": "8e8c4a9e-01fe-4fdf-9920-bb42645c3218",
   "metadata": {},
   "source": [
    "### Pass statement\n",
    "\n",
    "Pass statement in Python is a null operation, nothing happens when it is executed. It is used a placeholder."
   ]
  },
  {
   "cell_type": "code",
   "execution_count": 20,
   "id": "ca96e410-acf8-4694-b259-afbc8e5ca352",
   "metadata": {},
   "outputs": [],
   "source": [
    "#Example1: Pass in a class definition\n",
    "class MyClass:\n",
    "    pass"
   ]
  },
  {
   "cell_type": "code",
   "execution_count": 22,
   "id": "4cd69eb7-e855-4a5d-a619-37714a340587",
   "metadata": {},
   "outputs": [],
   "source": [
    "#Example2: Pass in a method\n",
    "class MyClass:\n",
    "    def my_method(self):\n",
    "        pass"
   ]
  },
  {
   "cell_type": "code",
   "execution_count": 24,
   "id": "95bd6d56-9632-4597-9ea3-91d589667541",
   "metadata": {},
   "outputs": [],
   "source": [
    "#Example3: Pass in if-else statement\n",
    "if True:\n",
    "    pass\n",
    "else:\n",
    "    print(\"This will never print.\")"
   ]
  },
  {
   "cell_type": "code",
   "execution_count": null,
   "id": "6cf6dfa6-25a6-4613-932f-3f8a80e2620e",
   "metadata": {},
   "outputs": [],
   "source": []
  }
 ],
 "metadata": {
  "kernelspec": {
   "display_name": "Python [conda env:base] *",
   "language": "python",
   "name": "conda-base-py"
  },
  "language_info": {
   "codemirror_mode": {
    "name": "ipython",
    "version": 3
   },
   "file_extension": ".py",
   "mimetype": "text/x-python",
   "name": "python",
   "nbconvert_exporter": "python",
   "pygments_lexer": "ipython3",
   "version": "3.12.7"
  }
 },
 "nbformat": 4,
 "nbformat_minor": 5
}
