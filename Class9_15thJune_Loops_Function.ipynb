{
 "cells": [
  {
   "cell_type": "markdown",
   "id": "3c2d51cb-6096-4b69-88c6-4eda85211951",
   "metadata": {},
   "source": [
    "# While loop in python\n",
    "- The loop continues until the condition evaluated as true. Also, when the number of loops are unknown, while loop is used. \n",
    "- If it's evaluated to true, the body of the loop is executed and this process continues repeatedly until the condition becomes false.\n",
    "\n",
    "Syntax:\n",
    "while condition:"
   ]
  },
  {
   "cell_type": "markdown",
   "id": "7bd1429a-c655-48b1-923b-18b37a27c11b",
   "metadata": {},
   "source": [
    "### Important Note\n",
    "- Python interpretes any non-zero number as TRUE.\n",
    "- 0, none, and any empty values is treated as FALSE."
   ]
  },
  {
   "cell_type": "code",
   "execution_count": 6,
   "id": "381cc6e2-4e52-4289-b09a-ed20c630a03d",
   "metadata": {},
   "outputs": [
    {
     "name": "stdout",
     "output_type": "stream",
     "text": [
      "2\n",
      "3\n",
      "4\n",
      "5\n",
      "6\n",
      "7\n",
      "8\n",
      "9\n",
      "10\n",
      "11\n",
      "12\n",
      "13\n",
      "14\n",
      "15\n",
      "16\n",
      "17\n",
      "18\n",
      "19\n",
      "20\n"
     ]
    }
   ],
   "source": [
    "# Generate a number from 2 to 20 using for loops\n",
    "for i in range(2,21):\n",
    "    print(i)"
   ]
  },
  {
   "cell_type": "code",
   "execution_count": 8,
   "id": "a568cb1c-b91d-4eb5-a02a-8661eb74d2f1",
   "metadata": {},
   "outputs": [
    {
     "name": "stdout",
     "output_type": "stream",
     "text": [
      "0\n",
      "1\n",
      "2\n",
      "3\n",
      "4\n",
      "5\n"
     ]
    }
   ],
   "source": [
    "# Using while loop display the number from 0 to 5\n",
    "i=0\n",
    "while i<=5:\n",
    "    print(i)\n",
    "    i=i+1"
   ]
  },
  {
   "cell_type": "code",
   "execution_count": 10,
   "id": "a10c0727-041d-4313-841a-d3a6a4359e45",
   "metadata": {},
   "outputs": [],
   "source": [
    "# Setting up an alarm clock and check how it works\n",
    "# Time function needs to be imported using import command first\n",
    "import time"
   ]
  },
  {
   "cell_type": "code",
   "execution_count": 14,
   "id": "288bc9fb-8cef-4596-aad6-eba0185b88b4",
   "metadata": {},
   "outputs": [
    {
     "name": "stdout",
     "output_type": "stream",
     "text": [
      "time.struct_time(tm_year=2025, tm_mon=7, tm_mday=4, tm_hour=21, tm_min=48, tm_sec=33, tm_wday=4, tm_yday=185, tm_isdst=0)\n"
     ]
    }
   ],
   "source": [
    "times=time.localtime()\n",
    "print(times)"
   ]
  },
  {
   "cell_type": "code",
   "execution_count": 20,
   "id": "95f70e15-fa98-4450-8fc9-d42d2b3489d3",
   "metadata": {},
   "outputs": [
    {
     "name": "stdout",
     "output_type": "stream",
     "text": [
      "Ring Ring\n"
     ]
    }
   ],
   "source": [
    "while True:\n",
    "    times=time.localtime()\n",
    "    if times.tm_hour==21 and times.tm_min==53:\n",
    "        print(\"Ring Ring\")\n",
    "        break"
   ]
  },
  {
   "cell_type": "markdown",
   "id": "6823092a-25ce-41ad-9d24-ecb712f9f3c0",
   "metadata": {},
   "source": [
    "### enumerate() method\n",
    "Enumerate: it is a built-in function used to loop over something like a list, tuple or string while keeping track of the index (position) of the current item. It actually displays position value of the item and the item value."
   ]
  },
  {
   "cell_type": "code",
   "execution_count": 23,
   "id": "9a80f5ec-21b2-4830-ba64-cd2711973917",
   "metadata": {},
   "outputs": [
    {
     "name": "stdout",
     "output_type": "stream",
     "text": [
      "0 apple\n",
      "1 banana\n",
      "2 cherry\n"
     ]
    }
   ],
   "source": [
    "fruits=['apple','banana','cherry']\n",
    "for index, fruit in enumerate(fruits):\n",
    "    print(index, fruit)"
   ]
  },
  {
   "cell_type": "code",
   "execution_count": 25,
   "id": "636eff41-7bae-4be0-8ed5-a4a215e93851",
   "metadata": {},
   "outputs": [
    {
     "name": "stdout",
     "output_type": "stream",
     "text": [
      "0 a\n",
      "1 b\n",
      "2 c\n",
      "3 d\n"
     ]
    }
   ],
   "source": [
    "letter=['a','b','c','d']\n",
    "for index, letters in enumerate(letter):\n",
    "    print(index, letters)"
   ]
  },
  {
   "cell_type": "code",
   "execution_count": 27,
   "id": "07fc7ac8-2c70-4b94-a2cf-1b695758e207",
   "metadata": {},
   "outputs": [
    {
     "name": "stdout",
     "output_type": "stream",
     "text": [
      "1 a\n",
      "2 b\n",
      "3 c\n",
      "4 d\n"
     ]
    }
   ],
   "source": [
    "# If we want to start the index number as 1\n",
    "letter=['a','b','c','d']\n",
    "for index, letters in enumerate(letter,1):\n",
    "    print(index, letters)"
   ]
  },
  {
   "cell_type": "markdown",
   "id": "1a903f5d-3f05-434e-ba56-93f7d988de7d",
   "metadata": {},
   "source": [
    "### zip() method\n",
    "Zip method is used to join two lists.\n",
    "* Condition: both the lists should have same number of items."
   ]
  },
  {
   "cell_type": "code",
   "execution_count": 33,
   "id": "51a0fed6-532e-4696-b6bb-abe140e48b12",
   "metadata": {},
   "outputs": [
    {
     "name": "stdout",
     "output_type": "stream",
     "text": [
      "[('Debu', 85), ('Mitali', 87), ('Ansika', 90), ('Aarush', 67)]\n"
     ]
    }
   ],
   "source": [
    "name=['Debu','Mitali','Ansika','Aarush']\n",
    "mark=[85,87,90,67]\n",
    "marks=list(zip(name,mark))\n",
    "print(marks)"
   ]
  },
  {
   "cell_type": "markdown",
   "id": "22ec67fb-b76b-445f-890e-e3d089d21774",
   "metadata": {},
   "source": [
    "### unzip() method\n",
    "* '*' is used to unzip. In the above example, marks variable contains zipped items. Let's unzip it by using *."
   ]
  },
  {
   "cell_type": "code",
   "execution_count": 3,
   "id": "45c9de76-be12-41e9-ae58-7d611bf50c1f",
   "metadata": {},
   "outputs": [
    {
     "name": "stdout",
     "output_type": "stream",
     "text": [
      "[('Debu', 85), ('Mitali', 87), ('Ansika', 90), ('Aarush', 67)]\n",
      "('Debu', 'Mitali', 'Ansika', 'Aarush')\n",
      "(85, 87, 90, 67)\n"
     ]
    }
   ],
   "source": [
    "name=['Debu','Mitali','Ansika','Aarush']\n",
    "mark=[85,87,90,67]\n",
    "marks=list(zip(name,mark))\n",
    "print(marks)\n",
    "name,mark=list(zip(*marks))\n",
    "print(name)\n",
    "print(mark)"
   ]
  },
  {
   "cell_type": "code",
   "execution_count": 9,
   "id": "a7c8f06e-5359-4bfa-9ffe-55d30d96f2d4",
   "metadata": {},
   "outputs": [
    {
     "name": "stdout",
     "output_type": "stream",
     "text": [
      "1\n",
      "2\n",
      "3\n",
      "4\n",
      "5\n",
      "6\n",
      "7\n"
     ]
    }
   ],
   "source": [
    "# Once again check for loop with break\n",
    "for i in range(1,10):\n",
    "    if i==8:\n",
    "        break\n",
    "    print(i)\n",
    "else:\n",
    "    print(\"Printed\")    # else part will not be printed this time."
   ]
  },
  {
   "cell_type": "code",
   "execution_count": 11,
   "id": "cbf31ee8-d5b8-43a2-9cc2-e1450f017104",
   "metadata": {},
   "outputs": [
    {
     "name": "stdout",
     "output_type": "stream",
     "text": [
      "1\n",
      "2\n",
      "3\n",
      "4\n",
      "5\n",
      "6\n",
      "7\n",
      "8\n",
      "9\n",
      "Printed\n"
     ]
    }
   ],
   "source": [
    "for i in range(1,10):\n",
    "    if i==10:\n",
    "        break\n",
    "    print(i)\n",
    "else:\n",
    "    print(\"Printed\")    # else part will be printed this time."
   ]
  },
  {
   "cell_type": "markdown",
   "id": "d35ae08a-9b26-45d1-b132-dccf0e96a36c",
   "metadata": {},
   "source": [
    "### break statement\n",
    "break statement is used to terminate a loop prematurely. \n",
    "- This means when break is executed, it jumps out of the loop even if all the iterations are not completed.\n",
    "- It is mainly used for both for and while loops.\n",
    "- In other programming languages, it is used in switch cases but switch is not statement in case of python."
   ]
  },
  {
   "cell_type": "code",
   "execution_count": 15,
   "id": "a67b6ff5-d9c3-40d1-a460-29a3197b511c",
   "metadata": {},
   "outputs": [
    {
     "name": "stdout",
     "output_type": "stream",
     "text": [
      "8000\n",
      "6000\n",
      "3000\n"
     ]
    }
   ],
   "source": [
    "salary=[8000,6000,3000,7000,10000]\n",
    "for val in salary:\n",
    "    if val==7000:\n",
    "        break\n",
    "    print(val)"
   ]
  },
  {
   "cell_type": "markdown",
   "id": "3a1cb6db-79d1-44f3-8439-5c53707ee939",
   "metadata": {},
   "source": [
    "### continue statement\n",
    "- continue statement actually skip the current iteration and move to the next iteration\n",
    "- it is again used for both for and while loops\n",
    "- it skips the condition value from the output from a given list - let's see how it works"
   ]
  },
  {
   "cell_type": "code",
   "execution_count": 18,
   "id": "2eb08b38-7cc8-48db-a534-b7960b424ab3",
   "metadata": {},
   "outputs": [
    {
     "name": "stdout",
     "output_type": "stream",
     "text": [
      "8000\n",
      "6000\n",
      "7000\n",
      "10000\n"
     ]
    }
   ],
   "source": [
    "salary=[8000,6000,3000,7000,10000]\n",
    "for val in salary:\n",
    "    if val==3000:    #it actually ignored the conditioned value=3000\n",
    "        continue\n",
    "    print(val)"
   ]
  },
  {
   "cell_type": "code",
   "execution_count": 20,
   "id": "66aeb01d-6fa4-4d46-b500-8bb62bb1f73f",
   "metadata": {},
   "outputs": [
    {
     "name": "stdout",
     "output_type": "stream",
     "text": [
      "M\n",
      "y\n",
      "s\n",
      "r\n",
      "i\n"
     ]
    }
   ],
   "source": [
    "for val in \"Mystringvalue\":\n",
    "    if val==\"t\":\n",
    "        continue\n",
    "    else:\n",
    "        if val==\"n\":\n",
    "            break\n",
    "        print(val)"
   ]
  },
  {
   "cell_type": "markdown",
   "id": "a25dff1a-6216-4f49-8fc0-ce425962d4e0",
   "metadata": {},
   "source": [
    "# Function in Python\n",
    "- function is a block of reusable code\n",
    "- it helps organize code, avoid repeatation and improve readability\n",
    "- in other words, function is a group of statement that performs a specific task"
   ]
  },
  {
   "cell_type": "markdown",
   "id": "e88efb1c-bb47-499d-bee5-afaa1d80168f",
   "metadata": {},
   "source": [
    "### Function Syntax"
   ]
  },
  {
   "cell_type": "code",
   "execution_count": 24,
   "id": "abe83156-7072-4628-b457-f3fc26242906",
   "metadata": {},
   "outputs": [
    {
     "ename": "SyntaxError",
     "evalue": "incomplete input (800652528.py, line 3)",
     "output_type": "error",
     "traceback": [
      "\u001b[1;36m  Cell \u001b[1;32mIn[24], line 3\u001b[1;36m\u001b[0m\n\u001b[1;33m    #return output (optional)\u001b[0m\n\u001b[1;37m                             ^\u001b[0m\n\u001b[1;31mSyntaxError\u001b[0m\u001b[1;31m:\u001b[0m incomplete input\n"
     ]
    }
   ],
   "source": [
    "def function_name(argument1, argument2):     # function starts with def keyword then a function name with arguments\n",
    "    #put your logics here\n",
    "    #return output (optional)"
   ]
  },
  {
   "cell_type": "code",
   "execution_count": 27,
   "id": "8a4f2e96-97ea-4025-8d33-5dcada4d4625",
   "metadata": {},
   "outputs": [
    {
     "name": "stdout",
     "output_type": "stream",
     "text": [
      "Hello\n"
     ]
    }
   ],
   "source": [
    "def say_hello():\n",
    "    print(\"Hello\")\n",
    "say_hello()"
   ]
  },
  {
   "cell_type": "code",
   "execution_count": 29,
   "id": "db71b795-bc23-4766-ad6e-c66d667d80f4",
   "metadata": {},
   "outputs": [
    {
     "name": "stdout",
     "output_type": "stream",
     "text": [
      "Hello Miss. \n",
      "\t Mitali\n"
     ]
    }
   ],
   "source": [
    "# Simple greeting function where we are passing an argument as name\n",
    "def greeting(name):\n",
    "    print(\"Hello Miss. \\n\\t\",name)\n",
    "greeting(\"Mitali\")"
   ]
  },
  {
   "cell_type": "markdown",
   "id": "a5d14c4b-d9b7-4578-91a7-60f426b43176",
   "metadata": {},
   "source": [
    "### Using return\n",
    "return statement allows a function to 'return' a result to the place where it was called. Further the result can be:\n",
    "- stored in a variable\n",
    "- used in an expression\n",
    "- passed to another fuction\n",
    "- handle it in any other way the user wants"
   ]
  },
  {
   "cell_type": "code",
   "execution_count": 32,
   "id": "8c11443e-177a-4b51-bee6-a13820493b5d",
   "metadata": {},
   "outputs": [
    {
     "name": "stdout",
     "output_type": "stream",
     "text": [
      "Your salary after increment is: None\n"
     ]
    }
   ],
   "source": [
    "# Salary update function without using return statement\n",
    "def salary_inc(salary):\n",
    "    if salary<=10000:\n",
    "        (salary+2000)\n",
    "    else:\n",
    "        (salary)\n",
    "print(\"Your salary after increment is:\",salary_inc(9000))"
   ]
  },
  {
   "cell_type": "markdown",
   "id": "539efb16-45be-47e4-8c24-f62692a34914",
   "metadata": {},
   "source": [
    "### Why it is showing None in above example?\n",
    "- because we haven't used return statement.\n",
    "- print statement is used for users to show.\n",
    "- return is used to display the values to coders. We use return to get the result."
   ]
  },
  {
   "cell_type": "code",
   "execution_count": 36,
   "id": "269b6b15-90f1-40fe-97a8-a1865c3c6d90",
   "metadata": {},
   "outputs": [
    {
     "name": "stdout",
     "output_type": "stream",
     "text": [
      "Your salary after increment is: 11000\n"
     ]
    }
   ],
   "source": [
    "def salary_inc(salary):\n",
    "    if salary<=10000:\n",
    "        return (salary+2000)\n",
    "    else:\n",
    "        return (salary)\n",
    "print(\"Your salary after increment is:\",salary_inc(9000))"
   ]
  },
  {
   "cell_type": "code",
   "execution_count": 38,
   "id": "ff0cdc45-226c-42c4-a991-836a199d68b3",
   "metadata": {},
   "outputs": [
    {
     "name": "stdout",
     "output_type": "stream",
     "text": [
      "213 You have scored.\n"
     ]
    }
   ],
   "source": [
    "# function with multiple arguments\n",
    "def my_function(science,maths,language):\n",
    "    return(science+maths+language)\n",
    "print(my_function(45,78,90),\"You have scored.\")"
   ]
  },
  {
   "cell_type": "code",
   "execution_count": 42,
   "id": "4402391d-8373-4926-876e-ee3728fb04dc",
   "metadata": {},
   "outputs": [
    {
     "name": "stdout",
     "output_type": "stream",
     "text": [
      "You have got: 256 and you have passed with distiction.\n"
     ]
    }
   ],
   "source": [
    "# Let's create a grade system using function\n",
    "def my_function(science,maths,language):\n",
    "    return(science+maths+language)\n",
    "total=my_function(80,78,98)\n",
    "if total>=240:\n",
    "    print(\"You have got:\",total,\"and you have passed with distiction.\")\n",
    "elif total>=180 and total<=200:\n",
    "    print(\"You have got:\",total,\"and you have passed with first division.\")\n",
    "elif total>=150 and total<=179:\n",
    "    print(\"you have got:\",total,\"and you have passed with second division.\")\n",
    "elif total>=130 and total<=149:\n",
    "    print(\"you have got:\",total,\"and you have passed with third division.\")\n",
    "else:\n",
    "    print(\"You have failed, better luck next time.\")"
   ]
  },
  {
   "cell_type": "markdown",
   "id": "14fc51e0-2e18-4c24-8150-a1e90436383f",
   "metadata": {},
   "source": [
    "Suppose someone wants to buy used mobile online. The vendor needs to display the price of the mobile on the basis of:\n",
    "- brand or make of the mobile\n",
    "- age of the mobile in months\n",
    "- storage capacity in GB"
   ]
  },
  {
   "cell_type": "code",
   "execution_count": 53,
   "id": "1443e63e-8324-469c-aa39-9e61a0b0523a",
   "metadata": {},
   "outputs": [
    {
     "name": "stdin",
     "output_type": "stream",
     "text": [
      "Please enter the make: Nokia Lumia\n",
      "Please enter the age of the phone in months: 5\n",
      "Please enter the memory in GB: 64\n",
      "Please enter the make: Nokia Lumia\n",
      "Please enter the age of the phone in months: 5\n",
      "Please enter the memory in GB: 64\n"
     ]
    },
    {
     "name": "stdout",
     "output_type": "stream",
     "text": [
      "The price would be 3000 to 4000\n"
     ]
    }
   ],
   "source": [
    "def phone_make(make,age,memory):\n",
    "    if make==\"iPhone 13\":\n",
    "        if age<6:\n",
    "            if memory==128:\n",
    "                print(\"The price would be: 6000 to 7000\")\n",
    "            elif memory==256:\n",
    "                print(\"The price would be: 12000 to 14000\")\n",
    "    elif make==\"Nokia Lumia\":\n",
    "        if age<6:\n",
    "            if memory==64:\n",
    "                print(\"The price would be 3000 to 4000\")\n",
    "            elif memory==128:\n",
    "                print(\"The price would be 5000 to 6000\")\n",
    "    else:\n",
    "        print(\"No stock right now, please try again later\")\n",
    "make=input(\"Please enter the make:\")\n",
    "age=int(input(\"Please enter the age of the phone in months:\"))\n",
    "memory=int(input(\"Please enter the memory in GB:\"))\n",
    "x=phone_make(make,age,memory)"
   ]
  }
 ],
 "metadata": {
  "kernelspec": {
   "display_name": "Python [conda env:base] *",
   "language": "python",
   "name": "conda-base-py"
  },
  "language_info": {
   "codemirror_mode": {
    "name": "ipython",
    "version": 3
   },
   "file_extension": ".py",
   "mimetype": "text/x-python",
   "name": "python",
   "nbconvert_exporter": "python",
   "pygments_lexer": "ipython3",
   "version": "3.12.7"
  }
 },
 "nbformat": 4,
 "nbformat_minor": 5
}
