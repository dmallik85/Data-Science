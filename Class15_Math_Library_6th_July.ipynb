{
 "cells": [
  {
   "cell_type": "markdown",
   "id": "42657181-d045-4bd8-a80b-c7245520919c",
   "metadata": {},
   "source": [
    "# Subsetting\n",
    "When we want to fetch only few data from matrix"
   ]
  },
  {
   "cell_type": "code",
   "execution_count": 7,
   "id": "ff6b9dcf-eb6a-4d35-be6b-b2460f3a6e4b",
   "metadata": {},
   "outputs": [
    {
     "name": "stdout",
     "output_type": "stream",
     "text": [
      "[[44 77 30 17 50]\n",
      " [47 93 89 44 55]\n",
      " [93 59 89 94 81]]\n"
     ]
    }
   ],
   "source": [
    "import numpy as np\n",
    "from numpy.random import randint as ri\n",
    "\n",
    "# Create 2 dimensional matrix\n",
    "mat=np.array(ri(10,100,15)).reshape(3,5)\n",
    "print(mat)"
   ]
  },
  {
   "cell_type": "code",
   "execution_count": 3,
   "id": "c976853e-e0c8-49e4-86b3-aac051828dfd",
   "metadata": {},
   "outputs": [
    {
     "name": "stdout",
     "output_type": "stream",
     "text": [
      "[[[14 71 20 54 69]\n",
      "  [61 69 37 76 77]\n",
      "  [96 46 58 46 41]]\n",
      "\n",
      " [[19 20 85 66 84]\n",
      "  [50 48 75 46 34]\n",
      "  [46 65 20 69 61]]]\n"
     ]
    }
   ],
   "source": [
    "# Create 3 dimensional matrix\n",
    "mat=np.array(ri(10,100,30)).reshape(2,3,5)    #2 means - it will create 2 matrixes. 2 is depth, 3 is row and 5 is column\n",
    "print(mat)"
   ]
  },
  {
   "cell_type": "markdown",
   "id": "9d2829dd-2ae0-4d57-97d3-9b70c1999f48",
   "metadata": {},
   "source": [
    "# Universal functions"
   ]
  },
  {
   "cell_type": "code",
   "execution_count": 9,
   "id": "a03fed8c-e636-45a5-89a8-5db6de36adf4",
   "metadata": {},
   "outputs": [
    {
     "name": "stdout",
     "output_type": "stream",
     "text": [
      "First matrix of single digit number:\n",
      " [[3 1 4]\n",
      " [6 6 2]\n",
      " [5 8 9]]\n",
      "Second matrix of single digit number:\n",
      " [[9 6 5]\n",
      " [1 3 5]\n",
      " [5 2 9]]\n"
     ]
    }
   ],
   "source": [
    "mat1=np.array(ri(1,10,9)).reshape(3,3)\n",
    "mat2=np.array(ri(1,10,9)).reshape(3,3)\n",
    "print(\"First matrix of single digit number:\\n\",mat1)\n",
    "print(\"Second matrix of single digit number:\\n\",mat2)"
   ]
  },
  {
   "cell_type": "code",
   "execution_count": 11,
   "id": "b8623eab-72df-4086-be33-efa4bd9da1e6",
   "metadata": {},
   "outputs": [
    {
     "name": "stdout",
     "output_type": "stream",
     "text": [
      "Division of matrix:\n",
      " [[0.33333333 0.16666667 0.8       ]\n",
      " [6.         2.         0.4       ]\n",
      " [1.         4.         1.        ]]\n"
     ]
    }
   ],
   "source": [
    "print(\"Division of matrix:\\n\",mat1/mat2)"
   ]
  },
  {
   "cell_type": "code",
   "execution_count": 17,
   "id": "c5872db3-b218-4a64-9ccb-b1683a70e193",
   "metadata": {},
   "outputs": [
    {
     "name": "stdout",
     "output_type": "stream",
     "text": [
      "Mat1:\n",
      " [[4 4 5]\n",
      " [2 5 4]\n",
      " [8 8 4]]\n",
      "Mat2:\n",
      " [[6 3 8]\n",
      " [5 8 3]\n",
      " [2 8 4]]\n",
      "Linear combination: 3*mat1 - 2*mat2:\n",
      " [[ 0  6 -1]\n",
      " [-4 -1  6]\n",
      " [20  8  4]]\n"
     ]
    }
   ],
   "source": [
    "mat1=np.array(ri(1,10,9)).reshape(3,3)\n",
    "mat2=np.array(ri(1,10,9)).reshape(3,3)\n",
    "print(\"Mat1:\\n\",mat1)\n",
    "print(\"Mat2:\\n\",mat2)\n",
    "print(\"Linear combination: 3*mat1 - 2*mat2:\\n\",3*mat1-2*mat2)"
   ]
  },
  {
   "cell_type": "markdown",
   "id": "3d4dfdcb-90a3-40ff-9ec0-92fb261fc994",
   "metadata": {},
   "source": [
    "# Broadcasting\n",
    "\n",
    "Numpy operations are usually dont on pairs of arrays on an element by element basis. in the simplest case, the two arays must have exactly the same shape. Numpy broadcasting rules relaxex this constraints when the array shape meet certain constraints when operatings on two array, Numpy compares their shape element wise it starts with the trailing dimensions, and word its way forword, two dimension are compatible #when they are eqaul, or one of them is 1."
   ]
  },
  {
   "cell_type": "code",
   "execution_count": 22,
   "id": "4f971993-3f64-4230-b6f0-0798be12aa38",
   "metadata": {},
   "outputs": [
    {
     "name": "stdout",
     "output_type": "stream",
     "text": [
      "[[0. 0. 0.]\n",
      " [0. 0. 0.]\n",
      " [0. 0. 0.]]\n"
     ]
    }
   ],
   "source": [
    "start=np.zeros((3,3))\n",
    "print(start)"
   ]
  },
  {
   "cell_type": "code",
   "execution_count": 24,
   "id": "c2f9d067-1745-4a09-b642-4f71c79d16d7",
   "metadata": {},
   "outputs": [
    {
     "name": "stdout",
     "output_type": "stream",
     "text": [
      "[[1 0 2]]\n"
     ]
    }
   ],
   "source": [
    "# Create a rank1 ndarray with 3 values\n",
    "add_rows=np.array([[1,0,2]])\n",
    "print(add_rows)"
   ]
  },
  {
   "cell_type": "code",
   "execution_count": 26,
   "id": "37874947-c77c-4f90-bdda-e1f6537fa2b4",
   "metadata": {},
   "outputs": [
    {
     "name": "stdout",
     "output_type": "stream",
     "text": [
      "[[1 0 2]]\n"
     ]
    }
   ],
   "source": [
    "add_rows=np.array([[1,0,2]])\n",
    "print(add_rows)"
   ]
  },
  {
   "cell_type": "code",
   "execution_count": 30,
   "id": "106e0197-2f9d-4659-9597-a7fb36e7f6bf",
   "metadata": {},
   "outputs": [
    {
     "name": "stdout",
     "output_type": "stream",
     "text": [
      "[[1. 0. 2.]\n",
      " [1. 0. 2.]\n",
      " [1. 0. 2.]]\n"
     ]
    }
   ],
   "source": [
    "y=start+add_rows    #adds to each row of start using broadcasting\n",
    "print(y)"
   ]
  },
  {
   "cell_type": "code",
   "execution_count": 34,
   "id": "b15b9b58-de04-43f7-bf1d-859e69122816",
   "metadata": {},
   "outputs": [
    {
     "name": "stdout",
     "output_type": "stream",
     "text": [
      "[[0 2 2 3]]\n"
     ]
    }
   ],
   "source": [
    "# Transpose\n",
    "\n",
    "add_col=np.array([[0,2,2,3]])\n",
    "print(add_col)"
   ]
  },
  {
   "cell_type": "code",
   "execution_count": 36,
   "id": "624d8fe7-c225-42fe-af18-3363ec447252",
   "metadata": {},
   "outputs": [
    {
     "name": "stdout",
     "output_type": "stream",
     "text": [
      "[[0]\n",
      " [2]\n",
      " [2]\n",
      " [3]]\n"
     ]
    }
   ],
   "source": [
    "add_col=add_col.T     # By using 'T' we are transposing from row to column and vice versa.\n",
    "print(add_col)"
   ]
  },
  {
   "cell_type": "markdown",
   "id": "18b1010e-327d-48f7-8702-7a8f3fa9e33d",
   "metadata": {},
   "source": [
    "## Array math"
   ]
  },
  {
   "cell_type": "code",
   "execution_count": 48,
   "id": "d66c553f-99d9-411f-92d1-0ff753a15af9",
   "metadata": {},
   "outputs": [
    {
     "name": "stdout",
     "output_type": "stream",
     "text": [
      "\n",
      " 1st matrix of random single digit number\n",
      "----------------------------------\n",
      " [[3 1 6]\n",
      " [9 2 3]\n",
      " [5 8 7]]\n",
      "\n",
      " 2nd matrix of random single digit number\n",
      "----------------------------------\n",
      " [[3 3 6]\n",
      " [1 1 5]\n",
      " [4 7 9]]\n",
      "\n",
      " Square root of 1st matrix using np:\n",
      " -------------------------------------------------- \n",
      " [[1.73205081 1.         2.44948974]\n",
      " [3.         1.41421356 1.73205081]\n",
      " [2.23606798 2.82842712 2.64575131]]\n",
      "\n",
      " Square of 2nd matrix using np:\n",
      " -------------------------------------------------- \n",
      " [[ 9  9 36]\n",
      " [ 1  1 25]\n",
      " [16 49 81]]\n"
     ]
    }
   ],
   "source": [
    "mat1=np.array(ri(1,10,9)).reshape(3,3)\n",
    "mat2=np.array(ri(1,10,9)).reshape(3,3)\n",
    "print(\"\\n 1st matrix of random single digit number\\n----------------------------------\\n\",mat1)\n",
    "print(\"\\n 2nd matrix of random single digit number\\n----------------------------------\\n\",mat2)\n",
    "\n",
    "print(\"\\n Square root of 1st matrix using np:\\n\",\"-\"*50,\"\\n\",np.sqrt(mat1))\n",
    "print(\"\\n Square of 2nd matrix using np:\\n\",\"-\"*50,\"\\n\",np.square(mat2))"
   ]
  },
  {
   "cell_type": "code",
   "execution_count": null,
   "id": "f705c1ad-0975-47b4-937c-6303a0c76b58",
   "metadata": {},
   "outputs": [],
   "source": [
    "### It is advised to practice more functions of matrix to matrix"
   ]
  },
  {
   "cell_type": "markdown",
   "id": "10cdc919-ef1c-41b2-8465-7b46fa864f22",
   "metadata": {},
   "source": [
    "# Math Library"
   ]
  },
  {
   "cell_type": "code",
   "execution_count": 51,
   "id": "7f82cfb0-4d05-4947-aa60-e35199828ee4",
   "metadata": {},
   "outputs": [
    {
     "name": "stdout",
     "output_type": "stream",
     "text": [
      "Addition: 8\n"
     ]
    }
   ],
   "source": [
    "# Addition\n",
    "a=5\n",
    "b=3\n",
    "addition=a+b\n",
    "print(\"Addition:\",addition)"
   ]
  },
  {
   "cell_type": "code",
   "execution_count": 54,
   "id": "37fc83bc-82c0-471a-83e6-1b55cebb221e",
   "metadata": {},
   "outputs": [
    {
     "name": "stdout",
     "output_type": "stream",
     "text": [
      "Subration: 2\n"
     ]
    }
   ],
   "source": [
    "# Subtraction\n",
    "sub=a-b\n",
    "print(\"Subration:\",sub)"
   ]
  },
  {
   "cell_type": "code",
   "execution_count": 56,
   "id": "3a202748-60b4-401d-8cd6-e54226a19e5b",
   "metadata": {},
   "outputs": [
    {
     "name": "stdout",
     "output_type": "stream",
     "text": [
      "Multiplication: 15\n"
     ]
    }
   ],
   "source": [
    "# Multiplication\n",
    "mult=a*b\n",
    "print(\"Multiplication:\",mult)"
   ]
  },
  {
   "cell_type": "code",
   "execution_count": 64,
   "id": "31cee73d-dd1e-4451-b57c-db54afbc8b5c",
   "metadata": {},
   "outputs": [
    {
     "name": "stdout",
     "output_type": "stream",
     "text": [
      "6\n",
      "5\n",
      "6\n"
     ]
    }
   ],
   "source": [
    "import math\n",
    "\n",
    "# Round to nearest integer\n",
    "num=5.5\n",
    "rounded=round(num)   # It rounds to 5 if it is 5.4 but it will round to 6 if it is 5.5 and above.\n",
    "print(rounded)\n",
    "\n",
    "# Round down\n",
    "rounded_down=math.floor(num)\n",
    "print(rounded_down)\n",
    "\n",
    "# Round up\n",
    "rounded_up=math.ceil(num)\n",
    "print(rounded_up)"
   ]
  },
  {
   "cell_type": "markdown",
   "id": "56d5031b-2afe-4e69-bcc5-a2e22bc8e6b8",
   "metadata": {},
   "source": [
    "# Logarithm\n",
    "\n",
    "NumPy provides functions to calculate logarithms with different bases, primarily natural logarithm (base e), base 2, and base 10.\n",
    "\n",
    "Basic formula: log_b(x)=y   means, b^y=x\n",
    "\n",
    "b= base\n",
    "x= result\n",
    "y= power/exponent\n",
    "log_b(x)= logarithm of x with base b\n",
    "\n",
    "**what is base?**\n",
    "\n",
    "In logarithms, the base refers to the number that is raised to a power to obtain the argument of the logarithm. For example, in the expression \\(\\log _{b}(x)\\), \\(b\\) is the base. This means that \\(b\\) raised to the power of \\(\\log _{b}(x)\\) equals \\(x\\)."
   ]
  },
  {
   "cell_type": "markdown",
   "id": "5883ce62-2270-4583-866a-2f52dd2449d2",
   "metadata": {},
   "source": [
    "#### Example 1\n",
    "\n",
    "log10(1000) = ?\n",
    "This means, how many times 10 to multiply so that we get 1000.\n",
    "Answer: 1og10(1000)=3\n",
    "\n",
    "#### Example 2\n",
    "\n",
    "If no base is written then default base is 10 to consider.\n",
    "Answer: log(100)=log10(100)=2\n",
    "\n",
    "#### Example 3\n",
    "\n",
    "log2(8)=?\n",
    "Base=2, Result=8\n",
    "Answer: log2(8)=3\n",
    "\n",
    "#### Practice Questions:\n",
    "\n",
    "log10(10000)=4\n",
    "log2(16)=4\n",
    "log(1)=0\n",
    "log5(25)=2"
   ]
  },
  {
   "cell_type": "code",
   "execution_count": 2,
   "id": "4375cd8a-8682-4478-96bb-19ff47a39355",
   "metadata": {},
   "outputs": [
    {
     "name": "stdout",
     "output_type": "stream",
     "text": [
      "Natural logarithm: 2.0794415416798357\n",
      "Base 10 logarithm: 0.9030899869919435\n",
      "Base 2 logarithm: 3.0\n"
     ]
    }
   ],
   "source": [
    "import math\n",
    "\n",
    "# Natural logarithm\n",
    "num=8\n",
    "natural_log=math.log(num)\n",
    "print(\"Natural logarithm:\",natural_log)\n",
    "\n",
    "# Base-10 logarithm\n",
    "base_10_log=math.log10(num)\n",
    "print(\"Base 10 logarithm:\",base_10_log)\n",
    "\n",
    "# Base-2 logarithm\n",
    "base_2_log=math.log2(num)\n",
    "print(\"Base 2 logarithm:\",base_2_log)\n",
    "\n",
    "#### NOTE: Python doesn't understand any other number as base other than 2 and 10. If we would like to write log5(x) - it's invalid for python."
   ]
  },
  {
   "cell_type": "code",
   "execution_count": 6,
   "id": "7871c287-24d3-4392-9ee1-f91ac9b50de1",
   "metadata": {},
   "outputs": [
    {
     "name": "stdin",
     "output_type": "stream",
     "text": [
      "Please enter a number to calucate it's base-5 logarithm: 125\n"
     ]
    },
    {
     "name": "stdout",
     "output_type": "stream",
     "text": [
      "Base_5 logarithm: 3.0000000000000004\n"
     ]
    }
   ],
   "source": [
    "num=float(input(\"Please enter a number to calucate it's base-5 logarithm:\"))\n",
    "\n",
    "# Base-5 logarithm using math.log(x, base)\n",
    "log_base_5=math.log(num, 5)\n",
    "print(\"Base_5 logarithm:\",log_base_5)"
   ]
  },
  {
   "cell_type": "markdown",
   "id": "ff6449e3-da8e-4ac8-ad9b-70a4b30d2494",
   "metadata": {},
   "source": [
    "### Normal Mathematical Operators"
   ]
  },
  {
   "cell_type": "code",
   "execution_count": 10,
   "id": "c862ba51-7136-4fe4-b545-f783f79b85ec",
   "metadata": {},
   "outputs": [
    {
     "name": "stdout",
     "output_type": "stream",
     "text": [
      "2.5\n"
     ]
    }
   ],
   "source": [
    "# / normal division\n",
    "print(5/2)   # Output=2.5"
   ]
  },
  {
   "cell_type": "code",
   "execution_count": 12,
   "id": "cd46e1e7-eccf-4fad-b387-bc74ba5f173d",
   "metadata": {},
   "outputs": [
    {
     "name": "stdout",
     "output_type": "stream",
     "text": [
      "2\n"
     ]
    }
   ],
   "source": [
    "# floor division\n",
    "print(5//2)   # Output=2"
   ]
  },
  {
   "cell_type": "code",
   "execution_count": 14,
   "id": "e9a2275c-0e78-453e-b335-28296679c525",
   "metadata": {},
   "outputs": [
    {
     "name": "stdout",
     "output_type": "stream",
     "text": [
      "1\n"
     ]
    }
   ],
   "source": [
    "# Modulus operator\n",
    "print(5%2)   # Output=1"
   ]
  },
  {
   "cell_type": "markdown",
   "id": "4368102f-78b4-453c-a10f-197a164f233a",
   "metadata": {},
   "source": [
    "### Questions on Summation in Python\n",
    "\n",
    "#### Sum of a list\n",
    "\n",
    "**Question:** Given a list numbers=[1,2,3,4,5], what will be the total sum using sum() function?\n",
    "- Hint: Use sum(numbers) to calculate the sum\n",
    "- \n",
    "#### Sum of First N natural numbers\n",
    "\n",
    "**Question:** For n=10, calculate the sum of n natural number using the formula n*(n+1)//2\n",
    "\n",
    "#### Sum using Loop\n",
    "\n",
    "**Question:** Using a loop, find the sum of elements in the list numbers=[1,2,3,4,5] by initializing a vairable total=0 and adding each number\n"
   ]
  },
  {
   "cell_type": "code",
   "execution_count": 7,
   "id": "60b35eb6-13f6-4f60-89bb-d2e8c15da8c5",
   "metadata": {},
   "outputs": [
    {
     "name": "stdout",
     "output_type": "stream",
     "text": [
      "Sum of a list is: 15\n",
      "Sum of first 10 numbers is: 55\n",
      "Sum of a list using loop is: 15\n"
     ]
    }
   ],
   "source": [
    "# Sum of a list\n",
    "numbers=[1,2,3,4,5]\n",
    "a=sum(numbers)\n",
    "print(\"Sum of a list is:\",a)\n",
    "\n",
    "# Sum of First N natural numbers\n",
    "n=10\n",
    "a=n*(n+1)//2\n",
    "print(\"Sum of first\",n,\"numbers is:\",a)\n",
    "\n",
    "# Sum using Loop\n",
    "numbers=[1,2,3,4,5]\n",
    "total=0\n",
    "for num in numbers:\n",
    "    total =total+num\n",
    "print(\"Sum of a list using loop is:\", total)"
   ]
  },
  {
   "cell_type": "markdown",
   "id": "cac686b9-974b-44c6-b3ff-6ab617d78a1c",
   "metadata": {},
   "source": [
    "#### Product of a list\n",
    "\n",
    "**Question:** Given a list numbers=[1,2,3,4,5], what will be the product of all elements using the math.prod() function?\n",
    "- Hint: use math.prod(numbers)\n",
    "\n",
    "#### Product using loop\n",
    "\n",
    "**Question:** Usin a loop, find the product of elements in the list numbers=[1,2,3,4,5] by initializing product_loop=1 and multiplying each number\n",
    "- Hint: Use a for loop with product_loop *=num\n",
    "\n",
    "#### Product of first N natural numbers (Factorial)\n",
    "\n",
    "**Question:** For n=5, calculate the factorial (product of n natural numbers) using the math.factorial() function.\n",
    "- Hint: Use math.factorial(n) to complete the factorial"
   ]
  },
  {
   "cell_type": "code",
   "execution_count": 14,
   "id": "772b47fd-c4fd-4899-bef4-64ceea1b8cd3",
   "metadata": {},
   "outputs": [
    {
     "name": "stdout",
     "output_type": "stream",
     "text": [
      "Product of a list numbers is: 120\n",
      "Product using loop is: 120\n",
      "Product of first 5 natural numbers is: 120\n"
     ]
    }
   ],
   "source": [
    "# Product of a list\n",
    "import math\n",
    "numbers=[1,2,3,4,5]\n",
    "a=math.prod(numbers)\n",
    "print(\"Product of a list numbers is:\",a)\n",
    "\n",
    "# Product using loop\n",
    "numbers=[1,2,3,4,5]\n",
    "product_loop=1\n",
    "for num in numbers:\n",
    "    product_loop *=num\n",
    "print(\"Product using loop is:\",product_loop)\n",
    "\n",
    "# Product of first N natural numbers (Factorial)\n",
    "n=5\n",
    "a=math.factorial(n)\n",
    "print(\"Product of first 5 natural numbers is:\",a)"
   ]
  },
  {
   "cell_type": "markdown",
   "id": "86ce3527-12f5-4c63-b214-2b44b225e227",
   "metadata": {},
   "source": [
    "## Questions on different calculation in python\n",
    "\n",
    "#### Difference between two numbers\n",
    "\n",
    "**Question:** Given a=10 and b=7, what will be the difference between consecutive elements using a list comprehension.\n",
    "\n",
    "- Hint: Use a - b to calculate the difference.\n",
    "\n",
    "#### Difference in a list\n",
    "\n",
    "**Question:** For a list numbers=[10,20,30,40], calculate the difference between the elements using a list comprehension.\n",
    "\n",
    "- Hint: Using zip(numbers[:-1], numbers[1:]) with j-i to find difference\n",
    "\n",
    "#### Absolute difference\n",
    "\n",
    "**Question:** Find the absolute difference of two numbers by using abs() function.\n",
    "\n",
    "- Hint: Use abs(num1-num2)\n"
   ]
  },
  {
   "cell_type": "code",
   "execution_count": 18,
   "id": "537c943c-45c8-46ed-b532-7f2311688611",
   "metadata": {},
   "outputs": [
    {
     "name": "stdout",
     "output_type": "stream",
     "text": [
      "The difference between a and b is: 3\n",
      "Difference in a list: [10, 10, 10]\n",
      "Absolute difference of a and b is: 3\n"
     ]
    }
   ],
   "source": [
    "# Difference between two numbers\n",
    "a=10\n",
    "b=7\n",
    "diff=a-b\n",
    "print(\"The difference between a and b is:\",diff)\n",
    "\n",
    "# Difference in a list\n",
    "numbers=[10,20,30,40]\n",
    "diff= [j-i for i, j in zip(numbers[:-1],numbers[1:])]\n",
    "print(\"Difference in a list:\",diff)\n",
    "\n",
    "# Absolute difference\n",
    "diff= abs(a-b)\n",
    "print(\"Absolute difference of a and b is:\",diff)"
   ]
  },
  {
   "cell_type": "markdown",
   "id": "935c2aee-bc91-45b9-b7ed-301ee03fb42d",
   "metadata": {},
   "source": [
    "# Greatest Common Divisor (GCD)\n",
    "\n",
    "**Definition:** The greatest common divisor (GCD), also known as the highest common factor (HCF), of two integers can be calculated in Python using several methods. The most straightforward and efficient approach is to utilize the built-in math.gcd() function.\n",
    "\n",
    "**Example:**\n",
    "GCD of 12 and 15\n",
    "\n",
    "Factors of 12: 1,2,3,4,6,12\n",
    "Factors of 15: 1,3,5,15\n",
    "\n",
    "Common factors: 1,3\n",
    "Highest common factor (HCF)=3"
   ]
  },
  {
   "cell_type": "code",
   "execution_count": 21,
   "id": "523a2f1c-7b66-411b-9bc1-a3b0c733b2cf",
   "metadata": {},
   "outputs": [
    {
     "name": "stdout",
     "output_type": "stream",
     "text": [
      "3\n"
     ]
    }
   ],
   "source": [
    "# Example of GCD\n",
    "import math\n",
    "a=math.gcd(12,15)\n",
    "print(a)"
   ]
  },
  {
   "cell_type": "code",
   "execution_count": 37,
   "id": "aea3318f-0190-4406-83ca-66c00d287a5f",
   "metadata": {},
   "outputs": [
    {
     "name": "stdout",
     "output_type": "stream",
     "text": [
      "GCD of a list of numbers is: 4\n"
     ]
    }
   ],
   "source": [
    "# GCD of a list of numbers using a function\n",
    "def gcd_num(numbers):\n",
    "    gcd=numbers[0]\n",
    "    for num in numbers[1:]:\n",
    "        gcd=math.gcd(gcd,num)\n",
    "    return gcd\n",
    "numbers=[4,16,48]\n",
    "gcd_numbers=gcd_num(numbers)\n",
    "print(\"GCD of a list of numbers is:\",gcd_numbers)"
   ]
  },
  {
   "cell_type": "markdown",
   "id": "aa2ba899-2d2d-4c0a-8033-d5ff9b4af9d2",
   "metadata": {},
   "source": [
    "# Least Common Multiple \n",
    "\n",
    "**Definition:** It refers to the smallest positive integer that is a multiple of two or more given integers. For example, the LCM of 4 and 6 is 12, as 12 is the smallest number that can be divided by both 4 and 6 without a remainder.\n",
    "\n",
    "**Example:** LCM of 4 and 5\n",
    "Multiples of 4: 4,8,12,16,20,..\n",
    "Multiples of 5: 5,10,15,20,25,..\n",
    "\n",
    "First common multiple of 4 and 5 is: 20\n",
    "LCM(4,5)=20"
   ]
  },
  {
   "cell_type": "markdown",
   "id": "b270dc7d-a1e0-4eb6-8309-74c7a6df2b21",
   "metadata": {},
   "source": [
    "#### LCM of two numbers\n",
    "\n",
    "**Question:** Given a=12 and b=15, calculate the LCM using formula abs(a*b)//math.gcd(a,b)\n",
    "- Hint: Use math.gcd() to find GCD and apply the LCM formula\n",
    "\n",
    "#### LCM of a list of numbers\n",
    "\n",
    "**Question:** For a list numbers=[4,5,6], write a function lcm_list() to calculate the LCM of all numbers in the list using a loop and math.gcd().\n",
    "- Hint: Initialize LCM with the first number and iteratively update it with lcm * num // math.gcd(lcm, num) for each subsequent number.\n"
   ]
  },
  {
   "cell_type": "code",
   "execution_count": 29,
   "id": "535210a0-b989-406e-9f5c-44423b0d58e5",
   "metadata": {},
   "outputs": [
    {
     "name": "stdout",
     "output_type": "stream",
     "text": [
      "LCM of 12 and 15 is: 60\n",
      "4\n",
      "20\n",
      "LCM of a list of numbers: 60\n"
     ]
    }
   ],
   "source": [
    "# LCM of two numbers\n",
    "import math\n",
    "a=12\n",
    "b=15\n",
    "c=abs(a*b) // math.gcd(a,b)\n",
    "print(\"LCM of\",a,\"and\",b,\"is:\",c)\n",
    "\n",
    "# LCM of a list of numbers\n",
    "def list_numbers(numbers):\n",
    "    lcm=numbers[0]\n",
    "    for num in numbers[1:]:\n",
    "        print(lcm)\n",
    "        lcm=lcm*num//math.gcd(lcm,num)\n",
    "    return lcm\n",
    "numbers=[4,5,6]\n",
    "lcm_numbers=list_numbers(numbers)\n",
    "print(\"LCM of a list of numbers:\",lcm_numbers)"
   ]
  },
  {
   "cell_type": "markdown",
   "id": "2508ff3a-1e8f-4fbf-befa-f366138650e4",
   "metadata": {},
   "source": [
    "### Set operations in python"
   ]
  },
  {
   "cell_type": "code",
   "execution_count": 40,
   "id": "d0f9ec99-1b02-4a7e-8112-8f146b69c014",
   "metadata": {},
   "outputs": [
    {
     "name": "stdout",
     "output_type": "stream",
     "text": [
      "Union of set: {1, 2, 3, 4, 5}\n",
      "Intersection of sets: {3}\n",
      "Difference of sets: {1, 2}\n"
     ]
    }
   ],
   "source": [
    "# Union of sets\n",
    "set1={1,2,3}\n",
    "set2={3,4,5}\n",
    "union_set=set1.union(set2)\n",
    "print(\"Union of set:\",union_set)\n",
    "\n",
    "# Intersection of sets\n",
    "int_sec=set1.intersection(set2)\n",
    "print(\"Intersection of sets:\",int_sec)\n",
    "\n",
    "# Difference of sets\n",
    "diff_sets=set1.difference(set2)       #What is there in set1, it is not there in set2\n",
    "print(\"Difference of sets:\",diff_sets)"
   ]
  },
  {
   "cell_type": "markdown",
   "id": "4758998b-da13-4415-89e4-b14a5042fd9e",
   "metadata": {},
   "source": [
    "## Trigonometric Fuctions in Python\n",
    "\n",
    "#### Sine of an angle\n",
    "\n",
    "**Question:** Given an angle of 30 degrees, calculate it's sine using the math.sin() function.\n",
    "- Hint: First convert degrees to radians using math.radians(), then apply math.sin().\n",
    "\n",
    "#### Cosine of an angle\n",
    "\n",
    "**Question:** Using the same of 30 degrees, compute the cosine using math.cos() function.\n",
    "- Hint: Make sure to convert the angle to radians before using math.cos()\n",
    "\n",
    "#### Tangent of an angle\n",
    "\n",
    "**Question:** Find the tangent of 30 degrees using the math.tan() function.\n",
    "- Hint: Convert the angle to radians using math.radians() before applying math.tan()"
   ]
  },
  {
   "cell_type": "code",
   "execution_count": 43,
   "id": "2cb2a7d4-7be8-4707-aff9-db0bb6eed8d3",
   "metadata": {},
   "outputs": [
    {
     "name": "stdout",
     "output_type": "stream",
     "text": [
      "Sine of 30 degrees: 0.49999999999999994\n",
      "Cosine of 30 degrees: 0.8660254037844387\n",
      "Tangent of 30 degrees: 0.5773502691896257\n"
     ]
    }
   ],
   "source": [
    "import math\n",
    "\n",
    "# Sine function\n",
    "angle=math.radians(30)\n",
    "sine=math.sin(angle)\n",
    "print(\"Sine of 30 degrees:\",sine)\n",
    "\n",
    "# Cosine function\n",
    "cosine=math.cos(angle)\n",
    "print(\"Cosine of 30 degrees:\",cosine)\n",
    "\n",
    "# Tangent function\n",
    "tangent=math.tan(angle)\n",
    "print(\"Tangent of 30 degrees:\",tangent)"
   ]
  },
  {
   "cell_type": "code",
   "execution_count": null,
   "id": "730ceb0b-d1d7-4e16-8a86-38f208e935bb",
   "metadata": {},
   "outputs": [],
   "source": []
  }
 ],
 "metadata": {
  "kernelspec": {
   "display_name": "Python [conda env:base] *",
   "language": "python",
   "name": "conda-base-py"
  },
  "language_info": {
   "codemirror_mode": {
    "name": "ipython",
    "version": 3
   },
   "file_extension": ".py",
   "mimetype": "text/x-python",
   "name": "python",
   "nbconvert_exporter": "python",
   "pygments_lexer": "ipython3",
   "version": "3.12.7"
  }
 },
 "nbformat": 4,
 "nbformat_minor": 5
}
