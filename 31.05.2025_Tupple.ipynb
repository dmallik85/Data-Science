{
 "cells": [
  {
   "cell_type": "markdown",
   "metadata": {},
   "source": [
    "# What are Tuples?\n",
    "\n",
    "A **tuple** is a data structure in Python. Tuples are always defined using **round brackets** `()`.\n",
    "\n",
    "Tuples are **immutable**, meaning their elements cannot be changed after creation. They can contain elements of **any data type**.\n",
    "\n",
    "Let's see an example:\n",
    "```python\n",
    "my_tuple = (1, \"hello\", 3.14, True)\n",
    "print(my_tuple)\n"
   ]
  },
  {
   "cell_type": "code",
   "execution_count": 1,
   "metadata": {},
   "outputs": [],
   "source": [
    "work_location=('Bengluru','Kolkata','Chennai','raipur')"
   ]
  },
  {
   "cell_type": "code",
   "execution_count": 2,
   "metadata": {},
   "outputs": [
    {
     "data": {
      "text/plain": [
       "('Bengluru', 'Kolkata', 'Chennai', 'raipur')"
      ]
     },
     "execution_count": 2,
     "metadata": {},
     "output_type": "execute_result"
    }
   ],
   "source": [
    "work_location"
   ]
  },
  {
   "cell_type": "code",
   "execution_count": null,
   "metadata": {},
   "outputs": [],
   "source": [
    "#check type"
   ]
  },
  {
   "cell_type": "code",
   "execution_count": 3,
   "metadata": {},
   "outputs": [
    {
     "data": {
      "text/plain": [
       "tuple"
      ]
     },
     "execution_count": 3,
     "metadata": {},
     "output_type": "execute_result"
    }
   ],
   "source": [
    "type(work_location)"
   ]
  },
  {
   "cell_type": "code",
   "execution_count": null,
   "metadata": {},
   "outputs": [],
   "source": [
    "#Lets try to add new work location.like list method"
   ]
  },
  {
   "cell_type": "code",
   "execution_count": 4,
   "metadata": {},
   "outputs": [
    {
     "ename": "AttributeError",
     "evalue": "'tuple' object has no attribute 'append'",
     "output_type": "error",
     "traceback": [
      "\u001b[1;31m---------------------------------------------------------------------------\u001b[0m",
      "\u001b[1;31mAttributeError\u001b[0m                            Traceback (most recent call last)",
      "Cell \u001b[1;32mIn[4], line 1\u001b[0m\n\u001b[1;32m----> 1\u001b[0m work_location\u001b[38;5;241m.\u001b[39mappend(\u001b[38;5;124m'\u001b[39m\u001b[38;5;124mKorba\u001b[39m\u001b[38;5;124m'\u001b[39m)\n",
      "\u001b[1;31mAttributeError\u001b[0m: 'tuple' object has no attribute 'append'"
     ]
    }
   ],
   "source": [
    "work_location.append('Korba')"
   ]
  },
  {
   "cell_type": "markdown",
   "metadata": {},
   "source": [
    "# Adding Elements to a Tuple\n",
    "\n",
    "We cannot add elements directly to a tuple because **tuples are immutable** (we cannot change them after creation).\n",
    "\n",
    "But don't worry, there is a trick to add elements to a tuple.\n",
    "\n",
    "### How to Add Elements to a Tuple\n",
    "\n",
    "First, we need to **convert the tuple into a list**, because lists are mutable (changeable). Then, we can add elements and convert it back to a tuple.\n",
    "\n",
    "Let's see how:\n",
    "```python\n",
    "my_tuple = (1, 2, 3)\n",
    "temp_list = list(my_tuple)  # Convert to list\n",
    "temp_list.append(4)         # Add element\n",
    "my_tuple = tuple(temp_list) # Convert back to tuple\n",
    "print(my_tuple)\n"
   ]
  },
  {
   "cell_type": "code",
   "execution_count": 5,
   "metadata": {},
   "outputs": [
    {
     "data": {
      "text/plain": [
       "('Bengluru', 'Kolkata', 'Chennai', 'raipur')"
      ]
     },
     "execution_count": 5,
     "metadata": {},
     "output_type": "execute_result"
    }
   ],
   "source": [
    "work_location"
   ]
  },
  {
   "cell_type": "code",
   "execution_count": 6,
   "metadata": {},
   "outputs": [],
   "source": [
    "work_location=list(work_location)"
   ]
  },
  {
   "cell_type": "code",
   "execution_count": 7,
   "metadata": {},
   "outputs": [
    {
     "data": {
      "text/plain": [
       "['Bengluru', 'Kolkata', 'Chennai', 'raipur']"
      ]
     },
     "execution_count": 7,
     "metadata": {},
     "output_type": "execute_result"
    }
   ],
   "source": [
    "work_location"
   ]
  },
  {
   "cell_type": "code",
   "execution_count": null,
   "metadata": {},
   "outputs": [],
   "source": [
    "#now you can edit "
   ]
  },
  {
   "cell_type": "code",
   "execution_count": 8,
   "metadata": {},
   "outputs": [],
   "source": [
    "work_location.append('Korba')"
   ]
  },
  {
   "cell_type": "code",
   "execution_count": 9,
   "metadata": {},
   "outputs": [
    {
     "data": {
      "text/plain": [
       "['Bengluru', 'Kolkata', 'Chennai', 'raipur', 'Korba']"
      ]
     },
     "execution_count": 9,
     "metadata": {},
     "output_type": "execute_result"
    }
   ],
   "source": [
    "work_location"
   ]
  },
  {
   "cell_type": "code",
   "execution_count": null,
   "metadata": {},
   "outputs": [],
   "source": [
    "#now back to change in tuple"
   ]
  },
  {
   "cell_type": "code",
   "execution_count": 10,
   "metadata": {},
   "outputs": [],
   "source": [
    "work_location=tuple(work_location)"
   ]
  },
  {
   "cell_type": "code",
   "execution_count": 11,
   "metadata": {},
   "outputs": [
    {
     "data": {
      "text/plain": [
       "('Bengluru', 'Kolkata', 'Chennai', 'raipur', 'Korba')"
      ]
     },
     "execution_count": 11,
     "metadata": {},
     "output_type": "execute_result"
    }
   ],
   "source": [
    "work_location"
   ]
  },
  {
   "cell_type": "code",
   "execution_count": null,
   "metadata": {},
   "outputs": [],
   "source": [
    "#Hi Hi Hi , we can change !!"
   ]
  },
  {
   "cell_type": "code",
   "execution_count": null,
   "metadata": {},
   "outputs": [],
   "source": [
    "#How many cities in tuple , i mean what is the length of tuple,\n",
    "#checking length in tuple like List."
   ]
  },
  {
   "cell_type": "code",
   "execution_count": 12,
   "metadata": {},
   "outputs": [
    {
     "data": {
      "text/plain": [
       "5"
      ]
     },
     "execution_count": 12,
     "metadata": {},
     "output_type": "execute_result"
    }
   ],
   "source": [
    "len(work_location)"
   ]
  },
  {
   "cell_type": "code",
   "execution_count": null,
   "metadata": {},
   "outputs": [],
   "source": [
    "#Similarly you can work with numbers as well , no change in the concept."
   ]
  },
  {
   "cell_type": "code",
   "execution_count": null,
   "metadata": {},
   "outputs": [],
   "source": [
    "#use indexing just like we did in list"
   ]
  },
  {
   "cell_type": "code",
   "execution_count": 13,
   "metadata": {},
   "outputs": [
    {
     "data": {
      "text/plain": [
       "('Bengluru', 'Kolkata', 'Chennai', 'raipur', 'Korba')"
      ]
     },
     "execution_count": 13,
     "metadata": {},
     "output_type": "execute_result"
    }
   ],
   "source": [
    "work_location"
   ]
  },
  {
   "cell_type": "code",
   "execution_count": 14,
   "metadata": {},
   "outputs": [
    {
     "data": {
      "text/plain": [
       "'Kolkata'"
      ]
     },
     "execution_count": 14,
     "metadata": {},
     "output_type": "execute_result"
    }
   ],
   "source": [
    "work_location[1]"
   ]
  },
  {
   "cell_type": "code",
   "execution_count": null,
   "metadata": {},
   "outputs": [],
   "source": [
    "#slicing just like a list"
   ]
  },
  {
   "cell_type": "code",
   "execution_count": 15,
   "metadata": {},
   "outputs": [
    {
     "data": {
      "text/plain": [
       "'raipur'"
      ]
     },
     "execution_count": 15,
     "metadata": {},
     "output_type": "execute_result"
    }
   ],
   "source": [
    "work_location[-2]"
   ]
  },
  {
   "cell_type": "markdown",
   "metadata": {},
   "source": [
    "### 2. `index()`\n",
    "\n",
    "The `index()` method returns the **position (index)** of the **first time** a specific value appears in the tuple.\n",
    "\n",
    "#### Example:\n",
    "\n",
    "```python\n",
    "my_tuple = (5, 10, 15, 10, 20)\n",
    "print(my_tuple.index(10))  # Output: 1\n"
   ]
  },
  {
   "cell_type": "code",
   "execution_count": 16,
   "metadata": {},
   "outputs": [],
   "source": [
    "numbers=(50,60,40,90,80,70,60,50,40,70,10,20,30,7,50,50)"
   ]
  },
  {
   "cell_type": "code",
   "execution_count": null,
   "metadata": {},
   "outputs": [],
   "source": [
    "#use .index to enter a value,  and return the index"
   ]
  },
  {
   "cell_type": "code",
   "execution_count": 17,
   "metadata": {},
   "outputs": [
    {
     "data": {
      "text/plain": [
       "12"
      ]
     },
     "execution_count": 17,
     "metadata": {},
     "output_type": "execute_result"
    }
   ],
   "source": [
    "numbers.index(30)"
   ]
  },
  {
   "cell_type": "markdown",
   "metadata": {},
   "source": [
    "# Basic Tuple Methods\n",
    "\n",
    "Tuples have some built-in methods, but not as many as lists.\n",
    "\n",
    "Let's look at two common built-in methods for tuples:\n",
    "\n",
    "### 1. `count()`\n",
    "\n",
    "This method returns the number of times a value appears in the tuple.\n",
    "\n",
    "```python\n",
    "my_tuple = (1, 2, 3, 2, 2, 4)\n",
    "print(my_tuple.count(2))  # Output: 3"
   ]
  },
  {
   "cell_type": "code",
   "execution_count": 18,
   "metadata": {},
   "outputs": [
    {
     "data": {
      "text/plain": [
       "(50, 60, 40, 90, 80, 70, 60, 50, 40, 70, 10, 20, 30, 7, 50, 50)"
      ]
     },
     "execution_count": 18,
     "metadata": {},
     "output_type": "execute_result"
    }
   ],
   "source": [
    "numbers"
   ]
  },
  {
   "cell_type": "code",
   "execution_count": 19,
   "metadata": {},
   "outputs": [
    {
     "data": {
      "text/plain": [
       "4"
      ]
     },
     "execution_count": 19,
     "metadata": {},
     "output_type": "execute_result"
    }
   ],
   "source": [
    "numbers.count(50)"
   ]
  },
  {
   "cell_type": "markdown",
   "metadata": {
    "id": "HsakRWSPO1Yh"
   },
   "source": [
    "### **Tuples - Access**\n",
    "\n",
    "####  Definition: Getting values from a tuple by using their place number is called accessing elements."
   ]
  },
  {
   "cell_type": "markdown",
   "metadata": {
    "id": "-resDDKvOL1U"
   },
   "source": [
    "### Example 1: Accessing by index\n"
   ]
  },
  {
   "cell_type": "code",
   "execution_count": 20,
   "metadata": {
    "id": "sShwZ08rOHmo"
   },
   "outputs": [
    {
     "name": "stdout",
     "output_type": "stream",
     "text": [
      "apple\n"
     ]
    }
   ],
   "source": [
    "fruits = (\"apple\", \"banana\", \"cherry\")\n",
    "print(fruits[0])  # Access the first item\n"
   ]
  },
  {
   "cell_type": "markdown",
   "metadata": {
    "id": "0BGSiNG3OgHt"
   },
   "source": [
    "### Example 2: Negative indexing\n"
   ]
  },
  {
   "cell_type": "code",
   "execution_count": 21,
   "metadata": {
    "id": "aZNPA6ZyOht1"
   },
   "outputs": [
    {
     "name": "stdout",
     "output_type": "stream",
     "text": [
      "cherry\n"
     ]
    }
   ],
   "source": [
    "print(fruits[-1])  # Access the last item\n"
   ]
  },
  {
   "cell_type": "markdown",
   "metadata": {
    "id": "Hgzof7Q8OlGv"
   },
   "source": [
    "### Example 3: Accessing a range of items\n"
   ]
  },
  {
   "cell_type": "code",
   "execution_count": 22,
   "metadata": {
    "id": "h-46bseKOnVw"
   },
   "outputs": [
    {
     "name": "stdout",
     "output_type": "stream",
     "text": [
      "('banana', 'cherry')\n"
     ]
    }
   ],
   "source": [
    "print(fruits[1:3])  # Access items from index 1 to 2\n"
   ]
  },
  {
   "cell_type": "markdown",
   "metadata": {
    "id": "7nZV1RRBOoDk"
   },
   "source": [
    "# **Tuples - Update**\n",
    "\n",
    "### Definition: Tuples are immutable, meaning their elements cannot be changed directly.To \"update\" a tuple, you must create a new tuple with the desired changes.\n"
   ]
  },
  {
   "cell_type": "markdown",
   "metadata": {
    "id": "B94bRQa9O5X_"
   },
   "source": [
    "### Example 1: Changing a tuple by creating a new one\n"
   ]
  },
  {
   "cell_type": "code",
   "execution_count": 23,
   "metadata": {
    "id": "MSu2RqKOOxC2"
   },
   "outputs": [
    {
     "name": "stdout",
     "output_type": "stream",
     "text": [
      "('apple', 'blueberry', 'cherry')\n"
     ]
    }
   ],
   "source": [
    "fruits = (\"apple\", \"banana\", \"cherry\")\n",
    "fruits = (\"apple\", \"blueberry\", \"cherry\")\n",
    "print(fruits)\n"
   ]
  },
  {
   "cell_type": "markdown",
   "metadata": {
    "id": "kkGbmT18O7lL"
   },
   "source": [
    "### Example 2: Adding an item by converting to list\n"
   ]
  },
  {
   "cell_type": "code",
   "execution_count": 24,
   "metadata": {
    "id": "bN0AolKwO-lX"
   },
   "outputs": [
    {
     "name": "stdout",
     "output_type": "stream",
     "text": [
      "('apple', 'banana', 'cherry', 'orange')\n"
     ]
    }
   ],
   "source": [
    "fruits = (\"apple\", \"banana\", \"cherry\")\n",
    "fruits_list = list(fruits)\n",
    "fruits_list.append(\"orange\")\n",
    "fruits = tuple(fruits_list)\n",
    "print(fruits)\n"
   ]
  },
  {
   "cell_type": "markdown",
   "metadata": {
    "id": "an_g82OgO_Ix"
   },
   "source": [
    "### Example 3: Removing an item by converting to list\n"
   ]
  },
  {
   "cell_type": "code",
   "execution_count": 25,
   "metadata": {
    "id": "pT0gBi1EPD65"
   },
   "outputs": [
    {
     "name": "stdout",
     "output_type": "stream",
     "text": [
      "('apple', 'cherry')\n"
     ]
    }
   ],
   "source": [
    "fruits = (\"apple\", \"banana\", \"cherry\")\n",
    "fruits_list = list(fruits)\n",
    "fruits_list.remove(\"banana\")\n",
    "fruits = tuple(fruits_list)\n",
    "print(fruits)\n"
   ]
  },
  {
   "cell_type": "markdown",
   "metadata": {
    "id": "TNh-UGz_PEj0"
   },
   "source": [
    "# **Tuples - Unpack**\n",
    "\n",
    "### Definition: Unpacking a tuple involves assigning its elements to individual variables.\n"
   ]
  },
  {
   "cell_type": "markdown",
   "metadata": {
    "id": "fSqPGoZIPYtb"
   },
   "source": [
    "### Example 1: Simple unpacking\n"
   ]
  },
  {
   "cell_type": "code",
   "execution_count": null,
   "metadata": {
    "id": "SVYCBzACPTmd"
   },
   "outputs": [],
   "source": [
    "fruits = (\"apple\", \"banana\", \"cherry\")\n",
    "(first, second, third) = fruits\n",
    "print(first)\n",
    "print(second)\n",
    "print(third)\n"
   ]
  },
  {
   "cell_type": "markdown",
   "metadata": {
    "id": "jicNlOaaPar_"
   },
   "source": [
    "### Example 2: Using asterisk to unpack remaining elements\n"
   ]
  },
  {
   "cell_type": "code",
   "execution_count": null,
   "metadata": {
    "id": "AZEWRz68PePh"
   },
   "outputs": [],
   "source": [
    "fruits = (\"apple\", \"banana\", \"cherry\", \"orange\")\n",
    "(first, *rest) = fruits\n",
    "print(first)\n",
    "print(rest)\n"
   ]
  },
  {
   "cell_type": "markdown",
   "metadata": {
    "id": "pdNRNbtcPhtl"
   },
   "source": [
    "### Example 3: Ignoring certain values during unpacking\n"
   ]
  },
  {
   "cell_type": "code",
   "execution_count": null,
   "metadata": {
    "id": "56Hlj7CSQK_f"
   },
   "outputs": [],
   "source": [
    "fruits = (\"apple\", \"banana\", \"cherry\")\n",
    "(first, _, third) = fruits\n",
    "print(first)\n",
    "print(third)\n"
   ]
  },
  {
   "cell_type": "markdown",
   "metadata": {
    "id": "d1hRH0tnQwr5"
   },
   "source": [
    "# **Tuples - Join**\n",
    "\n",
    "### Definition: Joining tuples involves combining two or more tuples into a single tuple.\n"
   ]
  },
  {
   "cell_type": "markdown",
   "metadata": {
    "id": "ATe5ActuQ2KE"
   },
   "source": [
    "### Example 1: Joining two tuples with +\n"
   ]
  },
  {
   "cell_type": "code",
   "execution_count": null,
   "metadata": {
    "id": "C-w8rtF5QzkY"
   },
   "outputs": [],
   "source": [
    "tuple1 = (\"a\", \"b\", \"c\")\n",
    "tuple2 = (1, 2, 3)\n",
    "joined_tuple = tuple1 + tuple2\n",
    "print(joined_tuple)\n"
   ]
  },
  {
   "cell_type": "markdown",
   "metadata": {
    "id": "kypuPzp4Q5Th"
   },
   "source": [
    "### Example 2: Multiplying a tuple\n"
   ]
  },
  {
   "cell_type": "code",
   "execution_count": null,
   "metadata": {
    "id": "Yf3lcdDOQ79a"
   },
   "outputs": [],
   "source": [
    "fruits = (\"apple\", \"banana\", \"cherry\")\n",
    "multiplied_tuple = fruits * 2\n",
    "print(multiplied_tuple)\n"
   ]
  },
  {
   "cell_type": "markdown",
   "metadata": {
    "id": "3_aCEZhcQ8vs"
   },
   "source": [
    "### Example 3: Using the extend() method (not directly applicable to tuples, so we convert to list)\n"
   ]
  },
  {
   "cell_type": "code",
   "execution_count": null,
   "metadata": {
    "id": "P9oRurlaRAWZ"
   },
   "outputs": [],
   "source": [
    "fruits = (\"apple\", \"banana\", \"cherry\")\n",
    "more_fruits = (\"mango\", \"pineapple\")\n",
    "fruits_list = list(fruits)\n",
    "fruits_list.extend(more_fruits)\n",
    "fruits = tuple(fruits_list)\n",
    "print(fruits)\n"
   ]
  },
  {
   "cell_type": "markdown",
   "metadata": {
    "id": "cP1y7y5eRDxa"
   },
   "source": [
    "# **Tuples - Tuple Methods**\n",
    "\n",
    "### Definition: Tuple methods are built-in functions that perform specific operations on tuple elements. Since tuples are immutable, they have fewer methods than lists.\n"
   ]
  },
  {
   "cell_type": "markdown",
   "metadata": {
    "id": "cpiG94WFRLHJ"
   },
   "source": [
    "### Example 1: Using count() to count occurrences\n"
   ]
  },
  {
   "cell_type": "code",
   "execution_count": null,
   "metadata": {
    "id": "iqhRclPQRIjj"
   },
   "outputs": [],
   "source": [
    "fruits = (\"apple\", \"banana\", \"cherry\", \"apple\")\n",
    "print(fruits.count(\"apple\"))\n"
   ]
  },
  {
   "cell_type": "markdown",
   "metadata": {
    "id": "qoWaeDhMRO-1"
   },
   "source": [
    "### Example 2: Using index() to find the first occurrence\n"
   ]
  },
  {
   "cell_type": "code",
   "execution_count": null,
   "metadata": {
    "id": "oYBPu7BfRTQw"
   },
   "outputs": [],
   "source": [
    "print(fruits.index(\"banana\"))\n"
   ]
  },
  {
   "cell_type": "markdown",
   "metadata": {
    "id": "9deDMmk_RT4n"
   },
   "source": [
    "### Example 3: Converting a tuple to a list and back to a tuple\n"
   ]
  },
  {
   "cell_type": "code",
   "execution_count": null,
   "metadata": {
    "id": "GqkFXzJaRWpc"
   },
   "outputs": [],
   "source": [
    "fruits_list = list(fruits)\n",
    "fruits_list.append(\"orange\")\n",
    "fruits = tuple(fruits_list)\n",
    "print(fruits)\n"
   ]
  },
  {
   "cell_type": "code",
   "execution_count": null,
   "metadata": {},
   "outputs": [],
   "source": []
  },
  {
   "cell_type": "code",
   "execution_count": null,
   "metadata": {},
   "outputs": [],
   "source": []
  }
 ],
 "metadata": {
  "colab": {
   "authorship_tag": "ABX9TyNvjjh/PRfNUVjK4TrRsJgk",
   "provenance": []
  },
  "kernelspec": {
   "display_name": "Python 3 (ipykernel)",
   "language": "python",
   "name": "python3"
  },
  "language_info": {
   "codemirror_mode": {
    "name": "ipython",
    "version": 3
   },
   "file_extension": ".py",
   "mimetype": "text/x-python",
   "name": "python",
   "nbconvert_exporter": "python",
   "pygments_lexer": "ipython3",
   "version": "3.12.7"
  }
 },
 "nbformat": 4,
 "nbformat_minor": 4
}
