{
 "cells": [
  {
   "cell_type": "markdown",
   "id": "e4692159-daa5-40cc-a037-9d8bfde6b0c5",
   "metadata": {},
   "source": [
    "# Branching (if, else and elif)\n",
    "What is if statement?\n",
    "It is a conditional statement which is used for decision making. 'if' is the keyword which starts the statement and then condition is actaully referred to an expression like a>b or c<10 etc.\n",
    "Please remember the indentation of if statement.\n",
    "\n",
    "What is else statement?\n",
    "Else statement is used in conjunction with if statement. In case the condition for if statement is false, else statement will be executed.\n",
    "\n",
    "What is elif statement?\n",
    "Elif is used for multiple conditions in one if-else statement. Example, if marks>80 then Grade A+, elif marks>60 then Grade A, else print(\"Pass\")"
   ]
  },
  {
   "cell_type": "code",
   "execution_count": 15,
   "id": "01afb330-6d7b-4c1d-a615-1dada503757b",
   "metadata": {},
   "outputs": [
    {
     "name": "stdout",
     "output_type": "stream",
     "text": [
      "Positive\n"
     ]
    }
   ],
   "source": [
    "# Let's see an example of if, elif and else\n",
    "a=int(2.2)\n",
    "if a>=0:\n",
    "    print(\"Positive\")\n",
    "else:\n",
    "    print(\"Negative\")"
   ]
  },
  {
   "cell_type": "code",
   "execution_count": 17,
   "id": "c680550d-f0b8-4895-b886-50d9e9d2eccd",
   "metadata": {},
   "outputs": [
    {
     "name": "stdout",
     "output_type": "stream",
     "text": [
      "Negative\n"
     ]
    }
   ],
   "source": [
    "a=int(-2)\n",
    "if a>=0:\n",
    "    print(\"Positive\")\n",
    "else:\n",
    "    print(\"Negative\")"
   ]
  },
  {
   "cell_type": "code",
   "execution_count": 21,
   "id": "25cb22bf-b3c3-4dc3-929c-3d12a28cf490",
   "metadata": {},
   "outputs": [
    {
     "name": "stdout",
     "output_type": "stream",
     "text": [
      "Positive\n"
     ]
    }
   ],
   "source": [
    "# We can write such simple if statement in other way\n",
    "a=90\n",
    "print(\"Positive\") if a>=0 else print(\"Negative\")"
   ]
  },
  {
   "cell_type": "code",
   "execution_count": 27,
   "id": "98737097-e6e9-452f-a5ea-31dcafc54302",
   "metadata": {},
   "outputs": [
    {
     "name": "stdout",
     "output_type": "stream",
     "text": [
      "You need to add 200 amount for free shipping\n"
     ]
    }
   ],
   "source": [
    "# Let's complicate the things a bit\n",
    "item1=100\n",
    "item2=200\n",
    "if (item1+item2)>=500:\n",
    "    print(\"Your item is eligible for free shipping.\")\n",
    "else:\n",
    "    extra=500-(item1+item2)\n",
    "    print(\"You need to add\",extra,\"amount for free shipping\")"
   ]
  },
  {
   "cell_type": "code",
   "execution_count": 31,
   "id": "20969eb0-d093-42cc-8251-49f4b6fff3d1",
   "metadata": {},
   "outputs": [
    {
     "name": "stdout",
     "output_type": "stream",
     "text": [
      "Both the conditions are false.\n"
     ]
    }
   ],
   "source": [
    "# Let's explore the same with \"AND\" method\n",
    "a=200\n",
    "b=500\n",
    "c=90\n",
    "if a>b and c<a:\n",
    "    print(\"Both the conditions are true.\")\n",
    "else:\n",
    "    print(\"Both the conditions are false.\")"
   ]
  },
  {
   "cell_type": "code",
   "execution_count": 35,
   "id": "f21fe978-433e-460b-b4dd-bd394c48d42d",
   "metadata": {},
   "outputs": [
    {
     "name": "stdout",
     "output_type": "stream",
     "text": [
      "Both the conditions are false.\n"
     ]
    }
   ],
   "source": [
    "# Let's see how the same code works with 'OR' method\n",
    "a=200\n",
    "b=500\n",
    "c=900\n",
    "if a>b or c<a:\n",
    "    print(\"At least one of the conditions are true.\")\n",
    "else:\n",
    "    print(\"Both the conditions are false.\")"
   ]
  },
  {
   "cell_type": "code",
   "execution_count": 39,
   "id": "975dea41-9ab5-4149-9fe9-cb1cc6149523",
   "metadata": {},
   "outputs": [
    {
     "name": "stdout",
     "output_type": "stream",
     "text": [
      "You have got: 70 and your grade: Distinction\n"
     ]
    }
   ],
   "source": [
    "# Let's check student marks and create a grade system\n",
    "marks=70\n",
    "if marks>=70:\n",
    "    print(\"You have got:\",marks,\"and your grade: Distinction\")\n",
    "elif marks>=60 and marks<=69:\n",
    "    print(\"You have got:\",marks,\"and your grade: First Class\")\n",
    "elif marks>=50 and marks<=59:\n",
    "    print(\"You have got:\",marks,\"and your grade: Second Class\")\n",
    "elif marks>=35 and marks<=49:\n",
    "    print(\"You have got:\",marks,\"and your grade: Third Class\")\n",
    "else:\n",
    "    Print(\"You have got:\",marks,\"only, better luck next time.\")"
   ]
  },
  {
   "cell_type": "code",
   "execution_count": 49,
   "id": "537b244f-8e5a-4c0b-860d-c74c03cbb9c6",
   "metadata": {},
   "outputs": [
    {
     "name": "stdout",
     "output_type": "stream",
     "text": [
      "40 is greater.\n"
     ]
    }
   ],
   "source": [
    "# Let's check another code with assignment operator '=='\n",
    "a=40\n",
    "b=30\n",
    "if a<b:\n",
    "    print(b,\"is greater.\")\n",
    "elif a==b:\n",
    "    print(a,\"is equal to\",b)\n",
    "else:\n",
    "    print(a,\"is greater.\")"
   ]
  },
  {
   "cell_type": "markdown",
   "id": "1b8dcd09-2925-4a66-a2c8-908383c8ca15",
   "metadata": {},
   "source": [
    "### input() fuction\n",
    "Using input() fuction we can ask user to input a value to check a certain condition."
   ]
  },
  {
   "cell_type": "code",
   "execution_count": 54,
   "id": "706acafb-6c7b-4d3a-8007-8fd6f9f4fd7e",
   "metadata": {},
   "outputs": [
    {
     "name": "stdin",
     "output_type": "stream",
     "text": [
      "Please enter your number: 89\n"
     ]
    },
    {
     "name": "stdout",
     "output_type": "stream",
     "text": [
      "You have got: 89 and your grade: Distinction\n"
     ]
    }
   ],
   "source": [
    "marks=int(input(\"Please enter your number:\"))\n",
    "if marks>=70:\n",
    "    print(\"You have got:\",marks,\"and your grade: Distinction\")\n",
    "elif marks>=60 and marks<=69:\n",
    "    print(\"You have got:\",marks,\"and your grade: First Class\")\n",
    "elif marks>=50 and marks<=59:\n",
    "    print(\"You have got:\",marks,\"and your grade: Second Class\")\n",
    "elif marks>=35 and marks<=49:\n",
    "    print(\"You have got:\",marks,\"and your grade: Third Class\")\n",
    "else:\n",
    "    Print(\"You have got:\",marks,\"only, better luck next time.\")"
   ]
  },
  {
   "cell_type": "markdown",
   "id": "f1f35073-7c3e-48a8-8465-e89cdf1ae46e",
   "metadata": {},
   "source": [
    "# range(), loops, break and continue statements\n",
    "1. What is range() function?\n",
    "It generates a sequence of number and it is commonly used for 'for' loops.\n",
    "\n",
    "2. What are loops?\n",
    "Loops in Python are control flow statements used to execute a block of code repeatedly.\n",
    "\n",
    "3. What is break statement?\n",
    "The break statement in Python is a control flow statement used to terminate the execution of a loop prematurely. When encountered within a for loop or a while loop, it immediately stops the loop's iteration and transfers the program's control to the statement directly following the loop.\n",
    "\n",
    "4. What is continue statement?\n",
    "The continue statement in Python is a loop control statement that alters the flow of execution within a loop. When encountered, the continue statement immediately terminates the current iteration of the loop and proceeds to the beginning of the next iteration. "
   ]
  },
  {
   "cell_type": "markdown",
   "id": "91161778-4306-44b2-a5ff-1b350c402ed9",
   "metadata": {},
   "source": [
    "### Range() function\n",
    "It generates a sequence of numbers. For example, range(10) generates numbers from 0 to 9.\n",
    "\n",
    "We can also specify:\n",
    "1. Starting number\n",
    "2. Stopping number\n",
    "3. Step size (This is a condition to jump to next number)\n",
    "\n",
    "Syntax: range(start,stop,step)"
   ]
  },
  {
   "cell_type": "code",
   "execution_count": 60,
   "id": "c24f8ea8-94e6-46ce-a40f-6207038bb1ff",
   "metadata": {},
   "outputs": [
    {
     "data": {
      "text/plain": [
       "range(10, 20, 2)"
      ]
     },
     "execution_count": 60,
     "metadata": {},
     "output_type": "execute_result"
    }
   ],
   "source": [
    "# Let's take an example\n",
    "range(10,20,2)  # staring value=10; stopping value=20 and step size=2.\n",
    "# It actually didn't display the correct range because we are not saving the value into a variable."
   ]
  },
  {
   "cell_type": "code",
   "execution_count": 64,
   "id": "c6291d87-9ce7-4a20-9a39-31349d8e235a",
   "metadata": {},
   "outputs": [
    {
     "name": "stdout",
     "output_type": "stream",
     "text": [
      "[10, 12, 14, 16, 18]\n"
     ]
    }
   ],
   "source": [
    "a=list(range(10,20,2))\n",
    "print(a)"
   ]
  },
  {
   "cell_type": "code",
   "execution_count": 66,
   "id": "f43426c4-4590-4b0d-a3c9-9154b06d3891",
   "metadata": {},
   "outputs": [
    {
     "name": "stdout",
     "output_type": "stream",
     "text": [
      "[1600, 1500, 1400, 1300, 1200, 1100, 1000, 900, 800, 700, 600, 500, 400, 300, 200, 100]\n"
     ]
    }
   ],
   "source": [
    "# Let's check the reverse function\n",
    "a=list(range(1600,99,-100))\n",
    "print(a)"
   ]
  },
  {
   "cell_type": "markdown",
   "id": "5f802c89-0a41-4713-9819-18b6a4b2cdcc",
   "metadata": {},
   "source": [
    "### Loops\n",
    "Loops used in a code for repeating of a set of statement. There are two loops:\n",
    "1. For loop\n",
    "2. While loop\n",
    "\n",
    "For Loop: is used to iterate through a sequence such as list, tuple or string which are generally called as 'iterable'. Loop continue until the last item of the sequence.\n",
    "\n",
    "While Loop: is a control flow statement that repeatedly executes a block of code as long as a specified condition remains true. The loop continues to iterate, executing the code block, until the condition evaluates to false."
   ]
  },
  {
   "cell_type": "code",
   "execution_count": 73,
   "id": "9d3e85f4-bafe-4f04-abc8-3861313b078c",
   "metadata": {},
   "outputs": [
    {
     "name": "stdout",
     "output_type": "stream",
     "text": [
      "0\n",
      "1\n",
      "2\n",
      "3\n",
      "4\n",
      "5\n",
      "6\n",
      "7\n",
      "8\n",
      "9\n"
     ]
    }
   ],
   "source": [
    "for i in range(10):\n",
    "    print(i)"
   ]
  },
  {
   "cell_type": "code",
   "execution_count": 77,
   "id": "607640b0-f8ea-49b5-85af-799967f4a3a4",
   "metadata": {},
   "outputs": [
    {
     "name": "stdout",
     "output_type": "stream",
     "text": [
      "apple\n",
      "banana\n",
      "cherry\n"
     ]
    }
   ],
   "source": [
    "# Using for loop to iterate over a list\n",
    "fruits=['apple','banana','cherry']    # apple, banana and cherry are called 'elements' here.\n",
    "for fruit in fruits:\n",
    "    print(fruit)"
   ]
  },
  {
   "cell_type": "code",
   "execution_count": null,
   "id": "922316f2-8be7-4e54-90f9-923a07104423",
   "metadata": {},
   "outputs": [],
   "source": []
  }
 ],
 "metadata": {
  "kernelspec": {
   "display_name": "Python [conda env:base] *",
   "language": "python",
   "name": "conda-base-py"
  },
  "language_info": {
   "codemirror_mode": {
    "name": "ipython",
    "version": 3
   },
   "file_extension": ".py",
   "mimetype": "text/x-python",
   "name": "python",
   "nbconvert_exporter": "python",
   "pygments_lexer": "ipython3",
   "version": "3.12.7"
  }
 },
 "nbformat": 4,
 "nbformat_minor": 5
}
