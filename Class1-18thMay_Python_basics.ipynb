{
 "cells": [
  {
   "cell_type": "markdown",
   "id": "4c4077ff-9ca9-4913-883b-ffc6524560ec",
   "metadata": {},
   "source": [
    "# Python\n",
    "\n",
    "Python is a high level language, it runs on C++ and hence C++ is a low level language. It is easy to understand and beginner friendly language.\n",
    "\n",
    "## Keyword\n",
    "Keywords are special or reserved words which are recognized with some meaning. They usually turn into GREEN color in jupytar notebook."
   ]
  },
  {
   "cell_type": "code",
   "execution_count": 3,
   "id": "9c504085-8cb7-4ea4-bb50-d718b588bf43",
   "metadata": {},
   "outputs": [
    {
     "name": "stdout",
     "output_type": "stream",
     "text": [
      "['False', 'None', 'True', 'and', 'as', 'assert', 'async', 'await', 'break', 'class', 'continue', 'def', 'del', 'elif', 'else', 'except', 'finally', 'for', 'from', 'global', 'if', 'import', 'in', 'is', 'lambda', 'nonlocal', 'not', 'or', 'pass', 'raise', 'return', 'try', 'while', 'with', 'yield']\n"
     ]
    }
   ],
   "source": [
    "import keyword\n",
    "print(keyword.kwlist)"
   ]
  },
  {
   "cell_type": "markdown",
   "id": "17e3f052-c64c-4c8a-8884-34c4cf989dd6",
   "metadata": {},
   "source": [
    "## IDE\n",
    "An IDE, or Integrated Development Environment, is a software application that provides a comprehensive platform for software development, combining various tools into a single interface. Example, Jupytar Notebook, VisualStudio, Eclipse etc.."
   ]
  },
  {
   "cell_type": "markdown",
   "id": "15f8e1ce-5637-4c89-beed-77e6efb6b98e",
   "metadata": {},
   "source": [
    "### Important Notes\n",
    "1. In python everything is case sensitive.\n",
    "2. By # before any line we can comment out on what the code does.\n",
    "3. Commenting is very important while writing code because it outlines what we are doing in the code.\n",
    "4. /* TEXT */ can be used for multiline comments.\n",
    "5. \\n is used to get the output in a new line.\n",
    "6. Press shift enter or run play button to execute the code in Jupyter notebook.\n",
    "7. Code is executed from the first line to the next line sequentially."
   ]
  },
  {
   "cell_type": "markdown",
   "id": "6d5a3af3-f2c0-4b8a-b5ec-374a9ab71bec",
   "metadata": {},
   "source": [
    "## Expressions\n",
    "1. Boolean: it is an expressions created using the keywords and, or, not and the boolean values True, False.\n",
    "2. True=1 and False=0 in boolean, please see below examples"
   ]
  },
  {
   "cell_type": "code",
   "execution_count": 16,
   "id": "8721e199-093a-4306-b389-2ccdc6ca92d0",
   "metadata": {},
   "outputs": [
    {
     "data": {
      "text/plain": [
       "False"
      ]
     },
     "execution_count": 16,
     "metadata": {},
     "output_type": "execute_result"
    }
   ],
   "source": [
    "True and False"
   ]
  },
  {
   "cell_type": "code",
   "execution_count": 19,
   "id": "8b45df62-a5b0-47fd-92e5-767de58d2e94",
   "metadata": {},
   "outputs": [
    {
     "data": {
      "text/plain": [
       "True"
      ]
     },
     "execution_count": 19,
     "metadata": {},
     "output_type": "execute_result"
    }
   ],
   "source": [
    "True or False"
   ]
  },
  {
   "cell_type": "code",
   "execution_count": 21,
   "id": "ff514ee8-a7fa-4d56-8a56-7130b1dcece2",
   "metadata": {},
   "outputs": [
    {
     "data": {
      "text/plain": [
       "True"
      ]
     },
     "execution_count": 21,
     "metadata": {},
     "output_type": "execute_result"
    }
   ],
   "source": [
    "True and True"
   ]
  },
  {
   "cell_type": "code",
   "execution_count": 23,
   "id": "e8737f77-693c-4c67-87f9-f37e790c79a8",
   "metadata": {},
   "outputs": [
    {
     "data": {
      "text/plain": [
       "True"
      ]
     },
     "execution_count": 23,
     "metadata": {},
     "output_type": "execute_result"
    }
   ],
   "source": [
    "False or True"
   ]
  },
  {
   "cell_type": "code",
   "execution_count": 25,
   "id": "e6b3236d-f3cb-4771-8b7b-7fec77bc3cae",
   "metadata": {},
   "outputs": [
    {
     "data": {
      "text/plain": [
       "False"
      ]
     },
     "execution_count": 25,
     "metadata": {},
     "output_type": "execute_result"
    }
   ],
   "source": [
    "False and False"
   ]
  },
  {
   "cell_type": "code",
   "execution_count": 44,
   "id": "cbb4c8c4-5660-4846-a417-67423e5fc90a",
   "metadata": {},
   "outputs": [
    {
     "data": {
      "text/plain": [
       "True"
      ]
     },
     "execution_count": 44,
     "metadata": {},
     "output_type": "execute_result"
    }
   ],
   "source": [
    "# is checks a condition\n",
    "True is True"
   ]
  },
  {
   "cell_type": "code",
   "execution_count": 29,
   "id": "0934047b-5bcc-43ff-a361-76142fbf34c0",
   "metadata": {},
   "outputs": [
    {
     "data": {
      "text/plain": [
       "False"
      ]
     },
     "execution_count": 29,
     "metadata": {},
     "output_type": "execute_result"
    }
   ],
   "source": [
    "False is True"
   ]
  },
  {
   "cell_type": "code",
   "execution_count": 34,
   "id": "314af879-9631-4db4-b0dc-e2319dc8db2b",
   "metadata": {},
   "outputs": [
    {
     "data": {
      "text/plain": [
       "False"
      ]
     },
     "execution_count": 34,
     "metadata": {},
     "output_type": "execute_result"
    }
   ],
   "source": [
    "not True"
   ]
  },
  {
   "cell_type": "code",
   "execution_count": 36,
   "id": "0d51f9ee-372f-4b8c-9488-453267652eb7",
   "metadata": {},
   "outputs": [
    {
     "data": {
      "text/plain": [
       "True"
      ]
     },
     "execution_count": 36,
     "metadata": {},
     "output_type": "execute_result"
    }
   ],
   "source": [
    "not False"
   ]
  },
  {
   "cell_type": "code",
   "execution_count": 42,
   "id": "add4ddb0-7fd4-4d3e-9af6-8d4f2344138d",
   "metadata": {},
   "outputs": [
    {
     "name": "stderr",
     "output_type": "stream",
     "text": [
      "<>:1: SyntaxWarning: \"is\" with 'str' literal. Did you mean \"==\"?\n",
      "<>:1: SyntaxWarning: \"is\" with 'str' literal. Did you mean \"==\"?\n",
      "C:\\Users\\DEBU\\AppData\\Local\\Temp\\ipykernel_26844\\4173413985.py:1: SyntaxWarning: \"is\" with 'str' literal. Did you mean \"==\"?\n",
      "  'a' is 'b'\n"
     ]
    },
    {
     "data": {
      "text/plain": [
       "False"
      ]
     },
     "execution_count": 42,
     "metadata": {},
     "output_type": "execute_result"
    }
   ],
   "source": [
    "'a' is 'b'"
   ]
  },
  {
   "cell_type": "code",
   "execution_count": 46,
   "id": "50b6512a-6959-461e-8ae3-3f27ca58984e",
   "metadata": {},
   "outputs": [
    {
     "data": {
      "text/plain": [
       "2"
      ]
     },
     "execution_count": 46,
     "metadata": {},
     "output_type": "execute_result"
    }
   ],
   "source": [
    "True + True"
   ]
  },
  {
   "cell_type": "code",
   "execution_count": 48,
   "id": "23cc688e-51e2-46c5-92f4-a9d722364d13",
   "metadata": {},
   "outputs": [
    {
     "data": {
      "text/plain": [
       "1"
      ]
     },
     "execution_count": 48,
     "metadata": {},
     "output_type": "execute_result"
    }
   ],
   "source": [
    "True + False"
   ]
  },
  {
   "cell_type": "code",
   "execution_count": 50,
   "id": "698b61d4-9f49-461b-9604-630dc35740d1",
   "metadata": {},
   "outputs": [
    {
     "data": {
      "text/plain": [
       "-1"
      ]
     },
     "execution_count": 50,
     "metadata": {},
     "output_type": "execute_result"
    }
   ],
   "source": [
    "False - True"
   ]
  },
  {
   "cell_type": "code",
   "execution_count": 52,
   "id": "2fed9dfa-d0af-467f-97ea-6268a6f09f5b",
   "metadata": {},
   "outputs": [
    {
     "data": {
      "text/plain": [
       "0"
      ]
     },
     "execution_count": 52,
     "metadata": {},
     "output_type": "execute_result"
    }
   ],
   "source": [
    "True - True"
   ]
  },
  {
   "cell_type": "code",
   "execution_count": 60,
   "id": "841c335d-5e01-4663-be02-109fae87966f",
   "metadata": {},
   "outputs": [
    {
     "data": {
      "text/plain": [
       "True"
      ]
     },
     "execution_count": 60,
     "metadata": {},
     "output_type": "execute_result"
    }
   ],
   "source": [
    "True and True or False"
   ]
  },
  {
   "cell_type": "code",
   "execution_count": 62,
   "id": "94bc82a3-9fb3-477a-a9e0-966e6a1edd8e",
   "metadata": {},
   "outputs": [
    {
     "data": {
      "text/plain": [
       "True"
      ]
     },
     "execution_count": 62,
     "metadata": {},
     "output_type": "execute_result"
    }
   ],
   "source": [
    "True or False and True"
   ]
  },
  {
   "cell_type": "markdown",
   "id": "9c0cff20-d757-4ae8-8143-a3a47532639c",
   "metadata": {},
   "source": [
    "### Important notes:\n",
    "'is' keyword is equivalent to the assignment operator '==' which actually checks or evaluate the values of the components."
   ]
  },
  {
   "cell_type": "code",
   "execution_count": 54,
   "id": "4dddc3d1-110d-4aeb-adf4-8cba1c7f4231",
   "metadata": {},
   "outputs": [
    {
     "data": {
      "text/plain": [
       "False"
      ]
     },
     "execution_count": 54,
     "metadata": {},
     "output_type": "execute_result"
    }
   ],
   "source": [
    "10==9"
   ]
  },
  {
   "cell_type": "code",
   "execution_count": 56,
   "id": "5bc9d35f-df74-4767-aa70-f4ebdd041b6c",
   "metadata": {},
   "outputs": [
    {
     "data": {
      "text/plain": [
       "True"
      ]
     },
     "execution_count": 56,
     "metadata": {},
     "output_type": "execute_result"
    }
   ],
   "source": [
    "10==10"
   ]
  },
  {
   "cell_type": "code",
   "execution_count": 58,
   "id": "70d0bfc6-3c79-4774-be34-e86662c4087f",
   "metadata": {},
   "outputs": [
    {
     "name": "stderr",
     "output_type": "stream",
     "text": [
      "<>:1: SyntaxWarning: \"is\" with 'int' literal. Did you mean \"==\"?\n",
      "<>:1: SyntaxWarning: \"is\" with 'int' literal. Did you mean \"==\"?\n",
      "C:\\Users\\DEBU\\AppData\\Local\\Temp\\ipykernel_26844\\3938569512.py:1: SyntaxWarning: \"is\" with 'int' literal. Did you mean \"==\"?\n",
      "  10 is 10\n"
     ]
    },
    {
     "data": {
      "text/plain": [
       "True"
      ]
     },
     "execution_count": 58,
     "metadata": {},
     "output_type": "execute_result"
    }
   ],
   "source": [
    "10 is 10"
   ]
  },
  {
   "cell_type": "markdown",
   "id": "30961e9c-9eec-4410-a562-a3634a70a68c",
   "metadata": {},
   "source": [
    "## Data Types\n",
    "What is data type?\n",
    "In Python, a data type defines the kind of value a variable can hold and determines the operations that can be performed on it. Unlike some other programming languages, Python is dynamically typed, meaning you don't explicitly declare the data type of a variable; Python infers it based on the value assigned.\n",
    "1. Numbers/Integers\n",
    "2. Float\n",
    "3. String\n",
    "4. Boolean\n",
    "5. Complex number"
   ]
  },
  {
   "cell_type": "code",
   "execution_count": 67,
   "id": "08751d8f-2d86-47f9-a991-51428f9a7d1f",
   "metadata": {},
   "outputs": [],
   "source": [
    "x=20\n",
    "# Here 'x' is a variable and 20 is it's value or data. We are actually storing 20 in a variable called 'x'."
   ]
  },
  {
   "cell_type": "code",
   "execution_count": 69,
   "id": "975308d5-4f4e-4f8b-a1d2-82eee467b352",
   "metadata": {},
   "outputs": [
    {
     "name": "stdout",
     "output_type": "stream",
     "text": [
      "20\n"
     ]
    }
   ],
   "source": [
    "print(x)"
   ]
  },
  {
   "cell_type": "code",
   "execution_count": 71,
   "id": "f6bdd460-032c-4171-a127-3e33157e9ffe",
   "metadata": {},
   "outputs": [
    {
     "data": {
      "text/plain": [
       "int"
      ]
     },
     "execution_count": 71,
     "metadata": {},
     "output_type": "execute_result"
    }
   ],
   "source": [
    "# How to check data type\n",
    "type(x)"
   ]
  },
  {
   "cell_type": "code",
   "execution_count": 73,
   "id": "5573ffa0-76f2-4db2-aed8-e074acb0fd83",
   "metadata": {},
   "outputs": [
    {
     "data": {
      "text/plain": [
       "str"
      ]
     },
     "execution_count": 73,
     "metadata": {},
     "output_type": "execute_result"
    }
   ],
   "source": [
    "y=\"abc\"\n",
    "type(y)"
   ]
  },
  {
   "cell_type": "code",
   "execution_count": 75,
   "id": "2246e2ba-d088-447b-aada-fadae85950fd",
   "metadata": {},
   "outputs": [
    {
     "data": {
      "text/plain": [
       "float"
      ]
     },
     "execution_count": 75,
     "metadata": {},
     "output_type": "execute_result"
    }
   ],
   "source": [
    "z=12.3\n",
    "type(z)"
   ]
  },
  {
   "cell_type": "code",
   "execution_count": 77,
   "id": "bceba6a1-5d4b-4590-a298-6a8025949aba",
   "metadata": {},
   "outputs": [
    {
     "data": {
      "text/plain": [
       "bool"
      ]
     },
     "execution_count": 77,
     "metadata": {},
     "output_type": "execute_result"
    }
   ],
   "source": [
    "c=True\n",
    "type(c)"
   ]
  },
  {
   "cell_type": "code",
   "execution_count": 82,
   "id": "1ccfde65-bba9-405d-a85f-46d873a753b5",
   "metadata": {},
   "outputs": [
    {
     "name": "stdout",
     "output_type": "stream",
     "text": [
      "4\n"
     ]
    }
   ],
   "source": [
    "# We can perform small mathematical operations also\n",
    "x=2+2\n",
    "print(x)"
   ]
  },
  {
   "cell_type": "code",
   "execution_count": 84,
   "id": "c9f758b6-ea91-434d-bb1c-e74eedcab4ea",
   "metadata": {},
   "outputs": [
    {
     "name": "stdout",
     "output_type": "stream",
     "text": [
      "17.0\n"
     ]
    }
   ],
   "source": [
    "y=34/2\n",
    "print(y)"
   ]
  },
  {
   "cell_type": "code",
   "execution_count": 86,
   "id": "6b019c90-a3c3-4220-a80a-6c5799f01846",
   "metadata": {},
   "outputs": [
    {
     "name": "stdout",
     "output_type": "stream",
     "text": [
      "66\n"
     ]
    }
   ],
   "source": [
    "a=22\n",
    "b=44\n",
    "c=a+b\n",
    "print(c)"
   ]
  },
  {
   "cell_type": "markdown",
   "id": "19f241cb-2d88-495e-bf84-cb47e46a8f2d",
   "metadata": {},
   "source": [
    "### Important Notes\n",
    "1. '+' is used for addition as usual\n",
    "2. '-' is used for subtraction\n",
    "3. '*\" is used for multiplication\n",
    "4. '/' is used for division\n",
    "5. '==' is used for checking the value\n",
    "6. '**' is used for square (a**2= a square, a**3= a qube)\n",
    "7. '%' is used for calculate the remainder while performing a division between two numbers\n",
    "8. '&' can also be used for logical AND operations\n",
    "   "
   ]
  },
  {
   "cell_type": "code",
   "execution_count": 89,
   "id": "40c3d02a-2d2a-4e8d-ae8c-eb756bb2e7ed",
   "metadata": {},
   "outputs": [
    {
     "name": "stdout",
     "output_type": "stream",
     "text": [
      "16\n"
     ]
    }
   ],
   "source": [
    "a=4\n",
    "x=a**2\n",
    "print(x)"
   ]
  },
  {
   "cell_type": "code",
   "execution_count": 91,
   "id": "f07cbbb2-496e-4c74-b0d0-8bba23c3e2c9",
   "metadata": {},
   "outputs": [
    {
     "name": "stdout",
     "output_type": "stream",
     "text": [
      "64\n"
     ]
    }
   ],
   "source": [
    "x=a**3\n",
    "print(x)"
   ]
  },
  {
   "cell_type": "code",
   "execution_count": null,
   "id": "045acebb-7b20-4911-98a6-f3d1fbbb5d62",
   "metadata": {},
   "outputs": [],
   "source": []
  }
 ],
 "metadata": {
  "kernelspec": {
   "display_name": "Python [conda env:base] *",
   "language": "python",
   "name": "conda-base-py"
  },
  "language_info": {
   "codemirror_mode": {
    "name": "ipython",
    "version": 3
   },
   "file_extension": ".py",
   "mimetype": "text/x-python",
   "name": "python",
   "nbconvert_exporter": "python",
   "pygments_lexer": "ipython3",
   "version": "3.12.7"
  }
 },
 "nbformat": 4,
 "nbformat_minor": 5
}
