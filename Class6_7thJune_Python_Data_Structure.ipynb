{
 "cells": [
  {
   "cell_type": "markdown",
   "id": "8aa2a0d4-85ed-4520-ba1f-a21de5eaf672",
   "metadata": {},
   "source": [
    "### Dictionary (continued...)"
   ]
  },
  {
   "cell_type": "code",
   "execution_count": 3,
   "id": "8e28bc23-c1d0-453d-a68f-418c0035d9a2",
   "metadata": {},
   "outputs": [
    {
     "name": "stdout",
     "output_type": "stream",
     "text": [
      "Debu\n"
     ]
    }
   ],
   "source": [
    "# Accessing a value using a key with square bracket\n",
    "my_dict={'Name':'Debu','Age':40,'Course':'Data Science'}\n",
    "print(my_dict['Name'])"
   ]
  },
  {
   "cell_type": "code",
   "execution_count": 5,
   "id": "194bd376-2002-4312-8655-c32bedf920c4",
   "metadata": {},
   "outputs": [
    {
     "name": "stdout",
     "output_type": "stream",
     "text": [
      "40\n"
     ]
    }
   ],
   "source": [
    "# Accessing a value using get() method\n",
    "print(my_dict.get('Age'))"
   ]
  },
  {
   "cell_type": "code",
   "execution_count": 7,
   "id": "bf8d6cb9-a700-4b7b-9a0a-da48691e8c56",
   "metadata": {},
   "outputs": [
    {
     "name": "stdout",
     "output_type": "stream",
     "text": [
      "dict_keys(['Name', 'Age', 'Course'])\n",
      "dict_values(['Debu', 40, 'Data Science'])\n"
     ]
    }
   ],
   "source": [
    "# Accessing all keys and values seperately\n",
    "keys=my_dict.keys()\n",
    "values=my_dict.values()\n",
    "print(keys)\n",
    "print(values)"
   ]
  },
  {
   "cell_type": "markdown",
   "id": "21faf7fb-fd1a-48b0-a46f-200d6f237853",
   "metadata": {},
   "source": [
    "#### Important notes\n",
    "When we use indexing [] is used and when we use a method or function () is used. Please see below example\n",
    "\n",
    "print(my_dict['Name']) - it is using indexing\n",
    "\n",
    "keys=my_dict.keys() - here ware using keys() method or funcion"
   ]
  },
  {
   "cell_type": "markdown",
   "id": "c6d9b7b3-f6cd-4986-8d5b-9567ab48542d",
   "metadata": {},
   "source": [
    "### Dictionary - Change method\n",
    "Using change method we can replace a value of a key."
   ]
  },
  {
   "cell_type": "code",
   "execution_count": 13,
   "id": "6fcd071e-6c24-457d-8b23-e74fb015959e",
   "metadata": {},
   "outputs": [
    {
     "name": "stdout",
     "output_type": "stream",
     "text": [
      "{'Name': 'Debu', 'Age': 45, 'Course': 'Data Science'}\n"
     ]
    }
   ],
   "source": [
    "my_dict['Age']=45\n",
    "print(my_dict)"
   ]
  },
  {
   "cell_type": "code",
   "execution_count": 19,
   "id": "eccc02b0-4174-4f19-bfd6-4926cae68e32",
   "metadata": {},
   "outputs": [
    {
     "name": "stdout",
     "output_type": "stream",
     "text": [
      "{'Name': 'Ansika', 'Age': 45, 'Course': 'Machine Learning'}\n"
     ]
    }
   ],
   "source": [
    "# Use update() method while updating multiple values\n",
    "my_dict.update({'Name':'Ansika','Course':'Machine Learning'})\n",
    "print(my_dict)"
   ]
  },
  {
   "cell_type": "code",
   "execution_count": 21,
   "id": "87e8747c-002e-48f2-ae30-a3c125c1d541",
   "metadata": {},
   "outputs": [
    {
     "name": "stdout",
     "output_type": "stream",
     "text": [
      "{'Name': 'Ansika', 'Age': 35, 'Course': 'Machine Learning'}\n"
     ]
    }
   ],
   "source": [
    "# Using update method to change a value\n",
    "my_dict.update({'Age':35})\n",
    "print(my_dict)"
   ]
  },
  {
   "cell_type": "markdown",
   "id": "17bcd94a-3fd0-4bd0-a949-65667a980650",
   "metadata": {},
   "source": [
    "### Adding a new key-value pair into Dictionary\n",
    "This can be achieved by assigning a value to a new key"
   ]
  },
  {
   "cell_type": "code",
   "execution_count": 25,
   "id": "4de8df81-0fef-4eed-876b-9a59684b4e7c",
   "metadata": {},
   "outputs": [
    {
     "name": "stdout",
     "output_type": "stream",
     "text": [
      "{'Name': 'Ansika', 'Age': 35, 'Course': 'Machine Learning', 'Grade': 'A'}\n"
     ]
    }
   ],
   "source": [
    "my_dict['Grade']='A'\n",
    "print(my_dict)"
   ]
  },
  {
   "cell_type": "code",
   "execution_count": 29,
   "id": "306ca81d-5852-4d34-ab9d-1ddba031d482",
   "metadata": {},
   "outputs": [
    {
     "name": "stdout",
     "output_type": "stream",
     "text": [
      "{'Name': 'Ansika', 'Age': 35, 'Course': 'Machine Learning', 'Grade': 'A', 'Gender': 'Female', 'Passed': True}\n"
     ]
    }
   ],
   "source": [
    "# Updating multiple key-value pair using update() method\n",
    "my_dict.update({'Gender':'Female','Passed':True})\n",
    "print(my_dict)"
   ]
  },
  {
   "cell_type": "code",
   "execution_count": 31,
   "id": "a1941e4e-8865-4319-b6b2-2ef55b5e13ef",
   "metadata": {},
   "outputs": [
    {
     "name": "stdout",
     "output_type": "stream",
     "text": [
      "{'Name': 'Ansika', 'Age': 35, 'Course': 'Machine Learning', 'Grade': 'A', 'Gender': 'Female', 'Passed': True, 'Address': {'City': 'Kolkata', 'Zipcode': 700100}}\n"
     ]
    }
   ],
   "source": [
    "# Adding a nested dictionary as a value\n",
    "my_dict['Address']={'City':'Kolkata','Zipcode':700100}\n",
    "print(my_dict)"
   ]
  },
  {
   "cell_type": "markdown",
   "id": "b9c88eed-4531-44a3-8689-b4d2846bf89f",
   "metadata": {},
   "source": [
    "### Important note\n",
    "Use single or double quote while assigning a value to a key like 'A' for Grade key. We can also use a variable instead of a static value, in that case only variable name will be used without an quotes. Let's see how it works:"
   ]
  },
  {
   "cell_type": "code",
   "execution_count": 34,
   "id": "dc62dfdc-d92e-4293-bd28-507f21536661",
   "metadata": {},
   "outputs": [
    {
     "name": "stdout",
     "output_type": "stream",
     "text": [
      "{'Name': 'Ansika', 'Age': 35, 'Course': 'Machine Learning', 'Grade': 'A', 'Gender': 'Female', 'Passed': True, 'Address': {'City': 'Kolkata', 'Zipcode': 700100}, 'Passing Grade': 'B'}\n"
     ]
    }
   ],
   "source": [
    "mygrade='B'\n",
    "my_dict.update({'Passing Grade':mygrade})\n",
    "print(my_dict)"
   ]
  },
  {
   "cell_type": "markdown",
   "id": "0e765a0d-e224-4679-95fe-d5f1e377359d",
   "metadata": {},
   "source": [
    "### Dictionary - removing an item using pop()\n",
    "There are 3 ways to remove an item from dictionary\n",
    "1. pop()\n",
    "2. del keyword\n",
    "3. popitem()"
   ]
  },
  {
   "cell_type": "code",
   "execution_count": 37,
   "id": "2f9d70a7-6cf2-482f-8bc8-a143907ad1ea",
   "metadata": {},
   "outputs": [
    {
     "name": "stdout",
     "output_type": "stream",
     "text": [
      "{'Name': 'Ansika', 'Course': 'Machine Learning', 'Grade': 'A', 'Gender': 'Female', 'Passed': True, 'Address': {'City': 'Kolkata', 'Zipcode': 700100}, 'Passing Grade': 'B'}\n"
     ]
    }
   ],
   "source": [
    "# Remove using pop()\n",
    "my_dict.pop('Age')\n",
    "print(my_dict)"
   ]
  },
  {
   "cell_type": "code",
   "execution_count": 39,
   "id": "327c3ea5-84a7-477d-8db4-9650ac9234a3",
   "metadata": {},
   "outputs": [
    {
     "name": "stdout",
     "output_type": "stream",
     "text": [
      "{'Name': 'Ansika', 'Course': 'Machine Learning', 'Gender': 'Female', 'Passed': True, 'Address': {'City': 'Kolkata', 'Zipcode': 700100}, 'Passing Grade': 'B'}\n"
     ]
    }
   ],
   "source": [
    "# Remove using the del keyword\n",
    "del my_dict['Grade']\n",
    "print(my_dict)"
   ]
  },
  {
   "cell_type": "code",
   "execution_count": 41,
   "id": "84e8c2b3-f82b-4f39-b45d-c5c9ccecc9a9",
   "metadata": {},
   "outputs": [
    {
     "name": "stdout",
     "output_type": "stream",
     "text": [
      "{'Name': 'Ansika', 'Course': 'Machine Learning', 'Gender': 'Female', 'Passed': True, 'Address': {'City': 'Kolkata', 'Zipcode': 700100}}\n"
     ]
    }
   ],
   "source": [
    "# Remove the last inserted item using popitem()\n",
    "my_dict.popitem()\n",
    "print(my_dict)"
   ]
  },
  {
   "cell_type": "markdown",
   "id": "04c65bf2-0541-4ed8-8179-a72cb8d28367",
   "metadata": {},
   "source": [
    "### Dictionary - copy() method\n",
    "Copy dictionary means creating a new dictionary with same key-value pairs as the original and this can be achieved by either copy() method or dict() constructor"
   ]
  },
  {
   "cell_type": "code",
   "execution_count": 48,
   "id": "072c41da-1b45-42aa-9293-b96b4792e05a",
   "metadata": {},
   "outputs": [
    {
     "name": "stdout",
     "output_type": "stream",
     "text": [
      "1903363740352\n",
      "1903363744320\n"
     ]
    }
   ],
   "source": [
    "# Copy using copy()\n",
    "student={'Name':'Debu','Age':40,'Gender':'Male','Subject':'ML'}\n",
    "print(id(student))\n",
    "student_cp=student.copy()   # Saving into a variable student_cp\n",
    "print(id(student_cp))\n",
    "# We need to save into a new variable after copying."
   ]
  },
  {
   "cell_type": "code",
   "execution_count": 57,
   "id": "3eeb7043-0d2d-4bf5-9cbc-1684350bed32",
   "metadata": {},
   "outputs": [
    {
     "name": "stdout",
     "output_type": "stream",
     "text": [
      "{'Name': 'Debu', 'Age': 40, 'Gender': 'Male', 'Subject': 'ML'}\n"
     ]
    }
   ],
   "source": [
    "# Copy using dict()\n",
    "student_copy=dict(student)   # here it is similar as converting to a dictionary\n",
    "print(student_copy)"
   ]
  },
  {
   "cell_type": "markdown",
   "id": "a6483526-26ff-4946-8886-05fcd439bef2",
   "metadata": {},
   "source": [
    "#### Shallow vs Deep copy"
   ]
  },
  {
   "cell_type": "code",
   "execution_count": 63,
   "id": "bb0a3d4e-1020-4459-b9b5-70c877489fa8",
   "metadata": {},
   "outputs": [
    {
     "name": "stdout",
     "output_type": "stream",
     "text": [
      "{'a': {'b': 1}}\n",
      "1903365225664\n",
      "{'a': {'b': 1}}\n",
      "1903365065920\n"
     ]
    }
   ],
   "source": [
    "import copy\n",
    "nested_dict={'a':{'b':1}}\n",
    "shallow_copy=nested_dict.copy()        # Changes after copy will reflect in nested_copy variable.\n",
    "deep_copy=copy.deepcopy(nested_dict)   # Changes after copy will not reflect in nested_copy variable.\n",
    "print(shallow_copy)\n",
    "print(id(shallow_copy))\n",
    "print(deep_copy)\n",
    "print(id(deep_copy))"
   ]
  },
  {
   "cell_type": "code",
   "execution_count": 65,
   "id": "798a3ed1-f9c2-4e7f-89be-33fd85629f1c",
   "metadata": {},
   "outputs": [
    {
     "name": "stdout",
     "output_type": "stream",
     "text": [
      "{'a': {'b': 20}}\n",
      "1903365239744\n",
      "{'a': {'b': 1}}\n",
      "1903365265216\n"
     ]
    }
   ],
   "source": [
    "# Check by changing the value of a key\n",
    "import copy\n",
    "nested_dict={'a':{'b':1}}\n",
    "shallow_copy=nested_dict.copy()\n",
    "deep_copy=copy.deepcopy(nested_dict)\n",
    "nested_dict['a']['b']=20\n",
    "print(shallow_copy)        # it reflects\n",
    "print(id(shallow_copy))     \n",
    "print(deep_copy)           # it doesn't reflect\n",
    "print(id(deep_copy))"
   ]
  },
  {
   "cell_type": "markdown",
   "id": "dff74c59-d4b7-4aaa-9e50-1352a94a9895",
   "metadata": {},
   "source": [
    "### Dictionary - other built-in methods"
   ]
  },
  {
   "cell_type": "code",
   "execution_count": 68,
   "id": "0e7b0c6c-8ba1-4779-84e4-0a2772405a48",
   "metadata": {},
   "outputs": [
    {
     "name": "stdout",
     "output_type": "stream",
     "text": [
      "{}\n"
     ]
    }
   ],
   "source": [
    "# Using clear() t0 empty a disctionary\n",
    "student={'Name':'Debu','Age':40,'Gender':'Male','Subject':'ML'}\n",
    "student.clear()\n",
    "print(student)"
   ]
  },
  {
   "cell_type": "code",
   "execution_count": 72,
   "id": "0a43736e-4525-4dfd-8d7f-35dc44890e8e",
   "metadata": {},
   "outputs": [
    {
     "name": "stdout",
     "output_type": "stream",
     "text": [
      "dict_keys(['Name', 'Age', 'Gender', 'Subject'])\n"
     ]
    }
   ],
   "source": [
    "# Using keys() to get all the keys\n",
    "student={'Name':'Debu','Age':40,'Gender':'Male','Subject':'ML'}\n",
    "print(student.keys())"
   ]
  },
  {
   "cell_type": "code",
   "execution_count": 74,
   "id": "71d3aab1-a28f-4110-827e-b0dc182801d4",
   "metadata": {},
   "outputs": [
    {
     "name": "stdout",
     "output_type": "stream",
     "text": [
      "dict_values(['Debu', 40, 'Male', 'ML'])\n"
     ]
    }
   ],
   "source": [
    "# Using values() to get all the values\n",
    "print(student.values())"
   ]
  },
  {
   "cell_type": "code",
   "execution_count": 76,
   "id": "ec930a56-1022-4a03-93a4-b1d3aabab3af",
   "metadata": {},
   "outputs": [
    {
     "name": "stdout",
     "output_type": "stream",
     "text": [
      "dict_items([('Name', 'Debu'), ('Age', 40), ('Gender', 'Male'), ('Subject', 'ML')])\n"
     ]
    }
   ],
   "source": [
    "# Using items() to get all the key-pair values\n",
    "print(student.items())"
   ]
  }
 ],
 "metadata": {
  "kernelspec": {
   "display_name": "Python [conda env:base] *",
   "language": "python",
   "name": "conda-base-py"
  },
  "language_info": {
   "codemirror_mode": {
    "name": "ipython",
    "version": 3
   },
   "file_extension": ".py",
   "mimetype": "text/x-python",
   "name": "python",
   "nbconvert_exporter": "python",
   "pygments_lexer": "ipython3",
   "version": "3.12.7"
  }
 },
 "nbformat": 4,
 "nbformat_minor": 5
}
