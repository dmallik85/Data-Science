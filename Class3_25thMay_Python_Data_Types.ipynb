{
 "cells": [
  {
   "cell_type": "markdown",
   "id": "54f7c100-1786-4542-a6da-40fb59776207",
   "metadata": {},
   "source": [
    "## Split function\n",
    "It works similar to 'text to column' function in excel. Here data can be split by using a delimeter like comma (,), colon (:), slash (/) etc...\n",
    "Let's understand first how slicing works?"
   ]
  },
  {
   "cell_type": "code",
   "execution_count": 3,
   "id": "be0c3ecb-2c95-4ae5-a2e0-90081e0d47e8",
   "metadata": {},
   "outputs": [
    {
     "name": "stdout",
     "output_type": "stream",
     "text": [
      "lo\n"
     ]
    }
   ],
   "source": [
    "text=\"Hello World\"\n",
    "print(text[2:6:2])\n",
    "# Here first 2 is the starting index number, 6 is the ending index number and last 2 is the step size. This means, it will skipp 1 letter while calculating between 2nd and 5th index."
   ]
  },
  {
   "cell_type": "code",
   "execution_count": 9,
   "id": "907b173b-9547-4e96-9bc0-6dbde8bcc47c",
   "metadata": {},
   "outputs": [
    {
     "name": "stdout",
     "output_type": "stream",
     "text": [
      "HlWl\n"
     ]
    }
   ],
   "source": [
    "print(text[0::3])\n",
    "# Here step size is 3, it will consider the entire text while calcualting."
   ]
  },
  {
   "cell_type": "code",
   "execution_count": 7,
   "id": "250dbd74-a833-4ae7-b112-d8708ed9e671",
   "metadata": {},
   "outputs": [
    {
     "name": "stdout",
     "output_type": "stream",
     "text": [
      "HlWl\n"
     ]
    }
   ],
   "source": [
    "# Let's see one more example\n",
    "print(text[::3])"
   ]
  },
  {
   "cell_type": "code",
   "execution_count": 13,
   "id": "364c8610-6854-47b2-a7dd-a095fac80872",
   "metadata": {},
   "outputs": [
    {
     "name": "stdout",
     "output_type": "stream",
     "text": [
      "['I', 'am', 'an', 'Engineer']\n"
     ]
    }
   ],
   "source": [
    "# Now let's see how split function works\n",
    "text=\"I_am_an_Engineer\"\n",
    "splitted=text.split(\"_\")\n",
    "print(splitted)"
   ]
  },
  {
   "cell_type": "code",
   "execution_count": 23,
   "id": "2025e5a5-c5fc-4995-9d55-fd5aba600506",
   "metadata": {},
   "outputs": [
    {
     "name": "stdout",
     "output_type": "stream",
     "text": [
      "['Hello', 'World']\n"
     ]
    }
   ],
   "source": [
    "text=\"Hello World\"\n",
    "words=text.split(\" \")\n",
    "print(words)\n",
    "# It saves the out in words variable as a list using [ ]."
   ]
  },
  {
   "cell_type": "code",
   "execution_count": 19,
   "id": "37f4e4b8-1aaf-4788-9894-cfcc107fba6a",
   "metadata": {},
   "outputs": [
    {
     "data": {
      "text/plain": [
       "'Hello'"
      ]
     },
     "execution_count": 19,
     "metadata": {},
     "output_type": "execute_result"
    }
   ],
   "source": [
    "words[0]\n",
    "# This displays the first splitted word"
   ]
  },
  {
   "cell_type": "code",
   "execution_count": 21,
   "id": "0e32cf8e-fae5-4a7a-9433-70faed5f4d11",
   "metadata": {},
   "outputs": [
    {
     "data": {
      "text/plain": [
       "'World'"
      ]
     },
     "execution_count": 21,
     "metadata": {},
     "output_type": "execute_result"
    }
   ],
   "source": [
    "words[1]\n",
    "# This displays the second splitted word"
   ]
  },
  {
   "cell_type": "code",
   "execution_count": 27,
   "id": "600e2334-78f7-4142-bb93-36e58af45f3e",
   "metadata": {},
   "outputs": [
    {
     "name": "stdout",
     "output_type": "stream",
     "text": [
      "Hella\n"
     ]
    }
   ],
   "source": [
    "# If we would like to replace a letter in 1st splitted word.\n",
    "words[0]=words[0].replace(\"o\",\"a\")\n",
    "print(words[0])"
   ]
  },
  {
   "cell_type": "code",
   "execution_count": 39,
   "id": "b45dcea6-7ca9-4053-81c3-8d5eb614bb25",
   "metadata": {},
   "outputs": [
    {
     "name": "stdout",
     "output_type": "stream",
     "text": [
      "hEllo world\n"
     ]
    }
   ],
   "source": [
    "# Replacing multiple letters in one line\n",
    "words=(\"Hello World\")\n",
    "words=words.replace(\"H\",\"h\").replace(\"e\",\"E\").replace(\"W\",\"w\")\n",
    "# After replacing the letters \"H\" with \"h\", \"e\" with \"E\" etc.. it saves the output to a variable called 'words' again.\n",
    "print(words)"
   ]
  },
  {
   "cell_type": "code",
   "execution_count": 29,
   "id": "45ac318d-ca87-4a3b-986e-66fdce2dc993",
   "metadata": {},
   "outputs": [
    {
     "name": "stdout",
     "output_type": "stream",
     "text": [
      "['World', 'World']\n"
     ]
    }
   ],
   "source": [
    "# Saving 2nd word into 1st word\n",
    "words[0]=words[1]\n",
    "print(words)"
   ]
  },
  {
   "cell_type": "code",
   "execution_count": 31,
   "id": "9cd9b913-0443-4772-b0de-c43a8a296225",
   "metadata": {},
   "outputs": [
    {
     "name": "stdout",
     "output_type": "stream",
     "text": [
      "World World\n"
     ]
    }
   ],
   "source": [
    "result=\" \".join(words)\n",
    "print(result)\n",
    "# Joining words with a delimter as space (\" \")"
   ]
  },
  {
   "cell_type": "code",
   "execution_count": 41,
   "id": "73245555-d533-4349-b129-5794603351b8",
   "metadata": {},
   "outputs": [
    {
     "data": {
      "text/plain": [
       "1"
      ]
     },
     "execution_count": 41,
     "metadata": {},
     "output_type": "execute_result"
    }
   ],
   "source": [
    "# To know the index value in a list, .index fuction with the keyword to know the index value to be used.\n",
    "mywords=\"I love India\"\n",
    "mywords=mywords.split(\" \")\n",
    "mywords.index(\"love\")"
   ]
  },
  {
   "cell_type": "markdown",
   "id": "a91b9098-442f-4793-aad2-3f03154f3d4c",
   "metadata": {},
   "source": [
    "### Methods we have learnt so far\n",
    "1. replace()\n",
    "2. find()\n",
    "3. index()\n",
    "4. split()\n",
    "5. join()\n",
    "6. upper()\n",
    "7. lower()"
   ]
  },
  {
   "cell_type": "markdown",
   "id": "d5810f92-566a-4517-a12f-8b2adfac5b37",
   "metadata": {},
   "source": [
    "# Booleans in Python\n",
    "In Python, Booleans are a fundamental data type that represents one of two values: True or False\n",
    "These values are used to control the flow of a program, make decisions, and evaluate conditions.\n",
    "Booleans are case-sensitive: True and False must start with a capital letter."
   ]
  },
  {
   "cell_type": "code",
   "execution_count": 51,
   "id": "4ddf89e8-2d31-4c5d-9b55-acb06df69ba4",
   "metadata": {},
   "outputs": [
    {
     "name": "stdout",
     "output_type": "stream",
     "text": [
      "True\n"
     ]
    }
   ],
   "source": [
    "# Checking the conditions like below is called Boolean Expression\n",
    "a=3\n",
    "b=4\n",
    "c=a<b\n",
    "print(c)"
   ]
  },
  {
   "cell_type": "code",
   "execution_count": 53,
   "id": "fd83f032-6aa2-4cfb-b3b4-82ba71ad4e35",
   "metadata": {},
   "outputs": [
    {
     "name": "stdout",
     "output_type": "stream",
     "text": [
      "True\n",
      "False\n"
     ]
    }
   ],
   "source": [
    "# We can assign boolean values to a variable like this\n",
    "city=True\n",
    "town=False\n",
    "print(city)\n",
    "print(town)"
   ]
  },
  {
   "cell_type": "code",
   "execution_count": 69,
   "id": "1b0a6b6a-73ec-4801-bda7-cf7decbbaf09",
   "metadata": {},
   "outputs": [
    {
     "name": "stdout",
     "output_type": "stream",
     "text": [
      "True\n"
     ]
    }
   ],
   "source": [
    "#Using boolean in conditions\n",
    "a=3\n",
    "b=4\n",
    "d=(b%2==0)\n",
    "print(d)"
   ]
  },
  {
   "cell_type": "markdown",
   "id": "ed676b53-e634-484e-86cd-2a0cd03a39d0",
   "metadata": {},
   "source": [
    "# Arithmatic Operators\n",
    "These operators are used to perform basic mathematical operations. The operators are:+, -, *, /, //, %, **"
   ]
  },
  {
   "cell_type": "code",
   "execution_count": 72,
   "id": "6494d12b-43e9-4cf3-8ee2-3deaf2b602fe",
   "metadata": {},
   "outputs": [
    {
     "name": "stdout",
     "output_type": "stream",
     "text": [
      "9\n"
     ]
    }
   ],
   "source": [
    "# Simple arithmatic operations\n",
    "a=4\n",
    "b=5\n",
    "print(a+b)"
   ]
  },
  {
   "cell_type": "code",
   "execution_count": 74,
   "id": "8ce0d07a-c542-4506-82a4-36f6a878fa08",
   "metadata": {},
   "outputs": [
    {
     "name": "stdout",
     "output_type": "stream",
     "text": [
      "20\n"
     ]
    }
   ],
   "source": [
    "print(a*b)"
   ]
  },
  {
   "cell_type": "code",
   "execution_count": 108,
   "id": "d038fec2-4401-4ae2-8514-68fb9704861f",
   "metadata": {},
   "outputs": [
    {
     "name": "stdout",
     "output_type": "stream",
     "text": [
      "4\n",
      "4\n"
     ]
    }
   ],
   "source": [
    "print(a)\n",
    "print(a % b)"
   ]
  },
  {
   "cell_type": "markdown",
   "id": "01d0d739-5b38-4df3-beef-2251edd4f6c3",
   "metadata": {},
   "source": [
    "## Logical Operators\n",
    "AND, OR, NOT are used to combile conditional statements and return a boolean value: True or False"
   ]
  },
  {
   "cell_type": "code",
   "execution_count": 84,
   "id": "9bcce963-0945-4d30-aef3-3f87fb137e40",
   "metadata": {},
   "outputs": [
    {
     "name": "stdout",
     "output_type": "stream",
     "text": [
      "True\n"
     ]
    }
   ],
   "source": [
    "# OR Operator\n",
    "x=True\n",
    "y=False\n",
    "print(x or y)"
   ]
  },
  {
   "cell_type": "code",
   "execution_count": 86,
   "id": "864eeb4e-f516-4f26-8457-e0a9712bef00",
   "metadata": {},
   "outputs": [
    {
     "name": "stdout",
     "output_type": "stream",
     "text": [
      "False\n"
     ]
    }
   ],
   "source": [
    "# AND Operator\n",
    "print(x and y)"
   ]
  },
  {
   "cell_type": "code",
   "execution_count": 92,
   "id": "c6962391-f2c9-44a5-8060-e1b06fe8713f",
   "metadata": {},
   "outputs": [
    {
     "name": "stdout",
     "output_type": "stream",
     "text": [
      "True\n",
      "False\n"
     ]
    }
   ],
   "source": [
    "# NOT Operator\n",
    "print(not y)\n",
    "print(not x)"
   ]
  },
  {
   "cell_type": "markdown",
   "id": "739e1659-c8ab-4cc1-917e-c90960196529",
   "metadata": {},
   "source": [
    "# Comparison Operators"
   ]
  },
  {
   "cell_type": "code",
   "execution_count": 95,
   "id": "833dfd44-a935-480e-8f37-f147f4063d79",
   "metadata": {},
   "outputs": [
    {
     "name": "stdout",
     "output_type": "stream",
     "text": [
      "False\n"
     ]
    }
   ],
   "source": [
    "# Equal to\n",
    "a=4\n",
    "b=5\n",
    "print(a==b)"
   ]
  },
  {
   "cell_type": "code",
   "execution_count": 99,
   "id": "70d2ff4f-3180-45d3-85cc-bb0148fa3b0c",
   "metadata": {},
   "outputs": [
    {
     "name": "stdout",
     "output_type": "stream",
     "text": [
      "False\n",
      "True\n"
     ]
    }
   ],
   "source": [
    "# Greater than\n",
    "print(a>b)\n",
    "print(b>a)"
   ]
  },
  {
   "cell_type": "code",
   "execution_count": 101,
   "id": "5676aad5-c4cb-45dd-b829-7804b8b96643",
   "metadata": {},
   "outputs": [
    {
     "name": "stdout",
     "output_type": "stream",
     "text": [
      "True\n"
     ]
    }
   ],
   "source": [
    "# Not equal to\n",
    "print(a!=b)"
   ]
  },
  {
   "cell_type": "markdown",
   "id": "d6f83b45-1163-4d56-81cb-aa48a558c132",
   "metadata": {},
   "source": [
    "# Assignment Operators"
   ]
  },
  {
   "cell_type": "markdown",
   "id": "337f8fe0-bba1-4c25-911d-3e9cd6ce6264",
   "metadata": {},
   "source": [
    "### Simple assignment"
   ]
  },
  {
   "cell_type": "code",
   "execution_count": 104,
   "id": "fa85dff3-9089-411e-8a45-679b0ce0bf51",
   "metadata": {},
   "outputs": [
    {
     "name": "stdout",
     "output_type": "stream",
     "text": [
      "40\n"
     ]
    }
   ],
   "source": [
    "x=40\n",
    "print(x)"
   ]
  },
  {
   "cell_type": "markdown",
   "id": "e818122a-a2bb-474c-9d6b-6ebf0709147a",
   "metadata": {},
   "source": [
    "### Add and assign"
   ]
  },
  {
   "cell_type": "code",
   "execution_count": 106,
   "id": "0d2201b0-e802-4c90-b5f1-cbb3d81c193c",
   "metadata": {},
   "outputs": [
    {
     "name": "stdout",
     "output_type": "stream",
     "text": [
      "44\n"
     ]
    }
   ],
   "source": [
    "x +=4\n",
    "print(x)"
   ]
  },
  {
   "cell_type": "markdown",
   "id": "c9ab8d44-a61b-4659-bedf-41e337c14b59",
   "metadata": {},
   "source": [
    "### Multiply and assign"
   ]
  },
  {
   "cell_type": "code",
   "execution_count": 110,
   "id": "96cd4df9-66e6-497c-9ab9-66469ed313ca",
   "metadata": {},
   "outputs": [
    {
     "name": "stdout",
     "output_type": "stream",
     "text": [
      "220\n"
     ]
    }
   ],
   "source": [
    "x *=5\n",
    "print(x)"
   ]
  },
  {
   "cell_type": "markdown",
   "id": "ee7dcd58-3e82-4762-94df-d2f9de761748",
   "metadata": {},
   "source": [
    "### Idendity Operators"
   ]
  },
  {
   "cell_type": "code",
   "execution_count": 116,
   "id": "f77d92c5-e62d-4236-89ac-c2b9738fe00a",
   "metadata": {},
   "outputs": [
    {
     "name": "stdout",
     "output_type": "stream",
     "text": [
      "True\n"
     ]
    }
   ],
   "source": [
    "a=\"Debu\"\n",
    "b=a\n",
    "print(a is b)"
   ]
  },
  {
   "cell_type": "code",
   "execution_count": 118,
   "id": "c49f9af1-6236-461c-bb81-87cef128fcea",
   "metadata": {},
   "outputs": [
    {
     "name": "stdout",
     "output_type": "stream",
     "text": [
      "True\n"
     ]
    }
   ],
   "source": [
    "value=\"apple\"\n",
    "a=value\n",
    "b=value\n",
    "print(a is b)"
   ]
  },
  {
   "cell_type": "markdown",
   "id": "9be19e9d-7a76-4f7c-98b2-8594015082be",
   "metadata": {},
   "source": [
    "### is not operator"
   ]
  },
  {
   "cell_type": "code",
   "execution_count": 120,
   "id": "be2f9b75-1b07-47f8-8946-d7668d691c0f",
   "metadata": {},
   "outputs": [
    {
     "name": "stdout",
     "output_type": "stream",
     "text": [
      "True\n",
      "True\n",
      "False\n"
     ]
    }
   ],
   "source": [
    "a=\"apple\"\n",
    "b=\"banana\"\n",
    "c=a\n",
    "print(a is c)\n",
    "print(a is not b)\n",
    "print(a is not c)"
   ]
  },
  {
   "cell_type": "markdown",
   "id": "9e1aba9f-9c89-4c70-8b13-d36e100c89c6",
   "metadata": {},
   "source": [
    "## Membership Operators"
   ]
  },
  {
   "cell_type": "markdown",
   "id": "4e8447cc-9734-423e-a08a-9d9d73cffae5",
   "metadata": {},
   "source": [
    "### in operator"
   ]
  },
  {
   "cell_type": "code",
   "execution_count": 131,
   "id": "defafc3a-4da0-49ce-842d-a7164e125506",
   "metadata": {},
   "outputs": [
    {
     "name": "stdout",
     "output_type": "stream",
     "text": [
      "True\n",
      "False\n"
     ]
    }
   ],
   "source": [
    "fruits=\"banana, cherry, apple, mango\"\n",
    "print(\"banana\" in fruits)\n",
    "print(\"grapes\" in fruits)"
   ]
  },
  {
   "cell_type": "markdown",
   "id": "bf08ad9c-6be2-43c5-9045-978ecacd0648",
   "metadata": {},
   "source": [
    "### not in operator"
   ]
  },
  {
   "cell_type": "code",
   "execution_count": 134,
   "id": "d3cdb7e1-79a2-4c14-a6c9-5a1a033b1971",
   "metadata": {},
   "outputs": [
    {
     "name": "stdout",
     "output_type": "stream",
     "text": [
      "True\n"
     ]
    }
   ],
   "source": [
    "print(\"orange\" not in fruits)"
   ]
  },
  {
   "cell_type": "code",
   "execution_count": 136,
   "id": "e9e7401e-cb22-4139-8c0a-f818d6116d73",
   "metadata": {},
   "outputs": [
    {
     "name": "stdout",
     "output_type": "stream",
     "text": [
      "False\n"
     ]
    }
   ],
   "source": [
    "print(\"banana\" not in fruits)"
   ]
  },
  {
   "cell_type": "markdown",
   "id": "fef36ec0-4fd0-4aca-923e-089600f1edeb",
   "metadata": {},
   "source": [
    "### in with string"
   ]
  },
  {
   "cell_type": "code",
   "execution_count": 141,
   "id": "20d7965f-98fc-44c5-ba30-b431d233abef",
   "metadata": {},
   "outputs": [
    {
     "name": "stdout",
     "output_type": "stream",
     "text": [
      "True\n",
      "False\n"
     ]
    }
   ],
   "source": [
    "text=\"Hello World\"\n",
    "print(\"World\" in text)\n",
    "print(\"Bharat\" in text)"
   ]
  },
  {
   "cell_type": "markdown",
   "id": "01bc5392-6bf2-4691-aabd-a0fdc357523b",
   "metadata": {},
   "source": [
    "## Bitwise Operators"
   ]
  },
  {
   "cell_type": "markdown",
   "id": "2789f535-8be6-425f-8ab0-9f30d4cca374",
   "metadata": {},
   "source": [
    "### AND operator"
   ]
  },
  {
   "cell_type": "code",
   "execution_count": 146,
   "id": "c6f103a7-0315-47df-b721-d20728f8fd1e",
   "metadata": {},
   "outputs": [
    {
     "name": "stdout",
     "output_type": "stream",
     "text": [
      "1\n"
     ]
    }
   ],
   "source": [
    "a=5 #binary=101\n",
    "b=3 #binary=001\n",
    "print(a&b)\n",
    "\n",
    "# For rough calculation: 101 multipled by 011=1\n",
    "# 101\n",
    "#&011\n",
    "#------\n",
    "# 001 (nothing but 1)"
   ]
  },
  {
   "cell_type": "markdown",
   "id": "769149a2-7701-4e4c-9ee6-355f0e00f120",
   "metadata": {},
   "source": [
    "### OR operator"
   ]
  },
  {
   "cell_type": "code",
   "execution_count": 149,
   "id": "8438e144-118b-4686-be5d-c61a584889bd",
   "metadata": {},
   "outputs": [
    {
     "name": "stdout",
     "output_type": "stream",
     "text": [
      "7\n"
     ]
    }
   ],
   "source": [
    "print(a | b)\n",
    "# similar to above binary calculation. 101 OR 011 = 111 in binary or, 7 in decimal\n",
    "# 1 or 0 = 1\n",
    "# 1 or 1 = 1\n",
    "# 0 or 0 = 0"
   ]
  },
  {
   "cell_type": "markdown",
   "id": "47b88c4e-4086-4bb4-b124-e7661dcb11f9",
   "metadata": {},
   "source": [
    "# Slicing and Indexing"
   ]
  },
  {
   "cell_type": "markdown",
   "id": "38fb29a8-3869-4a96-80f4-97dd12f09050",
   "metadata": {},
   "source": [
    "### Indexing"
   ]
  },
  {
   "cell_type": "code",
   "execution_count": 160,
   "id": "6a549cd9-b9e4-4777-bb66-1ee1adce642b",
   "metadata": {},
   "outputs": [
    {
     "name": "stdout",
     "output_type": "stream",
     "text": [
      "Pyth\n",
      "Python\n"
     ]
    }
   ],
   "source": [
    "#Positive indexing\n",
    "text=\"Python\"\n",
    "print(text[:4])\n",
    "print(text[:])"
   ]
  },
  {
   "cell_type": "code",
   "execution_count": 164,
   "id": "876e95f5-16bd-4ce4-9766-d45078736cfe",
   "metadata": {},
   "outputs": [
    {
     "name": "stdout",
     "output_type": "stream",
     "text": [
      "Pytho\n",
      "n\n",
      "P\n"
     ]
    }
   ],
   "source": [
    "#Negative indexing\n",
    "print(text[:-1])\n",
    "print(text[-1])\n",
    "print(text[-6])"
   ]
  },
  {
   "cell_type": "markdown",
   "id": "24461d47-4d97-46e6-b591-6a98f9427807",
   "metadata": {},
   "source": [
    "### Slicing"
   ]
  },
  {
   "cell_type": "code",
   "execution_count": 171,
   "id": "3c71c226-6425-4b51-9044-70dc85f590da",
   "metadata": {},
   "outputs": [
    {
     "name": "stdout",
     "output_type": "stream",
     "text": [
      "yth\n",
      "Pyt\n",
      "Pto\n"
     ]
    }
   ],
   "source": [
    "#Positive Indexing\n",
    "text=\"Python\"\n",
    "#text[start:stop-1:step]\n",
    "print(text[1:4])\n",
    "print(text[:3])\n",
    "print(text[0:5:2])"
   ]
  },
  {
   "cell_type": "code",
   "execution_count": 173,
   "id": "46edc0fb-5866-4982-8e17-65f850c40e64",
   "metadata": {},
   "outputs": [
    {
     "name": "stdout",
     "output_type": "stream",
     "text": [
      "tho\n",
      "nohtyP\n"
     ]
    }
   ],
   "source": [
    "#Negative Indexing\n",
    "print(text[-4:-1])\n",
    "print(text[::-1])      "
   ]
  },
  {
   "cell_type": "code",
   "execution_count": 183,
   "id": "90a9f65e-f9a5-4a17-868a-c380f6a36782",
   "metadata": {},
   "outputs": [
    {
     "name": "stdout",
     "output_type": "stream",
     "text": [
      "5\n",
      "1\n",
      "234\n",
      "54321\n",
      "531\n"
     ]
    }
   ],
   "source": [
    "text=\"12345\"\n",
    "print(text[-1])  #last character\n",
    "print(text[-5])  #first character\n",
    "print(text[-4:-1])\n",
    "print(text[::-1])\n",
    "print(text[::-2])"
   ]
  },
  {
   "cell_type": "code",
   "execution_count": 185,
   "id": "de3ee921-4a20-4ae6-a6d8-a33701001a31",
   "metadata": {},
   "outputs": [
    {
     "name": "stdout",
     "output_type": "stream",
     "text": [
      "Practice Makes MAN\n"
     ]
    }
   ],
   "source": [
    "text=\"Practice Makes MAN Perfect\"\n",
    "print(text[:18])"
   ]
  },
  {
   "cell_type": "code",
   "execution_count": 187,
   "id": "285cd461-b905-41ab-8fa9-4d7b80924230",
   "metadata": {},
   "outputs": [
    {
     "name": "stdout",
     "output_type": "stream",
     "text": [
      "Practice Makes WOMAN\n"
     ]
    }
   ],
   "source": [
    "print(text[:18].replace(\"MAN\", \"WOMAN\"))"
   ]
  },
  {
   "cell_type": "code",
   "execution_count": 191,
   "id": "982d8264-a725-44c1-9b8d-d3c1989a6de3",
   "metadata": {},
   "outputs": [
    {
     "name": "stdout",
     "output_type": "stream",
     "text": [
      "Practice Makes WOMAN  Perfect\n"
     ]
    }
   ],
   "source": [
    "print(text[:18].replace(\"MAN\", \"WOMAN\"),text[18:])"
   ]
  },
  {
   "cell_type": "code",
   "execution_count": null,
   "id": "d6b2b4c4-b01a-443b-94fc-4c148e8f3649",
   "metadata": {},
   "outputs": [],
   "source": []
  }
 ],
 "metadata": {
  "kernelspec": {
   "display_name": "Python [conda env:base] *",
   "language": "python",
   "name": "conda-base-py"
  },
  "language_info": {
   "codemirror_mode": {
    "name": "ipython",
    "version": 3
   },
   "file_extension": ".py",
   "mimetype": "text/x-python",
   "name": "python",
   "nbconvert_exporter": "python",
   "pygments_lexer": "ipython3",
   "version": "3.12.7"
  }
 },
 "nbformat": 4,
 "nbformat_minor": 5
}
