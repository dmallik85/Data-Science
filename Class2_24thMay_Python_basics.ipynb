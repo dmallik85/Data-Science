{
 "cells": [
  {
   "cell_type": "markdown",
   "id": "3f6d66c5-dd90-468b-bfbd-86928d7fe2bc",
   "metadata": {},
   "source": [
    "# Complex number\n",
    "\n",
    "Complex number is built-in number which consists for both a real number and an imginary number.\n",
    "Example: 2+5i is a complex number but in python it is used as 2+5j"
   ]
  },
  {
   "cell_type": "code",
   "execution_count": 3,
   "id": "89b5d220-077d-4539-b59c-8f07bb56b9c6",
   "metadata": {},
   "outputs": [
    {
     "data": {
      "text/plain": [
       "complex"
      ]
     },
     "execution_count": 3,
     "metadata": {},
     "output_type": "execute_result"
    }
   ],
   "source": [
    "c=2+5j\n",
    "type(c)"
   ]
  },
  {
   "cell_type": "code",
   "execution_count": 7,
   "id": "722dc3c0-e27b-4e36-a026-19675848ebdf",
   "metadata": {},
   "outputs": [
    {
     "data": {
      "text/plain": [
       "complex"
      ]
     },
     "execution_count": 7,
     "metadata": {},
     "output_type": "execute_result"
    }
   ],
   "source": [
    "c=5j\n",
    "type(c)\n",
    "#Here real number is 0. It is actually 0+5j."
   ]
  },
  {
   "cell_type": "markdown",
   "id": "a8ca4956-dffd-4164-9bca-6878188e6a12",
   "metadata": {},
   "source": [
    "# String\n",
    "String is a data type when used alphabets in single, double or tripple quotes. Now the question is when to use single, double of tripple quotes.\n",
    "By default, we can use single quote like the following example."
   ]
  },
  {
   "cell_type": "code",
   "execution_count": 35,
   "id": "af16b218-54f2-43f9-8f5d-36dcdb871b41",
   "metadata": {},
   "outputs": [
    {
     "data": {
      "text/plain": [
       "str"
      ]
     },
     "execution_count": 35,
     "metadata": {},
     "output_type": "execute_result"
    }
   ],
   "source": [
    "a='My name'\n",
    "type(a)"
   ]
  },
  {
   "cell_type": "code",
   "execution_count": 37,
   "id": "da72c159-30c1-4495-9ddf-0639da9dd931",
   "metadata": {},
   "outputs": [
    {
     "data": {
      "text/plain": [
       "str"
      ]
     },
     "execution_count": 37,
     "metadata": {},
     "output_type": "execute_result"
    }
   ],
   "source": [
    "a='5'\n",
    "type(a)"
   ]
  },
  {
   "cell_type": "markdown",
   "id": "2d1e8a7c-da8a-410b-81bf-1b7bee1dd5b5",
   "metadata": {},
   "source": [
    "We must use double quotes (\" \") when there is an apostopee used in the string. Example, while writing \"I'm Debu\" as a value of a variable, double quote is required. However, by default double quotes can be used even if there is no apostopee used in the string. Let's see how it looks like in a code."
   ]
  },
  {
   "cell_type": "code",
   "execution_count": 39,
   "id": "06f51b57-9321-4b99-94bf-b8b194909a8f",
   "metadata": {},
   "outputs": [
    {
     "ename": "SyntaxError",
     "evalue": "unterminated string literal (detected at line 1) (3768150512.py, line 1)",
     "output_type": "error",
     "traceback": [
      "\u001b[1;36m  Cell \u001b[1;32mIn[39], line 1\u001b[1;36m\u001b[0m\n\u001b[1;33m    a='I'm Debu'\u001b[0m\n\u001b[1;37m               ^\u001b[0m\n\u001b[1;31mSyntaxError\u001b[0m\u001b[1;31m:\u001b[0m unterminated string literal (detected at line 1)\n"
     ]
    }
   ],
   "source": [
    "a='I'm Debu'\n",
    "type(a)"
   ]
  },
  {
   "cell_type": "code",
   "execution_count": 41,
   "id": "17505a3b-50f0-4860-a553-9ea4ab25178d",
   "metadata": {},
   "outputs": [
    {
     "data": {
      "text/plain": [
       "str"
      ]
     },
     "execution_count": 41,
     "metadata": {},
     "output_type": "execute_result"
    }
   ],
   "source": [
    "a=\"I'm Debu\"\n",
    "type(a)"
   ]
  },
  {
   "cell_type": "markdown",
   "id": "6536c8ea-0fb9-44ca-bc7e-a2c3444ab2c9",
   "metadata": {},
   "source": [
    "We must use tripple quotes (''' ''') when there a need for documentation within the code or there is a multiline string. Let's see the example below:"
   ]
  },
  {
   "cell_type": "markdown",
   "id": "650e85d3-c2e9-456e-a99a-a476367f12ba",
   "metadata": {},
   "source": [
    "# How to play with strings?\n",
    "Strings can be concatenated to get a complete sentence or phrase. Let's see how:"
   ]
  },
  {
   "cell_type": "code",
   "execution_count": 43,
   "id": "6e44c3fb-c623-42ab-a56b-d72f1adf7a38",
   "metadata": {},
   "outputs": [
    {
     "name": "stdout",
     "output_type": "stream",
     "text": [
      "Python is a powerful language\n"
     ]
    }
   ],
   "source": [
    "str1='Python'\n",
    "str2=' is a powerful'\n",
    "str3=' language'\n",
    "print(str1+str2+str3)"
   ]
  },
  {
   "cell_type": "code",
   "execution_count": 45,
   "id": "d8fe93d6-5316-4d46-871a-6a4973fc1891",
   "metadata": {},
   "outputs": [
    {
     "name": "stdout",
     "output_type": "stream",
     "text": [
      "Python is a powerful language\n"
     ]
    }
   ],
   "source": [
    "# We can directly add strings without executing codes\n",
    "print('Python' + ' is a powerful' + ' language')"
   ]
  },
  {
   "cell_type": "code",
   "execution_count": 48,
   "id": "ff7c4a29-3b01-4875-b12e-d23f9143aa1c",
   "metadata": {},
   "outputs": [
    {
     "name": "stdout",
     "output_type": "stream",
     "text": [
      " Mango Mango Mango Mango Mango\n"
     ]
    }
   ],
   "source": [
    "# Another arithmatic operation with string\n",
    "print(' Mango' *5) #This is used for multiplication"
   ]
  },
  {
   "cell_type": "code",
   "execution_count": 50,
   "id": "76fb695f-f167-4a36-8c3a-94fec57e31ae",
   "metadata": {},
   "outputs": [
    {
     "name": "stdout",
     "output_type": "stream",
     "text": [
      "I love Mango\n"
     ]
    }
   ],
   "source": [
    "#Other way to put space in between the strings and add the values without + sign\n",
    "print('I love','Mango')"
   ]
  },
  {
   "cell_type": "code",
   "execution_count": 52,
   "id": "2393f7a6-f0f9-4243-970e-9ceb2686bc51",
   "metadata": {},
   "outputs": [
    {
     "ename": "TypeError",
     "evalue": "can only concatenate str (not \"int\") to str",
     "output_type": "error",
     "traceback": [
      "\u001b[1;31m---------------------------------------------------------------------------\u001b[0m",
      "\u001b[1;31mTypeError\u001b[0m                                 Traceback (most recent call last)",
      "Cell \u001b[1;32mIn[52], line 2\u001b[0m\n\u001b[0;32m      1\u001b[0m \u001b[38;5;66;03m#Let's add string with an integer\u001b[39;00m\n\u001b[1;32m----> 2\u001b[0m a\u001b[38;5;241m=\u001b[39m\u001b[38;5;124m'\u001b[39m\u001b[38;5;124mMango\u001b[39m\u001b[38;5;124m'\u001b[39m \u001b[38;5;241m+\u001b[39m \u001b[38;5;241m5\u001b[39m\n\u001b[0;32m      3\u001b[0m \u001b[38;5;28mprint\u001b[39m(a)\n",
      "\u001b[1;31mTypeError\u001b[0m: can only concatenate str (not \"int\") to str"
     ]
    }
   ],
   "source": [
    "#Let's add string with an integer\n",
    "a='Mango' + 5\n",
    "print(a)\n",
    "#This will throw below error because string cannot be concatenated with integer."
   ]
  },
  {
   "cell_type": "code",
   "execution_count": 54,
   "id": "de4303ff-73f0-469d-88a7-f623a1206009",
   "metadata": {},
   "outputs": [
    {
     "name": "stdout",
     "output_type": "stream",
     "text": [
      "5Mangos\n"
     ]
    }
   ],
   "source": [
    "#How we can convert the data type and add integer with string.\n",
    "a=str(5)+'Mangos'\n",
    "print(a)"
   ]
  },
  {
   "cell_type": "markdown",
   "id": "df7c09c8-c4f2-483c-bc99-6aa59526c5d5",
   "metadata": {},
   "source": [
    "# String and their method\n",
    "## Concatenation of string\n",
    "We can add multiple string to create a full sentence or phrase as explained above. Let's see few more examples"
   ]
  },
  {
   "cell_type": "code",
   "execution_count": 61,
   "id": "86cf0037-04bd-4f2b-97f8-7706f24cc469",
   "metadata": {},
   "outputs": [
    {
     "name": "stdout",
     "output_type": "stream",
     "text": [
      "H\n"
     ]
    }
   ],
   "source": [
    "a='H'\n",
    "print(a)"
   ]
  },
  {
   "cell_type": "code",
   "execution_count": 63,
   "id": "7e9f1fd0-dfcc-47c8-9a72-399a6ad78602",
   "metadata": {},
   "outputs": [
    {
     "name": "stdout",
     "output_type": "stream",
     "text": [
      "Hello\n"
     ]
    }
   ],
   "source": [
    "a=\"Hello\"\n",
    "print(a)"
   ]
  },
  {
   "cell_type": "code",
   "execution_count": 69,
   "id": "78344b0e-bcad-4dc2-87f1-2e52a09b4521",
   "metadata": {},
   "outputs": [
    {
     "name": "stdout",
     "output_type": "stream",
     "text": [
      "('H', 'Hello', 'Hello \\nworld')\n"
     ]
    }
   ],
   "source": [
    "a='H',\"Hello\",'''Hello \n",
    "world'''\n",
    "print(a)\n"
   ]
  },
  {
   "cell_type": "code",
   "execution_count": 75,
   "id": "d3ef39de-835b-4c1c-b1b4-0a34301fca9a",
   "metadata": {},
   "outputs": [
    {
     "name": "stdout",
     "output_type": "stream",
     "text": [
      "Hello, I'm Debu. Python is my favoutite subject.\n"
     ]
    }
   ],
   "source": [
    "str1='Hello,'\n",
    "str2=\"I'm Debu.\"\n",
    "str3='''Python is my favoutite subject.'''\n",
    "result=(str1+\" \"+str2+\" \"+str3)\n",
    "print(result)"
   ]
  },
  {
   "cell_type": "markdown",
   "id": "2ad115d5-e076-4525-b442-e17e95bbcfb0",
   "metadata": {},
   "source": [
    "## Changing the case\n",
    "We can use various functions to determine several meaning of strings. Let's see few of them."
   ]
  },
  {
   "cell_type": "code",
   "execution_count": 78,
   "id": "e69e364d-e74e-4a6f-9cf8-42fd60ff43bf",
   "metadata": {},
   "outputs": [
    {
     "name": "stdout",
     "output_type": "stream",
     "text": [
      "python is best.\n"
     ]
    }
   ],
   "source": [
    "str1=\"Python is best.\"\n",
    "print(str1.lower())"
   ]
  },
  {
   "cell_type": "code",
   "execution_count": 80,
   "id": "ed49fb9a-e995-496c-9891-5b393f93352c",
   "metadata": {},
   "outputs": [
    {
     "name": "stdout",
     "output_type": "stream",
     "text": [
      "PYTHON IS BEST.\n"
     ]
    }
   ],
   "source": [
    "print(str1.upper())"
   ]
  },
  {
   "cell_type": "markdown",
   "id": "8f1f9fe8-9d55-48f2-8160-4c23ddb4bf8a",
   "metadata": {},
   "source": [
    "## Finding substring\n",
    "Using find function we can find a part of the string and use them for different purpose. Let's see how find() can be effectively used in python."
   ]
  },
  {
   "cell_type": "code",
   "execution_count": 87,
   "id": "80ab1d1f-7b31-4f35-9262-aa2c310ccd3d",
   "metadata": {},
   "outputs": [
    {
     "name": "stdout",
     "output_type": "stream",
     "text": [
      "11\n"
     ]
    }
   ],
   "source": [
    "str1=\"My name is Debu\"\n",
    "print(str1.find(\"Debu\"))\n",
    "#Note the 0th index is 'M'\n",
    "#1st index is 'y'\n",
    "#2nd index is ' ' (a space) and so on."
   ]
  },
  {
   "cell_type": "code",
   "execution_count": 91,
   "id": "3023b020-91e5-4e21-9e9d-5410c8ec850b",
   "metadata": {},
   "outputs": [
    {
     "name": "stdout",
     "output_type": "stream",
     "text": [
      "4\n"
     ]
    }
   ],
   "source": [
    "str1=\"Hello Friends\"\n",
    "print(str1.find(\"o\"))"
   ]
  },
  {
   "cell_type": "code",
   "execution_count": 93,
   "id": "9b2f9f5e-cf30-4d0d-975a-3850fdd68c50",
   "metadata": {},
   "outputs": [
    {
     "name": "stdout",
     "output_type": "stream",
     "text": [
      "4\n"
     ]
    }
   ],
   "source": [
    "#Same output can achieved by using index() function.\n",
    "print(str1.index(\"o\"))"
   ]
  },
  {
   "cell_type": "code",
   "execution_count": 97,
   "id": "ad674245-deff-453b-8af4-42ecf0b98b47",
   "metadata": {},
   "outputs": [
    {
     "name": "stdout",
     "output_type": "stream",
     "text": [
      "-1\n"
     ]
    }
   ],
   "source": [
    "#If we try to find something which doesn't exist in the string. It returns -1 when used find method.\n",
    "print(str1.find(\"k\"))"
   ]
  },
  {
   "cell_type": "code",
   "execution_count": 99,
   "id": "5a24134b-5a4a-4a87-b160-3c0443772a9b",
   "metadata": {},
   "outputs": [
    {
     "ename": "ValueError",
     "evalue": "substring not found",
     "output_type": "error",
     "traceback": [
      "\u001b[1;31m---------------------------------------------------------------------------\u001b[0m",
      "\u001b[1;31mValueError\u001b[0m                                Traceback (most recent call last)",
      "Cell \u001b[1;32mIn[99], line 1\u001b[0m\n\u001b[1;32m----> 1\u001b[0m \u001b[38;5;28mprint\u001b[39m(str1\u001b[38;5;241m.\u001b[39mindex(\u001b[38;5;124m\"\u001b[39m\u001b[38;5;124mx\u001b[39m\u001b[38;5;124m\"\u001b[39m))\n",
      "\u001b[1;31mValueError\u001b[0m: substring not found"
     ]
    }
   ],
   "source": [
    "print(str1.index(\"x\"))\n",
    "#This will throw bellow error."
   ]
  },
  {
   "cell_type": "markdown",
   "id": "e6e6af13-1ea1-437b-96bf-2999a7211263",
   "metadata": {},
   "source": [
    "## Using replace method\n",
    "We can replace substring using replace method by referring the index number. Let's see how this works."
   ]
  },
  {
   "cell_type": "code",
   "execution_count": 102,
   "id": "28d9630d-e32d-48ca-be13-bee6ea96a3ef",
   "metadata": {},
   "outputs": [
    {
     "name": "stdout",
     "output_type": "stream",
     "text": [
      "Helle \n"
     ]
    }
   ],
   "source": [
    "print(str1[:6].replace(\"o\",\"e\"))"
   ]
  },
  {
   "cell_type": "code",
   "execution_count": 106,
   "id": "c80d297f-742d-4870-9fe0-6255cac90486",
   "metadata": {},
   "outputs": [
    {
     "name": "stdout",
     "output_type": "stream",
     "text": [
      "F\n"
     ]
    }
   ],
   "source": [
    "print(str1[6])\n",
    "#Printing the 6th index"
   ]
  },
  {
   "cell_type": "code",
   "execution_count": 110,
   "id": "e6d08cd8-e181-481e-a708-c3f8056c4af6",
   "metadata": {},
   "outputs": [
    {
     "name": "stdout",
     "output_type": "stream",
     "text": [
      "Hello \n"
     ]
    }
   ],
   "source": [
    "print(str1[:6])\n",
    "#It starts with 0 and ends at 6th index. This is equivalent to print(str1[0:6])."
   ]
  },
  {
   "cell_type": "markdown",
   "id": "fb5047c8-549e-4795-80c7-6e823165dc45",
   "metadata": {},
   "source": [
    "## Important\n",
    "When we use start and end index values like [5:7], it starts with 5th index and ends with 6th index. It ends always with n-1."
   ]
  },
  {
   "cell_type": "code",
   "execution_count": 116,
   "id": "5adbcfc7-e00b-427d-8057-62bd94fe029d",
   "metadata": {},
   "outputs": [
    {
     "name": "stdout",
     "output_type": "stream",
     "text": [
      " F\n"
     ]
    }
   ],
   "source": [
    "print(str1[5:7])\n",
    "#It displays ' F' because it starts with 5th index but ends with 7-1 index nothing but 6th index."
   ]
  },
  {
   "cell_type": "code",
   "execution_count": 114,
   "id": "871f46d5-a72b-4ba0-ad87-c6c511bc7b28",
   "metadata": {},
   "outputs": [
    {
     "name": "stdout",
     "output_type": "stream",
     "text": [
      "Hell  Friends\n"
     ]
    }
   ],
   "source": [
    "print(str1[:4].replace(\"o\", \"a\"),str1[5:])"
   ]
  },
  {
   "cell_type": "code",
   "execution_count": null,
   "id": "20261f87-f76f-455c-bcd3-2c1f3d78b140",
   "metadata": {},
   "outputs": [],
   "source": []
  }
 ],
 "metadata": {
  "kernelspec": {
   "display_name": "Python [conda env:base] *",
   "language": "python",
   "name": "conda-base-py"
  },
  "language_info": {
   "codemirror_mode": {
    "name": "ipython",
    "version": 3
   },
   "file_extension": ".py",
   "mimetype": "text/x-python",
   "name": "python",
   "nbconvert_exporter": "python",
   "pygments_lexer": "ipython3",
   "version": "3.12.7"
  }
 },
 "nbformat": 4,
 "nbformat_minor": 5
}
