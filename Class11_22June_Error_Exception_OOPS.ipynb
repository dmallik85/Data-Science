{
 "cells": [
  {
   "cell_type": "markdown",
   "id": "6fa7b7fc-52b4-489c-a3f4-107b713b3b9f",
   "metadata": {},
   "source": [
    "# Error and Exception Handing\n",
    "Both errors and exceptions represent problems encountered during program execution, but they differ in their nature and how they are typically handled. Just as an example if we add two integer values, we get a value out of it. But, if we try to add integer with string which is not supported, it throws an error (what error to throw, we can define it in such cases).\n",
    "\n",
    "Error can be handled by using Try and Except:\n",
    "- try: the code which may trigger error should be put in try block\n",
    "- except: if there is an error in try block, the code in except block will run"
   ]
  },
  {
   "cell_type": "code",
   "execution_count": 3,
   "id": "8a4783f1-ece3-414f-9c72-52d1909e5a6d",
   "metadata": {},
   "outputs": [
    {
     "name": "stdout",
     "output_type": "stream",
     "text": [
      "You can only add integers, string and integer cannot be added.\n"
     ]
    }
   ],
   "source": [
    "# Error and Except Example\n",
    "marks1=88\n",
    "marks2=33\n",
    "subject='datascience'\n",
    "try:\n",
    "    total=marks1+subject\n",
    "except:\n",
    "    print(\"You can only add integers, string and integer cannot be added.\")\n",
    "else:\n",
    "    print(total)"
   ]
  },
  {
   "cell_type": "code",
   "execution_count": 5,
   "id": "4ad54234-2111-4e85-bd20-cd95b9da16bd",
   "metadata": {},
   "outputs": [
    {
     "name": "stdout",
     "output_type": "stream",
     "text": [
      "121\n"
     ]
    }
   ],
   "source": [
    "# Let's correct the code and execute the result\n",
    "# Error and Except Example\n",
    "marks1=88\n",
    "marks2=33\n",
    "subject='datascience'\n",
    "try:\n",
    "    total=marks1+marks2\n",
    "except:\n",
    "    print(\"You can only add integers, string and integer cannot be added.\")\n",
    "else:\n",
    "    print(total)"
   ]
  },
  {
   "cell_type": "markdown",
   "id": "122007ea-9aeb-4106-ba6a-67d7620759a4",
   "metadata": {},
   "source": [
    "### Problem Statement\n",
    "Write a python program that accepts the following from a user:\n",
    "- Car number\n",
    "- Customer name\n",
    "- mobile number"
   ]
  },
  {
   "cell_type": "code",
   "execution_count": 14,
   "id": "9aed015a-f418-4056-b39e-c86ef25b8f2e",
   "metadata": {},
   "outputs": [
    {
     "name": "stdin",
     "output_type": "stream",
     "text": [
      "Please car number: wb00087990\n",
      "Enter customer name: \n",
      "Enter mobile number: 888888888\n"
     ]
    },
    {
     "name": "stdout",
     "output_type": "stream",
     "text": [
      "Error: Customer name is mandatory field.\n"
     ]
    }
   ],
   "source": [
    "#Example mandatory field validation using custom exceptions\n",
    "car_number=input(\"Please car number:\")\n",
    "customer_name=input(\"Enter customer name:\")\n",
    "mobile_number=input(\"Enter mobile number:\")\n",
    "try:\n",
    "    if not car_number:\n",
    "        raise ValueError(\"Car number is mandatory field.\")\n",
    "    if not customer_name:\n",
    "        raise ValueError(\"Customer name is mandatory field.\")\n",
    "    if not mobile_number:\n",
    "        raise ValueError(\"Mobile number is a mandatory field.\")\n",
    "    print(\"\\nDetails submitted successfully.\")\n",
    "    print(f\"Car Number: {car_number}\")\n",
    "    print(f\"Customer Name: {customer_name}\")\n",
    "    print(f\"Mobile Number: {mobile_number}\")\n",
    "except ValueError as ve:\n",
    "    print(\"Error:\",ve)"
   ]
  },
  {
   "cell_type": "code",
   "execution_count": 7,
   "id": "43a99a12-813a-421e-8166-0ce358e6b5fd",
   "metadata": {},
   "outputs": [
    {
     "name": "stdin",
     "output_type": "stream",
     "text": [
      "Please car number:  \n",
      "Enter customer name:  \n",
      "Enter mobile number:  \n"
     ]
    },
    {
     "name": "stdout",
     "output_type": "stream",
     "text": [
      "\n",
      " Registration field require.\n",
      "\n",
      " Name field is required.\n",
      "\n",
      " Mobile number field is required.\n"
     ]
    }
   ],
   "source": [
    "#Another way to write the above code\n",
    "try:\n",
    "    car_number=input(\"Please car number:\")\n",
    "    customer_name=input(\"Enter customer name:\")\n",
    "    mobile_number=input(\"Enter mobile number:\")\n",
    "    if car_number ==\" \":\n",
    "        raise Exception()\n",
    "    elif customer_name ==\" \":\n",
    "        raise Exception()\n",
    "    elif mobile_number ==\" \":\n",
    "        raise Exception()\n",
    "    else:\n",
    "        pass\n",
    "except:\n",
    "    if car_number ==\" \":\n",
    "        print(\"\\n Registration field require.\")\n",
    "    if customer_name ==\" \":\n",
    "        print(\"\\n Name field is required.\")\n",
    "    if mobile_number ==\" \":\n",
    "        print(\"\\n Mobile number field is required.\")\n",
    "else:\n",
    "    print(\"Thanks for registration.\")"
   ]
  },
  {
   "cell_type": "markdown",
   "id": "77b76050-ef1a-4408-8394-95d7b9e0784e",
   "metadata": {},
   "source": [
    "### Finally block in python\n",
    "We do not need to keep in mind all the exceptions in python for handling errors. Python provides a finally block that is used along with try and except. The finally block is always executed irrespective of what happens in try and except block - whether there is an error or not.\n",
    "\n",
    "### When finaly block is used\n",
    "Finally block runs:\n",
    "- if no error in try block\n",
    "- if there is an error and it is handled by the except block\n",
    "- even if error is not handled, the finally block will execute before the program exits (if not forcefully stoped)"
   ]
  },
  {
   "cell_type": "code",
   "execution_count": 12,
   "id": "04aa2286-21d8-4392-a17d-fd76501dbd54",
   "metadata": {},
   "outputs": [
    {
     "name": "stdin",
     "output_type": "stream",
     "text": [
      "Please car number: asdfsd\n",
      "Enter customer name: asdfdsdfd\n",
      "Enter mobile number: 8888888\n"
     ]
    },
    {
     "name": "stdout",
     "output_type": "stream",
     "text": [
      "Thanks for registration.\n"
     ]
    }
   ],
   "source": [
    "#Example\n",
    "try:\n",
    "    car_number=input(\"Please car number:\")\n",
    "    customer_name=input(\"Enter customer name:\")\n",
    "    mobile_number=input(\"Enter mobile number:\")\n",
    "    if car_number ==\" \":\n",
    "        raise Exception()\n",
    "    elif customer_name ==\" \":\n",
    "        raise Exception()\n",
    "    elif mobile_number ==\" \":\n",
    "        raise Exception()\n",
    "    else:\n",
    "        pass\n",
    "except:\n",
    "    if car_number ==\" \":\n",
    "        print(\"\\n Registration field require.\")\n",
    "    if customer_name ==\" \":\n",
    "        print(\"\\n Name field is required.\")\n",
    "    if mobile_number ==\" \":\n",
    "        print(\"\\n Mobile number field is required.\")\n",
    "finally:\n",
    "    print(\"Thanks for registration.\")   #We can call it as mandatory print, doesn't matter try or except runs correctly."
   ]
  },
  {
   "cell_type": "code",
   "execution_count": 14,
   "id": "477a9e92-0760-4837-ba7c-db502c5613b7",
   "metadata": {},
   "outputs": [
    {
     "name": "stdin",
     "output_type": "stream",
     "text": [
      "Input your number: 43\n"
     ]
    },
    {
     "name": "stdout",
     "output_type": "stream",
     "text": [
      "43\n"
     ]
    }
   ],
   "source": [
    "#Write above code using function\n",
    "def mobile_num():\n",
    "    try:\n",
    "        val=int(input(\"Input your number:\"))\n",
    "    except:\n",
    "        print(\"Looks like you didn't enter the number.\")\n",
    "    print(val)\n",
    "mobile_num()"
   ]
  },
  {
   "cell_type": "code",
   "execution_count": 9,
   "id": "5d0a5732-f4ee-4804-a421-efda651624f0",
   "metadata": {},
   "outputs": [
    {
     "name": "stdin",
     "output_type": "stream",
     "text": [
      "Input your number: asdfdsf\n"
     ]
    },
    {
     "name": "stdout",
     "output_type": "stream",
     "text": [
      "You need to enter an integer value.\n"
     ]
    },
    {
     "name": "stdin",
     "output_type": "stream",
     "text": [
      "Input your number: asdfds\n"
     ]
    },
    {
     "name": "stdout",
     "output_type": "stream",
     "text": [
      "You need to enter an integer value.\n"
     ]
    },
    {
     "name": "stdin",
     "output_type": "stream",
     "text": [
      "Input your number: 9999999999\n"
     ]
    },
    {
     "name": "stdout",
     "output_type": "stream",
     "text": [
      "Thank you!\n"
     ]
    }
   ],
   "source": [
    "#Now enforce to accept only 10 digit for your mobile number\n",
    "def mobile_num():\n",
    "    while True:\n",
    "        try:\n",
    "            val=int(input(\"Input your number:\"))\n",
    "            if len(str(val))!=10:\n",
    "                print(\"You need to enter 10 digit mobile number.\")\n",
    "            else:\n",
    "                print(\"Thank you!\")\n",
    "            break\n",
    "        except:\n",
    "            print(\"You need to enter an integer value.\")\n",
    "            continue\n",
    "mobile_num()"
   ]
  },
  {
   "cell_type": "markdown",
   "id": "8f8feba5-cdaf-48e2-8f4b-ae8f3d520e5d",
   "metadata": {},
   "source": [
    "# OOPS Concept - Object Oriented Programming\n",
    "OOPS is a popular way to solve a problem in programming by creating objects. These objects represent real-world things and help in organizing the code better.\n",
    "\n",
    "### Real-time example\n",
    "Imagine you are opening a bank account:\n",
    "- Name\n",
    "- Username\n",
    "- City\n",
    "- Phone number\n",
    "- Email ID\n",
    "When above information is entered, bank saves the informaiton. When we try to check details from personal information section, we get these information displayed. If you want to deposit or withdraw amount, you need to look for other tabs/options in the site.\n",
    "\n",
    "### OOPS with a bank example\n",
    "- Bank account is your class\n",
    "- The __init__(self) function is used to register your details with the bank when the object is created.\n",
    "      - __init__ = is a constructor\n",
    "      - self = it saves the data\n",
    "- The self keyword helps store and access your personal details when using different features like clicking tabs.\n",
    "- Actions like logging in, viewing personal information, changing your password or withdrawing money are called method.\n",
    "\n",
    "#### In simple terms\n",
    "- class = Blueprint (example, bank account)\n",
    "- object = Actual account you create\n",
    "- methods = Things you can do with your account like login, deposit money or withdraw\n",
    "- self = Refers to your own data inside the account"
   ]
  },
  {
   "cell_type": "code",
   "execution_count": null,
   "id": "a27b7be3-da64-4044-9bed-caf45ad48bcc",
   "metadata": {},
   "outputs": [],
   "source": [
    "#Let's see an example\n",
    "class Account:    #This is a class\n",
    "    def __init__(self,name,last_name,city,user_id,password,phone):    #These are called attributes/arguments\n",
    "        self.name=name\n",
    "        self.last_name=last_name\n",
    "        self.city=citry\n",
    "        self.user_id=user_id\n",
    "        self.password=password\n",
    "        self.phone=phone"
   ]
  },
  {
   "cell_type": "code",
   "execution_count": 1,
   "id": "76aee31e-9f24-49fa-82ba-cabf44c6de75",
   "metadata": {},
   "outputs": [
    {
     "name": "stdin",
     "output_type": "stream",
     "text": [
      "Enter your name: debu\n",
      "Enter your last name: mallik\n",
      "Enter your city: kol\n",
      "Enter your user ID: dm\n",
      "Enter your password: 123\n",
      "Enter your phone number: 89999999\n"
     ]
    }
   ],
   "source": [
    "#Let's see real world example\n",
    "class Account:    #This is a class\n",
    "    def __init__(self,name=input(\"Enter your name:\"),\n",
    "                 last_name=input(\"Enter your last name:\"),\n",
    "                 city=input(\"Enter your city:\"),\n",
    "                 user_id=input(\"Enter your user ID:\"),\n",
    "                 password=input(\"Enter your password:\"),\n",
    "                 phone=input(\"Enter your phone number:\")):\n",
    "        self.name=name           #Data initialization\n",
    "        self.last_name=last_name\n",
    "        self.city=city\n",
    "        self.user_id=user_id\n",
    "        self.password=password\n",
    "        self.phone=phone\n",
    "    def login(self):      #Method\n",
    "        while True:\n",
    "            signin=input(\"Enter your user ID:\")\n",
    "            password=input(\"Enter your password:\")\n",
    "            if signin==self.user_id and password==self.password:\n",
    "                print(\"Logged in successfully!\")\n",
    "                break\n",
    "            else:\n",
    "                print(\"You have entered invalid username or password. Please try again.\")\n",
    "                continue"
   ]
  },
  {
   "cell_type": "code",
   "execution_count": 3,
   "id": "e4284842-1ced-459e-9cac-0e40525d977f",
   "metadata": {},
   "outputs": [
    {
     "name": "stdin",
     "output_type": "stream",
     "text": [
      "Enter your user ID: dm\n",
      "Enter your password: 123\n"
     ]
    },
    {
     "name": "stdout",
     "output_type": "stream",
     "text": [
      "Logged in successfully!\n"
     ]
    }
   ],
   "source": [
    "#To use the calss 'Account' you need to save it in a variable. Here using 'c' as variable and then call the function\n",
    "c=Account()\n",
    "c.login()"
   ]
  },
  {
   "cell_type": "code",
   "execution_count": 5,
   "id": "756d68c6-5500-4d71-81e1-cabc5fb27506",
   "metadata": {},
   "outputs": [
    {
     "data": {
      "text/plain": [
       "(('Tata',), ('Nexon',))"
      ]
     },
     "execution_count": 5,
     "metadata": {},
     "output_type": "execute_result"
    }
   ],
   "source": [
    "#Create car registration\n",
    "class Car():\n",
    "    def __init__(self,brand,model,color,engine):\n",
    "        self.brand=brand,\n",
    "        self.model=model,\n",
    "        self.color=color,\n",
    "        self.engine=engine\n",
    "    def show_details(self):\n",
    "        return self.brand,self.model    #it shows brand and model\n",
    "\n",
    "debu=Car(\"Tata\",\"Nexon\",\"Green\",\"Petrol\")\n",
    "ansika=Car(\"Honda\",\"City\",\"White\",\"Petrol\")\n",
    "aarush=Car(\"Hyundai\",\"Verna\",\"Black\",\"Diesel\")\n",
    "#Let's call show_details method to get output\n",
    "debu.show_details()"
   ]
  },
  {
   "cell_type": "code",
   "execution_count": 7,
   "id": "4e08e8f6-5a93-4a16-8e50-fae7ecf13fcf",
   "metadata": {},
   "outputs": [
    {
     "data": {
      "text/plain": [
       "(('Honda',), ('City',))"
      ]
     },
     "execution_count": 7,
     "metadata": {},
     "output_type": "execute_result"
    }
   ],
   "source": [
    "ansika.show_details()"
   ]
  },
  {
   "cell_type": "code",
   "execution_count": null,
   "id": "e72fd237-f2ce-40d3-8143-3c8d0be3443f",
   "metadata": {},
   "outputs": [],
   "source": [
    "#How to make an attribute private like color\n",
    "class Car():\n",
    "    def __init__(self,brand,model,color,engine):\n",
    "        self.brand=brand,\n",
    "        self.model=model,\n",
    "        self.__color=color,      #Put two underscore (__) to make color attribute private, even if you call this, it won't show.\n",
    "        self.engine=engine"
   ]
  }
 ],
 "metadata": {
  "kernelspec": {
   "display_name": "Python [conda env:base] *",
   "language": "python",
   "name": "conda-base-py"
  },
  "language_info": {
   "codemirror_mode": {
    "name": "ipython",
    "version": 3
   },
   "file_extension": ".py",
   "mimetype": "text/x-python",
   "name": "python",
   "nbconvert_exporter": "python",
   "pygments_lexer": "ipython3",
   "version": "3.12.7"
  }
 },
 "nbformat": 4,
 "nbformat_minor": 5
}
