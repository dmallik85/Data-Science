{
 "cells": [
  {
   "cell_type": "markdown",
   "id": "74358cd1-b664-42e5-8bc5-93f23bea9d87",
   "metadata": {},
   "source": [
    "# 1. Check if a number is positive, negative, or zero\n",
    "Write a Python program that takes a number as input and checks whether it's positive, negative, or zero."
   ]
  },
  {
   "cell_type": "code",
   "execution_count": 9,
   "id": "6aad980b-c07b-4ba2-a3f0-2ea3343b582f",
   "metadata": {},
   "outputs": [
    {
     "name": "stdin",
     "output_type": "stream",
     "text": [
      "Please enter the number: 0\n"
     ]
    },
    {
     "name": "stdout",
     "output_type": "stream",
     "text": [
      "The number is zero.\n"
     ]
    }
   ],
   "source": [
    "number=int(input(\"Please enter the number:\"))\n",
    "if number>0:\n",
    "    print(\"The number is a positive number.\")\n",
    "elif number<0:\n",
    "    print(\"The number is a negative number.\")\n",
    "elif number==0:\n",
    "    print(\"The number is zero.\")\n",
    "else:\n",
    "    print(\"Please enter the valid number.\")"
   ]
  },
  {
   "cell_type": "markdown",
   "id": "d177bd17-9289-461f-94e3-40120609faf4",
   "metadata": {},
   "source": [
    "# 2. Even or Odd\n",
    "Ask the user to input a number and check whether the number is even or odd using if and else."
   ]
  },
  {
   "cell_type": "code",
   "execution_count": 20,
   "id": "fc200318-a415-40ae-b1f4-fa53c4c1889f",
   "metadata": {},
   "outputs": [
    {
     "name": "stdin",
     "output_type": "stream",
     "text": [
      "Please enter the number: -4\n"
     ]
    },
    {
     "name": "stdout",
     "output_type": "stream",
     "text": [
      "It is an even number.\n"
     ]
    }
   ],
   "source": [
    "num=int(input(\"Please enter the number:\"))\n",
    "if num%2==0:\n",
    "    print(\"It is an even number.\")\n",
    "else:\n",
    "    print(\"It is an odd number.\")"
   ]
  },
  {
   "cell_type": "markdown",
   "id": "37aa45f7-814a-4ebc-bde2-d43a99c3dd3e",
   "metadata": {},
   "source": [
    "# 3. Find the Largest of Two Numbers\n",
    "Write a program that accepts two numbers and prints the largest one using if and else."
   ]
  },
  {
   "cell_type": "code",
   "execution_count": 25,
   "id": "0b7de070-d74c-42e9-8a98-12c5a1dadc27",
   "metadata": {},
   "outputs": [
    {
     "name": "stdin",
     "output_type": "stream",
     "text": [
      "Please enter the 1st number: 45\n",
      "Please enter the 2nd number: 2\n"
     ]
    },
    {
     "name": "stdout",
     "output_type": "stream",
     "text": [
      "1st number is greater than 2nd number.\n"
     ]
    }
   ],
   "source": [
    "num1=int(input(\"Please enter the 1st number:\"))\n",
    "num2=int(input(\"Please enter the 2nd number:\"))\n",
    "if num1>num2:\n",
    "    print(\"1st number is greater than 2nd number.\")\n",
    "else:\n",
    "    print(\"2nd number is greater than 1st number.\")"
   ]
  },
  {
   "cell_type": "markdown",
   "id": "493d351a-2821-4e06-a398-849e8ce3d842",
   "metadata": {},
   "source": [
    "# 4. Find the Largest of Three Numbers\n",
    "Take three numbers as input and determine the largest one using if, elif, and else."
   ]
  },
  {
   "cell_type": "code",
   "execution_count": 46,
   "id": "a22ffaf0-c0e9-4b5e-b786-0da3f167ccb8",
   "metadata": {},
   "outputs": [
    {
     "name": "stdin",
     "output_type": "stream",
     "text": [
      "Please enter the 1st number: 2\n",
      "Please enter the 2nd number: 4\n",
      "Please enter the 3rd number: 9\n"
     ]
    },
    {
     "name": "stdout",
     "output_type": "stream",
     "text": [
      "The 3rd number: 9 is greater than other two numbers: 2 and 4\n"
     ]
    }
   ],
   "source": [
    "number1=int(input(\"Please enter the 1st number:\"))\n",
    "number2=int(input(\"Please enter the 2nd number:\"))\n",
    "number3=int(input(\"Please enter the 3rd number:\"))\n",
    "if number1>number2 and number1>number3:\n",
    "    print(\"The 1st number:\",number1,\"is greater than other two numbers:\",number2,\"and\",number3)\n",
    "elif number2>number1 and number2>number3:\n",
    "    print(\"The 2nd number:\",number2,\"is greater than other two numbers:\",number1,\"and\",number3)\n",
    "else:\n",
    "    print(\"The 3rd number:\",number3,\"is greater than other two numbers:\",number1,\"and\",number2)"
   ]
  },
  {
   "cell_type": "markdown",
   "id": "e766461a-ce59-4a94-a987-2a15967fed69",
   "metadata": {},
   "source": [
    "# 5. Check if a number is zero or not\n",
    "Write a Python program that takes a number as input and checks whether it is zero or not zero using if and else."
   ]
  },
  {
   "cell_type": "code",
   "execution_count": 63,
   "id": "a56ad284-7233-4a29-96f8-ef0829a80479",
   "metadata": {},
   "outputs": [
    {
     "name": "stdin",
     "output_type": "stream",
     "text": [
      "Please enter the number: 9\n"
     ]
    },
    {
     "name": "stdout",
     "output_type": "stream",
     "text": [
      "The number is not 0.\n"
     ]
    }
   ],
   "source": [
    "numb=int(input(\"Please enter the number:\"))\n",
    "if numb==0:\n",
    "    print(\"The number is 0.\")\n",
    "else:\n",
    "    print(\"The number is not 0.\")"
   ]
  },
  {
   "cell_type": "markdown",
   "id": "b35d26cc-68c4-4e64-bdad-a699b7b6d1fd",
   "metadata": {},
   "source": [
    "# 6. Grading System\n",
    "Take a numeric score and convert it to a grade using conditions:\n",
    "\n",
    "A: 90–100\n",
    "B: 80–89\n",
    "C: 70–79\n",
    "D: 60–69\n",
    "F: Below 60"
   ]
  },
  {
   "cell_type": "code",
   "execution_count": 74,
   "id": "f050d73d-f77a-4d7e-bb1a-6aa089788c9c",
   "metadata": {},
   "outputs": [
    {
     "name": "stdin",
     "output_type": "stream",
     "text": [
      "Please enter the marks: 72\n"
     ]
    },
    {
     "name": "stdout",
     "output_type": "stream",
     "text": [
      "Grade C.\n"
     ]
    }
   ],
   "source": [
    "marks=int(input(\"Please enter the marks:\"))\n",
    "if marks>=90:\n",
    "    print(\"Grade A.\")\n",
    "elif marks>=80:\n",
    "    print(\"Grade B.\")\n",
    "elif marks>=70:\n",
    "    print(\"Grade C.\")\n",
    "elif marks>=60:\n",
    "    print(\"Grade D.\")\n",
    "else:\n",
    "    print(\"Failed.\")"
   ]
  },
  {
   "cell_type": "markdown",
   "id": "4674a09a-5d43-4175-9199-f6991f2e3a0f",
   "metadata": {},
   "source": [
    "# 7. Leap Year Checker\n",
    "Ask the user to input a year and check if it's a leap year using if-elif-else."
   ]
  },
  {
   "cell_type": "code",
   "execution_count": 81,
   "id": "8251d1d5-6b87-43ea-8960-78ced7ae0445",
   "metadata": {},
   "outputs": [
    {
     "name": "stdin",
     "output_type": "stream",
     "text": [
      "Please enter the year: 2003\n"
     ]
    },
    {
     "name": "stdout",
     "output_type": "stream",
     "text": [
      "It's not a leap year.\n"
     ]
    }
   ],
   "source": [
    "y=int(input(\"Please enter the year:\"))\n",
    "if y % 4 == 0:\n",
    "    print(\"It's a leap year.\")\n",
    "else:\n",
    "    print(\"It's not a leap year.\")"
   ]
  },
  {
   "cell_type": "markdown",
   "id": "0b0b6ea3-88e2-485c-b832-e4d714b652ff",
   "metadata": {},
   "source": [
    "# 8. Password Strength Checker\n",
    "Check the strength of a password based on its length:\n",
    "\n",
    "Weak: < 6 characters\n",
    "Medium: 6–10 characters\n",
    "Strong: > 10 characters"
   ]
  },
  {
   "cell_type": "code",
   "execution_count": 19,
   "id": "8d33b32e-ff5b-4e7c-9955-b90958b414e1",
   "metadata": {},
   "outputs": [
    {
     "name": "stdin",
     "output_type": "stream",
     "text": [
      "Please enter the password: 92837498327493827\n"
     ]
    },
    {
     "name": "stdout",
     "output_type": "stream",
     "text": [
      "It's a strong password.\n"
     ]
    }
   ],
   "source": [
    "pasw=input(\"Please enter the password:\")\n",
    "if len(pasw)<6:\n",
    "    print(\"It's a weak password.\")\n",
    "elif len(pasw)>=6 and len(pasw)<=10:\n",
    "    print(\"The strength of the password is medium.\")\n",
    "elif len(pasw)>10:\n",
    "    print(\"It's a strong password.\")\n",
    "else:\n",
    "    print(\"Please enter valid password.\")"
   ]
  },
  {
   "cell_type": "markdown",
   "id": "fdec6749-68d9-4956-8cbb-6b879770c919",
   "metadata": {},
   "source": [
    "# 9. Temperature Unit Converter (with Formula and Example)\n",
    "Write a Python program that asks the user to enter a temperature value and the unit (C for Celsius or F for Fahrenheit). Use if-elif-else to convert it to the other unit.\n",
    "\n",
    "🔸 Formulas:\n",
    "Celsius to Fahrenheit: F=(9/5*C)+32\n",
    " \n",
    "\n",
    "Fahrenheit to Celsius: C=(5/9*(F-32))\n",
    " \n",
    "\n",
    "🔸 Example 1: Convert 25°C to Fahrenheit\n",
    "Using the formula:\n",
    " \n",
    "\n",
    "Answer: 25°C = 77°F\n",
    "\n",
    "🔸 Example 2: Convert 98.6°F to Celsius\n",
    "Using the formula:\n",
    " \n",
    " \n",
    "\n",
    "Answer: 98.6°F = 37°C"
   ]
  },
  {
   "cell_type": "code",
   "execution_count": 31,
   "id": "de816fcf-ada7-40ba-910e-cab3368fb106",
   "metadata": {},
   "outputs": [
    {
     "name": "stdin",
     "output_type": "stream",
     "text": [
      "Enter the temperature at your location: 98\n",
      "Enter the unit of the temperature either celcius or fahrenhit: sadfds\n"
     ]
    },
    {
     "name": "stdout",
     "output_type": "stream",
     "text": [
      "Please enter valid data\n"
     ]
    }
   ],
   "source": [
    "temp=int(input(\"Enter the temperature at your location:\"))\n",
    "unit=str(input(\"Enter the unit of the temperature either celcius or fahrenhit:\"))\n",
    "if unit==\"celcius\":\n",
    "    t1=5/9*(temp-32)\n",
    "    t1=round(t1)\n",
    "    print(\"Your temperature in Fahrenhit is:\", t1)\n",
    "elif unit==\"fahrenhit\":\n",
    "    t2=(9/5*temp)+32\n",
    "    t2=round(t2)\n",
    "    print(\"Your temperature in Celcius is:\", t2)\n",
    "else:\n",
    "    print(\"Please enter valid input.\")"
   ]
  },
  {
   "cell_type": "markdown",
   "id": "74928a5f-d54d-4b3e-ab37-6bbb71c972ff",
   "metadata": {},
   "source": [
    "# 10. Simple Login System\n",
    "Ask the user to input a username and password. Check if both match a predefined value using if-else."
   ]
  },
  {
   "cell_type": "code",
   "execution_count": 62,
   "id": "c6e391ab-f724-4c15-a2dc-67abbc968377",
   "metadata": {},
   "outputs": [
    {
     "name": "stdin",
     "output_type": "stream",
     "text": [
      "Please enter your username: debm\n",
      "Please enter your password: Python\n"
     ]
    },
    {
     "name": "stdout",
     "output_type": "stream",
     "text": [
      "Login successful!\n"
     ]
    }
   ],
   "source": [
    "uname=str(input(\"Please enter your username:\"))\n",
    "pasw=str(input(\"Please enter your password:\"))\n",
    "uname1=\"debm\"\n",
    "pasw1=\"Python\"\n",
    "if uname==uname1 and pasw==pasw1:\n",
    "    print(\"Login successful!\")\n",
    "else:\n",
    "    print(\"Please enter valid credentials.\")"
   ]
  },
  {
   "cell_type": "code",
   "execution_count": null,
   "id": "27f31e33-8ad8-411c-80dc-145b3f38fcf5",
   "metadata": {},
   "outputs": [],
   "source": []
  }
 ],
 "metadata": {
  "kernelspec": {
   "display_name": "Python [conda env:base] *",
   "language": "python",
   "name": "conda-base-py"
  },
  "language_info": {
   "codemirror_mode": {
    "name": "ipython",
    "version": 3
   },
   "file_extension": ".py",
   "mimetype": "text/x-python",
   "name": "python",
   "nbconvert_exporter": "python",
   "pygments_lexer": "ipython3",
   "version": "3.12.7"
  }
 },
 "nbformat": 4,
 "nbformat_minor": 5
}
