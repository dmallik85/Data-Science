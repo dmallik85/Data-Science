{
 "cells": [
  {
   "cell_type": "markdown",
   "id": "47f0726f-dec0-4f45-847d-a05971f888bc",
   "metadata": {},
   "source": [
    "# Introduction to Statistics\n",
    "\n",
    "Numbers that have been collected to provide information about something."
   ]
  },
  {
   "cell_type": "markdown",
   "id": "66b80e67-8f02-402e-a3d3-a5a9261c217e",
   "metadata": {},
   "source": [
    "# 1 - Types of Statistics\n",
    "\n",
    "### A. Descriptive Statistics  \n",
    "Summarizes and organizes data to make it easier to understand.\n",
    "\n",
    "### B. Inferential Statistics  \n",
    "Uses sample data to make predictions or draw conclusions about a population."
   ]
  },
  {
   "cell_type": "markdown",
   "id": "d2224c9e-63a4-403e-b852-a00a11ce0e81",
   "metadata": {},
   "source": [
    "# A → Descriptive Statistics\n",
    "\n",
    "Descriptive Statistics are used when we analyze the **entire population** and calculate values like **mean**, **median**, or **average**.\n",
    "\n",
    "### Example:  \n",
    "Suppose we have a class, and we want to find the **average marks** of all students in Mathematics.  \n",
    "We conduct an exam, collect the marks of **every student**, and then calculate the **mean or average**.  \n",
    "This result gives us a clear picture of the class's performance.\n",
    "\n",
    "### Summary:  \n",
    "When we apply statistical methods to the **whole population** and get a result,  \n",
    "this is called **Descriptive Statistics**.\n"
   ]
  },
  {
   "cell_type": "markdown",
   "id": "9cbf2897-dc0e-4cf0-afcc-30d1863c42e4",
   "metadata": {},
   "source": [
    "# B → Inferential Statistics\n",
    "\n",
    "Inferential Statistics are used when we apply statistics on a **sample** (a small part of the population),  \n",
    "and then **use that result to make assumptions about the whole population**.\n",
    "\n",
    "### Example:  \n",
    "In the USA, a company developed a COVID vaccine.  \n",
    "They tested the vaccine on **40,000 people**, and found it to be **95% effective**.  \n",
    "Based on this sample, they assumed that the vaccine would also be **95% effective**  \n",
    "for the entire population of **300 million**.\n",
    "\n",
    "### Summary:  \n",
    "When we apply statistics to a **sample population**, get a result,  \n",
    "and then **assume that result applies to the whole population**,  \n",
    "this is called **Inferential Statistics**.\n"
   ]
  },
  {
   "cell_type": "markdown",
   "id": "110eeadd-42b8-4d8c-aad9-e932b02825fb",
   "metadata": {},
   "source": [
    "# 2- Analytics Methodology and How industry use statistics\n",
    "\n",
    "A- Wheather Forecasting\n",
    "\n",
    "B- Given Insurence\n",
    "\n",
    "C- Stock Market\n",
    "\n",
    "D- Drug effectiveness before releasing to the public\n",
    "\n",
    "E- Diseased Survivel Probablity\n",
    "\n",
    "F- Election Winning and Exit poll pridiction\n",
    "\n",
    "G- Load approval and Fraud detection\n",
    "\n",
    "H- Netflix and Amazon recommendation\\\n",
    "\n",
    "I- New campaign effictiveness"
   ]
  },
  {
   "cell_type": "markdown",
   "id": "b0e064a9-687d-4eb3-9c61-236c3cef7c93",
   "metadata": {},
   "source": [
    "# 3- Population and Sample\n",
    "\n",
    "Population- Population Means the total number of population present .\n",
    "\n",
    "Sample- Sample means we take few number of population as sample ."
   ]
  },
  {
   "cell_type": "markdown",
   "id": "7a72114a-5fff-4513-acf0-bec5f886e4a0",
   "metadata": {},
   "source": [
    "# 4-  Parameter and Statistics ('Mean','Median','Mode')"
   ]
  },
  {
   "cell_type": "code",
   "execution_count": 10,
   "id": "fb386ffe-48ca-497f-abe6-9ecfd1d544f0",
   "metadata": {},
   "outputs": [
    {
     "name": "stdout",
     "output_type": "stream",
     "text": [
      "45\n"
     ]
    }
   ],
   "source": [
    "#Mean (Using Stats)\n",
    "import statistics as st\n",
    "import pandas as pd\n",
    "import numpy as np\n",
    "x=[10,20,30,40,35,40,40,50,50,50,50,45,50,60,70,80]\n",
    "print(st.mean(x))"
   ]
  },
  {
   "cell_type": "markdown",
   "id": "11406c36-520d-402b-a1fd-1e461582fe79",
   "metadata": {},
   "source": [
    "NOTE: Lets Remember one thing when you convert a list into **DataFrame** then. statistics not working. then you again conver to the list."
   ]
  },
  {
   "cell_type": "code",
   "execution_count": 16,
   "id": "9650bbd3-e805-4a66-a32a-f894d880de91",
   "metadata": {},
   "outputs": [
    {
     "data": {
      "text/html": [
       "<div>\n",
       "<style scoped>\n",
       "    .dataframe tbody tr th:only-of-type {\n",
       "        vertical-align: middle;\n",
       "    }\n",
       "\n",
       "    .dataframe tbody tr th {\n",
       "        vertical-align: top;\n",
       "    }\n",
       "\n",
       "    .dataframe thead th {\n",
       "        text-align: right;\n",
       "    }\n",
       "</style>\n",
       "<table border=\"1\" class=\"dataframe\">\n",
       "  <thead>\n",
       "    <tr style=\"text-align: right;\">\n",
       "      <th></th>\n",
       "      <th>0</th>\n",
       "    </tr>\n",
       "  </thead>\n",
       "  <tbody>\n",
       "    <tr>\n",
       "      <th>0</th>\n",
       "      <td>10</td>\n",
       "    </tr>\n",
       "    <tr>\n",
       "      <th>1</th>\n",
       "      <td>20</td>\n",
       "    </tr>\n",
       "    <tr>\n",
       "      <th>2</th>\n",
       "      <td>30</td>\n",
       "    </tr>\n",
       "    <tr>\n",
       "      <th>3</th>\n",
       "      <td>40</td>\n",
       "    </tr>\n",
       "    <tr>\n",
       "      <th>4</th>\n",
       "      <td>35</td>\n",
       "    </tr>\n",
       "    <tr>\n",
       "      <th>5</th>\n",
       "      <td>40</td>\n",
       "    </tr>\n",
       "    <tr>\n",
       "      <th>6</th>\n",
       "      <td>40</td>\n",
       "    </tr>\n",
       "    <tr>\n",
       "      <th>7</th>\n",
       "      <td>50</td>\n",
       "    </tr>\n",
       "    <tr>\n",
       "      <th>8</th>\n",
       "      <td>50</td>\n",
       "    </tr>\n",
       "    <tr>\n",
       "      <th>9</th>\n",
       "      <td>50</td>\n",
       "    </tr>\n",
       "    <tr>\n",
       "      <th>10</th>\n",
       "      <td>50</td>\n",
       "    </tr>\n",
       "    <tr>\n",
       "      <th>11</th>\n",
       "      <td>45</td>\n",
       "    </tr>\n",
       "    <tr>\n",
       "      <th>12</th>\n",
       "      <td>50</td>\n",
       "    </tr>\n",
       "    <tr>\n",
       "      <th>13</th>\n",
       "      <td>60</td>\n",
       "    </tr>\n",
       "    <tr>\n",
       "      <th>14</th>\n",
       "      <td>70</td>\n",
       "    </tr>\n",
       "    <tr>\n",
       "      <th>15</th>\n",
       "      <td>80</td>\n",
       "    </tr>\n",
       "  </tbody>\n",
       "</table>\n",
       "</div>"
      ],
      "text/plain": [
       "     0\n",
       "0   10\n",
       "1   20\n",
       "2   30\n",
       "3   40\n",
       "4   35\n",
       "5   40\n",
       "6   40\n",
       "7   50\n",
       "8   50\n",
       "9   50\n",
       "10  50\n",
       "11  45\n",
       "12  50\n",
       "13  60\n",
       "14  70\n",
       "15  80"
      ]
     },
     "execution_count": 16,
     "metadata": {},
     "output_type": "execute_result"
    }
   ],
   "source": [
    "#Using Pandas \n",
    "x=pd.DataFrame(x)\n",
    "x"
   ]
  },
  {
   "cell_type": "code",
   "execution_count": 18,
   "id": "71062d43-e12b-4b0c-98e6-dd1e7a6afa56",
   "metadata": {},
   "outputs": [
    {
     "data": {
      "text/plain": [
       "0    45.0\n",
       "dtype: float64"
      ]
     },
     "execution_count": 18,
     "metadata": {},
     "output_type": "execute_result"
    }
   ],
   "source": [
    "# When calculating mean, we should use pandas method as below but not to use st.mean()\n",
    "x.mean()"
   ]
  },
  {
   "cell_type": "code",
   "execution_count": 30,
   "id": "58ee08ed-ba88-431a-a6fe-4f155f3297cd",
   "metadata": {},
   "outputs": [
    {
     "name": "stdout",
     "output_type": "stream",
     "text": [
      "0\n"
     ]
    }
   ],
   "source": [
    "# Median\n",
    "print(st.median(x)) # It doesn't work as it is not a pandas method, as x is now a dataframe"
   ]
  },
  {
   "cell_type": "code",
   "execution_count": 22,
   "id": "7e11e807-3483-4dfb-aae0-7afee28822ba",
   "metadata": {},
   "outputs": [
    {
     "data": {
      "text/plain": [
       "0    47.5\n",
       "dtype: float64"
      ]
     },
     "execution_count": 22,
     "metadata": {},
     "output_type": "execute_result"
    }
   ],
   "source": [
    "x.median()   # This is pandas method and it works well"
   ]
  },
  {
   "cell_type": "code",
   "execution_count": 24,
   "id": "0aced229-3601-41be-9a5f-97325f268f99",
   "metadata": {},
   "outputs": [
    {
     "name": "stdout",
     "output_type": "stream",
     "text": [
      "0\n"
     ]
    }
   ],
   "source": [
    "# Mode\n",
    "print(st.mode(x))    # It doesn't work as it is not a pandas method"
   ]
  },
  {
   "cell_type": "code",
   "execution_count": 26,
   "id": "a1d02fd0-cd67-4858-a493-339b5a34c837",
   "metadata": {},
   "outputs": [
    {
     "data": {
      "text/html": [
       "<div>\n",
       "<style scoped>\n",
       "    .dataframe tbody tr th:only-of-type {\n",
       "        vertical-align: middle;\n",
       "    }\n",
       "\n",
       "    .dataframe tbody tr th {\n",
       "        vertical-align: top;\n",
       "    }\n",
       "\n",
       "    .dataframe thead th {\n",
       "        text-align: right;\n",
       "    }\n",
       "</style>\n",
       "<table border=\"1\" class=\"dataframe\">\n",
       "  <thead>\n",
       "    <tr style=\"text-align: right;\">\n",
       "      <th></th>\n",
       "      <th>0</th>\n",
       "    </tr>\n",
       "  </thead>\n",
       "  <tbody>\n",
       "    <tr>\n",
       "      <th>0</th>\n",
       "      <td>50</td>\n",
       "    </tr>\n",
       "  </tbody>\n",
       "</table>\n",
       "</div>"
      ],
      "text/plain": [
       "    0\n",
       "0  50"
      ]
     },
     "execution_count": 26,
     "metadata": {},
     "output_type": "execute_result"
    }
   ],
   "source": [
    "x.mode()     # This is pandas method and it works well"
   ]
  },
  {
   "cell_type": "markdown",
   "id": "0e2bdb51-6bf2-4da1-be1f-153d3538bb54",
   "metadata": {},
   "source": [
    "# 5 → Uses of Variables: Dependent and Independent Variables\n",
    "\n",
    "### What is a Variable?  \n",
    "A **variable** is anything that you want to **study**, **control**, **measure**, or **change** in your research or experiment.\n",
    "\n",
    "---\n",
    "\n",
    "## Usage of Variables:\n",
    "\n",
    "### A → Dependent Variable  \n",
    "A **Dependent Variable** is something that **depends on something else**.  \n",
    "It is the **effect** in an experiment — the thing you are measuring.\n",
    "\n",
    "**Example:**  \n",
    "- Your **marks** depend on how much you study.  \n",
    "  So, **Marks = Dependent Variable**\n",
    "\n",
    "### B → Independent Variable  \n",
    "An **Independent Variable** is **not dependent** on anything else.  \n",
    "It is the **cause** in an experiment — the thing you change or control.\n",
    "\n",
    "**Example:**  \n",
    "- Your **age** increases with time. It doesn’t depend on your actions.  \n",
    "  So, **Age = Independent Variable**\n",
    "\n",
    "---\n",
    "\n",
    "## Let's Understand Uses of Variables:\n",
    "\n",
    "- If you don’t study, your marks will decrease.  \n",
    "  So, your **marks** are **dependent** on your **study**.  \n",
    "  Here, **Study = Independent Variable**, **Marks = Dependent Variable**\n",
    "\n",
    "- Another example:  \n",
    "  **Hard work leads to success**.  \n",
    "  - Success is **dependent** on your **hard work**.  \n",
    "  - **Hard work** is **independent**, because it depends on you.  \n",
    "  - If you work hard, you will succeed.\n",
    "\n",
    "---\n",
    "\n",
    "### Summary:\n",
    "\n",
    "| Variable Type       | What it Does                        | Example                   |\n",
    "|---------------------|--------------------------------------|---------------------------|\n",
    "| Independent Variable| What **you control or change**       | Study, Hard Work, Age     |\n",
    "| Dependent Variable  | What **you measure or observe**      | Marks, Success            |\n",
    "\n",
    "> In short:  \n",
    "> **Independent Variable = Cause** (you control)  \n",
    "> **Dependent Variable = Effect** (you measure)\n"
   ]
  },
  {
   "cell_type": "markdown",
   "id": "718269a1-785a-4c06-8bc2-bf8c166204c7",
   "metadata": {},
   "source": [
    "# 6- Types of Variable continuous and Categorical Variable"
   ]
  },
  {
   "cell_type": "markdown",
   "id": "92b2c052-dbbe-4877-b23e-a3cff7ca5487",
   "metadata": {},
   "source": [
    "![variable](variable.png)"
   ]
  },
  {
   "cell_type": "markdown",
   "id": "11adff21-6c26-42d4-ae9c-765324323f1b",
   "metadata": {},
   "source": [
    "# Types of Variables   (Interview Question)\n",
    "\n",
    "There are two types of variables: **1. Numberical** **2. Categorical**\n",
    "\n",
    "There are two types of Numerical variables: **1. Continious** (age, marks) **2. Discrete** (shoe size, ranks)\n",
    "\n",
    "There are two (actually 3) types of Categorical variables: **1. Ordinal** (Rating, education lavel) **2. Nominal** (Gender, brands) **3. Binary** (Yes, No)\n",
    "\n",
    "---\n",
    "\n",
    "## A. Numerical Variables\n",
    "\n",
    "### I. Continuous Data\n",
    "\n",
    "This refers to data that can take **any value** within a range. There is no fixed limit.\n",
    "\n",
    "- **Age** – Age can be any value (e.g., 20.5 years, 18.75 years, etc.).\n",
    "- **Marks** – Marks can be any number, such as 0, 1.19, or 76.3.\n",
    "\n",
    "### II. Discrete Data\n",
    "\n",
    "These are **numerical values**, but they come in **fixed steps or limits**. This is known as *discrete data*.\n",
    "\n",
    "- **Shoe Size** – When you go to a shoe shop and ask for size 6.8, they may laugh because shoe sizes only come in fixed values like 6, 7, 8, etc.\n",
    "- **Rank** – Ranks are whole numbers like 1, 2, 3, etc. You don't get a rank like 1.25. This is discrete data.\n",
    "\n",
    "---\n",
    "\n",
    "## B. Categorical Variables (String)\n",
    "\n",
    "### I. Ordinal Data\n",
    "\n",
    "This refers to data that has a **meaningful order or ranking**.\n",
    "\n",
    "- **Education Level** – For example, if you're in 7th grade, you can’t directly jump to 10th grade. You must follow the proper order (6th → 7th → 8th...). This type of data is called *ordinal data*.\n",
    "\n",
    "### II. Nominal Data\n",
    "\n",
    "This is used only for **labeling or naming**. The values have **no meaningful order**.\n",
    "\n",
    "- **Roll Number** – Your roll number is just an identifier. It doesn’t describe anything about your performance or skills.\n",
    "- **Gender** – Gender categories (male, female, etc.) are just labels and don’t define a person's capability. This is called *nominal data*.\n",
    "\n",
    "### III. Binary Data\n",
    "\n",
    "This is used for decision making. There can be two outcome of such variables like 'Yes' or 'No'.\n"
   ]
  },
  {
   "cell_type": "markdown",
   "id": "fca5f415-cc92-4c27-a0e5-c76ce4d67e5f",
   "metadata": {},
   "source": [
    "# Descriptive Statistics\n",
    "\n",
    "## 1. Measure of Central Tendency (Mean, Median, Mode)\n",
    "\n",
    "A **single value** that represents the entire dataset is called an **average**, or a **measure of central tendency** (also known as a **measure of location**). We use **mean**, **median**, and **mode** to describe the central tendency of data.\n",
    "\n",
    "**Example I:**  \n",
    "Suppose during the COVID-19 pandemic, the daily number of cases was around **35,250**.  \n",
    "We usually say:  \n",
    "> \"Daily COVID cases are increasing by around 35K.\"  \n",
    "This is the **average** increase in cases per day — a real-world example of **mean**.\n",
    "\n",
    "---\n",
    "\n",
    "## 2. Measure of Dispersion (Spread) — Variance and Standard Deviation\n",
    "\n",
    "Now, imagine I offer you a job with a **5 LPA (Lakh Per Annum)** salary, but I also say it could vary by ±50K.  \n",
    "So, your salary could be **4.5 LPA** or **5.5 LPA**.  \n",
    "This spread of **±50K** is a **measure of dispersion**, and the value **50K** is called the **standard deviation**.\n",
    "\n",
    "### Variance\n",
    "\n",
    "Let’s say we have salary data for 2 people:\n",
    "\n",
    "- Person 1: ₹2 LPA  \n",
    "- Person 2: ₹3 LPA  \n",
    "\n",
    "The variance in their salaries is **₹1 lakh²** (since variance is in squared units).  \n",
    "If we had many salary values, we would calculate a single number — the **variance** — which tells us **how much the data is varying** from the mean.\n",
    "\n",
    "###  Standard Deviation \n",
    "\n",
    "####  What is Standard Deviation?\n",
    "\n",
    "Standard Deviation tells us **how much the data is spread out** from the mean (average).\n",
    "\n",
    "- If the standard deviation is **low**, the data is **close to the mean**.\n",
    "- If it's **high**, the data is **spread out**.\n",
    "\n",
    "Marks = 4, 6, 8, 6, 6\n",
    "\n",
    "---\n",
    "\n",
    "##### 🔹 Step 1: Find the Mean (Average)\n",
    "\n",
    "\\$[\n",
    "\\text{Mean} = \\frac{4 + 6 + 8 + 6 + 6}{5} = \\frac{30}{5} = 6\n",
    "\\$]\n",
    "\n",
    "---\n",
    "\n",
    "##### 🔹 Step 2: Find the Difference from the Mean\n",
    "\n",
    "\\$[\n",
    "(4 - 6) = -2 \\\\\n",
    "(6 - 6) = 0 \\\\\n",
    "(8 - 6) = 2 \\\\\n",
    "(6 - 6) = 0 \\\\\n",
    "(6 - 6) = 0\n",
    "\\$]\n",
    "\n",
    "---\n",
    "\n",
    "##### 🔹 Step 3: Square the Differences\n",
    "\n",
    "\\$[\n",
    "(-2)^2 = 4 \\\\\n",
    "0^2 = 0 \\\\\n",
    "2^2 = 4 \\\\\n",
    "0^2 = 0 \\\\\n",
    "0^2 = 0\n",
    "\\$]\n",
    "\n",
    "---\n",
    "\n",
    "##### 🔹 Step 4: Find the Variance\n",
    "\n",
    "\\$[\n",
    "\\text{Variance} = \\frac{4 + 0 + 4 + 0 + 0}{5} = \\frac{8}{5} = 1.6\n",
    "\\$]\n",
    "\n",
    "---\n",
    "\n",
    "##### 🔹 Step 5: Standard Deviation\n",
    "\n",
    "\\$[\n",
    "\\text{Standard Deviation} = \\sqrt{1.6} \\approx 1.26\n",
    "\\$]\n",
    "\n",
    "---\n",
    "\n",
    "##  Conclusion\n",
    "\n",
    "- **Mean** = 6  \n",
    "- **Standard Deviation** ≈ 1.26\n",
    "\n",
    "This means students' marks are **close to the average** of 6, with a small variation of about **1.26 marks**.\n",
    "\n",
    "---\n",
    "\n",
    "> If all students had the same marks (like all 6s), the standard deviation would be **0**, because there's no variation.\n",
    "\n",
    "---"
   ]
  },
  {
   "cell_type": "markdown",
   "id": "6a1a5448-b6a6-4f24-b18d-4119391e8a88",
   "metadata": {},
   "source": [
    "## Variance Calculation"
   ]
  },
  {
   "cell_type": "markdown",
   "id": "1f759b40-1ba5-4f0a-a9a2-4e1898bd62ba",
   "metadata": {},
   "source": [
    "For Calculation of Variance There is a formula .\n",
    "\n",
    "Measure of dispersion\n",
    "\n",
    "x=data,Mu is means, N= occurance"
   ]
  },
  {
   "cell_type": "markdown",
   "id": "7a2ac8d0-1bec-466c-97c4-7e71cd4df000",
   "metadata": {},
   "source": [
    "![variance.png](variance.png)"
   ]
  },
  {
   "cell_type": "code",
   "execution_count": 27,
   "id": "751a6954-5325-4e7c-aa0b-cb1f6542b569",
   "metadata": {},
   "outputs": [
    {
     "data": {
      "text/plain": [
       "219.55555555555557"
      ]
     },
     "execution_count": 27,
     "metadata": {},
     "output_type": "execute_result"
    }
   ],
   "source": [
    "import numpy as np\n",
    "x=[20,34,56]        # i=1 to N=3 (we have 3 data) | Xi=20, Xi=34 etc.. and Mu=mean\n",
    "avg=np.mean(x)\n",
    "avg\n",
    "y=np.sum((np.square(20-avg)+np.square(34-avg)+np.square(56-avg))/3)\n",
    "y"
   ]
  },
  {
   "cell_type": "code",
   "execution_count": 25,
   "id": "530d92d2-97c8-463d-8ab6-e834e5d6d299",
   "metadata": {},
   "outputs": [
    {
     "name": "stdout",
     "output_type": "stream",
     "text": [
      "Variance = 219.55555555555557\n"
     ]
    }
   ],
   "source": [
    "# How to perform the same with a formula to find Variance\n",
    "import numpy as np\n",
    "\n",
    "print('Variance =',np.var(x))"
   ]
  },
  {
   "cell_type": "code",
   "execution_count": 29,
   "id": "c6396477-95a3-48cf-a013-15214697eb7a",
   "metadata": {},
   "outputs": [
    {
     "data": {
      "text/plain": [
       "14.817407180595247"
      ]
     },
     "execution_count": 29,
     "metadata": {},
     "output_type": "execute_result"
    }
   ],
   "source": [
    "# Now let's see how to find standard deviation\n",
    "\n",
    "np.sqrt(y)   # Square root of variance is the standard deviation"
   ]
  },
  {
   "cell_type": "code",
   "execution_count": 31,
   "id": "1855289c-8f0e-4f4b-a6ce-082016a34609",
   "metadata": {},
   "outputs": [
    {
     "name": "stdout",
     "output_type": "stream",
     "text": [
      "Standard Deviation 14.817407180595247\n"
     ]
    }
   ],
   "source": [
    "# How to perform the same with a formula to find Standard Deviation\n",
    "\n",
    "print('Standard Deviation',np.std(x))"
   ]
  },
  {
   "cell_type": "markdown",
   "id": "4ec0e3d8-5478-4c96-a012-81da1024a8fd",
   "metadata": {},
   "source": [
    "![sample](sample.png)"
   ]
  },
  {
   "cell_type": "code",
   "execution_count": 36,
   "id": "7cd031fc-4807-47f1-8244-7fbf86486032",
   "metadata": {},
   "outputs": [
    {
     "data": {
      "text/html": [
       "<div>\n",
       "<style scoped>\n",
       "    .dataframe tbody tr th:only-of-type {\n",
       "        vertical-align: middle;\n",
       "    }\n",
       "\n",
       "    .dataframe tbody tr th {\n",
       "        vertical-align: top;\n",
       "    }\n",
       "\n",
       "    .dataframe thead th {\n",
       "        text-align: right;\n",
       "    }\n",
       "</style>\n",
       "<table border=\"1\" class=\"dataframe\">\n",
       "  <thead>\n",
       "    <tr style=\"text-align: right;\">\n",
       "      <th></th>\n",
       "      <th>0</th>\n",
       "    </tr>\n",
       "  </thead>\n",
       "  <tbody>\n",
       "    <tr>\n",
       "      <th>0</th>\n",
       "      <td>10</td>\n",
       "    </tr>\n",
       "    <tr>\n",
       "      <th>1</th>\n",
       "      <td>20</td>\n",
       "    </tr>\n",
       "    <tr>\n",
       "      <th>2</th>\n",
       "      <td>30</td>\n",
       "    </tr>\n",
       "    <tr>\n",
       "      <th>3</th>\n",
       "      <td>40</td>\n",
       "    </tr>\n",
       "    <tr>\n",
       "      <th>4</th>\n",
       "      <td>50</td>\n",
       "    </tr>\n",
       "    <tr>\n",
       "      <th>5</th>\n",
       "      <td>60</td>\n",
       "    </tr>\n",
       "    <tr>\n",
       "      <th>6</th>\n",
       "      <td>70</td>\n",
       "    </tr>\n",
       "    <tr>\n",
       "      <th>7</th>\n",
       "      <td>80</td>\n",
       "    </tr>\n",
       "  </tbody>\n",
       "</table>\n",
       "</div>"
      ],
      "text/plain": [
       "    0\n",
       "0  10\n",
       "1  20\n",
       "2  30\n",
       "3  40\n",
       "4  50\n",
       "5  60\n",
       "6  70\n",
       "7  80"
      ]
     },
     "execution_count": 36,
     "metadata": {},
     "output_type": "execute_result"
    }
   ],
   "source": [
    "import pandas as pd\n",
    "#Quantile\n",
    "y=[10,20,30,40,50,60,70,80]\n",
    "y_=pd.DataFrame(y)\n",
    "y_"
   ]
  },
  {
   "cell_type": "code",
   "execution_count": 38,
   "id": "62344bd6-2acd-4140-b7b4-27368c3dac2a",
   "metadata": {},
   "outputs": [
    {
     "data": {
      "text/html": [
       "<div>\n",
       "<style scoped>\n",
       "    .dataframe tbody tr th:only-of-type {\n",
       "        vertical-align: middle;\n",
       "    }\n",
       "\n",
       "    .dataframe tbody tr th {\n",
       "        vertical-align: top;\n",
       "    }\n",
       "\n",
       "    .dataframe thead th {\n",
       "        text-align: right;\n",
       "    }\n",
       "</style>\n",
       "<table border=\"1\" class=\"dataframe\">\n",
       "  <thead>\n",
       "    <tr style=\"text-align: right;\">\n",
       "      <th></th>\n",
       "      <th>0</th>\n",
       "    </tr>\n",
       "  </thead>\n",
       "  <tbody>\n",
       "    <tr>\n",
       "      <th>count</th>\n",
       "      <td>8.000000</td>\n",
       "    </tr>\n",
       "    <tr>\n",
       "      <th>mean</th>\n",
       "      <td>45.000000</td>\n",
       "    </tr>\n",
       "    <tr>\n",
       "      <th>std</th>\n",
       "      <td>24.494897</td>\n",
       "    </tr>\n",
       "    <tr>\n",
       "      <th>min</th>\n",
       "      <td>10.000000</td>\n",
       "    </tr>\n",
       "    <tr>\n",
       "      <th>25%</th>\n",
       "      <td>27.500000</td>\n",
       "    </tr>\n",
       "    <tr>\n",
       "      <th>50%</th>\n",
       "      <td>45.000000</td>\n",
       "    </tr>\n",
       "    <tr>\n",
       "      <th>75%</th>\n",
       "      <td>62.500000</td>\n",
       "    </tr>\n",
       "    <tr>\n",
       "      <th>max</th>\n",
       "      <td>80.000000</td>\n",
       "    </tr>\n",
       "  </tbody>\n",
       "</table>\n",
       "</div>"
      ],
      "text/plain": [
       "               0\n",
       "count   8.000000\n",
       "mean   45.000000\n",
       "std    24.494897\n",
       "min    10.000000\n",
       "25%    27.500000\n",
       "50%    45.000000\n",
       "75%    62.500000\n",
       "max    80.000000"
      ]
     },
     "execution_count": 38,
     "metadata": {},
     "output_type": "execute_result"
    }
   ],
   "source": [
    "#Lets check the describe method it gives a stats of a data \n",
    "y_.describe()   # This describe method from pandas which gives statistical data"
   ]
  },
  {
   "cell_type": "code",
   "execution_count": 44,
   "id": "e586b71f-cf25-40b4-b479-0655abc974c8",
   "metadata": {},
   "outputs": [
    {
     "name": "stdout",
     "output_type": "stream",
     "text": [
      "35.0\n",
      "70\n"
     ]
    }
   ],
   "source": [
    "#Inter Quantile Range- Q3-Q1\n",
    "IQR=62.500000 - 27.500000\n",
    "print(IQR)\n",
    "#Quantile Range = max-min\n",
    "QR=80-10\n",
    "print(QR)\n",
    "#IQ Range"
   ]
  },
  {
   "cell_type": "markdown",
   "id": "0c000dd3-f706-44d9-acb7-43a365ff464d",
   "metadata": {},
   "source": [
    "# Inferential Statistics\n",
    "\n",
    "Sampling data and infer the result to describe entire population."
   ]
  },
  {
   "cell_type": "markdown",
   "id": "137b58ea-ad8f-4b24-a140-53b2c132986a",
   "metadata": {},
   "source": [
    "   # Types of Distribution -\n",
    "   \n",
    "   There are Various types of distribution in statistics . but most commonly used distribution is normal distribution and Z distribution in our course.\n",
    "\n",
    "### 1. Normal Distribution\n",
    "\n",
    "- A **Normal Distribution** is a type of continuous probability distribution that is **symmetrical** and **bell-shaped**.\n",
    "- It is also known as the **Gaussian Distribution**.\n",
    "- In a standard normal distribution:\n",
    "  - The **mean (μ)** is `0`\n",
    "  - The **standard deviation (σ)** is `1`\n",
    " \n",
    " ####  Use in Real Life:\n",
    "- Many natural and human-related measurements (like height, weight, exam scores) follow a normal distribution.\n",
    "- It is widely used in statistics, data science, and machine learning models."
   ]
  },
  {
   "cell_type": "markdown",
   "id": "7c52ce22-fed2-40bd-b751-e3afc9be6f93",
   "metadata": {},
   "source": [
    "![distribution](distribution.png)"
   ]
  },
  {
   "cell_type": "markdown",
   "id": "e1c697ad-8bf0-4139-b4c7-e96843ce18f5",
   "metadata": {},
   "source": [
    "### 2.  Skewed Left (Left-Skewed Distribution)\n",
    "\n",
    "- Suppose we have marks of all the students in a class. Let's say there are **60 students** in total.\n",
    "- We want to check:\n",
    "  - How many students are **average scorers**\n",
    "  - How many are **below average**\n",
    "  - And how many students scored **very low marks**\n",
    "\n",
    "- To understand this, we **create a graph** of the marks distribution.\n",
    "- If the graph is **stretched towards the left side** (i.e., the **tail is longer on the left**), then it is called a **Left-Skewed** or **Negatively Skewed** distribution.\n",
    "\n",
    "---\n",
    "\n",
    "####  Meaning of Skewed Left:\n",
    "- **Most students got high or average marks**, and **few students scored very low marks**.\n",
    "- These **few low scores pull the tail of the graph to the left** side.\n",
    "\n",
    "---\n",
    "\n",
    "####  As a Data Scientist:\n",
    "- We try to **transform this skewed data** to make it **closer to a Normal Distribution** (bell-shaped), because:\n",
    "  - Many statistical models and machine learning algorithms **work better on normally distributed data**.\n"
   ]
  },
  {
   "cell_type": "code",
   "execution_count": 55,
   "id": "19a293fa-47ac-4109-810e-870c7ae26cdd",
   "metadata": {},
   "outputs": [
    {
     "name": "stderr",
     "output_type": "stream",
     "text": [
      "C:\\Users\\DEBU\\AppData\\Local\\Temp\\ipykernel_9812\\2191257628.py:7: UserWarning: \n",
      "\n",
      "`distplot` is a deprecated function and will be removed in seaborn v0.14.0.\n",
      "\n",
      "Please adapt your code to use either `displot` (a figure-level function with\n",
      "similar flexibility) or `histplot` (an axes-level function for histograms).\n",
      "\n",
      "For a guide to updating your code to use the new functions, please see\n",
      "https://gist.github.com/mwaskom/de44147ed2974457ad6372750bbe5751\n",
      "\n",
      "  sns.distplot(df)\n"
     ]
    },
    {
     "data": {
      "image/png": "[encoded data removed]",
      "text/plain": [
       "<Figure size 640x480 with 1 Axes>"
      ]
     },
     "metadata": {},
     "output_type": "display_data"
    }
   ],
   "source": [
    "a=[2,22,21,23,25,24,25,21,25,24]\n",
    "import seaborn as sns\n",
    "import pandas as pd\n",
    "import numpy as np\n",
    "import matplotlib.pyplot as plt\n",
    "df=pd.DataFrame(a)\n",
    "sns.distplot(df)     # It is a left skewed data"
   ]
  },
  {
   "cell_type": "markdown",
   "id": "7406ec6c-cbd2-4729-8b8f-f1bab7244bfc",
   "metadata": {},
   "source": [
    "###  3. Skewed Right (Right-Skewed Distribution)\n",
    "\n",
    "- Suppose we have marks of all the students in a class. Let's say there are **60 students** in total.\n",
    "- We want to check:\n",
    "  - How many students are **average scorers**\n",
    "  - How many are **below average**\n",
    "  - And how many students scored **100 out of 100**\n",
    "\n",
    "- To understand this, we **create a graph** of the marks distribution.\n",
    "- If the graph is **stretched towards the right side** (i.e., the **tail is longer on the right**), then it is called a **Right-Skewed** or **Positively Skewed** distribution.\n",
    "\n",
    "---\n",
    "\n",
    "#### Meaning of Skewed Right:\n",
    "- **Most students got low or average marks**, and **few students scored very high marks** like 100.\n",
    "- These **few high scores pull the tail of the graph to the right** side.\n",
    "\n",
    "---\n",
    "\n",
    "####  As a Data Scientist:\n",
    "- We try to **transform this skewed data** to make it **closer to a Normal Distribution** (bell-shaped), because:\n",
    "  - Many statistical models and machine learning algorithms **work better on normally distributed data**.\n"
   ]
  },
  {
   "cell_type": "markdown",
   "id": "536e20b1-8363-4247-b322-84c132df23f3",
   "metadata": {},
   "source": [
    "## Important Notes\n",
    "\n",
    "When working with data, some machine learning models assume that the data is normally distributed. Based on this assumption, the algorithms are designed accordingly. So, it's the responsibility of the AI/ML engineer to provide the data in a normal distribution.\n",
    "\n",
    "If the data is not normally distributed, then it's our job to transform it so that it becomes normal before passing it to the machine learning algorithm.\n",
    "\n",
    "How to do this — we’ll discuss that next!"
   ]
  },
  {
   "cell_type": "code",
   "execution_count": 63,
   "id": "31fa0302-ddb0-4099-a378-dff9a16102f5",
   "metadata": {},
   "outputs": [
    {
     "data": {
      "image/png": "[encoded data removed]",
      "text/plain": [
       "<Figure size 1000x600 with 1 Axes>"
      ]
     },
     "metadata": {},
     "output_type": "display_data"
    }
   ],
   "source": [
    "import numpy as np\n",
    "import matplotlib.pyplot as plt\n",
    "import seaborn as sns\n",
    "\n",
    "#Step 1: Generate data using randn()\n",
    "data=np.random.randn(1000)   # 100 values from standard normal distribution (mean=0, std=1)\n",
    "\n",
    "#Step 2: Plot the histogram with KDE (curve)\n",
    "plt.figure(figsize=(10,6))\n",
    "sns.histplot(data,bins=30,kde=True,color=\"lightgreen\",edgecolor=\"black\")\n",
    "\n",
    "#Step 3: Add titles tand tabels\n",
    "plt.title(\"Normal Distribution using np.random.randn()\", fontsize=14)\n",
    "plt.xlabel(\"Value\")\n",
    "plt.ylabel(\"Probability Density\")\n",
    "plt.grid(True)\n",
    "plt.show()"
   ]
  },
  {
   "cell_type": "markdown",
   "id": "af7ab432-814d-4a12-9b0e-23daaf93541c",
   "metadata": {},
   "source": [
    "###  4.Symmetric Distribution \n",
    "\n",
    "- A **Symmetric Distribution** is a distribution in which the **left and right sides of the graph are mirror images** of each other.\n",
    "- In this type of distribution, data is **evenly spread around the center**.\n",
    "- The **mean, median, and mode are all equal** (in case of a perfect normal distribution).\n",
    "- A **bell-shaped curve** (Normal Distribution) is a **common example** of a symmetric distribution, but **not all symmetric distributions are bell-shaped**.\n",
    "\n",
    "---\n",
    "\n",
    "####  Key Points:\n",
    "- Shape is balanced on both sides of the center.\n",
    "- No skewness (not left or right skewed).\n",
    "- Useful in many statistical and machine learning models.\n",
    "\n",
    "---\n",
    "\n",
    "####  Example:\n",
    "- Suppose in a class, **most students score around the average marks**, and only a few students score very high or very low.\n",
    "- When we plot the graph of these scores, the shape looks like a **mirror image on both sides** — this is a symmetric distribution.\n"
   ]
  },
  {
   "cell_type": "code",
   "execution_count": 68,
   "id": "7c9e4d1f-9e2d-48c8-84b2-63969dd1cce8",
   "metadata": {},
   "outputs": [
    {
     "data": {
      "image/png": "[encoded data removed]",
      "text/plain": [
       "<Figure size 640x480 with 1 Axes>"
      ]
     },
     "metadata": {},
     "output_type": "display_data"
    }
   ],
   "source": [
    "import numpy as np\n",
    "import matplotlib.pyplot as plt\n",
    "\n",
    "# Generate symmetric data (mean=0, std=1)\n",
    "data = np.random.randn(1000)\n",
    "\n",
    "# Plot simple histogram\n",
    "plt.hist(data, bins=30, color='red', edgecolor='black')\n",
    "\n",
    "# Title and labels\n",
    "plt.title(\"Symmetric Distribution \")\n",
    "plt.xlabel(\"Value\")\n",
    "plt.ylabel(\"Frequency\")\n",
    "\n",
    "# Show the graph\n",
    "plt.grid(True)\n",
    "plt.show()"
   ]
  },
  {
   "cell_type": "markdown",
   "id": "a113c212-e9d6-46fc-8537-85b984e4ca76",
   "metadata": {},
   "source": [
    "### 5. Uniform Distribution\n",
    "\n",
    "- A **Uniform Distribution** is a type of probability distribution in which **all outcomes are equally likely**.\n",
    "- This means that each value in the distribution has the **same constant probability** of occurring.\n",
    "- The distribution can be:\n",
    "  - **Discrete** (e.g., rolling a die, drawing a card)\n",
    "  - **Continuous** (e.g., selecting a random number between 0 and 1)\n",
    "\n",
    "---\n",
    "\n",
    "####  Key Features:\n",
    "- Every outcome has **equal chance**\n",
    "- The probability is **uniform (flat)** across the range\n",
    "- Graph is a **horizontal straight line**\n",
    "\n",
    "---\n",
    "\n",
    "###  Example – Deck of Cards:\n",
    "- A standard deck has **52 cards**.\n",
    "- The probability of drawing **any one specific card** (e.g., Ace of Spades) is:\n",
    "\n",
    "\\$[\n",
    "P(\\text{Ace of Spades}) = \\frac{1}{52}\n",
    "\\$]\n",
    "\n",
    "- Since each card is equally likely to appear, this follows a **uniform distribution**.\n",
    "\n",
    "---\n",
    "\n",
    "###  Another Example – Rolling a Die:\n",
    "- A fair 6-sided die has outcomes: 1, 2, 3, 4, 5, 6\n",
    "- Probability of getting any specific number (say 4) is:\n",
    "\n",
    "\\$[\n",
    "P(4) = \\frac{1}{6}\n",
    "\\$]\n",
    "\n",
    "- All outcomes are equally likely → Uniform Distribution\n",
    "\n"
   ]
  },
  {
   "cell_type": "code",
   "execution_count": 73,
   "id": "80c0d6d2-9280-4aa4-b15c-15dd12d6f493",
   "metadata": {},
   "outputs": [
    {
     "data": {
      "image/png": "[encoded data removed]",
      "text/plain": [
       "<Figure size 640x480 with 1 Axes>"
      ]
     },
     "metadata": {},
     "output_type": "display_data"
    }
   ],
   "source": [
    "import matplotlib.pyplot as plt\n",
    "\n",
    "# Outcomes of a fair 6-sided die\n",
    "outcomes = [1, 2, 3, 4, 5, 6]\n",
    "probability = [1/6] * 6  # Each outcome has equal probability\n",
    "\n",
    "# Bar plot for discrete uniform distribution\n",
    "plt.bar(outcomes, probability, color='blue', edgecolor='black')\n",
    "\n",
    "plt.title(\"Discrete Uniform Distribution (Rolling a Die)\")\n",
    "plt.xlabel(\"Die Face\")\n",
    "plt.ylabel(\"Probability\")\n",
    "plt.ylim(0, 0.2)  # Set y-axis limit for better visibility\n",
    "plt.grid(True, axis='y')\n",
    "plt.show()\n"
   ]
  },
  {
   "cell_type": "markdown",
   "id": "3ee46001-de37-4756-a50d-7b8d46e8cefb",
   "metadata": {},
   "source": [
    "### 6. Binomial Distribution \n",
    "- **Binomial Distribution** There is a distribution in which we check that **How often do we succeed** when we do some work (experiment) **repeatedly a fixed number of times**.\n",
    "- There can only be **two results** each time:\n",
    "  -  Success\n",
    "  -  Failure\n",
    "\n",
    "---\n",
    "\n",
    "####  Key Points:\n",
    "- Fixed number of tries (called **trials**) – for example, toss the coin 5 times.\n",
    "- There are only 2 possible outcomes in each way (heads or tails).\n",
    "- Every time there is a **chance of success**.\n",
    "- Each method is **independent** – the result of one method does not affect the other.\n",
    "\n",
    "---\n",
    "\n",
    "###  Formula :\n",
    "\n",
    "\\$[\n",
    "P(X = k) = \\binom{n}{k} p^k (1 - p)^{n - k}\n",
    "\\$]\n",
    "\n",
    "which means:\n",
    "- **n** = total tries (e.g. 5 tosses)\n",
    "- **k** = How many times success is needed (eg 2 heads)\n",
    "- **p** = Chance of success (e.g. chance of heads = 0.5)\n",
    "- **(1 - p)** = failure ka chance\n",
    "\n",
    "---\n",
    "\n",
    "###  Example – Coin Toss:\n",
    "\n",
    "- Toss a coin **5 times**.\n",
    "- We need to check: \"What is the chance of getting **Heads** 2 times?\"\n",
    "\n",
    "\\$[\n",
    "n = 5,\\quad k = 2,\\quad p = 0.5\n",
    "\\$]\n",
    "\n",
    "\\$[\n",
    "P(X = 2) = \\binom{5}{2} (0.5)^2 (0.5)^3 = 0.3125\n",
    "\\$]\n",
    "\n",
    "➡ In 5 attempt of coin toss, we can get head 2 times **0.3125** (ya 31.25%)\n",
    "\n",
    "---\n",
    "\n",
    "###  Real Life Examples:\n",
    "- In a survey if it is asked to 10 persons how many would say 'Yes'?\n",
    "- How many could be defective out of 20 products?\n",
    "- How many got well after applying medicine out of 10 patients?"
   ]
  },
  {
   "cell_type": "code",
   "execution_count": 76,
   "id": "a731551c-5306-48e5-98d0-2706756df2ba",
   "metadata": {},
   "outputs": [
    {
     "data": {
      "image/png": "[encoded data removed]",
      "text/plain": [
       "<Figure size 800x500 with 1 Axes>"
      ]
     },
     "metadata": {},
     "output_type": "display_data"
    }
   ],
   "source": [
    "import numpy as np\n",
    "import pandas as pd\n",
    "import seaborn as sns\n",
    "import matplotlib.pyplot as plt\n",
    "import warnings\n",
    "warnings.filterwarnings('ignore')\n",
    "\n",
    "# Parameters for random data generation using binomial distribution\n",
    "n = 10      # number of trials per experiment\n",
    "p = 0.5     # probability of success\n",
    "size = 1000  # number of experiments\n",
    "\n",
    "# Generate binomially distributed data\n",
    "data = np.random.binomial(n=n, p=p, size=size)\n",
    "\n",
    "# Plot histogram of the generated data\n",
    "plt.figure(figsize=(8, 5))\n",
    "plt.hist(data, bins=np.arange(-0.5, n + 1.5, 1), edgecolor='black', density=True)\n",
    "plt.title(f'Histogram of Random Binomial Samples (n={n}, p={p}, size={size})')\n",
    "plt.xlabel('Number of Successes')\n",
    "plt.ylabel('Frequency (Normalized)')\n",
    "plt.grid(True, linestyle='--', alpha=0.6)\n",
    "plt.xticks(range(n + 1))\n",
    "plt.show()"
   ]
  },
  {
   "cell_type": "code",
   "execution_count": null,
   "id": "0b5626d8-049d-427a-9643-ff5d27859588",
   "metadata": {},
   "outputs": [],
   "source": []
  }
 ],
 "metadata": {
  "kernelspec": {
   "display_name": "Python [conda env:base] *",
   "language": "python",
   "name": "conda-base-py"
  },
  "language_info": {
   "codemirror_mode": {
    "name": "ipython",
    "version": 3
   },
   "file_extension": ".py",
   "mimetype": "text/x-python",
   "name": "python",
   "nbconvert_exporter": "python",
   "pygments_lexer": "ipython3",
   "version": "3.12.7"
  }
 },
 "nbformat": 4,
 "nbformat_minor": 5
}
