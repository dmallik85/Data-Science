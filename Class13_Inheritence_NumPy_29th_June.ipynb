{
 "cells": [
  {
   "cell_type": "markdown",
   "id": "edb7bc47-06b6-4f29-835d-e3020a3d2031",
   "metadata": {},
   "source": [
    "# Inheritence (Continued...)\n",
    "Inheritence allows a class to inherit attributes and methods from another class, enabling code reuse.\n",
    "\n",
    "### Example 1: simple inheritence"
   ]
  },
  {
   "cell_type": "code",
   "execution_count": 5,
   "id": "808e4c07-a054-4944-95fa-202b924267fe",
   "metadata": {},
   "outputs": [
    {
     "name": "stdout",
     "output_type": "stream",
     "text": [
      "Parent\n"
     ]
    }
   ],
   "source": [
    "class Parent():\n",
    "    def __init__(self):\n",
    "        self.name=\"Parent\"\n",
    "class Child(Parent):\n",
    "    def __init__(self):\n",
    "        super().__init__()\n",
    "parent=Parent()\n",
    "child=Child()\n",
    "print(child.name)"
   ]
  },
  {
   "cell_type": "markdown",
   "id": "928bfc53-e6d6-4206-afb4-75543ed7a2cd",
   "metadata": {},
   "source": [
    "### Example 2: Inheriting method from the parent class"
   ]
  },
  {
   "cell_type": "code",
   "execution_count": 8,
   "id": "ccc4a49f-243f-4064-8e11-a6b2009ba7e9",
   "metadata": {},
   "outputs": [
    {
     "name": "stdout",
     "output_type": "stream",
     "text": [
      "Hello from Parent.\n"
     ]
    }
   ],
   "source": [
    "class Parent():      #Here no __init__ constructor is used. We have created simple method here.\n",
    "    def speak(self):\n",
    "        return \"Hello from Parent.\"\n",
    "\n",
    "class Child(Parent):\n",
    "    pass\n",
    "\n",
    "child=Child()\n",
    "print(child.speak())"
   ]
  },
  {
   "cell_type": "markdown",
   "id": "c4c66460-7a96-47ad-88c5-9dfbcdcbe67c",
   "metadata": {},
   "source": [
    "### Example 3: Extending functionality in Child class"
   ]
  },
  {
   "cell_type": "code",
   "execution_count": 15,
   "id": "2ef861a1-e551-4b66-b7c6-3400847a4b8e",
   "metadata": {},
   "outputs": [
    {
     "name": "stdout",
     "output_type": "stream",
     "text": [
      "Child is speaking.\n"
     ]
    }
   ],
   "source": [
    "class Parent:\n",
    "    def acitivity(self):             #Method 1 with the name 'activity'\n",
    "        return \"Parent is speaking.\"\n",
    "class Child(Parent):\n",
    "    def activity(self):              #Method 2 with the name 'activity'\n",
    "        return \"Child is speaking.\"\n",
    "\n",
    "child=Child()\n",
    "print(child.activity())              #Child class should get activity method inherited here but as same named method is called in Child, it overrides"
   ]
  },
  {
   "cell_type": "markdown",
   "id": "6fca26f0-ae69-4748-adb5-c978e916674a",
   "metadata": {},
   "source": [
    "## The parent class is also called as base class\n",
    "\n",
    "### Example 1: Defining a parent class"
   ]
  },
  {
   "cell_type": "code",
   "execution_count": 18,
   "id": "ef79c790-a57b-4b5e-a78d-04aa5613d459",
   "metadata": {},
   "outputs": [
    {
     "name": "stdout",
     "output_type": "stream",
     "text": [
      "Animal\n"
     ]
    }
   ],
   "source": [
    "class Animal:\n",
    "    def __init__(self):\n",
    "        self.species=\"Animal\"\n",
    "\n",
    "class Dog(Animal):\n",
    "    pass\n",
    "\n",
    "dog=Dog()\n",
    "print(dog.species)"
   ]
  },
  {
   "cell_type": "markdown",
   "id": "03a9164f-42bd-48e7-a9ae-374f2ffb82df",
   "metadata": {},
   "source": [
    "### When to use __init__ and normal mthod?\n",
    "\n",
    "When there are methods in both base and child class __init__ constructor to be used. However, in this super() function is used to inherit the attributes from base to child class.\n",
    "\n",
    "When there is no methods in Child class, normal methods to be used. In this case, super() is not required."
   ]
  },
  {
   "cell_type": "markdown",
   "id": "83f35fa7-9046-4af2-9d40-74ec9735be07",
   "metadata": {},
   "source": [
    "### Example 2: Using the method from Parent class"
   ]
  },
  {
   "cell_type": "code",
   "execution_count": 25,
   "id": "712eba33-3b6e-48a8-be24-1f4dd130ffd9",
   "metadata": {},
   "outputs": [
    {
     "name": "stdout",
     "output_type": "stream",
     "text": [
      "Vehicle is moving.\n"
     ]
    }
   ],
   "source": [
    "class Vehicle:\n",
    "    def move(self):\n",
    "        return \"Vehicle is moving.\"\n",
    "\n",
    "class Car(Vehicle):\n",
    "    pass\n",
    "\n",
    "car=Car()\n",
    "print(car.move())"
   ]
  },
  {
   "cell_type": "markdown",
   "id": "f14edbee-cc61-4dda-97bd-04562eb2c219",
   "metadata": {},
   "source": [
    "### Example 3: Parent class with multiple attributes"
   ]
  },
  {
   "cell_type": "code",
   "execution_count": 29,
   "id": "a828b541-45cd-40f5-9258-b4df678e36cb",
   "metadata": {},
   "outputs": [
    {
     "name": "stdout",
     "output_type": "stream",
     "text": [
      "John 30\n"
     ]
    }
   ],
   "source": [
    "class Person:\n",
    "    def __init__(self, name, age):\n",
    "        self.name=name\n",
    "        self.age=age\n",
    "\n",
    "class Employee(Person):\n",
    "    pass\n",
    "\n",
    "employee=Employee(\"John\",30)\n",
    "print(employee.name, employee.age)"
   ]
  },
  {
   "cell_type": "markdown",
   "id": "ca9d9919-e62a-4374-bffa-acf57c93f65b",
   "metadata": {},
   "source": [
    "## The Child Class\n",
    "Child class is the class that inherits from another class, also called the derived class.\n",
    "\n",
    "### Example 1: Creating a Child class that inherits from Parent class"
   ]
  },
  {
   "cell_type": "code",
   "execution_count": 35,
   "id": "a1f3b58d-bef3-43db-9668-f69e9f0bfa61",
   "metadata": {},
   "outputs": [
    {
     "name": "stdout",
     "output_type": "stream",
     "text": [
      "Child\n"
     ]
    }
   ],
   "source": [
    "class Parent:\n",
    "    def __init__(self):\n",
    "        self.name=\"Parent\"\n",
    "\n",
    "class Child(Parent):\n",
    "    def __init__(self):\n",
    "        super().__init__()\n",
    "        self.name=\"Child\"\n",
    "\n",
    "child=Child()\n",
    "print(child.name)"
   ]
  },
  {
   "cell_type": "markdown",
   "id": "0ffa483a-53fe-4b2f-b364-8699a757c714",
   "metadata": {},
   "source": [
    "### Example 2: Overriding parent class methods in child class"
   ]
  },
  {
   "cell_type": "code",
   "execution_count": 40,
   "id": "c140f0a4-0dd2-4f9a-9fd4-67b2259bc638",
   "metadata": {},
   "outputs": [
    {
     "name": "stdout",
     "output_type": "stream",
     "text": [
      "Penguin can't fly\n"
     ]
    }
   ],
   "source": [
    "class Bird:\n",
    "    def fly(self):\n",
    "        return \"Bird is flying\"\n",
    "\n",
    "class Penguin(Bird):\n",
    "    def fly(self):\n",
    "        return \"Penguin can't fly\"\n",
    "\n",
    "penguin=Penguin()\n",
    "print(penguin.fly())"
   ]
  },
  {
   "cell_type": "markdown",
   "id": "ef68d8cc-44ab-4d9b-a6be-76bc06ace3b1",
   "metadata": {},
   "source": [
    "### Example 3: Adding new methods to child class"
   ]
  },
  {
   "cell_type": "code",
   "execution_count": 43,
   "id": "5ce64d3f-d590-4080-9fe0-0344e04e0983",
   "metadata": {},
   "outputs": [
    {
     "name": "stdout",
     "output_type": "stream",
     "text": [
      "Device is on\n",
      "Making a call\n"
     ]
    }
   ],
   "source": [
    "class Device:\n",
    "    def power_on(self):\n",
    "        return \"Device is on\"\n",
    "\n",
    "class Phone(Device):\n",
    "    def make_call(self):\n",
    "        return \"Making a call\"\n",
    "\n",
    "phone=Phone()\n",
    "print(phone.power_on())\n",
    "print(phone.make_call())"
   ]
  },
  {
   "cell_type": "markdown",
   "id": "29b38d8e-3bdd-4a2f-84f1-9709a09022aa",
   "metadata": {},
   "source": [
    "### The init() method is the constructor in python classes. It is automatically invoked when a new object is created.\n",
    "\n",
    "#### Example 1: Using init() in parent and child class"
   ]
  },
  {
   "cell_type": "code",
   "execution_count": 46,
   "id": "07b7182a-4108-4758-9715-4689ba0dc1c2",
   "metadata": {},
   "outputs": [
    {
     "name": "stdout",
     "output_type": "stream",
     "text": [
      "Debu 40\n"
     ]
    }
   ],
   "source": [
    "class Parent:\n",
    "    def __init__(self,name):\n",
    "        self.name=name\n",
    "\n",
    "class Child(Parent):\n",
    "    def __init__(self,name,age):\n",
    "        super().__init__(name)\n",
    "        self.age=age\n",
    "\n",
    "child=Child(\"Debu\",40)\n",
    "print(child.name,child.age)"
   ]
  },
  {
   "cell_type": "markdown",
   "id": "6aabf4cc-5241-4936-8761-111d25299c66",
   "metadata": {},
   "source": [
    "### Example 2: init() in multiple inheritence\n",
    "Explicit parent class initialization -> When calling the constructor (__init__ method) of parent class inside the child class by the name of the class, this is called Explicit Parent Class Initialization.\n",
    "\n",
    "This means, instead of using super() method to inherit attributes from parent class, which __init__ method of the parent class and when to use by specifying it manually."
   ]
  },
  {
   "cell_type": "code",
   "execution_count": 50,
   "id": "d636f0f9-3077-4e75-b080-5acc9d96814e",
   "metadata": {},
   "outputs": [
    {
     "name": "stdout",
     "output_type": "stream",
     "text": [
      "Nilima Subodh Debu\n"
     ]
    }
   ],
   "source": [
    "class Mother:\n",
    "    def __init__(self, mother_name):\n",
    "        self.mother_name=mother_name\n",
    "\n",
    "class Father:\n",
    "    def __init__(self, father_name):\n",
    "        self.father_name=father_name\n",
    "\n",
    "class Child(Mother, Father):             #Two parents and one child class\n",
    "    def __init__(self, mother_name, father_name, child_name):\n",
    "        Mother.__init__(self, mother_name)\n",
    "        Father.__init__(self, father_name)\n",
    "        self.child_name=child_name\n",
    "\n",
    "child=Child(\"Nilima\",\"Subodh\",\"Debu\")\n",
    "print(child.mother_name,child.father_name,child.child_name)"
   ]
  },
  {
   "cell_type": "markdown",
   "id": "90236dfe-c605-4d97-bb19-bac5ac40e7e2",
   "metadata": {},
   "source": [
    "### Example 3: Default values in init()"
   ]
  },
  {
   "cell_type": "code",
   "execution_count": 3,
   "id": "229ac048-6910-487a-bc7d-f914ac9473eb",
   "metadata": {},
   "outputs": [
    {
     "name": "stdout",
     "output_type": "stream",
     "text": [
      "Car\n",
      "Bike\n"
     ]
    }
   ],
   "source": [
    "class Vehicle:\n",
    "    def __init__(self, type=\"Car\"):\n",
    "        self.type=type\n",
    "\n",
    "vehicle=Vehicle()      #Default value=Car will be taken here\n",
    "print(vehicle.type)\n",
    "\n",
    "vehicle_bike=Vehicle(\"Bike\")\n",
    "print(vehicle_bike.type)"
   ]
  },
  {
   "cell_type": "markdown",
   "id": "172657e2-4e8c-47e6-8a4d-61a9657333d5",
   "metadata": {},
   "source": [
    "### Super() function allows you to call methods from parent class in the child class\n",
    "\n",
    "#### Example 1: Using super() to call parent class's init()"
   ]
  },
  {
   "cell_type": "code",
   "execution_count": 6,
   "id": "94ffe41b-d598-47eb-ab2e-d9f20a258a04",
   "metadata": {},
   "outputs": [
    {
     "name": "stdout",
     "output_type": "stream",
     "text": [
      "Debu 40\n"
     ]
    }
   ],
   "source": [
    "class Parent:\n",
    "    def __init__(self,name):\n",
    "        self.name=name\n",
    "\n",
    "class Child(Parent):\n",
    "    def __init__(self,name,age):\n",
    "        super().__init__(name)\n",
    "        self.age=age\n",
    "\n",
    "child=Child(\"Debu\",40)\n",
    "print(child.name,child.age)"
   ]
  },
  {
   "cell_type": "markdown",
   "id": "ca2df7ef-7e36-4115-9ade-c319b89b63a4",
   "metadata": {},
   "source": [
    "### Example 2: Using super() in methods other than init()"
   ]
  },
  {
   "cell_type": "code",
   "execution_count": 13,
   "id": "ba2ae234-68e0-43c8-ac66-6b767e7ead80",
   "metadata": {},
   "outputs": [
    {
     "name": "stdout",
     "output_type": "stream",
     "text": [
      "Hello from Parentand Hello from Child\n"
     ]
    }
   ],
   "source": [
    "class Parent:\n",
    "    def greet(self):\n",
    "        return \"Hello from Parent\"\n",
    "\n",
    "class Child(Parent):\n",
    "    def greet(self):\n",
    "        return super().greet() + \"and Hello from Child\"\n",
    "\n",
    "child=Child()\n",
    "print(child.greet())"
   ]
  },
  {
   "cell_type": "markdown",
   "id": "bc105ce4-5c47-4594-a328-78bdf2258566",
   "metadata": {},
   "source": [
    "### Example 3: Calling the parent class method with super()"
   ]
  },
  {
   "cell_type": "code",
   "execution_count": 22,
   "id": "e025b9a7-ba91-41d4-a33c-a2d77e4744bb",
   "metadata": {},
   "outputs": [
    {
     "name": "stdout",
     "output_type": "stream",
     "text": [
      "Some sound Woof!\n"
     ]
    }
   ],
   "source": [
    "class Animal:\n",
    "    def sound(self):\n",
    "        return \"Some sound\"\n",
    "\n",
    "class Dog(Animal):\n",
    "    def sound(self):\n",
    "        return super().sound() + \" Woof!\"\n",
    "\n",
    "dog=Dog()\n",
    "print(dog.sound())"
   ]
  },
  {
   "cell_type": "markdown",
   "id": "1a7048c6-f7da-4997-9fdd-b553bafa4d6e",
   "metadata": {},
   "source": [
    "### Example 4: Child class using parent class without overriding"
   ]
  },
  {
   "cell_type": "code",
   "execution_count": 25,
   "id": "04581408-22b7-4622-a450-bd17367f5dff",
   "metadata": {},
   "outputs": [
    {
     "name": "stdout",
     "output_type": "stream",
     "text": [
      "Engine started\n"
     ]
    }
   ],
   "source": [
    "class Vehicle:\n",
    "    def start_engine(self):\n",
    "        return \"Engine started\"\n",
    "\n",
    "class Car(Vehicle):\n",
    "    pass\n",
    "\n",
    "car=Car()\n",
    "print(car.start_engine())"
   ]
  },
  {
   "cell_type": "markdown",
   "id": "d5346d99-72e7-4ed3-9d16-566201d8f0d3",
   "metadata": {},
   "source": [
    "### Example 5: Overriding parent class with child class"
   ]
  },
  {
   "cell_type": "code",
   "execution_count": 28,
   "id": "112e75e1-47db-45b2-b507-51b6ac66d3fb",
   "metadata": {},
   "outputs": [
    {
     "name": "stdout",
     "output_type": "stream",
     "text": [
      "Penguin can't fly\n"
     ]
    }
   ],
   "source": [
    "class Bird:\n",
    "    def fly(self):\n",
    "        return \"Bird is flying\"\n",
    "\n",
    "class Penguin(Bird):\n",
    "    def fly(self):\n",
    "        return \"Penguin can't fly\"\n",
    "\n",
    "penguin=Penguin()\n",
    "print(penguin.fly())"
   ]
  },
  {
   "cell_type": "markdown",
   "id": "bae46335-178b-477f-bc9f-ea995503dacf",
   "metadata": {},
   "source": [
    "### Example 6: Calling parent class method from child class using super()"
   ]
  },
  {
   "cell_type": "code",
   "execution_count": 33,
   "id": "5384e61f-770b-4f6c-8e58-d4e446007e9a",
   "metadata": {},
   "outputs": [
    {
     "name": "stdout",
     "output_type": "stream",
     "text": [
      "Animal moves by slithering\n"
     ]
    }
   ],
   "source": [
    "class Animal:\n",
    "    def move(self):\n",
    "        return \"Animal moves\"\n",
    "\n",
    "class Snake(Animal):\n",
    "    def move(self):\n",
    "        return super().move() + \" by slithering\"\n",
    "\n",
    "snake=Snake()\n",
    "print(snake.move())"
   ]
  },
  {
   "cell_type": "markdown",
   "id": "389cab21-6ea0-4da4-8612-69c49b3a8cc6",
   "metadata": {},
   "source": [
    "# Datetime\n",
    "\n",
    "Datetime is a module in python that allows you to work with date and time"
   ]
  },
  {
   "cell_type": "code",
   "execution_count": 36,
   "id": "3368d426-f542-4646-9123-9faf2d7b7503",
   "metadata": {},
   "outputs": [],
   "source": [
    "import datetime     #Importing the datetime library"
   ]
  },
  {
   "cell_type": "markdown",
   "id": "2ba4fcd1-1af0-4fcf-80b3-6a1cf0e6fd0f",
   "metadata": {},
   "source": [
    "### Getting current date and time"
   ]
  },
  {
   "cell_type": "code",
   "execution_count": 39,
   "id": "a01f3b6f-c56f-4d9d-bb89-d335096db7ad",
   "metadata": {},
   "outputs": [
    {
     "name": "stdout",
     "output_type": "stream",
     "text": [
      "Current date and time: 2025-08-04 23:26:57.478232\n"
     ]
    }
   ],
   "source": [
    "now=datetime.datetime.now()\n",
    "print(\"Current date and time:\",now)"
   ]
  },
  {
   "cell_type": "markdown",
   "id": "2fb3e519-58f2-4ef0-8490-c2180780598d",
   "metadata": {},
   "source": [
    "### Creating a specific date"
   ]
  },
  {
   "cell_type": "code",
   "execution_count": 42,
   "id": "d91948f8-9292-490f-8201-adb16054ee12",
   "metadata": {},
   "outputs": [
    {
     "name": "stdout",
     "output_type": "stream",
     "text": [
      "Birthday: 1995-05-16\n"
     ]
    }
   ],
   "source": [
    "birthday=datetime.date(1995, 5, 16)\n",
    "print(\"Birthday:\",birthday)"
   ]
  },
  {
   "cell_type": "code",
   "execution_count": 48,
   "id": "9b8c02a4-4f62-4afb-8815-d4b6f80e903d",
   "metadata": {},
   "outputs": [
    {
     "name": "stdout",
     "output_type": "stream",
     "text": [
      "Difference in days: 736 days, 0:00:00\n",
      "Difference in days: 736 days\n"
     ]
    }
   ],
   "source": [
    "date1=datetime.date(2020, 4, 17)\n",
    "date2=datetime.date(2022, 4, 23)\n",
    "different=date2-date1\n",
    "print(\"Difference in days:\",different)\n",
    "print(\"Difference in days:\",different.days,\"days\")"
   ]
  },
  {
   "cell_type": "markdown",
   "id": "6cad95b7-30be-4cc7-9771-a9ba3c98118b",
   "metadata": {},
   "source": [
    "# Introduction to NumPy\n",
    "**What is NumPy?**\n",
    "NumPy (numerical python) is a powerful library in python for numerical computing. It provides:\n",
    "\n",
    "- A high performance multidimensional array object (ndarray)\n",
    "- Tools for performing mathematical, logical, and shape manipulation operations on arrays\n",
    "- Support for linear algebra, random number generation and many more\n",
    "\n",
    "**Why to use NumPy?**\n",
    "\n",
    "Compared to regular python lists, NumPy arrays are:\n",
    "\n",
    "- Faster: Operations are implemented in C and optimized for speed\n",
    "- Memory-efficient: Arrays use less memory than lists\n",
    "- Allows element wise operations, broadcasting, and more\n",
    "\n",
    "**Installing NumPy**\n",
    "\n",
    "To install NumPy use below command in your terminal or jupiter cell:\n",
    "\n",
    "!pip install NumPy\n",
    "\n",
    "For more information of NumPy, browse through https://numpy.org/"
   ]
  },
  {
   "cell_type": "code",
   "execution_count": 55,
   "id": "90a23a96-f155-4e2b-b2de-49a536646061",
   "metadata": {},
   "outputs": [
    {
     "name": "stdout",
     "output_type": "stream",
     "text": [
      "Requirement already satisfied: NumPy in c:\\users\\debu\\anaconda3\\lib\\site-packages (1.26.4)\n"
     ]
    }
   ],
   "source": [
    "#Example of mathematical calculation\n",
    "a=[1,2,3]\n",
    "#To calculate mean of these elements of a list, you need to hardcode the calculation. But NumPy has inbuilt function as mean() which can be used.\n",
    "!pip install NumPy"
   ]
  },
  {
   "cell_type": "code",
   "execution_count": 57,
   "id": "8859d4b7-71d0-415c-a70f-3497b610c4c2",
   "metadata": {},
   "outputs": [],
   "source": [
    "import numpy as np"
   ]
  },
  {
   "cell_type": "code",
   "execution_count": 59,
   "id": "3a3f0a7a-eb56-4dd5-bd61-89b660a6b81e",
   "metadata": {},
   "outputs": [
    {
     "name": "stdout",
     "output_type": "stream",
     "text": [
      "['ALLOW_THREADS', 'BUFSIZE', 'CLIP', 'DataSource', 'ERR_CALL', 'ERR_DEFAULT', 'ERR_IGNORE', 'ERR_LOG', 'ERR_PRINT', 'ERR_RAISE', 'ERR_WARN', 'FLOATING_POINT_SUPPORT', 'FPE_DIVIDEBYZERO', 'FPE_INVALID', 'FPE_OVERFLOW', 'FPE_UNDERFLOW', 'False_', 'Inf', 'Infinity', 'MAXDIMS', 'MAY_SHARE_BOUNDS', 'MAY_SHARE_EXACT', 'NAN', 'NINF', 'NZERO', 'NaN', 'PINF', 'PZERO', 'RAISE', 'RankWarning', 'SHIFT_DIVIDEBYZERO', 'SHIFT_INVALID', 'SHIFT_OVERFLOW', 'SHIFT_UNDERFLOW', 'ScalarType', 'True_', 'UFUNC_BUFSIZE_DEFAULT', 'UFUNC_PYVALS_NAME', 'WRAP', '_CopyMode', '_NoValue', '_UFUNC_API', '__NUMPY_SETUP__', '__all__', '__builtins__', '__cached__', '__config__', '__deprecated_attrs__', '__dir__', '__doc__', '__expired_functions__', '__file__', '__former_attrs__', '__future_scalars__', '__getattr__', '__loader__', '__name__', '__package__', '__path__', '__spec__', '__version__', '_add_newdoc_ufunc', '_builtins', '_distributor_init', '_financial_names', '_get_promotion_state', '_globals', '_int_extended_msg', '_mat', '_no_nep50_warning', '_pyinstaller_hooks_dir', '_pytesttester', '_set_promotion_state', '_specific_msg', '_typing', '_using_numpy2_behavior', '_utils', 'abs', 'absolute', 'add', 'add_docstring', 'add_newdoc', 'add_newdoc_ufunc', 'all', 'allclose', 'alltrue', 'amax', 'amin', 'angle', 'any', 'append', 'apply_along_axis', 'apply_over_axes', 'arange', 'arccos', 'arccosh', 'arcsin', 'arcsinh', 'arctan', 'arctan2', 'arctanh', 'argmax', 'argmin', 'argpartition', 'argsort', 'argwhere', 'around', 'array', 'array2string', 'array_equal', 'array_equiv', 'array_repr', 'array_split', 'array_str', 'asanyarray', 'asarray', 'asarray_chkfinite', 'ascontiguousarray', 'asfarray', 'asfortranarray', 'asmatrix', 'atleast_1d', 'atleast_2d', 'atleast_3d', 'average', 'bartlett', 'base_repr', 'binary_repr', 'bincount', 'bitwise_and', 'bitwise_not', 'bitwise_or', 'bitwise_xor', 'blackman', 'block', 'bmat', 'bool_', 'broadcast', 'broadcast_arrays', 'broadcast_shapes', 'broadcast_to', 'busday_count', 'busday_offset', 'busdaycalendar', 'byte', 'byte_bounds', 'bytes_', 'c_', 'can_cast', 'cast', 'cbrt', 'cdouble', 'ceil', 'cfloat', 'char', 'character', 'chararray', 'choose', 'clip', 'clongdouble', 'clongfloat', 'column_stack', 'common_type', 'compare_chararrays', 'compat', 'complex128', 'complex64', 'complex_', 'complexfloating', 'compress', 'concatenate', 'conj', 'conjugate', 'convolve', 'copy', 'copysign', 'copyto', 'corrcoef', 'correlate', 'cos', 'cosh', 'count_nonzero', 'cov', 'cross', 'csingle', 'ctypeslib', 'cumprod', 'cumproduct', 'cumsum', 'datetime64', 'datetime_as_string', 'datetime_data', 'deg2rad', 'degrees', 'delete', 'deprecate', 'deprecate_with_doc', 'diag', 'diag_indices', 'diag_indices_from', 'diagflat', 'diagonal', 'diff', 'digitize', 'disp', 'divide', 'divmod', 'dot', 'double', 'dsplit', 'dstack', 'dtype', 'dtypes', 'e', 'ediff1d', 'einsum', 'einsum_path', 'emath', 'empty', 'empty_like', 'equal', 'errstate', 'euler_gamma', 'exceptions', 'exp', 'exp2', 'expand_dims', 'expm1', 'expm1x', 'extract', 'eye', 'fabs', 'fastCopyAndTranspose', 'fft', 'fill_diagonal', 'find_common_type', 'finfo', 'fix', 'flatiter', 'flatnonzero', 'flexible', 'flip', 'fliplr', 'flipud', 'float16', 'float32', 'float64', 'float_', 'float_power', 'floating', 'floor', 'floor_divide', 'fmax', 'fmin', 'fmod', 'format_float_positional', 'format_float_scientific', 'format_parser', 'frexp', 'from_dlpack', 'frombuffer', 'fromfile', 'fromfunction', 'fromiter', 'frompyfunc', 'fromregex', 'fromstring', 'full', 'full_like', 'gcd', 'generic', 'genfromtxt', 'geomspace', 'get_array_wrap', 'get_include', 'get_printoptions', 'getbufsize', 'geterr', 'geterrcall', 'geterrobj', 'gradient', 'greater', 'greater_equal', 'half', 'hamming', 'hanning', 'heaviside', 'histogram', 'histogram2d', 'histogram_bin_edges', 'histogramdd', 'hsplit', 'hstack', 'hypot', 'i0', 'identity', 'iinfo', 'imag', 'in1d', 'index_exp', 'indices', 'inexact', 'inf', 'info', 'infty', 'inner', 'insert', 'int16', 'int32', 'int64', 'int8', 'int_', 'intc', 'integer', 'interp', 'intersect1d', 'intp', 'invert', 'is_busday', 'isclose', 'iscomplex', 'iscomplexobj', 'isfinite', 'isfortran', 'isin', 'isinf', 'isnan', 'isnat', 'isneginf', 'isposinf', 'isreal', 'isrealobj', 'isscalar', 'issctype', 'issubclass_', 'issubdtype', 'issubsctype', 'iterable', 'ix_', 'kaiser', 'kron', 'lcm', 'ldexp', 'left_shift', 'less', 'less_equal', 'lexsort', 'lib', 'linalg', 'linspace', 'little_endian', 'load', 'loadtxt', 'log', 'log10', 'log1p', 'log2', 'logaddexp', 'logaddexp2', 'logical_and', 'logical_not', 'logical_or', 'logical_xor', 'logspace', 'longcomplex', 'longdouble', 'longfloat', 'longlong', 'lookfor', 'ma', 'mask_indices', 'mat', 'matmul', 'matrix', 'max', 'maximum', 'maximum_sctype', 'may_share_memory', 'mean', 'median', 'memmap', 'meshgrid', 'mgrid', 'min', 'min_scalar_type', 'minimum', 'mintypecode', 'mod', 'modf', 'moveaxis', 'msort', 'multiply', 'nan', 'nan_to_num', 'nanargmax', 'nanargmin', 'nancumprod', 'nancumsum', 'nanmax', 'nanmean', 'nanmedian', 'nanmin', 'nanpercentile', 'nanprod', 'nanquantile', 'nanstd', 'nansum', 'nanvar', 'nbytes', 'ndarray', 'ndenumerate', 'ndim', 'ndindex', 'nditer', 'negative', 'nested_iters', 'newaxis', 'nextafter', 'nonzero', 'not_equal', 'numarray', 'number', 'obj2sctype', 'object_', 'ogrid', 'oldnumeric', 'ones', 'ones_like', 'outer', 'packbits', 'pad', 'partition', 'percentile', 'pi', 'piecewise', 'place', 'poly', 'poly1d', 'polyadd', 'polyder', 'polydiv', 'polyfit', 'polyint', 'polymul', 'polynomial', 'polysub', 'polyval', 'positive', 'power', 'printoptions', 'prod', 'product', 'promote_types', 'ptp', 'put', 'put_along_axis', 'putmask', 'quantile', 'r_', 'rad2deg', 'radians', 'random', 'ravel', 'ravel_multi_index', 'real', 'real_if_close', 'rec', 'recarray', 'recfromcsv', 'recfromtxt', 'reciprocal', 'record', 'remainder', 'repeat', 'require', 'reshape', 'resize', 'result_type', 'right_shift', 'rint', 'roll', 'rollaxis', 'roots', 'rot90', 'round', 'round_', 'row_stack', 's_', 'safe_eval', 'save', 'savetxt', 'savez', 'savez_compressed', 'sctype2char', 'sctypeDict', 'sctypes', 'searchsorted', 'select', 'set_numeric_ops', 'set_printoptions', 'set_string_function', 'setbufsize', 'setdiff1d', 'seterr', 'seterrcall', 'seterrobj', 'setxor1d', 'shape', 'shares_memory', 'short', 'show_config', 'show_runtime', 'sign', 'signbit', 'signedinteger', 'sin', 'sinc', 'single', 'singlecomplex', 'sinh', 'size', 'sometrue', 'sort', 'sort_complex', 'source', 'spacing', 'split', 'sqrt', 'square', 'squeeze', 'stack', 'std', 'str_', 'string_', 'subtract', 'sum', 'swapaxes', 'take', 'take_along_axis', 'tan', 'tanh', 'tensordot', 'test', 'testing', 'tile', 'timedelta64', 'trace', 'tracemalloc_domain', 'transpose', 'trapz', 'tri', 'tril', 'tril_indices', 'tril_indices_from', 'trim_zeros', 'triu', 'triu_indices', 'triu_indices_from', 'true_divide', 'trunc', 'typecodes', 'typename', 'ubyte', 'ufunc', 'uint', 'uint16', 'uint32', 'uint64', 'uint8', 'uintc', 'uintp', 'ulonglong', 'unicode_', 'union1d', 'unique', 'unpackbits', 'unravel_index', 'unsignedinteger', 'unwrap', 'ushort', 'vander', 'var', 'vdot', 'vectorize', 'version', 'void', 'vsplit', 'vstack', 'where', 'who', 'zeros', 'zeros_like']\n"
     ]
    }
   ],
   "source": [
    "#Chek all the function of np\n",
    "print(dir(np))"
   ]
  },
  {
   "cell_type": "code",
   "execution_count": 61,
   "id": "542bbcb1-5bed-45cd-b589-047732954abe",
   "metadata": {},
   "outputs": [
    {
     "data": {
      "text/plain": [
       "['__add__',\n",
       " '__class__',\n",
       " '__class_getitem__',\n",
       " '__contains__',\n",
       " '__delattr__',\n",
       " '__delitem__',\n",
       " '__dir__',\n",
       " '__doc__',\n",
       " '__eq__',\n",
       " '__format__',\n",
       " '__ge__',\n",
       " '__getattribute__',\n",
       " '__getitem__',\n",
       " '__getstate__',\n",
       " '__gt__',\n",
       " '__hash__',\n",
       " '__iadd__',\n",
       " '__imul__',\n",
       " '__init__',\n",
       " '__init_subclass__',\n",
       " '__iter__',\n",
       " '__le__',\n",
       " '__len__',\n",
       " '__lt__',\n",
       " '__mul__',\n",
       " '__ne__',\n",
       " '__new__',\n",
       " '__reduce__',\n",
       " '__reduce_ex__',\n",
       " '__repr__',\n",
       " '__reversed__',\n",
       " '__rmul__',\n",
       " '__setattr__',\n",
       " '__setitem__',\n",
       " '__sizeof__',\n",
       " '__str__',\n",
       " '__subclasshook__',\n",
       " 'append',\n",
       " 'clear',\n",
       " 'copy',\n",
       " 'count',\n",
       " 'extend',\n",
       " 'index',\n",
       " 'insert',\n",
       " 'pop',\n",
       " 'remove',\n",
       " 'reverse',\n",
       " 'sort']"
      ]
     },
     "execution_count": 61,
     "metadata": {},
     "output_type": "execute_result"
    }
   ],
   "source": [
    "dir(list)    #Functionalities of a list"
   ]
  },
  {
   "cell_type": "code",
   "execution_count": 63,
   "id": "dec3f17b-8949-403f-b90a-2ad5295cf3d9",
   "metadata": {},
   "outputs": [
    {
     "data": {
      "text/plain": [
       "3.1622776601683795"
      ]
     },
     "execution_count": 63,
     "metadata": {},
     "output_type": "execute_result"
    }
   ],
   "source": [
    "#Finding square root value\n",
    "np.sqrt(10)"
   ]
  },
  {
   "cell_type": "code",
   "execution_count": 67,
   "id": "a37bc5a8-c263-48ee-8dfc-08938e2cd6b9",
   "metadata": {},
   "outputs": [
    {
     "name": "stdout",
     "output_type": "stream",
     "text": [
      "Minimum: 19\n"
     ]
    }
   ],
   "source": [
    "#Finding minimum value from a list\n",
    "print(\"Minimum:\",np.amin([23,19,34,56]))"
   ]
  },
  {
   "cell_type": "code",
   "execution_count": 69,
   "id": "b6ca88b1-1229-4dce-8dcf-4ca4d9dd986d",
   "metadata": {},
   "outputs": [
    {
     "name": "stdout",
     "output_type": "stream",
     "text": [
      "Maximum: 56\n"
     ]
    }
   ],
   "source": [
    "#Finding maximum value from a list\n",
    "print(\"Maximum:\",np.amax([23,19,34,56]))"
   ]
  },
  {
   "cell_type": "code",
   "execution_count": 71,
   "id": "d234b8e1-9657-41f8-8a8a-19c7327a9c2c",
   "metadata": {},
   "outputs": [
    {
     "data": {
      "text/plain": [
       "30.0"
      ]
     },
     "execution_count": 71,
     "metadata": {},
     "output_type": "execute_result"
    }
   ],
   "source": [
    "#Round off to next number\n",
    "np.ceil(29.1)"
   ]
  },
  {
   "cell_type": "markdown",
   "id": "d2c4849c-7409-482d-806a-b26d226f052d",
   "metadata": {},
   "source": [
    "#### Difference between 'min' and 'amin'\n",
    "\n",
    "When we use min([23,34,1,25]) - it actually treats as a list\n",
    "When we use amin([23,34,1,25]) - it treats is a vector (array), a means array. Processing of vectors are very fast compared to list."
   ]
  },
  {
   "cell_type": "code",
   "execution_count": 74,
   "id": "6163f082-333a-42f6-8839-a7f241901f59",
   "metadata": {},
   "outputs": [
    {
     "data": {
      "text/plain": [
       "4.0"
      ]
     },
     "execution_count": 74,
     "metadata": {},
     "output_type": "execute_result"
    }
   ],
   "source": [
    "np.ceil(np.sqrt(10))"
   ]
  },
  {
   "cell_type": "code",
   "execution_count": 78,
   "id": "0e21ceef-9317-4e4d-a7af-2cb2c61114ef",
   "metadata": {},
   "outputs": [
    {
     "data": {
      "text/plain": [
       "10.0"
      ]
     },
     "execution_count": 78,
     "metadata": {},
     "output_type": "execute_result"
    }
   ],
   "source": [
    "np.ceil(np.sum(np.sqrt([10,11,12])))"
   ]
  },
  {
   "cell_type": "markdown",
   "id": "7daba46b-88fd-41ce-b5b4-d2be1c67ad7e",
   "metadata": {},
   "source": [
    "# Array\n",
    "\n",
    "Array is similar to list. \n",
    "list: sum([1,2,3,4,5])  - it takes 4-5 secs to process\n",
    "array: sum([1,2,3,4,5]) - it takes 1 sec to process. It can be multidimensional array\n",
    "tensor: it is used in GPT models. It takes 0.2 sec to process"
   ]
  },
  {
   "cell_type": "code",
   "execution_count": 80,
   "id": "bac0b403-063a-419c-b8fd-cb6f3c6aace1",
   "metadata": {},
   "outputs": [
    {
     "data": {
      "text/plain": [
       "array([ 5,  9, 13])"
      ]
     },
     "execution_count": 80,
     "metadata": {},
     "output_type": "execute_result"
    }
   ],
   "source": [
    "np.array([5,9,13])"
   ]
  },
  {
   "cell_type": "code",
   "execution_count": 82,
   "id": "7babda33-247b-4f09-bd4a-2213f601944c",
   "metadata": {},
   "outputs": [
    {
     "data": {
      "text/plain": [
       "list"
      ]
     },
     "execution_count": 82,
     "metadata": {},
     "output_type": "execute_result"
    }
   ],
   "source": [
    "type([5,9,13])"
   ]
  },
  {
   "cell_type": "code",
   "execution_count": null,
   "id": "7f49fe76-b20f-483e-aa46-ec47d3b15794",
   "metadata": {},
   "outputs": [],
   "source": []
  }
 ],
 "metadata": {
  "kernelspec": {
   "display_name": "Python [conda env:base] *",
   "language": "python",
   "name": "conda-base-py"
  },
  "language_info": {
   "codemirror_mode": {
    "name": "ipython",
    "version": 3
   },
   "file_extension": ".py",
   "mimetype": "text/x-python",
   "name": "python",
   "nbconvert_exporter": "python",
   "pygments_lexer": "ipython3",
   "version": "3.12.7"
  }
 },
 "nbformat": 4,
 "nbformat_minor": 5
}
