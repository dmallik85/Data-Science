{
 "cells": [
  {
   "cell_type": "markdown",
   "id": "baf8380d-5638-402e-b973-a508b47d7b2c",
   "metadata": {},
   "source": [
    "# Statistical Tools \n",
    "This Tools helps us to again on the same line in order make dicision / in order to conclude something .I want to do some type of test.Like Hypothesis Testing.\n",
    "## 1 - Ttest or Student Ttest.\n",
    "## 2 - Anova -Analysis of Variance\n",
    "## 3 -Chi-Square"
   ]
  },
  {
   "cell_type": "markdown",
   "id": "bf8eb9fc-c572-489d-ab7a-bb1854975004",
   "metadata": {},
   "source": [
    "# 1-> Ttest or Student Test\n",
    "\n",
    "There are Two types of Ttest \n",
    "\n",
    "- One Sample Test\n",
    "- Two Sample Test"
   ]
  },
  {
   "cell_type": "code",
   "execution_count": 5,
   "id": "a6cde6a5-1cd6-4ec9-b78d-767bbda808f3",
   "metadata": {},
   "outputs": [
    {
     "data": {
      "text/html": [
       "<div>\n",
       "<style scoped>\n",
       "    .dataframe tbody tr th:only-of-type {\n",
       "        vertical-align: middle;\n",
       "    }\n",
       "\n",
       "    .dataframe tbody tr th {\n",
       "        vertical-align: top;\n",
       "    }\n",
       "\n",
       "    .dataframe thead th {\n",
       "        text-align: right;\n",
       "    }\n",
       "</style>\n",
       "<table border=\"1\" class=\"dataframe\">\n",
       "  <thead>\n",
       "    <tr style=\"text-align: right;\">\n",
       "      <th></th>\n",
       "      <th>ID</th>\n",
       "      <th>Gender</th>\n",
       "      <th>Race</th>\n",
       "      <th>SEB</th>\n",
       "      <th>School</th>\n",
       "      <th>Prog</th>\n",
       "      <th>Read</th>\n",
       "      <th>Write</th>\n",
       "      <th>Math1</th>\n",
       "      <th>Math2</th>\n",
       "      <th>SST</th>\n",
       "    </tr>\n",
       "  </thead>\n",
       "  <tbody>\n",
       "    <tr>\n",
       "      <th>0</th>\n",
       "      <td>70</td>\n",
       "      <td>0</td>\n",
       "      <td>4</td>\n",
       "      <td>1</td>\n",
       "      <td>1</td>\n",
       "      <td>1</td>\n",
       "      <td>57</td>\n",
       "      <td>52</td>\n",
       "      <td>41</td>\n",
       "      <td>47</td>\n",
       "      <td>57</td>\n",
       "    </tr>\n",
       "    <tr>\n",
       "      <th>1</th>\n",
       "      <td>121</td>\n",
       "      <td>1</td>\n",
       "      <td>4</td>\n",
       "      <td>2</td>\n",
       "      <td>1</td>\n",
       "      <td>3</td>\n",
       "      <td>68</td>\n",
       "      <td>59</td>\n",
       "      <td>53</td>\n",
       "      <td>63</td>\n",
       "      <td>61</td>\n",
       "    </tr>\n",
       "    <tr>\n",
       "      <th>2</th>\n",
       "      <td>86</td>\n",
       "      <td>0</td>\n",
       "      <td>4</td>\n",
       "      <td>3</td>\n",
       "      <td>1</td>\n",
       "      <td>1</td>\n",
       "      <td>44</td>\n",
       "      <td>33</td>\n",
       "      <td>54</td>\n",
       "      <td>58</td>\n",
       "      <td>31</td>\n",
       "    </tr>\n",
       "    <tr>\n",
       "      <th>3</th>\n",
       "      <td>141</td>\n",
       "      <td>0</td>\n",
       "      <td>4</td>\n",
       "      <td>3</td>\n",
       "      <td>1</td>\n",
       "      <td>3</td>\n",
       "      <td>63</td>\n",
       "      <td>44</td>\n",
       "      <td>47</td>\n",
       "      <td>53</td>\n",
       "      <td>56</td>\n",
       "    </tr>\n",
       "    <tr>\n",
       "      <th>4</th>\n",
       "      <td>172</td>\n",
       "      <td>0</td>\n",
       "      <td>4</td>\n",
       "      <td>2</td>\n",
       "      <td>1</td>\n",
       "      <td>2</td>\n",
       "      <td>47</td>\n",
       "      <td>52</td>\n",
       "      <td>57</td>\n",
       "      <td>53</td>\n",
       "      <td>61</td>\n",
       "    </tr>\n",
       "  </tbody>\n",
       "</table>\n",
       "</div>"
      ],
      "text/plain": [
       "    ID  Gender  Race  SEB  School  Prog  Read  Write  Math1  Math2  SST\n",
       "0   70       0     4    1       1     1    57     52     41     47   57\n",
       "1  121       1     4    2       1     3    68     59     53     63   61\n",
       "2   86       0     4    3       1     1    44     33     54     58   31\n",
       "3  141       0     4    3       1     3    63     44     47     53   56\n",
       "4  172       0     4    2       1     2    47     52     57     53   61"
      ]
     },
     "execution_count": 5,
     "metadata": {},
     "output_type": "execute_result"
    }
   ],
   "source": [
    "#Conduct ttest when standard deviation is not known.\n",
    "import pandas as pd\n",
    "hyp=pd.read_csv(\"https://raw.githubusercontent.com/training-ml/Files/main/Hypothesis%20ttest.csv\")\n",
    "hyp.head()"
   ]
  },
  {
   "cell_type": "markdown",
   "id": "ea7e3ed3-6c27-4552-9386-3544ce507a29",
   "metadata": {},
   "source": [
    "A teacher wants to teach student for a competative exam, she collected sample of the student marks from different school and based on her past experience she believes that, these type of student will score more than 60 marks in the exam. Now, she wants to conduct hypothesis test on the marks.\n",
    "\n",
    "Ho=mu>=60\n",
    "\n",
    "Ha=mu<=60"
   ]
  },
  {
   "cell_type": "markdown",
   "id": "a8312f62-8ae8-45f8-8a52-cbdc96d53b6a",
   "metadata": {},
   "source": [
    "## One Sample Test\n",
    "\n",
    "It is also called as biased sample test because it focuses on only one sample and tell us the probability"
   ]
  },
  {
   "cell_type": "code",
   "execution_count": 12,
   "id": "5f7552e7-78a0-49e9-82dd-9657dfae3375",
   "metadata": {},
   "outputs": [
    {
     "data": {
      "text/plain": [
       "TtestResult(statistic=-11.102736525713398, pvalue=1.3339158110547646e-22, df=199)"
      ]
     },
     "execution_count": 12,
     "metadata": {},
     "output_type": "execute_result"
    }
   ],
   "source": [
    "xbar=hyp['Math1'].mean()\n",
    "alpha=0.05\n",
    "mu=60\n",
    "import scipy.stats as st\n",
    "\n",
    "#code is for one sample test is  - st.ttest_1samp(sample,mu)\n",
    "st.ttest_1samp(hyp.Math1,mu)"
   ]
  },
  {
   "cell_type": "markdown",
   "id": "88a2e42d-e676-4b55-9339-6e83eb7b1520",
   "metadata": {},
   "source": [
    "### Actual Value:\n",
    "\n",
    "Scientific notation: `1.3339158110547646e-22`  \n",
    "Decimal form: `0.0000000000000000000001333915811`\n",
    "\n",
    "When pvalue is less than alpha level, we reject the Ho, it will be Ha.\n",
    "\n",
    "When pvalue is greater than alpha level, we fail to reject the Ho."
   ]
  },
  {
   "cell_type": "markdown",
   "id": "a0aac305-aa79-4828-9d3d-36fa1e4b290c",
   "metadata": {},
   "source": [
    "#  T-test: Statistic and P-value\n",
    "\n",
    "---\n",
    "\n",
    "## 1. T-Statistic (Test Statistic)\n",
    "\n",
    "###  Definition:\n",
    "T-statistic is a value which tells about **the sample mean, how far away from population mean**, in terms of standard error.\n",
    "\n",
    "###  Formula (1-sample t-test):\n",
    "\n",
    "\\$[\n",
    "t = \\frac{\\bar{x} - \\mu}{s / \\sqrt{n}}\n",
    "\\$]\n",
    "\n",
    "###  Where:\n",
    "\n",
    "- \\$(\\bar{x}\\$) = Sample mean  \n",
    "- \\$(\\mu\\$) = Population mean (from H₀)  \n",
    "- \\$(s\\$) = Sample standard deviation  \n",
    "- \\$(n\\$) = Sample size  \n",
    "\n",
    "###  Interpretation:\n",
    "\n",
    "- If the value of `t` **very bigger or very smaller** (positive or negative), this means:\n",
    "  > The sample result is **very different** from expected value.\n",
    "\n",
    "---\n",
    "\n",
    "##  2. P-value\n",
    "\n",
    "###  Definition:\n",
    "P-value is **probability** which tells about:\n",
    "\n",
    "> \"**There is a chance of getting the result (or very extreme result)**, if Null Hypothesis (H₀) is TRUE?\"\n",
    "\n",
    "###  Interpretation:\n",
    "\n",
    "| P-value         | Decision about H₀              |\n",
    "|------------------|-------------------------------|\n",
    "| p > 0.05         | Accept (Fail to reject) H₀     |\n",
    "| p ≤ 0.05         | Reject H₀                      |\n",
    "| p ≈ 0            | Strong evidence against H₀     |\n",
    "\n",
    "- **Low p-value (e.g., 0.01)** → Null hypothesis could be FALSE.\n",
    "- **High p-value (e.g., 0.5)** → The difference value could be by chance.\n",
    "\n",
    "---\n",
    "\n",
    "##  Summary Table\n",
    "\n",
    "| Term         | Meaning                                                  | Formula / Logic                                   |\n",
    "|--------------|----------------------------------------------------------|---------------------------------------------------|\n",
    "| T-statistic  | How far the result is from the expected value (in SE units)    | \\$(\\frac{\\bar{x} - \\mu}{s / \\sqrt{n}}\\$)            |\n",
    "| P-value      | The chances of the result if Null hypothesis is TRUE | Probability based on t-distribution curve         |\n",
    "\n",
    "---\n"
   ]
  },
  {
   "cell_type": "markdown",
   "id": "4182ea7b-981b-49f6-9d96-fb644c69ade0",
   "metadata": {},
   "source": [
    "There You Can see in pvalue =e-22 means, before starting 1.339 there are 22 times 0\n",
    "\n",
    "Lets Write in this way\n",
    "When you run ttest , we get 2 values 1) t statistics score, 2) p value for two tail.\n",
    "\n",
    "**pvalue /2**"
   ]
  },
  {
   "cell_type": "code",
   "execution_count": 20,
   "id": "42d95d9b-2f99-49f4-8f76-7b50511dc687",
   "metadata": {},
   "outputs": [],
   "source": [
    "t,p=st.ttest_1samp(hyp.Math1,mu     # Saving probability value in p and statistics value in t"
   ]
  },
  {
   "cell_type": "code",
   "execution_count": 22,
   "id": "a8631835-f25a-4f1a-82b2-066819bdd37b",
   "metadata": {},
   "outputs": [
    {
     "data": {
      "text/plain": [
       "-11.102736525713398"
      ]
     },
     "execution_count": 22,
     "metadata": {},
     "output_type": "execute_result"
    }
   ],
   "source": [
    "t"
   ]
  },
  {
   "cell_type": "code",
   "execution_count": 24,
   "id": "590afca9-87d3-4ddb-b3b3-da7ce5a3d53d",
   "metadata": {},
   "outputs": [
    {
     "data": {
      "text/plain": [
       "1.3339158110547646e-22"
      ]
     },
     "execution_count": 24,
     "metadata": {},
     "output_type": "execute_result"
    }
   ],
   "source": [
    "p"
   ]
  },
  {
   "cell_type": "markdown",
   "id": "cdd0296d-fb9b-4679-9f75-597ff4281a57",
   "metadata": {},
   "source": [
    "#  2 Sample Tests \n",
    "\n",
    "When you want to compare **two averages**, you use a **2-sample t-test**.  \n",
    "There are **two types**: Independent and Paired.\n",
    "\n",
    "---\n",
    "\n",
    "## A. Independent Sample T-Test\n",
    "\n",
    "###  What is it?\n",
    "\n",
    "Used when you are comparing the **average of two separate groups** — like comparing boys and girls.\n",
    "\n",
    "> The two groups **must not overlap**.\n",
    "\n",
    "---\n",
    "\n",
    "###  Example:\n",
    "\n",
    "**Compare Math1 scores of Males vs. Females**\n",
    "\n",
    "In the dataset:\n",
    "\n",
    "- `Gender == 1` → Male  \n",
    "- `Gender == 0` → Female  \n",
    "- `Math1` → First math test score\n",
    "\n",
    "```python\n",
    "import scipy.stats as st\n",
    "\n",
    "# Perform Independent Sample T-Test\n",
    "t, p = st.ttest_ind(hyp[hyp['Gender'] == 1].Math1,\n",
    "                    hyp[hyp['Gender'] == 0].Math1)\n",
    "\n",
    "print(\"T-statistic:\", t)\n",
    "print(\"P-value:\", p)\n"
   ]
  },
  {
   "cell_type": "markdown",
   "id": "e7ca1874-021c-42f1-b22c-e9d90a630c90",
   "metadata": {},
   "source": [
    "###  Interpretation\n",
    "\n",
    "- **T-statistic** tells you **how different the two groups are**.\n",
    "- **P-value** tells you **whether that difference is statistically significant**.\n",
    "\n",
    "---\n",
    "\n",
    "###  If `p < 0.05`:\n",
    "\n",
    "> \"Yes! The difference is significant.\"  \n",
    "> For example:  \n",
    "> \"Males and females have significantly different Math1 scores.\"\n",
    "\n",
    "---\n",
    "\n",
    "###  If `p >= 0.05`:\n",
    "\n",
    "> \"No, the difference is not significant.\"  \n",
    "> For example:  \n",
    "> \"There is no strong evidence that males and females have different Math1 scores.\"\n"
   ]
  },
  {
   "cell_type": "markdown",
   "id": "583e123f-939c-4fcf-b7c6-09c6f0f42c5c",
   "metadata": {},
   "source": [
    "# A- Independent Sample"
   ]
  },
  {
   "cell_type": "code",
   "execution_count": 30,
   "id": "c67e6557-25c2-4552-926c-b639a49d4d52",
   "metadata": {},
   "outputs": [
    {
     "data": {
      "text/html": [
       "<div>\n",
       "<style scoped>\n",
       "    .dataframe tbody tr th:only-of-type {\n",
       "        vertical-align: middle;\n",
       "    }\n",
       "\n",
       "    .dataframe tbody tr th {\n",
       "        vertical-align: top;\n",
       "    }\n",
       "\n",
       "    .dataframe thead th {\n",
       "        text-align: right;\n",
       "    }\n",
       "</style>\n",
       "<table border=\"1\" class=\"dataframe\">\n",
       "  <thead>\n",
       "    <tr style=\"text-align: right;\">\n",
       "      <th></th>\n",
       "      <th>ID</th>\n",
       "      <th>Gender</th>\n",
       "      <th>Race</th>\n",
       "      <th>SEB</th>\n",
       "      <th>School</th>\n",
       "      <th>Prog</th>\n",
       "      <th>Read</th>\n",
       "      <th>Write</th>\n",
       "      <th>Math1</th>\n",
       "      <th>Math2</th>\n",
       "      <th>SST</th>\n",
       "    </tr>\n",
       "  </thead>\n",
       "  <tbody>\n",
       "    <tr>\n",
       "      <th>0</th>\n",
       "      <td>70</td>\n",
       "      <td>0</td>\n",
       "      <td>4</td>\n",
       "      <td>1</td>\n",
       "      <td>1</td>\n",
       "      <td>1</td>\n",
       "      <td>57</td>\n",
       "      <td>52</td>\n",
       "      <td>41</td>\n",
       "      <td>47</td>\n",
       "      <td>57</td>\n",
       "    </tr>\n",
       "    <tr>\n",
       "      <th>1</th>\n",
       "      <td>121</td>\n",
       "      <td>1</td>\n",
       "      <td>4</td>\n",
       "      <td>2</td>\n",
       "      <td>1</td>\n",
       "      <td>3</td>\n",
       "      <td>68</td>\n",
       "      <td>59</td>\n",
       "      <td>53</td>\n",
       "      <td>63</td>\n",
       "      <td>61</td>\n",
       "    </tr>\n",
       "    <tr>\n",
       "      <th>2</th>\n",
       "      <td>86</td>\n",
       "      <td>0</td>\n",
       "      <td>4</td>\n",
       "      <td>3</td>\n",
       "      <td>1</td>\n",
       "      <td>1</td>\n",
       "      <td>44</td>\n",
       "      <td>33</td>\n",
       "      <td>54</td>\n",
       "      <td>58</td>\n",
       "      <td>31</td>\n",
       "    </tr>\n",
       "    <tr>\n",
       "      <th>3</th>\n",
       "      <td>141</td>\n",
       "      <td>0</td>\n",
       "      <td>4</td>\n",
       "      <td>3</td>\n",
       "      <td>1</td>\n",
       "      <td>3</td>\n",
       "      <td>63</td>\n",
       "      <td>44</td>\n",
       "      <td>47</td>\n",
       "      <td>53</td>\n",
       "      <td>56</td>\n",
       "    </tr>\n",
       "    <tr>\n",
       "      <th>4</th>\n",
       "      <td>172</td>\n",
       "      <td>0</td>\n",
       "      <td>4</td>\n",
       "      <td>2</td>\n",
       "      <td>1</td>\n",
       "      <td>2</td>\n",
       "      <td>47</td>\n",
       "      <td>52</td>\n",
       "      <td>57</td>\n",
       "      <td>53</td>\n",
       "      <td>61</td>\n",
       "    </tr>\n",
       "  </tbody>\n",
       "</table>\n",
       "</div>"
      ],
      "text/plain": [
       "    ID  Gender  Race  SEB  School  Prog  Read  Write  Math1  Math2  SST\n",
       "0   70       0     4    1       1     1    57     52     41     47   57\n",
       "1  121       1     4    2       1     3    68     59     53     63   61\n",
       "2   86       0     4    3       1     1    44     33     54     58   31\n",
       "3  141       0     4    3       1     3    63     44     47     53   56\n",
       "4  172       0     4    2       1     2    47     52     57     53   61"
      ]
     },
     "execution_count": 30,
     "metadata": {},
     "output_type": "execute_result"
    }
   ],
   "source": [
    "hyp.head()"
   ]
  },
  {
   "cell_type": "code",
   "execution_count": 32,
   "id": "dc985b49-59e1-4626-a37d-f568188eeebf",
   "metadata": {},
   "outputs": [
    {
     "data": {
      "text/plain": [
       "Gender\n",
       "1    109\n",
       "0     91\n",
       "Name: count, dtype: int64"
      ]
     },
     "execution_count": 32,
     "metadata": {},
     "output_type": "execute_result"
    }
   ],
   "source": [
    "hyp['Gender'].value_counts()"
   ]
  },
  {
   "cell_type": "code",
   "execution_count": 34,
   "id": "51b5f120-6212-41b6-b1bd-aa82f6455eaa",
   "metadata": {},
   "outputs": [
    {
     "data": {
      "text/plain": [
       "0       True\n",
       "1      False\n",
       "2       True\n",
       "3       True\n",
       "4       True\n",
       "       ...  \n",
       "195    False\n",
       "196    False\n",
       "197    False\n",
       "198    False\n",
       "199    False\n",
       "Name: Gender, Length: 200, dtype: bool"
      ]
     },
     "execution_count": 34,
     "metadata": {},
     "output_type": "execute_result"
    }
   ],
   "source": [
    "#How to Subset the Data on Gender\n",
    "\n",
    "hyp['Gender']==0"
   ]
  },
  {
   "cell_type": "code",
   "execution_count": 36,
   "id": "7e0d8781-4d05-4809-a739-134a248af5e2",
   "metadata": {},
   "outputs": [
    {
     "data": {
      "text/html": [
       "<div>\n",
       "<style scoped>\n",
       "    .dataframe tbody tr th:only-of-type {\n",
       "        vertical-align: middle;\n",
       "    }\n",
       "\n",
       "    .dataframe tbody tr th {\n",
       "        vertical-align: top;\n",
       "    }\n",
       "\n",
       "    .dataframe thead th {\n",
       "        text-align: right;\n",
       "    }\n",
       "</style>\n",
       "<table border=\"1\" class=\"dataframe\">\n",
       "  <thead>\n",
       "    <tr style=\"text-align: right;\">\n",
       "      <th></th>\n",
       "      <th>ID</th>\n",
       "      <th>Gender</th>\n",
       "      <th>Race</th>\n",
       "      <th>SEB</th>\n",
       "      <th>School</th>\n",
       "      <th>Prog</th>\n",
       "      <th>Read</th>\n",
       "      <th>Write</th>\n",
       "      <th>Math1</th>\n",
       "      <th>Math2</th>\n",
       "      <th>SST</th>\n",
       "    </tr>\n",
       "  </thead>\n",
       "  <tbody>\n",
       "    <tr>\n",
       "      <th>0</th>\n",
       "      <td>70</td>\n",
       "      <td>0</td>\n",
       "      <td>4</td>\n",
       "      <td>1</td>\n",
       "      <td>1</td>\n",
       "      <td>1</td>\n",
       "      <td>57</td>\n",
       "      <td>52</td>\n",
       "      <td>41</td>\n",
       "      <td>47</td>\n",
       "      <td>57</td>\n",
       "    </tr>\n",
       "    <tr>\n",
       "      <th>2</th>\n",
       "      <td>86</td>\n",
       "      <td>0</td>\n",
       "      <td>4</td>\n",
       "      <td>3</td>\n",
       "      <td>1</td>\n",
       "      <td>1</td>\n",
       "      <td>44</td>\n",
       "      <td>33</td>\n",
       "      <td>54</td>\n",
       "      <td>58</td>\n",
       "      <td>31</td>\n",
       "    </tr>\n",
       "    <tr>\n",
       "      <th>3</th>\n",
       "      <td>141</td>\n",
       "      <td>0</td>\n",
       "      <td>4</td>\n",
       "      <td>3</td>\n",
       "      <td>1</td>\n",
       "      <td>3</td>\n",
       "      <td>63</td>\n",
       "      <td>44</td>\n",
       "      <td>47</td>\n",
       "      <td>53</td>\n",
       "      <td>56</td>\n",
       "    </tr>\n",
       "    <tr>\n",
       "      <th>4</th>\n",
       "      <td>172</td>\n",
       "      <td>0</td>\n",
       "      <td>4</td>\n",
       "      <td>2</td>\n",
       "      <td>1</td>\n",
       "      <td>2</td>\n",
       "      <td>47</td>\n",
       "      <td>52</td>\n",
       "      <td>57</td>\n",
       "      <td>53</td>\n",
       "      <td>61</td>\n",
       "    </tr>\n",
       "    <tr>\n",
       "      <th>5</th>\n",
       "      <td>113</td>\n",
       "      <td>0</td>\n",
       "      <td>4</td>\n",
       "      <td>2</td>\n",
       "      <td>1</td>\n",
       "      <td>2</td>\n",
       "      <td>44</td>\n",
       "      <td>52</td>\n",
       "      <td>51</td>\n",
       "      <td>63</td>\n",
       "      <td>61</td>\n",
       "    </tr>\n",
       "    <tr>\n",
       "      <th>...</th>\n",
       "      <td>...</td>\n",
       "      <td>...</td>\n",
       "      <td>...</td>\n",
       "      <td>...</td>\n",
       "      <td>...</td>\n",
       "      <td>...</td>\n",
       "      <td>...</td>\n",
       "      <td>...</td>\n",
       "      <td>...</td>\n",
       "      <td>...</td>\n",
       "      <td>...</td>\n",
       "    </tr>\n",
       "    <tr>\n",
       "      <th>87</th>\n",
       "      <td>117</td>\n",
       "      <td>0</td>\n",
       "      <td>4</td>\n",
       "      <td>3</td>\n",
       "      <td>1</td>\n",
       "      <td>3</td>\n",
       "      <td>34</td>\n",
       "      <td>49</td>\n",
       "      <td>39</td>\n",
       "      <td>42</td>\n",
       "      <td>56</td>\n",
       "    </tr>\n",
       "    <tr>\n",
       "      <th>88</th>\n",
       "      <td>133</td>\n",
       "      <td>0</td>\n",
       "      <td>4</td>\n",
       "      <td>2</td>\n",
       "      <td>1</td>\n",
       "      <td>3</td>\n",
       "      <td>50</td>\n",
       "      <td>31</td>\n",
       "      <td>40</td>\n",
       "      <td>34</td>\n",
       "      <td>31</td>\n",
       "    </tr>\n",
       "    <tr>\n",
       "      <th>89</th>\n",
       "      <td>94</td>\n",
       "      <td>0</td>\n",
       "      <td>4</td>\n",
       "      <td>3</td>\n",
       "      <td>1</td>\n",
       "      <td>2</td>\n",
       "      <td>55</td>\n",
       "      <td>49</td>\n",
       "      <td>61</td>\n",
       "      <td>61</td>\n",
       "      <td>56</td>\n",
       "    </tr>\n",
       "    <tr>\n",
       "      <th>90</th>\n",
       "      <td>24</td>\n",
       "      <td>0</td>\n",
       "      <td>2</td>\n",
       "      <td>2</td>\n",
       "      <td>1</td>\n",
       "      <td>2</td>\n",
       "      <td>52</td>\n",
       "      <td>62</td>\n",
       "      <td>66</td>\n",
       "      <td>47</td>\n",
       "      <td>46</td>\n",
       "    </tr>\n",
       "    <tr>\n",
       "      <th>91</th>\n",
       "      <td>149</td>\n",
       "      <td>0</td>\n",
       "      <td>4</td>\n",
       "      <td>1</td>\n",
       "      <td>1</td>\n",
       "      <td>1</td>\n",
       "      <td>63</td>\n",
       "      <td>49</td>\n",
       "      <td>49</td>\n",
       "      <td>66</td>\n",
       "      <td>46</td>\n",
       "    </tr>\n",
       "  </tbody>\n",
       "</table>\n",
       "<p>91 rows × 11 columns</p>\n",
       "</div>"
      ],
      "text/plain": [
       "     ID  Gender  Race  SEB  School  Prog  Read  Write  Math1  Math2  SST\n",
       "0    70       0     4    1       1     1    57     52     41     47   57\n",
       "2    86       0     4    3       1     1    44     33     54     58   31\n",
       "3   141       0     4    3       1     3    63     44     47     53   56\n",
       "4   172       0     4    2       1     2    47     52     57     53   61\n",
       "5   113       0     4    2       1     2    44     52     51     63   61\n",
       "..  ...     ...   ...  ...     ...   ...   ...    ...    ...    ...  ...\n",
       "87  117       0     4    3       1     3    34     49     39     42   56\n",
       "88  133       0     4    2       1     3    50     31     40     34   31\n",
       "89   94       0     4    3       1     2    55     49     61     61   56\n",
       "90   24       0     2    2       1     2    52     62     66     47   46\n",
       "91  149       0     4    1       1     1    63     49     49     66   46\n",
       "\n",
       "[91 rows x 11 columns]"
      ]
     },
     "execution_count": 36,
     "metadata": {},
     "output_type": "execute_result"
    }
   ],
   "source": [
    "# To get the data form with the results for male only\n",
    "hyp[hyp['Gender']==0]"
   ]
  },
  {
   "cell_type": "code",
   "execution_count": 38,
   "id": "1f800429-00a9-44cf-9ea2-ce1b5a1c72f8",
   "metadata": {},
   "outputs": [
    {
     "data": {
      "text/plain": [
       "1     53\n",
       "92    65\n",
       "93    52\n",
       "94    46\n",
       "95    61\n",
       "Name: Math1, dtype: int64"
      ]
     },
     "execution_count": 38,
     "metadata": {},
     "output_type": "execute_result"
    }
   ],
   "source": [
    "hyp[hyp['Gender']==1].Math1.head()"
   ]
  },
  {
   "cell_type": "code",
   "execution_count": 40,
   "id": "36ece5e8-b271-4706-8b89-ef08300b3c38",
   "metadata": {},
   "outputs": [],
   "source": [
    "t,p=st.ttest_ind(hyp[hyp['Gender']==1].Math1,hyp[hyp['Gender']==0].Math1)"
   ]
  },
  {
   "cell_type": "code",
   "execution_count": 42,
   "id": "fb843bf0-59ed-4b0a-9b91-5ad58147b88a",
   "metadata": {},
   "outputs": [
    {
     "data": {
      "text/plain": [
       "-0.41299864929688507"
      ]
     },
     "execution_count": 42,
     "metadata": {},
     "output_type": "execute_result"
    }
   ],
   "source": [
    "t"
   ]
  },
  {
   "cell_type": "code",
   "execution_count": 44,
   "id": "32b8bcbf-af1c-4fa0-af26-1aeaa640a6c9",
   "metadata": {},
   "outputs": [
    {
     "data": {
      "text/plain": [
       "0.6800544974232143"
      ]
     },
     "execution_count": 44,
     "metadata": {},
     "output_type": "execute_result"
    }
   ],
   "source": [
    "p"
   ]
  },
  {
   "cell_type": "markdown",
   "id": "08fb9a6e-8487-4829-af77-1ef680713fa3",
   "metadata": {},
   "source": [
    "#  Paired Sample T-Test\n",
    "\n",
    "Used when you are **comparing two related measurements** from the **same individuals**  — like **Math1 vs. Math2** scores of the same students, or **before and after** a training program. Paired sample T-test is also called as relational test.\n",
    "\n",
    "Each person contributes **both values**."
   ]
  },
  {
   "cell_type": "code",
   "execution_count": 47,
   "id": "a1e2b59d-b90a-4565-9415-3efc1a97fed9",
   "metadata": {},
   "outputs": [],
   "source": [
    "t,p=st.ttest_rel(hyp.Math1,hyp.Math2)"
   ]
  },
  {
   "cell_type": "code",
   "execution_count": 49,
   "id": "38b1e597-a850-480f-8936-d419c0daecef",
   "metadata": {},
   "outputs": [
    {
     "data": {
      "text/plain": [
       "1.3555927189268238"
      ]
     },
     "execution_count": 49,
     "metadata": {},
     "output_type": "execute_result"
    }
   ],
   "source": [
    "t"
   ]
  },
  {
   "cell_type": "code",
   "execution_count": 51,
   "id": "49a04c43-1c8c-4e6c-935b-9660872ab407",
   "metadata": {},
   "outputs": [
    {
     "data": {
      "text/plain": [
       "0.1767652560550735"
      ]
     },
     "execution_count": 51,
     "metadata": {},
     "output_type": "execute_result"
    }
   ],
   "source": [
    "p"
   ]
  },
  {
   "cell_type": "markdown",
   "id": "48226e13-4c08-4691-ba27-52b743b00c3c",
   "metadata": {},
   "source": [
    "###  What if We Have More Than Two Samples?\n",
    "\n",
    "The **1-sample t-test** is used when we have **only one sample** and we want to compare it with a known population mean.\n",
    "\n",
    "The **2-sample t-test** is used to compare the means of **two groups**.\n",
    "\n",
    "But what if we have **more than two groups or samples**?\n",
    "\n",
    " In that case, using multiple t-tests increases the chance of making a mistake (Type I error).  \n",
    "So, instead of running many t-tests, we use **ANOVA (Analysis of Variance)** — a statistical method designed to compare **more than two groups at the same time**.\n",
    "\n",
    "# 2 ANOVA (Analysis of Variance)\n",
    "\n",
    "ANOVA is used to **compare the means of more than two groups**.\n",
    "\n",
    "It works by analyzing the **variation in the data** and identifying where the variation comes from — either **between groups** or **within groups**.  \n",
    "That’s why it’s called **Analysis of Variance**.\n",
    "\n",
    "---\n",
    "\n",
    "##  How ANOVA Works\n",
    "\n",
    "ANOVA compares:\n",
    "- The **variation between group means**, and  \n",
    "- The **variation within each group**.\n",
    "\n",
    "---\n",
    "\n",
    "##  Assumptions:\n",
    "\n",
    "- **Null Hypothesis (H₀)**: All group means are equal.  \n",
    "- **Independent variables** are **categorical** (e.g., Gender, Program Type).  \n",
    "- **Dependent variable** is **continuous** (e.g., Test Scores, Sales, Height).\n",
    "\n",
    "---\n",
    "\n",
    "##  F-value\n",
    "\n",
    "The **F-value** helps us understand the ratio of variation:\n",
    "\n",
    "\\$[\n",
    "F = \\frac{\\text{Variation Between Groups}}{\\text{Variation Within Groups}}\n",
    "\\$]\n",
    "\n",
    "- A **higher F-value** suggests a **greater difference between group means**.\n",
    "- Based on the **F-score**, we calculate the **p-value** to check significance.\n",
    "- If the **F-value is high**, the **null hypothesis is likely to be rejected**, meaning **the group means are significantly different**.\n",
    "- If the **F-value is low**, it suggests that the **null hypothesis is correct**, i.e., **group means are not significantly different**.\n",
    "\n",
    "---\n",
    "\n",
    "> **\"F\"** in **F-score** stands for **Fisher**.  \n",
    "> The F-score is named after **Sir Ronald Fisher**, a famous statistician who developed this method.\n",
    "\n",
    "---\n",
    "\n",
    "## Example\n",
    "\n",
    "If different types of drinks (coffee, water, milk, soda, etc.) have the same effects on the human body (e.g., reaction time in the morning).\n",
    "\n",
    "Mean Reaction time\n",
    "\n",
    "Null Hypothesis: The average reaction time on the human body is the same for all types of drinks.\n",
    "\n",
    "Alternate Hypothesis: The average reaction time on the human body varies among different types of drinks.\n",
    "\n",
    "# Hypothesis Construction\n",
    "\n",
    "Null Hypothesis for ANOVA states that the averages of dependent variables are the same across all the given groups.\n",
    "\n",
    "The alternative hypothesis states that the means of the dependent variables are not the same for the given groups.\n",
    "\n",
    "Ho:muA=muB=muC\n",
    "\n",
    "Ha:not all are equal\n",
    "\n",
    "# How its work behind the Scene?\n",
    "\n",
    "**step1:** Calculate the mean of each semester\n",
    "\n",
    "**step2:** Calculate the grand mean\n",
    "\n",
    "**step3:** Variation between,within\n",
    "\n",
    "**step4:** calculate the mean squared variance of between and within\n",
    "\n",
    "**step5:** calculate F statistics and corresponding p value\n",
    "\n",
    "In anova test first we have to find F Score. Then we have to find Pvalues. Ultimately we have to find P values"
   ]
  },
  {
   "cell_type": "code",
   "execution_count": 6,
   "id": "66d9383c-cc00-4c02-9488-6abe6ca437cc",
   "metadata": {},
   "outputs": [],
   "source": [
    "import pandas as pd\n",
    "hyp=pd.read_csv('https://raw.githubusercontent.com/s4sauravv/Datasets/main/Semester%20marks.csv')"
   ]
  },
  {
   "cell_type": "code",
   "execution_count": 61,
   "id": "8eda6b2a-9dfd-4ac6-9ec4-2d9e4536a030",
   "metadata": {},
   "outputs": [
    {
     "data": {
      "text/html": [
       "<div>\n",
       "<style scoped>\n",
       "    .dataframe tbody tr th:only-of-type {\n",
       "        vertical-align: middle;\n",
       "    }\n",
       "\n",
       "    .dataframe tbody tr th {\n",
       "        vertical-align: top;\n",
       "    }\n",
       "\n",
       "    .dataframe thead th {\n",
       "        text-align: right;\n",
       "    }\n",
       "</style>\n",
       "<table border=\"1\" class=\"dataframe\">\n",
       "  <thead>\n",
       "    <tr style=\"text-align: right;\">\n",
       "      <th></th>\n",
       "      <th>Student_ID</th>\n",
       "      <th>Semester</th>\n",
       "      <th>Total_Marks</th>\n",
       "    </tr>\n",
       "  </thead>\n",
       "  <tbody>\n",
       "    <tr>\n",
       "      <th>0</th>\n",
       "      <td>1</td>\n",
       "      <td>1</td>\n",
       "      <td>365</td>\n",
       "    </tr>\n",
       "    <tr>\n",
       "      <th>1</th>\n",
       "      <td>2</td>\n",
       "      <td>3</td>\n",
       "      <td>376</td>\n",
       "    </tr>\n",
       "    <tr>\n",
       "      <th>2</th>\n",
       "      <td>3</td>\n",
       "      <td>1</td>\n",
       "      <td>411</td>\n",
       "    </tr>\n",
       "    <tr>\n",
       "      <th>3</th>\n",
       "      <td>4</td>\n",
       "      <td>3</td>\n",
       "      <td>436</td>\n",
       "    </tr>\n",
       "    <tr>\n",
       "      <th>4</th>\n",
       "      <td>5</td>\n",
       "      <td>2</td>\n",
       "      <td>366</td>\n",
       "    </tr>\n",
       "    <tr>\n",
       "      <th>...</th>\n",
       "      <td>...</td>\n",
       "      <td>...</td>\n",
       "      <td>...</td>\n",
       "    </tr>\n",
       "    <tr>\n",
       "      <th>195</th>\n",
       "      <td>196</td>\n",
       "      <td>1</td>\n",
       "      <td>431</td>\n",
       "    </tr>\n",
       "    <tr>\n",
       "      <th>196</th>\n",
       "      <td>197</td>\n",
       "      <td>3</td>\n",
       "      <td>330</td>\n",
       "    </tr>\n",
       "    <tr>\n",
       "      <th>197</th>\n",
       "      <td>198</td>\n",
       "      <td>1</td>\n",
       "      <td>311</td>\n",
       "    </tr>\n",
       "    <tr>\n",
       "      <th>198</th>\n",
       "      <td>199</td>\n",
       "      <td>1</td>\n",
       "      <td>358</td>\n",
       "    </tr>\n",
       "    <tr>\n",
       "      <th>199</th>\n",
       "      <td>200</td>\n",
       "      <td>2</td>\n",
       "      <td>468</td>\n",
       "    </tr>\n",
       "  </tbody>\n",
       "</table>\n",
       "<p>200 rows × 3 columns</p>\n",
       "</div>"
      ],
      "text/plain": [
       "     Student_ID  Semester  Total_Marks\n",
       "0             1         1          365\n",
       "1             2         3          376\n",
       "2             3         1          411\n",
       "3             4         3          436\n",
       "4             5         2          366\n",
       "..          ...       ...          ...\n",
       "195         196         1          431\n",
       "196         197         3          330\n",
       "197         198         1          311\n",
       "198         199         1          358\n",
       "199         200         2          468\n",
       "\n",
       "[200 rows x 3 columns]"
      ]
     },
     "execution_count": 61,
     "metadata": {},
     "output_type": "execute_result"
    }
   ],
   "source": [
    "hyp"
   ]
  },
  {
   "cell_type": "markdown",
   "id": "ca72dc5a-8b03-4c55-ac1c-a2bf41897191",
   "metadata": {},
   "source": [
    "--> As per Annova we need to find continous data based on the categorical variable \n",
    "\n",
    "- Total_Marks is continue variable and\n",
    "\n",
    "- and Semester are categorical variable\n",
    "\n",
    "**Ho** - Average Marks of each semester are almost equal\n",
    "\n",
    "**Ha** - is all are not equal"
   ]
  },
  {
   "cell_type": "code",
   "execution_count": 65,
   "id": "6f2c271f-c8c6-4a0c-82f2-48a05aeb5465",
   "metadata": {},
   "outputs": [],
   "source": [
    "import numpy as np\n",
    "import statsmodels.formula.api as sm\n",
    "mod=sm.ols('Total_Marks ~ Semester',data=hyp).fit()"
   ]
  },
  {
   "cell_type": "markdown",
   "id": "5d9e2a76-be50-4761-bf76-18b033e52bfb",
   "metadata": {},
   "source": [
    "fit() -When we use fit?\n",
    "\n",
    "The fit() is started finding the relationship between semester 1,semester2 ,semester 3. it will start learning ,How is Variance and trying to find pattern, model is learning, and learn as much as possible. \n",
    "\n",
    "ols= Ordinary least square method\n",
    "\n",
    "tilde \"~\"\n",
    "\n",
    "lm -Linear Model"
   ]
  },
  {
   "cell_type": "code",
   "execution_count": 72,
   "id": "4a247183-5f33-45b9-adab-439d92dd752a",
   "metadata": {},
   "outputs": [
    {
     "data": {
      "text/html": [
       "<div>\n",
       "<style scoped>\n",
       "    .dataframe tbody tr th:only-of-type {\n",
       "        vertical-align: middle;\n",
       "    }\n",
       "\n",
       "    .dataframe tbody tr th {\n",
       "        vertical-align: top;\n",
       "    }\n",
       "\n",
       "    .dataframe thead th {\n",
       "        text-align: right;\n",
       "    }\n",
       "</style>\n",
       "<table border=\"1\" class=\"dataframe\">\n",
       "  <thead>\n",
       "    <tr style=\"text-align: right;\">\n",
       "      <th></th>\n",
       "      <th>df</th>\n",
       "      <th>sum_sq</th>\n",
       "      <th>mean_sq</th>\n",
       "      <th>F</th>\n",
       "      <th>PR(&gt;F)</th>\n",
       "    </tr>\n",
       "  </thead>\n",
       "  <tbody>\n",
       "    <tr>\n",
       "      <th>Semester</th>\n",
       "      <td>1.0</td>\n",
       "      <td>291.846746</td>\n",
       "      <td>291.846746</td>\n",
       "      <td>0.102572</td>\n",
       "      <td>0.749102</td>\n",
       "    </tr>\n",
       "    <tr>\n",
       "      <th>Residual</th>\n",
       "      <td>198.0</td>\n",
       "      <td>563366.873254</td>\n",
       "      <td>2845.287239</td>\n",
       "      <td>NaN</td>\n",
       "      <td>NaN</td>\n",
       "    </tr>\n",
       "  </tbody>\n",
       "</table>\n",
       "</div>"
      ],
      "text/plain": [
       "             df         sum_sq      mean_sq         F    PR(>F)\n",
       "Semester    1.0     291.846746   291.846746  0.102572  0.749102\n",
       "Residual  198.0  563366.873254  2845.287239       NaN       NaN"
      ]
     },
     "execution_count": 72,
     "metadata": {},
     "output_type": "execute_result"
    }
   ],
   "source": [
    "import statsmodels.api as k\n",
    "avo_table=k.stats.anova_lm(mod,typ=1)\n",
    "avo_table"
   ]
  },
  {
   "cell_type": "code",
   "execution_count": 8,
   "id": "f73f478e-fc22-49ea-9bf3-bbf3eafc974b",
   "metadata": {},
   "outputs": [
    {
     "name": "stdout",
     "output_type": "stream",
     "text": [
      "1st Sem Avg Marks =   403.0\n",
      "2nd Sem Avg Mraks =   393.0\n",
      "3rd Sem Avg Marks =   406.0\n"
     ]
    }
   ],
   "source": [
    "# Lets see manually if the average marks of each semester are close to each other \n",
    "\n",
    "#Semester 1 Average Marks\n",
    "import numpy as np\n",
    "print(\"1st Sem Avg Marks =  \",np.ceil(hyp['Total_Marks'][hyp['Semester']==1].mean()))\n",
    "print(\"2nd Sem Avg Mraks =  \",np.ceil(hyp['Total_Marks'][hyp['Semester']==2].mean()))\n",
    "print(\"3rd Sem Avg Marks =  \",np.ceil(hyp['Total_Marks'][hyp['Semester']==3].mean()))"
   ]
  },
  {
   "cell_type": "markdown",
   "id": "3b83518a-6315-4fd0-9dd0-48d7e34ab4df",
   "metadata": {},
   "source": [
    "# 3 Chi- Sample Test\n",
    "\n",
    "The test most of the used for Goodness of Fit to a distribution  : -  The chi squared test can be used to determine wheather your data obeys a known theoretical porbablity distribution such as normal or poisson distribution.\n",
    "\n",
    "Example - How Much sales we can expect expect this week (lets say pizza business).According to a salesman below are the details\n",
    "\n",
    "#### Expected Sales in Thousand ..........[25,28,21,30,45,58,57]\n",
    "\n",
    "#### Observed(Actual) Sales in thousand ..............[23,26,25,31,48,63,58]\n",
    "\n",
    "How expected and observed close to each other, how good it is, this is a goodness of fit.\n",
    "\n",
    "# Lets understand how to work on this situation.\n",
    "\n",
    "We will do this hypothesis testing with a significance of 10% (0.1) (This will be given or you can test accordindg to business intrect)\n",
    "\n",
    "![ChiSquare](chisq.png)\n",
    "\n",
    "## Chi-Square Statistics Formula"
   ]
  },
  {
   "cell_type": "code",
   "execution_count": 2,
   "id": "80f8486b-195f-4df5-af7f-929478aaffd0",
   "metadata": {},
   "outputs": [
    {
     "name": "stdout",
     "output_type": "stream",
     "text": [
      "Chi-Square test statistics score = 1.763816437645839\n"
     ]
    }
   ],
   "source": [
    "import numpy as np\n",
    "\n",
    "#Expected [25,28,21,30,45,58,57]\n",
    "#Observer [23,26,25,31,48,63,58]\n",
    "\n",
    "chi_ind=[np.square(23-25)/25,\n",
    "        np.square(26-28)/25,\n",
    "        np.square(25-21)/21,\n",
    "        np.square(31-30)/30,\n",
    "        np.square(48-45)/45,\n",
    "        np.square(63-58)/58,\n",
    "        np.square(58-57)/57]\n",
    "\n",
    "print(\"Chi-Square test statistics score =\",np.sum(chi_ind))"
   ]
  },
  {
   "cell_type": "markdown",
   "id": "0c0b6cd4-c45c-4798-83bb-b28748af5292",
   "metadata": {},
   "source": [
    "# Lets Check Square Distribution table\n",
    "\n",
    "### What is the Chi-Square Distribution table ?\n",
    "\n",
    "The Chi-Sqaure dsitribution table is a table that shows the critical values of the chi-square distribution.To use the Chi-Square Distribution table, you only need to know two values.\n",
    "\n",
    "--> The Degrees of Freedom for the chi-square test\n",
    "--> The alpha level for the test (common choices are 0.01,0.05,0.10)\n",
    "\n",
    "**Degree of Freedom** - Which means you are allowed to choose/vary the data at the certain extent, means. Freedom is given to vary the data example -(N-1).Here N is Total events i.e(7-1)=6\n",
    "\n",
    "DF = 6 and Significance level =0.10 and our test score is = 2.58\n",
    "\n",
    "#--> lets check the critical score where DF and Significance level converge\n",
    "\n",
    "![ftable](ftable.png)"
   ]
  },
  {
   "cell_type": "markdown",
   "id": "99dbaf1b-7cf8-4e35-8905-a5b35559a503",
   "metadata": {},
   "source": [
    "# Conclusion -- \n",
    " As the Critical Score (in the table )is greater than our test score (1.76) , we cannot reject the       null hypothesis which also means that sales man prediction/expectation was correct."
   ]
  },
  {
   "cell_type": "markdown",
   "id": "e4ec3d57-6c56-4545-b218-738e4986ebc1",
   "metadata": {},
   "source": [
    "#  Covariance\n",
    "\n",
    "--> A Systematic relationship between a pair of random variables where in a change in one variable reciprocated by an equivalent cahnge in another variable .\n",
    "\n",
    "--> Covariance can take any value between -infinity to +infinity , where in the negative value is an indicator relationship wheareas a positive values represents the positive . relationship and when the value is zero, it indicates no relationship.\n",
    "\n",
    "--> In addition to this ,when all the observation of the either variable are same ,the covariance will be zero.\n",
    "\n",
    "--> When we change the unit of observation or any or both the two variables ,then there is no change in the strength of the relationship between two varibles but the value of covariance in changed.\n",
    "\n",
    "![Covairance](cov.png)"
   ]
  },
  {
   "cell_type": "markdown",
   "id": "b428781d-27df-4aee-ab87-7643a55b07df",
   "metadata": {},
   "source": [
    "# Corelation\n",
    "\n",
    "###  Formula:\n",
    "\n",
    "\\$[\n",
    "\\rho_{xy} = \\frac{\\sum_{i=1}^{n}(x_i - \\bar{x})(y_i - \\bar{y})}\n",
    "{\\sqrt{\\sum_{i=1}^{n}(x_i - \\bar{x})^2} \\cdot \\sqrt{\\sum_{i=1}^{n}(y_i - \\bar{y})^2}}\n",
    "\\$]\n",
    "\n",
    "---\n",
    "###  Explanation of Terms:\n",
    "\n",
    "- \\$( x_i \\$): i-th value of variable x  \n",
    "- \\$( y_i \\$): i-th value of variable y  \n",
    "- \\$( \\bar{x} \\$): Mean of x  \n",
    "- \\$( \\bar{y} \\$): Mean of y  \n",
    "- \\$( n \\$): Total number of data points  \n",
    "\n",
    "---\n",
    "\n",
    "--> A Measure which determines the change in one variable dure to change in ohter variable .\n",
    "\n",
    "-->Corelation is of two types  .i.e positive corelation or negative \n",
    "\n",
    "--> corelation can take any value between -1 to +1  represent strong positive corellation and values close to -1 is an indicator and values close to -1 is an indicator of strong negative corelation\n",
    "\n",
    "--> There are four measure of corelation\n",
    "\n",
    "- Scatter Diagram\n",
    "\n",
    "- Product moment corellation coefficient\n",
    "\n",
    "- Rank corellation coefficient \n",
    "\n",
    "- Coefficient of concurrent deviation"
   ]
  },
  {
   "cell_type": "markdown",
   "id": "0466419d-bd4a-4cc1-976a-8ec07293fba0",
   "metadata": {},
   "source": [
    "# Difference between Corelation and Covariance\n",
    "\n",
    "![Difference](diff.png)"
   ]
  },
  {
   "cell_type": "code",
   "execution_count": null,
   "id": "894e5d55-be46-4aa9-af4e-722c38c7c89b",
   "metadata": {},
   "outputs": [],
   "source": []
  }
 ],
 "metadata": {
  "kernelspec": {
   "display_name": "Python [conda env:base] *",
   "language": "python",
   "name": "conda-base-py"
  },
  "language_info": {
   "codemirror_mode": {
    "name": "ipython",
    "version": 3
   },
   "file_extension": ".py",
   "mimetype": "text/x-python",
   "name": "python",
   "nbconvert_exporter": "python",
   "pygments_lexer": "ipython3",
   "version": "3.12.7"
  }
 },
 "nbformat": 4,
 "nbformat_minor": 5
}
