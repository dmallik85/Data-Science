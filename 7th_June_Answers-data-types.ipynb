{
 "cells": [
  {
   "cell_type": "markdown",
   "id": "169beae9-96d2-4d38-a69b-0da438dfcbd7",
   "metadata": {},
   "source": [
    "# Part 1: Data Type Checking (Q1–Q5)\n",
    "\n",
    "1. Create a variable a = 10. Check its data type using type().\n",
    "2. Store 5.5 in a variable and check its type.\n",
    "3. Assign \"Shiv\" to a variable and check its type.\n",
    "4. Check the type of True and False.\n",
    "5. What is the type of this list: [1, 2, 3]?"
   ]
  },
  {
   "cell_type": "code",
   "execution_count": 28,
   "id": "8544cdbd-34d8-44d2-8363-ca9871e5074c",
   "metadata": {
    "scrolled": true
   },
   "outputs": [
    {
     "name": "stdout",
     "output_type": "stream",
     "text": [
      "The type of a is: <class 'int'>\n",
      "The type of b is: <class 'float'>\n",
      "The type of c is: <class 'str'>\n",
      "The type of d is: <class 'bool'>\n",
      "The type of e is: <class 'list'>\n"
     ]
    }
   ],
   "source": [
    "a=10\n",
    "print(\"The type of a is:\", type(a))\n",
    "b=5.5\n",
    "print(\"The type of b is:\", type(b))\n",
    "c=\"Shiv\"\n",
    "print(\"The type of c is:\", type(c))\n",
    "d=True\n",
    "print(\"The type of d is:\", type(d))\n",
    "e=[1, 2, 3]\n",
    "print(\"The type of e is:\", type(e))"
   ]
  },
  {
   "cell_type": "markdown",
   "id": "65a619f4-bd6c-4609-b22f-4397d4f93818",
   "metadata": {},
   "source": [
    "##  Part 2: List Methods (Q6–Q15)\n",
    "\n",
    "6. Create `fruits = ['apple', 'banana']`. Add `'mango'` using `append()`.\n",
    "7. Add multiple items `['orange', 'grape']` using `extend()`.\n",
    "8. Insert `'kiwi'` at index 1 using `insert()`.\n",
    "9. Remove `'banana'` using `remove()`.\n",
    "10. Use `pop()` to remove the last item.\n",
    "11. Use `index()` to find position of `'apple'`.\n",
    "12. Use `count()` to count `'apple'` in list.\n",
    "13. Sort `[4, 1, 3, 2]` using `sort()`.\n",
    "14. Reverse a list using `reverse()`.\n",
    "15. Clear all list items using `clear()`."
   ]
  },
  {
   "cell_type": "code",
   "execution_count": 24,
   "id": "f174133e-0239-4ba8-867e-b3b8241b0b24",
   "metadata": {},
   "outputs": [
    {
     "name": "stdout",
     "output_type": "stream",
     "text": [
      "The list after appending mango: ['apple', 'banana', 'mango']\n",
      "The list after extending: ['apple', 'banana', 'mango', 'orange', 'grape']\n",
      "The list after inserting kiwi at index 1: ['apple', 'kiwi', 'banana', 'mango', 'orange', 'grape']\n",
      "The list after removing banana: ['apple', 'kiwi', 'mango', 'orange', 'grape']\n",
      "THe list after popping: ['apple', 'kiwi', 'mango', 'orange']\n",
      "The index position of apple: 0\n",
      "The count of apple in the list: 1\n",
      "The list after sorting in ascending order: [1, 2, 3, 4]\n",
      "The list after sorting in descending order: [4, 3, 2, 1]\n",
      "The list after clearing the numbers: []\n"
     ]
    }
   ],
   "source": [
    "fruits=['apple', 'banana']\n",
    "fruits.append('mango')\n",
    "print(\"The list after appending mango:\", fruits)\n",
    "fruits.extend(['orange', 'grape'])\n",
    "print(\"The list after extending:\", fruits)\n",
    "fruits.insert(1,'kiwi')\n",
    "print(\"The list after inserting kiwi at index 1:\", fruits)\n",
    "fruits.remove('banana')\n",
    "print(\"The list after removing banana:\", fruits)\n",
    "fruits.pop()\n",
    "print(\"THe list after popping:\", fruits)\n",
    "indexes=fruits.index('apple')\n",
    "print(\"The index position of apple:\", indexes)\n",
    "counts=fruits.count('apple')\n",
    "print(\"The count of apple in the list:\", counts)\n",
    "numbers=[4, 1, 3, 2]\n",
    "numbers.sort()\n",
    "print(\"The list after sorting in ascending order:\", numbers)\n",
    "numbers.reverse()\n",
    "print(\"The list after sorting in descending order:\", numbers)\n",
    "numbers.clear()\n",
    "print(\"The list after clearing the numbers:\", numbers)"
   ]
  },
  {
   "cell_type": "markdown",
   "id": "5a7f3de6-3c0d-4081-860a-0cf351a29e97",
   "metadata": {},
   "source": [
    "#  Part 3: Tuple Questions (Q16–Q20)\n",
    "\n",
    "16. Create `t = (1, 2, 3, 4)`\n",
    "17. Use `count()` on `t` to count 2.\n",
    "18. Use `index()` to find 3.\n",
    "19. Try changing value in a tuple and show the error.\n",
    "20. Convert list to tuple using `tuple()` function."
   ]
  },
  {
   "cell_type": "code",
   "execution_count": 6,
   "id": "56ec945e-0fb6-4e53-9ec1-4eb709a8eb85",
   "metadata": {},
   "outputs": [
    {
     "name": "stdout",
     "output_type": "stream",
     "text": [
      "The count of 2: 1\n",
      "The index value of 3: 2\n",
      "The result after appending 5: (1, 2, 3, 4, 5)\n"
     ]
    }
   ],
   "source": [
    "t=(1, 2, 3, 4)\n",
    "counts=t.count(2)\n",
    "print(\"The count of 2:\", counts)\n",
    "indexes=t.index(3)\n",
    "print(\"The index value of 3:\", indexes)\n",
    "lists=list(t)\n",
    "lists.append(5)\n",
    "t=tuple(lists)\n",
    "print(\"The result after appending 5:\", t)"
   ]
  },
  {
   "cell_type": "markdown",
   "id": "4deb781f-5354-46da-979c-d15d462d18a1",
   "metadata": {},
   "source": [
    "## Part 4: Set Questions (Q21–Q25)\n",
    "\n",
    "21. Create `{'Shiv', 'Ram', 'Krishna'}` as a set.\n",
    "22. Add `'Hanuman'` to set using `add()`.\n",
    "23. Add multiple values `{'Durga', 'Ganesh'}` using `update()`.\n",
    "24. Remove `'Ram'` using `remove()`.\n",
    "25. Use `discard('Lakshmi')` (even if it's not in the set)."
   ]
  },
  {
   "cell_type": "code",
   "execution_count": 30,
   "id": "237aff9c-728e-462b-be39-2a1d38b00d4a",
   "metadata": {},
   "outputs": [
    {
     "name": "stdout",
     "output_type": "stream",
     "text": [
      "The set after adding Hanuman: {'Hanuman', 'Ram', 'Krishna', 'Shiv'}\n",
      "The set after updating with Durga and Ganesh: {'Shiv', 'Krishna', 'Hanuman', 'Durga', 'Ram', 'Ganesh'}\n",
      "The set after removing Ram: {'Shiv', 'Krishna', 'Hanuman', 'Durga', 'Ganesh'}\n",
      "The set after discarding Lakshmi: {'Shiv', 'Krishna', 'Hanuman', 'Durga', 'Ganesh'}\n"
     ]
    }
   ],
   "source": [
    "sets={'Shiv', 'Ram', 'Krishna'}\n",
    "sets.add('Hanuman')\n",
    "print(\"The set after adding Hanuman:\", sets)\n",
    "sets.update({'Durga', 'Ganesh'})\n",
    "print(\"The set after updating with Durga and Ganesh:\", sets)\n",
    "sets.remove('Ram')\n",
    "print(\"The set after removing Ram:\", sets)\n",
    "sets.discard('Lakshmi')\n",
    "print(\"The set after discarding Lakshmi:\", sets)"
   ]
  },
  {
   "cell_type": "markdown",
   "id": "efa1a4ed-affb-416f-8cd3-dc2c8750ee2a",
   "metadata": {},
   "source": [
    "##  Part 5: Dictionary Questions (Q26–Q30)\n",
    "\n",
    "26. Create `{'name': 'Shiv', 'power': 'Destruction'}` and print it.\n",
    "27. Access `'name'` using `dict['name']`.\n",
    "28. Add `'weapon': 'Trishul'` to the dictionary.\n",
    "29. Use `get()` to access `'vehicle'` key safely.\n",
    "30. Use `.keys()`, `.values()`, `.items()` to view dictionary contents."
   ]
  },
  {
   "cell_type": "code",
   "execution_count": 34,
   "id": "742769e9-faec-4751-b81f-ec231f4e0b0d",
   "metadata": {},
   "outputs": [
    {
     "name": "stdout",
     "output_type": "stream",
     "text": [
      "The value of the key 'name' is: Shiv\n",
      "Alternative code for displaying the value of the key 'name' is: Shiv\n",
      "The dictionary after adding a key and it's value: {'name': 'Shiv', 'power': 'Destruction', 'weapon': 'Trishul'}\n",
      "dict_keys(['name', 'power', 'weapon'])\n",
      "dict_values(['Shiv', 'Destruction', 'Trishul'])\n",
      "dict_items([('name', 'Shiv'), ('power', 'Destruction'), ('weapon', 'Trishul')])\n"
     ]
    }
   ],
   "source": [
    "myset={'name': 'Shiv', 'power': 'Destruction'}\n",
    "print(\"The value of the key 'name' is:\", myset['name'])\n",
    "print(\"Alternative code for displaying the value of the key 'name' is:\", myset.get('name'))\n",
    "#myset['weapon']='Trishul'\n",
    "myset.update({'weapon': 'Trishul'})\n",
    "print(\"The dictionary after adding a key and it's value:\", myset)\n",
    "keys=myset.keys()\n",
    "print(\"The keys are:\", keys)\n",
    "values=myset.values()\n",
    "print(\"The values are:\", values)\n",
    "print(values)\n",
    "item=myset.items()\n",
    "print(item)"
   ]
  },
  {
   "cell_type": "markdown",
   "id": "ad793c70-89d5-4404-bf3b-3a2094125933",
   "metadata": {},
   "source": [
    "##  Part 6: Keywords and Strings (Q31–Q35)\n",
    "\n",
    "31. Print all Python **keywords** using `keyword` module.\n",
    "32. Create a string using **single quotes** and print it.\n",
    "33. Create a string using **double quotes** and explain when to use it.\n",
    "34. Create a **multi-line string** using triple quotes.\n",
    "35. Explain when to use single, double, and triple quotes with examples."
   ]
  },
  {
   "cell_type": "code",
   "execution_count": 140,
   "id": "7c992438-5ae8-4e79-8330-5d11a05941b3",
   "metadata": {},
   "outputs": [
    {
     "name": "stdout",
     "output_type": "stream",
     "text": [
      "['False', 'None', 'True', 'and', 'as', 'assert', 'async', 'await', 'break', 'class', 'continue', 'def', 'del', 'elif', 'else', 'except', 'finally', 'for', 'from', 'global', 'if', 'import', 'in', 'is', 'lambda', 'nonlocal', 'not', 'or', 'pass', 'raise', 'return', 'try', 'while', 'with', 'yield']\n",
      "My full name is Debabrata Mallik.\n",
      "My name is Debabrata.\n",
      "My full name is Debabrata Mallik.\n"
     ]
    }
   ],
   "source": [
    "import keyword\n",
    "keywords=keyword.kwlist\n",
    "print(keywords)\n",
    "mystring='My name is Debabrata'\n",
    "type(mystring)\n",
    "mystring2=\"My full name is Debabrata Mallik.\"\n",
    "type(mystring2)\n",
    "print(mystring2)\n",
    "multi='''My name is Debabrata.\n",
    "My full name is Debabrata Mallik.'''\n",
    "print(multi)\n",
    "# Single quote: is used to define string and it is not applicable if appostopie is present in the value of the string.\n",
    "# Double quote: is used to define string again and also it can be used to contatenate single quoted two strings.\n",
    "# Triple quote: is used for multi liner string."
   ]
  },
  {
   "cell_type": "markdown",
   "id": "26bc5116-206f-4526-8990-703dabb40ed1",
   "metadata": {},
   "source": [
    "##  Part 7: String and Type Practice (Q36–Q40)\n",
    "\n",
    "36. Store a name `\"Krishna\"` and print its type.\n",
    "37. Store a float value `9.81` in variable and check its type.\n",
    "38. Store an integer and string together in a list. Check its type.\n",
    "39. Create a boolean variable `is_raining = False` and print it.\n",
    "40. Use `type()` for:  \n",
    "    - a string  \n",
    "    - an int  \n",
    "    - a float  \n",
    "    - a list  \n",
    "    - a dict"
   ]
  },
  {
   "cell_type": "code",
   "execution_count": 153,
   "id": "73766dab-0f36-42c7-978e-6cc31fa9d565",
   "metadata": {},
   "outputs": [
    {
     "name": "stdout",
     "output_type": "stream",
     "text": [
      "False\n",
      "<class 'str'>\n",
      "<class 'float'>\n",
      "<class 'list'>\n",
      "<class 'bool'>\n",
      "<class 'int'>\n",
      "<class 'dict'>\n"
     ]
    }
   ],
   "source": [
    "name=\"Krishna\"\n",
    "type(name)\n",
    "my_float=9.81\n",
    "type(my_float)\n",
    "my_list=[1, 'str']\n",
    "type(my_list)\n",
    "is_raining=False\n",
    "print(is_raining)\n",
    "my_int=10\n",
    "my_dict={'Name': 'Debu', 'Surname': 'Mallik'}\n",
    "print(type(name))\n",
    "print(type(my_float))\n",
    "print(type(my_list))\n",
    "print(type(is_raining))\n",
    "print(type(my_int))\n",
    "print(type(my_dict))"
   ]
  },
  {
   "cell_type": "markdown",
   "id": "1ef8b4ae-851d-4eda-8b27-fe1afad451c6",
   "metadata": {},
   "source": [
    "##  Part 8: Quote and String Practice (Q41–Q45)\n",
    "\n",
    "41. What happens if you write `'It's sunny'` using single quotes? Try and fix it.\n",
    "42. Show how to include both single and double quotes in a triple quote string.\n",
    "43. Print this line using triple quotes:  \n",
    "    _\"Jai Shri Ram\", he said. 'Let the truth win!'_\n",
    "44. Create a multi-line prayer using `''' '''` and print it.\n",
    "45. Can we use escape character `\\n` in single/double quotes? Try it."
   ]
  },
  {
   "cell_type": "code",
   "execution_count": 186,
   "id": "fb623b9a-2a9e-4cfe-b4c5-983dd2851e4d",
   "metadata": {},
   "outputs": [
    {
     "name": "stdout",
     "output_type": "stream",
     "text": [
      "It's sunny\n",
      "\"Jai Shri Ram\", he said.\n",
      "'Let the truth win!' \n",
      " Janagana manayadhi\n",
      "Nayaka jaya he\n",
      "Bharata bhagya bidhata\n",
      "Punjab o Sindhu... \n",
      "My name is Debabrata. \n",
      "My full name is Debabrata Mallik.\n"
     ]
    }
   ],
   "source": [
    "mystr=\"It's sunny\"\n",
    "print(mystr)\n",
    "mytriple='''\"Jai Shri Ram\", he said.\n",
    "'Let the truth win!' '''\n",
    "print(mytriple)\n",
    "multi_liner=''' Janagana manayadhi\n",
    "Nayaka jaya he\n",
    "Bharata bhagya bidhata\n",
    "Punjab o Sindhu... '''\n",
    "print(multi_liner)\n",
    "newline=\"My name is Debabrata. \\nMy full name is Debabrata Mallik.\"\n",
    "print(newline)"
   ]
  },
  {
   "cell_type": "markdown",
   "id": "b5991d40-9b73-436f-8c5f-4a1a8110e5a9",
   "metadata": {},
   "source": [
    "##  Part 9: Logic and Data Types (Q46–Q50)\n",
    "\n",
    "46. Can a list contain different data types? Show example.\n",
    "47. What will this return: `type([1, \"Ram\", True])`?\n",
    "48. What is the type of this: `None`?\n",
    "49. Write a list with nested list: `[1, [2, 3], 4]` – what is its type?\n",
    "50. Create a dictionary inside a list: `[{\"name\": \"Shiv\"}]` and print it."
   ]
  },
  {
   "cell_type": "code",
   "execution_count": 191,
   "id": "3a2d4340-7f00-4894-9125-3d4a0d3cf047",
   "metadata": {},
   "outputs": [
    {
     "name": "stdout",
     "output_type": "stream",
     "text": [
      "<class 'list'>\n"
     ]
    }
   ],
   "source": [
    "diff_list=[1, \"banana\", 4.5, True]\n",
    "print(type(diff_list))"
   ]
  },
  {
   "cell_type": "code",
   "execution_count": 193,
   "id": "81a2deaa-f67d-4764-85ef-4f17ee09ae34",
   "metadata": {},
   "outputs": [
    {
     "data": {
      "text/plain": [
       "list"
      ]
     },
     "execution_count": 193,
     "metadata": {},
     "output_type": "execute_result"
    }
   ],
   "source": [
    "type([1, \"Ram\", True])"
   ]
  },
  {
   "cell_type": "code",
   "execution_count": 195,
   "id": "43be7a04-7b68-4e91-b061-3bc61108ad65",
   "metadata": {},
   "outputs": [
    {
     "data": {
      "text/plain": [
       "list"
      ]
     },
     "execution_count": 195,
     "metadata": {},
     "output_type": "execute_result"
    }
   ],
   "source": [
    "nested_list=[1, [2, 3], 4]\n",
    "type(nested_list)"
   ]
  },
  {
   "cell_type": "code",
   "execution_count": 201,
   "id": "2ea3a602-2cf9-4776-8533-eddf3159e965",
   "metadata": {},
   "outputs": [
    {
     "name": "stdout",
     "output_type": "stream",
     "text": [
      "[1, 2, {'Name': 'Shiv'}, 4.5]\n",
      "<class 'list'>\n"
     ]
    }
   ],
   "source": [
    "complex_list=[1, 2, {\"Name\": \"Shiv\"}, 4.5]\n",
    "print(complex_list)\n",
    "print(type(complex_list))"
   ]
  },
  {
   "cell_type": "code",
   "execution_count": null,
   "id": "f36f5324-dfa8-4cdf-bc10-00628e178282",
   "metadata": {},
   "outputs": [],
   "source": []
  }
 ],
 "metadata": {
  "kernelspec": {
   "display_name": "Python [conda env:base] *",
   "language": "python",
   "name": "conda-base-py"
  },
  "language_info": {
   "codemirror_mode": {
    "name": "ipython",
    "version": 3
   },
   "file_extension": ".py",
   "mimetype": "text/x-python",
   "name": "python",
   "nbconvert_exporter": "python",
   "pygments_lexer": "ipython3",
   "version": "3.12.7"
  }
 },
 "nbformat": 4,
 "nbformat_minor": 5
}
