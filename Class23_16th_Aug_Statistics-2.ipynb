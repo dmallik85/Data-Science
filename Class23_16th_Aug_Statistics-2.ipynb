{
 "cells": [
  {
   "cell_type": "markdown",
   "id": "3d8b03d9-feb8-4225-8663-9ea949e57692",
   "metadata": {},
   "source": [
    "# Central Limit Theoram\n",
    "\n",
    "- Normal Distribution -Distribution is always normal irrespective of sample size\n",
    "\n",
    "- Non Normal Distribution - If there is random data of population and wanted to have distribution and as per Central Limit Theoram the Sample Size is adequate (approximately >30 sample) it applies normal distribution.\n",
    "\n",
    "According to the **Central Limit Theorem**:\n",
    "\n",
    "#### Mean of the Sample Mean:\n",
    "\\$[\n",
    "\\mu_{\\bar{x}} = \\mu\n",
    "\\$]\n",
    "\n",
    "> This means the **mean of the sample means** is equal to the **population mean**.\n",
    "\n",
    "---\n",
    "\n",
    "#### Standard Deviation of the Sample Mean (also called Standard Error):\n",
    "\n",
    "\\$[\n",
    "\\sigma_{\\bar{x}} = \\frac{\\sigma}{\\sqrt{n}}\n",
    "\\$]\n",
    "\n",
    "> Where:  \n",
    "> - \\$( \\sigma \\$) = Population standard deviation  \n",
    "> - \\( n \\) = Sample size  \n",
    "> - \\$( \\sigma_{\\bar{x}} \\$) = Standard deviation of the sample mean\n",
    "\n",
    "where\n",
    "\n",
    "μ = population mean\n",
    "\n",
    "σ = population standar deviation\n",
    "\n",
    "μx= Sample mean\n",
    "\n",
    "σx = Sample Standard Deviation\n",
    "\n",
    "n= Sample Size\n",
    "\n",
    "x̅ =Sample Mean"
   ]
  },
  {
   "cell_type": "markdown",
   "id": "7eb355dd-577d-44ab-9810-341574b5b474",
   "metadata": {},
   "source": [
    "# Types of Distribution \n",
    "\n",
    "There are various types of distribution in statistics but most commonly used distribution is normal distribution and Z distribution in our course."
   ]
  },
  {
   "cell_type": "markdown",
   "id": "d92bbe7e-bb75-45e6-8665-4907142cf867",
   "metadata": {},
   "source": [
    "# Hypothesis - \n",
    "\n",
    "Making a guess(not wild guess) based on assumption without scintific proof or explaining the situation based on reasonable assumption.\n",
    "\n",
    "#### Null Hypothesis -H0 -> Decision always leads to status quo,current status/assumption doesn't Change.\n",
    "\n",
    "#### Alternate Hypothesis -Ha-> Decision leads to opposite of H0.\n",
    "\n",
    "## Types of Test\n",
    "\n",
    "### One Tail and Two Tail tests\n",
    "\n",
    "![hypothesis](hypothesis.png)"
   ]
  },
  {
   "cell_type": "markdown",
   "id": "e138e5e6-9742-453a-9467-79cdba1182d3",
   "metadata": {},
   "source": [
    "## One Tail test\n",
    "\n",
    "#### A: Left tail test\n",
    "\n",
    "> Example - Car company says the mileage the car is > 25KMPL.\n",
    "\n",
    "- H0- All our cars average mileage is greater than 25KMPL\n",
    "- Ha- Average Mileage is less then 25 KMPL\n",
    "\n",
    "**Left Tailed test-** The alternate hypothesis contains the \"<\" sign. When Ha contains \"<\" sign, it is called left tailed test.\n",
    "\n",
    "#### B: Right tail test\n",
    "\n",
    "> Example, Amazon says it's delivery time is < 24 hours.\n",
    "- H0 -  Our home delivery methods reduces delivery time\n",
    "- Ha -  New method will increase hypothesis contains the \">\" sign.\n",
    "\n",
    "**Right Tailed test-** The alternate hypothesis contains the \">\" sign. When Ha contains \">\" sign, it is called right tailed test."
   ]
  },
  {
   "cell_type": "markdown",
   "id": "516f5152-7ace-42ad-8175-e6fb4149b871",
   "metadata": {},
   "source": [
    "## Two Tail Test\n",
    "\n",
    "Example - Difference in car mileage when driven by different persons.\n",
    "\n",
    "**Note:** Two-Tailed Test: The alternative hypothesis contains the \"!=\" sign\n",
    "\n",
    "#### Problem 1 – Hypothesis Testing: Car Mileage\n",
    "\n",
    "A car manufacturing company claims that the mileage of their cars is **25 KMPL**.\n",
    "\n",
    "From past experience, the **population standard deviation** is known to be **1.5 KMPL**.\n",
    "\n",
    "A **car rental company** wants to test the **null hypothesis** that the **average mileage is at least 25 KMPL**.\n",
    "\n",
    "To do this, a car rental representative drove **30 cars (sample size = 30)** from the same company and recorded the mileage of each car.  \n",
    "The **average mileage of the sample** turned out to be **24.2 KMPL**.\n",
    "\n",
    "---\n",
    "\n",
    "###  Hypothesis\n",
    "\n",
    "- **Null Hypothesis (H₀)**: μ ≥ 25  (Here μ represents the mean of population)\n",
    "- **Alternate Hypothesis (H₁)**: μ < 25\n",
    "\n",
    "This is a **left-tailed** test.\n",
    "\n",
    "### Given statement:\n",
    "\n",
    "- Population mean (claimed): **μ = 25**\n",
    "- Sample mean: **x̄ = 24.2**\n",
    "- Population standard deviation (known from past data): **σ = 1.5**\n",
    "- Sample size: **n = 30**\n",
    "- Significance level (α): Typically 0.05 (you can change if needed)\n",
    "\n",
    "> Note:  \n",
    "> The **standard deviation provided is the population standard deviation** (σ).  \n",
    "> But in the code, we use the **standard error** (σ / √n) when calculating the p-value or Z-score (z-distribution is exaplained below),\n",
    "> so we write `scale = 1.5 / np.sqrt(30)` in the function."
   ]
  },
  {
   "cell_type": "code",
   "execution_count": 28,
   "id": "87160daf-971f-4bfa-92ea-777b9f1533d7",
   "metadata": {},
   "outputs": [
    {
     "data": {
      "text/plain": [
       "-2.921186973360889"
      ]
     },
     "execution_count": 28,
     "metadata": {},
     "output_type": "execute_result"
    }
   ],
   "source": [
    "import numpy as np\n",
    "mean=25\n",
    "sample_mean=24.2\n",
    "std=1.5    # It's a sample standard deviation. It can converted from population std to sample std by using formula below. \\$[\n",
    "\\sigma_{\\bar{x}} = \\frac{\\sigma}{\\sqrt{n}}\n",
    "\\$]\n",
    "n=30\n",
    "z=(sample_mean-mean)/(std/np.sqrt(n))\n",
    "z"
   ]
  },
  {
   "cell_type": "markdown",
   "id": "9a9fc327-3c10-4cc5-9393-d88252b2971a",
   "metadata": {},
   "source": [
    "Population to Sample std conversion formula:\n",
    " \\$[\n",
    "\\sigma_{\\bar{x}} = \\frac{\\sigma}{\\sqrt{n}}\n",
    "\\$]"
   ]
  },
  {
   "cell_type": "markdown",
   "id": "9d14db29-35f1-40c5-82cf-97189ae5a36f",
   "metadata": {},
   "source": [
    "Now, the above z score to be checked in the z table to get the p (probability) value.\n",
    "\n",
    "From the below table, we find that the p value for z score of -2.92 is .0018"
   ]
  },
  {
   "cell_type": "markdown",
   "id": "a7232e27-d685-4dfd-8db1-5afe0d3c66a4",
   "metadata": {},
   "source": [
    "![Negative value](neg.png)\n",
    "\n",
    "![Positive value](pos.png)"
   ]
  },
  {
   "cell_type": "code",
   "execution_count": 46,
   "id": "9eb59fd2-5792-4ab1-b2e6-08b3a065a9c1",
   "metadata": {},
   "outputs": [
    {
     "data": {
      "text/plain": [
       "0.0017435024460706768"
      ]
     },
     "execution_count": 46,
     "metadata": {},
     "output_type": "execute_result"
    }
   ],
   "source": [
    "### How to find the z score using statistics tools\n",
    "\n",
    "import scipy.stats as st\n",
    "import numpy as np\n",
    "p_values=st.norm.cdf(sample_mean,loc=mean,scale=std/np.sqrt(n))   # cdf: cumulative density function\n",
    "p_values"
   ]
  },
  {
   "cell_type": "markdown",
   "id": "da2a2c3a-e251-44fb-9b40-e76199a3f124",
   "metadata": {},
   "source": [
    "# Important points\n",
    "\n",
    "- Standard alpha level =0.05\n",
    "- If p-Value is <0.05 then we **reject** null hypothesis(Ho)\n",
    "- If p values is >0.05 then we **failed to reject** the Ho\n",
    "- **p value** is also called **alpha value** \n",
    "\n",
    "**Conclusion-** As the p value is less than alpha (0.05), we reject the null hypothesis (mileage>=25KMPL)\n",
    "not given 25 mileage so rental company will not buy the cars.\n",
    "\n",
    "#  Type 1 Error -> If Ho is True and You reject Ho\n",
    "\n",
    "In our exapmple , if average car mileage is really 25 or >25 KMPL and rental agency rejects it. Its a type 1 Error.\n",
    "\n",
    "\n",
    "#   Type 2 Error -> If Ho is False and you failed to reject Ho\n",
    "\n",
    "If average car mileage is really <25 but rental agency buying cars (failed to reject Ho). Its type 2 Error."
   ]
  },
  {
   "cell_type": "markdown",
   "id": "40aa6c3d-e13b-4f41-a6f5-057be5b34cec",
   "metadata": {},
   "source": [
    "# Z Distribution / Z-Statistics\n",
    "\n",
    "Let's transform our normal distribution into a **Z-distribution** (also known as the **standard normal distribution**),  \n",
    "where the **mean = 0** and **standard deviation = 1**.\n",
    "\n",
    "---\n",
    "![z-distribution](z-distribution.png)\n",
    "\n",
    "### Z → Z-distribution formula:\n",
    "\n",
    "\\[\n",
    "Z$ = \\frac{(x - \\text{mean})}{\\text{std}}\n",
    "\\$]\n",
    "\n",
    "This is the formula used to convert a value into the Z-distribution.\n",
    "\n",
    "![z-formula](z-formula.png)"
   ]
  },
  {
   "cell_type": "markdown",
   "id": "1ed7aa60-3406-47f7-a4ec-f159d539f466",
   "metadata": {},
   "source": [
    "# Statistical Tools \n",
    "\n",
    "Not only Z distribution helps in determining if **Ho** is correct of **Ha** is. These tools helps us to again on the same line in order make dicision / in order to conclude something .I want to do some type of test.Like Hypothesis Testing.\n",
    "\n",
    "## 1. Ttest or Student Ttest\n",
    "## 2. Anova -Analysis of Variance\n",
    "## 3. Chi-Square test"
   ]
  },
  {
   "cell_type": "markdown",
   "id": "ed3fe43e-d430-4c0f-8bcb-e3d8237d7c1c",
   "metadata": {},
   "source": [
    "## 1. Ttest or Student Ttest\n",
    "\n",
    "A t-test is a statistical tool used in hypothesis testing to determine if there's a significant difference between the means of two groups. There are two types of Ttest\n",
    "\n",
    "- One Sample Test\n",
    "- Two Sample Test\n",
    "\n",
    "**Note:** Conduct ttest when standard deviation is not known."
   ]
  },
  {
   "cell_type": "code",
   "execution_count": 56,
   "id": "5345adbc-14e0-4b2f-8b82-23c1cc9eecae",
   "metadata": {},
   "outputs": [
    {
     "data": {
      "text/html": [
       "<div>\n",
       "<style scoped>\n",
       "    .dataframe tbody tr th:only-of-type {\n",
       "        vertical-align: middle;\n",
       "    }\n",
       "\n",
       "    .dataframe tbody tr th {\n",
       "        vertical-align: top;\n",
       "    }\n",
       "\n",
       "    .dataframe thead th {\n",
       "        text-align: right;\n",
       "    }\n",
       "</style>\n",
       "<table border=\"1\" class=\"dataframe\">\n",
       "  <thead>\n",
       "    <tr style=\"text-align: right;\">\n",
       "      <th></th>\n",
       "      <th>ID</th>\n",
       "      <th>Gender</th>\n",
       "      <th>Race</th>\n",
       "      <th>SEB</th>\n",
       "      <th>School</th>\n",
       "      <th>Prog</th>\n",
       "      <th>Read</th>\n",
       "      <th>Write</th>\n",
       "      <th>Math1</th>\n",
       "      <th>Math2</th>\n",
       "      <th>SST</th>\n",
       "    </tr>\n",
       "  </thead>\n",
       "  <tbody>\n",
       "    <tr>\n",
       "      <th>0</th>\n",
       "      <td>70</td>\n",
       "      <td>0</td>\n",
       "      <td>4</td>\n",
       "      <td>1</td>\n",
       "      <td>1</td>\n",
       "      <td>1</td>\n",
       "      <td>57</td>\n",
       "      <td>52</td>\n",
       "      <td>41</td>\n",
       "      <td>47</td>\n",
       "      <td>57</td>\n",
       "    </tr>\n",
       "    <tr>\n",
       "      <th>1</th>\n",
       "      <td>121</td>\n",
       "      <td>1</td>\n",
       "      <td>4</td>\n",
       "      <td>2</td>\n",
       "      <td>1</td>\n",
       "      <td>3</td>\n",
       "      <td>68</td>\n",
       "      <td>59</td>\n",
       "      <td>53</td>\n",
       "      <td>63</td>\n",
       "      <td>61</td>\n",
       "    </tr>\n",
       "    <tr>\n",
       "      <th>2</th>\n",
       "      <td>86</td>\n",
       "      <td>0</td>\n",
       "      <td>4</td>\n",
       "      <td>3</td>\n",
       "      <td>1</td>\n",
       "      <td>1</td>\n",
       "      <td>44</td>\n",
       "      <td>33</td>\n",
       "      <td>54</td>\n",
       "      <td>58</td>\n",
       "      <td>31</td>\n",
       "    </tr>\n",
       "    <tr>\n",
       "      <th>3</th>\n",
       "      <td>141</td>\n",
       "      <td>0</td>\n",
       "      <td>4</td>\n",
       "      <td>3</td>\n",
       "      <td>1</td>\n",
       "      <td>3</td>\n",
       "      <td>63</td>\n",
       "      <td>44</td>\n",
       "      <td>47</td>\n",
       "      <td>53</td>\n",
       "      <td>56</td>\n",
       "    </tr>\n",
       "    <tr>\n",
       "      <th>4</th>\n",
       "      <td>172</td>\n",
       "      <td>0</td>\n",
       "      <td>4</td>\n",
       "      <td>2</td>\n",
       "      <td>1</td>\n",
       "      <td>2</td>\n",
       "      <td>47</td>\n",
       "      <td>52</td>\n",
       "      <td>57</td>\n",
       "      <td>53</td>\n",
       "      <td>61</td>\n",
       "    </tr>\n",
       "  </tbody>\n",
       "</table>\n",
       "</div>"
      ],
      "text/plain": [
       "    ID  Gender  Race  SEB  School  Prog  Read  Write  Math1  Math2  SST\n",
       "0   70       0     4    1       1     1    57     52     41     47   57\n",
       "1  121       1     4    2       1     3    68     59     53     63   61\n",
       "2   86       0     4    3       1     1    44     33     54     58   31\n",
       "3  141       0     4    3       1     3    63     44     47     53   56\n",
       "4  172       0     4    2       1     2    47     52     57     53   61"
      ]
     },
     "execution_count": 56,
     "metadata": {},
     "output_type": "execute_result"
    }
   ],
   "source": [
    "import pandas as pd\n",
    "hyp=pd.read_csv(\"https://raw.githubusercontent.com/training-ml/Files/main/Hypothesis%20ttest.csv\")\n",
    "hyp.head()"
   ]
  },
  {
   "cell_type": "markdown",
   "id": "7b509683-5dc5-444f-93ab-7a119e0a18b4",
   "metadata": {},
   "source": [
    "--> A teacher wants to teach student for a competative exam, she collected sample of the student marks from different school and based on her past experiance she believes that, these type of students will score more then 60 marks in the exam. Now she wants to conduct hypothesis test on the marks.\n",
    "\n",
    "Ho=mu>=60\n",
    "\n",
    "Ha=mu<=60"
   ]
  },
  {
   "cell_type": "code",
   "execution_count": 64,
   "id": "555482ed-00c2-4454-b44f-d3c37f1da907",
   "metadata": {},
   "outputs": [
    {
     "data": {
      "text/plain": [
       "TtestResult(statistic=-11.102736525713398, pvalue=1.3339158110547646e-22, df=199)"
      ]
     },
     "execution_count": 64,
     "metadata": {},
     "output_type": "execute_result"
    }
   ],
   "source": [
    "# One sample test\n",
    "\n",
    "import scipy.stats as st\n",
    "xbar=hyp['Math1'].mean()\n",
    "alpha=0.05\n",
    "mu=60  # Mean of population\n",
    "st.ttest_1samp(hyp.Math1,mu)"
   ]
  },
  {
   "cell_type": "markdown",
   "id": "4ed387f9-df4d-46cc-87fb-05fc11c04f32",
   "metadata": {},
   "source": [
    "ttest gives two values: 1. statistics valu and 2. probability value (pvalue). We will only concentrate on pvalue.\n",
    "\n",
    "### Actual Value:\n",
    "\n",
    "Scientific notation: `1.3339158110547646e-22`  (e^-22 means, there 22 ZEROS before 1, see the actual value below in 'Decimal form')\n",
    "\n",
    "Decimal form: `0.0000000000000000000001333915811`"
   ]
  },
  {
   "cell_type": "code",
   "execution_count": null,
   "id": "2961bf8f-d030-4138-b6f3-52fa62c43645",
   "metadata": {},
   "outputs": [],
   "source": []
  }
 ],
 "metadata": {
  "kernelspec": {
   "display_name": "Python [conda env:base] *",
   "language": "python",
   "name": "conda-base-py"
  },
  "language_info": {
   "codemirror_mode": {
    "name": "ipython",
    "version": 3
   },
   "file_extension": ".py",
   "mimetype": "text/x-python",
   "name": "python",
   "nbconvert_exporter": "python",
   "pygments_lexer": "ipython3",
   "version": "3.12.7"
  }
 },
 "nbformat": 4,
 "nbformat_minor": 5
}
