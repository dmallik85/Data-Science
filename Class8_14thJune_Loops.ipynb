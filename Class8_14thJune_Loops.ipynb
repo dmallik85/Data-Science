{
 "cells": [
  {
   "cell_type": "markdown",
   "id": "1bb37b27-4b02-408f-8e1e-842eb06e32fd",
   "metadata": {},
   "source": [
    "# Loops in Python\n",
    "Loops in Python are control flow statements that allow a block of code to be executed repeatedly.A loop is used for iterating over a sequence (that is either a list, a tuple, a dictionary, a set, or a string).Python primarily offers two types of loops: for loops and while loops.\n",
    "\n",
    "What is For loop?\n",
    "When we know about how many times the loop will run.\n",
    "\n",
    "Example:\n",
    "    \n",
    "    For i in range(1,6):    # here 'i' is iterator\n",
    "        \n",
    "        print(i)\n",
    "\n",
    "What is Wile loop?\n",
    "When we do not know about how many times the loop will run.\n",
    "\n",
    "Example:\n",
    "    \n",
    "    count = 0\n",
    "\n",
    "while count < 5:\n",
    "    \n",
    "    print(f\"Count is: {count}\")\n",
    "    \n",
    "    count += 1\n",
    "\n",
    "else:\n",
    "    \n",
    "    print(\"Loop finished.\")"
   ]
  },
  {
   "cell_type": "code",
   "execution_count": 8,
   "id": "6bce773f-98e2-4c25-bb52-977d0a43fd3c",
   "metadata": {},
   "outputs": [
    {
     "name": "stdout",
     "output_type": "stream",
     "text": [
      "apple\n",
      "mango\n",
      "cherry\n"
     ]
    }
   ],
   "source": [
    "# Using a for loop to iterate over a list\n",
    "a=['apple','mango','cherry']\n",
    "for i in a:\n",
    "    print(i)"
   ]
  },
  {
   "cell_type": "code",
   "execution_count": 10,
   "id": "23996c2d-7df0-499c-b4f2-31ef46e57f30",
   "metadata": {},
   "outputs": [
    {
     "name": "stdout",
     "output_type": "stream",
     "text": [
      "c\n",
      "o\n",
      "l\n",
      "l\n",
      "e\n",
      "g\n",
      "e\n"
     ]
    }
   ],
   "source": [
    "# Using a for loop to iterate over a string\n",
    "a=\"college\"\n",
    "for i in a:\n",
    "    print(i)"
   ]
  },
  {
   "cell_type": "code",
   "execution_count": 12,
   "id": "e66841a6-dfe6-4c84-9b4a-5d119b185934",
   "metadata": {},
   "outputs": [
    {
     "name": "stdout",
     "output_type": "stream",
     "text": [
      "0\n",
      "1\n",
      "2\n",
      "3\n",
      "4\n"
     ]
    }
   ],
   "source": [
    "# Using a for loop with the range() function\n",
    "for i in range(5):    #In place of i we can write anything like number or any other string as iterator\n",
    "    print(i)"
   ]
  },
  {
   "cell_type": "code",
   "execution_count": 18,
   "id": "cdfe4723-76e1-40af-94f6-f4383f8b9b6d",
   "metadata": {},
   "outputs": [
    {
     "name": "stdout",
     "output_type": "stream",
     "text": [
      "You have passed with Second Division and your marks is: 56\n",
      "You have passed with First Division and your marks is: 67\n",
      "You have passed with Distinction and your marks is: 89\n",
      "You have passed with Third Division and your marks is: 45\n",
      "You have passed with First Division and your marks is: 67\n",
      "You couldn't pass this time, better luck next time. You have got: 23\n",
      "You have passed with Distinction and your marks is: 80\n",
      "You have passed with Distinction and your marks is: 87\n",
      "You have passed with First Division and your marks is: 67\n",
      "You have passed with Distinction and your marks is: 90\n",
      "You have passed with First Division and your marks is: 68\n",
      "You have passed with Second Division and your marks is: 50\n"
     ]
    }
   ],
   "source": [
    "# Create a student score from a list using for loop\n",
    "score=[56,67,89,45,67,23,80,87,67,90,68,50]\n",
    "for marks in score:\n",
    "    if marks>=80:\n",
    "        print(\"You have passed with Distinction and your marks is:\",marks)\n",
    "    elif marks>=60 and marks<=79:\n",
    "        print(\"You have passed with First Division and your marks is:\",marks)\n",
    "    elif marks>=50 and marks<=59:\n",
    "        print(\"You have passed with Second Division and your marks is:\",marks)\n",
    "    elif marks>=35 and marks<=49:\n",
    "        print(\"You have passed with Third Division and your marks is:\",marks)\n",
    "    else:\n",
    "        print(\"You couldn't pass this time, better luck next time. You have got:\",marks)"
   ]
  },
  {
   "cell_type": "code",
   "execution_count": 20,
   "id": "cd8a3831-c55a-48ea-9bae-f248aa5d9615",
   "metadata": {},
   "outputs": [
    {
     "name": "stdout",
     "output_type": "stream",
     "text": [
      "[2000, 2000]\n"
     ]
    }
   ],
   "source": [
    "# What is list comprehension?\n",
    "# Creating a new list based on the values of existing list.\n",
    "salary=[1000,2000,4000,3000,7000,2000,3000]\n",
    "sal=[value  for value in salary if value==2000]\n",
    "print(sal)"
   ]
  },
  {
   "cell_type": "markdown",
   "id": "0c34843b-79a8-40ba-8144-f786773c1450",
   "metadata": {},
   "source": [
    "### for Loop with else\n",
    "In Python, a for loop can optionally be followed by an else block. This else block is executed only if the for loop completes its iteration normally, meaning it iterates through all items in the sequence without encountering a break statement.\n",
    "\n",
    "Key Points:\n",
    "1. The else part is executed only after the for loop finishes iterating over all items in the sequence without encoutnering a break statement.\n",
    "2. If break is used to exit the loop early, else block is skipped."
   ]
  },
  {
   "cell_type": "code",
   "execution_count": 23,
   "id": "354708a5-00f5-486e-9465-5cc28663ee7b",
   "metadata": {},
   "outputs": [
    {
     "name": "stdout",
     "output_type": "stream",
     "text": [
      "Multiplication of 2\n",
      "2\n",
      "4\n",
      "6\n",
      "8\n",
      "10\n",
      "12\n",
      "14\n",
      "16\n",
      "18\n",
      "20\n",
      "\n",
      "\n",
      "Multiplication of 3\n",
      "3\n",
      "6\n",
      "9\n",
      "12\n",
      "15\n",
      "18\n",
      "21\n",
      "24\n",
      "27\n",
      "30\n",
      "\n",
      "\n",
      "Multiplication of 4\n",
      "4\n",
      "8\n",
      "12\n",
      "16\n",
      "20\n",
      "24\n",
      "28\n",
      "32\n",
      "36\n",
      "40\n",
      "\n",
      "\n",
      "------------------------------\n",
      "That's all\n",
      "------------------------------\n"
     ]
    }
   ],
   "source": [
    "for num in range(2,5):\n",
    "    print(\"Multiplication of\",num)\n",
    "    for i in range(1,11):\n",
    "        print(num*i)\n",
    "        if i==10:\n",
    "            print(\"\\n\")\n",
    "else:\n",
    "    print(\"-\"*30)\n",
    "    print(\"That's all\")\n",
    "    print(\"-\"*30)"
   ]
  },
  {
   "cell_type": "code",
   "execution_count": 27,
   "id": "e3f5c0c1-77b7-4292-922e-66533dce68a2",
   "metadata": {},
   "outputs": [
    {
     "name": "stdin",
     "output_type": "stream",
     "text": [
      "Enter the number for multiplication: 20\n"
     ]
    },
    {
     "name": "stdout",
     "output_type": "stream",
     "text": [
      "20 X 1 = 20\n",
      "20 X 2 = 40\n",
      "20 X 3 = 60\n",
      "20 X 4 = 80\n",
      "20 X 5 = 100\n",
      "20 X 6 = 120\n",
      "20 X 7 = 140\n",
      "20 X 8 = 160\n",
      "20 X 9 = 180\n",
      "20 X 10 = 200\n"
     ]
    }
   ],
   "source": [
    "# Let's try another way to achieve this.\n",
    "num=int(input(\"Enter the number for multiplication:\"))\n",
    "for i in range(1,11):\n",
    "    print(num,'X',i,'=',num*i)  "
   ]
  },
  {
   "cell_type": "markdown",
   "id": "23547f02-acfc-495c-9929-a3a7918d7e89",
   "metadata": {},
   "source": [
    "# Formatted string"
   ]
  },
  {
   "cell_type": "code",
   "execution_count": 30,
   "id": "fe5f2d57-d028-4aa3-9280-bfbecc9ee263",
   "metadata": {},
   "outputs": [
    {
     "name": "stdin",
     "output_type": "stream",
     "text": [
      "Enter the number for multiplication: 2\n"
     ]
    },
    {
     "name": "stdout",
     "output_type": "stream",
     "text": [
      "2X1=2\n",
      "2X2=4\n",
      "2X3=6\n",
      "2X4=8\n",
      "2X5=10\n",
      "2X6=12\n",
      "2X7=14\n",
      "2X8=16\n",
      "2X9=18\n",
      "2X10=20\n"
     ]
    }
   ],
   "source": [
    "# Let's see the multiplication table with f-string\n",
    "num=int(input(\"Enter the number for multiplication:\"))\n",
    "for i in range(1,11):\n",
    "    print(F\"{num}X{i}={num*i}\")     #Write variables in curly braces and all other things without curly braces"
   ]
  },
  {
   "cell_type": "markdown",
   "id": "669af1a1-a0a6-4239-8f86-35a2893b6257",
   "metadata": {},
   "source": [
    "# For loop - Break\n",
    "The break statement in Python is used to terminate a loop prematurely. When break is encountered inside a for loop (or a while loop), the loop immediately stops its execution, and the program control jumps to the statement immediately following the loop. "
   ]
  },
  {
   "cell_type": "code",
   "execution_count": 39,
   "id": "e5e5d449-daed-4944-af91-4b28e37f334a",
   "metadata": {},
   "outputs": [
    {
     "name": "stdout",
     "output_type": "stream",
     "text": [
      "0\n",
      "1\n",
      "2\n",
      "3\n",
      "4\n"
     ]
    }
   ],
   "source": [
    "# Use break in for loop\n",
    "for i in range(10):\n",
    "    if i==5:\n",
    "        break\n",
    "    print(i)\n",
    "        "
   ]
  },
  {
   "cell_type": "code",
   "execution_count": 41,
   "id": "32c6457c-5884-4675-99b5-3a2a2abc1938",
   "metadata": {},
   "outputs": [
    {
     "name": "stdout",
     "output_type": "stream",
     "text": [
      "red\n",
      "white\n",
      "green\n"
     ]
    }
   ],
   "source": [
    "# Using break with a condition in a list\n",
    "colors=['red','white','green','yellow']\n",
    "for color in colors:\n",
    "    if color=='green':\n",
    "        print(color)\n",
    "        break\n",
    "    print(color)"
   ]
  },
  {
   "cell_type": "code",
   "execution_count": 43,
   "id": "512f059c-7abd-4a67-b3f4-6049742f4610",
   "metadata": {},
   "outputs": [
    {
     "name": "stdout",
     "output_type": "stream",
     "text": [
      "1\n",
      "2\n",
      "3\n",
      "4\n",
      "5\n",
      "6\n",
      "7\n",
      "Found 7, breaking the loop\n"
     ]
    }
   ],
   "source": [
    "# Using break to find a number\n",
    "for i in range(1,11):\n",
    "    print(i)\n",
    "    if i==7:\n",
    "        print(\"Found 7, breaking the loop\")\n",
    "        break"
   ]
  },
  {
   "cell_type": "code",
   "execution_count": 51,
   "id": "d3bee0a2-f692-4787-a512-3ec011bef735",
   "metadata": {},
   "outputs": [
    {
     "name": "stdout",
     "output_type": "stream",
     "text": [
      "1 1\n",
      "1 2\n",
      "1 3\n",
      "2 1\n",
      "2 2\n",
      "2 3\n",
      "3 1\n",
      "3 2\n",
      "3 3\n"
     ]
    }
   ],
   "source": [
    "# Using a nested for loop to print a pattern\n",
    "for i in range(1,4):\n",
    "    for j in range(1,4):\n",
    "        print(i,j)"
   ]
  },
  {
   "cell_type": "code",
   "execution_count": 53,
   "id": "19326935-e2c3-4b88-92a2-0061eeaea437",
   "metadata": {},
   "outputs": [
    {
     "name": "stdout",
     "output_type": "stream",
     "text": [
      "red apple\n",
      "red berry\n",
      "red grapes\n",
      "blue apple\n",
      "blue berry\n",
      "blue grapes\n",
      "green apple\n",
      "green berry\n",
      "green grapes\n"
     ]
    }
   ],
   "source": [
    "# Nested loops to iterate over list\n",
    "colors=['red','blue','green']\n",
    "fruits=['apple','berry','grapes']\n",
    "for color in colors:\n",
    "    for fruit in fruits:\n",
    "        print(color, fruit)"
   ]
  },
  {
   "cell_type": "code",
   "execution_count": 55,
   "id": "db665e5c-4d3c-4b93-bb01-1082aa5a8640",
   "metadata": {},
   "outputs": [
    {
     "name": "stdout",
     "output_type": "stream",
     "text": [
      "1x1=1\n",
      "1x2=2\n",
      "1x3=3\n",
      "2x1=2\n",
      "2x2=4\n",
      "2x3=6\n",
      "3x1=3\n",
      "3x2=6\n",
      "3x3=9\n"
     ]
    }
   ],
   "source": [
    "# Using nested loop to create a multiplication table\n",
    "for i in range(1,4):\n",
    "    for j in range(1,4):\n",
    "        print(f\"{i}x{j}={i*j}\")"
   ]
  },
  {
   "cell_type": "markdown",
   "id": "13d5bfe0-ad08-4f52-a7ad-cf93993d5761",
   "metadata": {},
   "source": [
    "#  For Loop Practice Questions\n",
    "\n",
    "1. Write a `for` loop to print numbers from 1 to 10.\n",
    "\n",
    "2. Write a `for` loop to print all elements in the list: `[5, 10, 15, 20]`.\n",
    "\n",
    "3. Use `for` loop with `range()` to print numbers from 10 to 20 (inclusive).\n",
    "\n",
    "4. Use `for` loop and `range()` to print even numbers from 2 to 10.\n",
    "\n",
    "5. Write a `for` loop to print the word \"Hello\" 5 times.\n",
    "\n",
    "6. Loop over this string `\"Python\"` and print each character.\n",
    "\n",
    "7. Use `for` loop and `break` to stop the loop when the number 5 is found in `[1, 2, 3, 4, 5, 6, 7]`.\n",
    "\n",
    "8. Use `for` loop and `continue` to skip printing the number 3 in the list `[1, 2, 3, 4, 5]`.\n",
    "\n",
    "9. Write a `for` loop with `else` that prints \"Loop done!\" after the loop completes.\n",
    "\n",
    "10. Use `enumerate()` in a `for` loop to print index and value for the list `['a', 'b', 'c']`.\n",
    "\n",
    "11. Use `zip()` to loop through `[1, 2, 3]` and `['a', 'b', 'c']` and print pairs.\n",
    "\n",
    "12. Unzip the list `[(1, 'x'), (2, 'y'), (3, 'z')]` into two separate lists using a `for` loop.\n",
    "\n",
    "13. Use a `for` loop with list comprehension to create a list of squares from 1 to 5.\n",
    "\n",
    "14. Use a `for` loop with list comprehension to get all odd numbers from `range(10)`.\n",
    "\n",
    "15. Write a `for` loop that prints \"Even\" or \"Odd\" for each number in `[1, 2, 3, 4, 5]`.\n"
   ]
  },
  {
   "cell_type": "code",
   "execution_count": 58,
   "id": "57308f7f-db0e-497a-b2b5-5d175924a881",
   "metadata": {},
   "outputs": [
    {
     "name": "stdout",
     "output_type": "stream",
     "text": [
      "1\n",
      "2\n",
      "3\n",
      "4\n",
      "5\n",
      "6\n",
      "7\n",
      "8\n",
      "9\n",
      "10\n"
     ]
    }
   ],
   "source": [
    "#Write a for loop to print numbers from 1 to 10.\n",
    "for i in range(1,11):\n",
    "    print(i)"
   ]
  },
  {
   "cell_type": "code",
   "execution_count": 60,
   "id": "710ca27e-6d44-48ab-8680-14e197c3d6e2",
   "metadata": {},
   "outputs": [
    {
     "name": "stdout",
     "output_type": "stream",
     "text": [
      "5\n",
      "10\n",
      "15\n",
      "20\n"
     ]
    }
   ],
   "source": [
    "#Write a for loop to print all elements in the list: [5, 10, 15, 20].\n",
    "for i in range(5,21,5):\n",
    "    print(i)"
   ]
  },
  {
   "cell_type": "code",
   "execution_count": 62,
   "id": "ff1b603a-09ed-43c6-88d3-e2abef60f862",
   "metadata": {},
   "outputs": [
    {
     "name": "stdout",
     "output_type": "stream",
     "text": [
      "10\n",
      "11\n",
      "12\n",
      "13\n",
      "14\n",
      "15\n",
      "16\n",
      "17\n",
      "18\n",
      "19\n",
      "20\n"
     ]
    }
   ],
   "source": [
    "#Use for loop with range() to print numbers from 10 to 20 (inclusive).\n",
    "for i in range(10,21):\n",
    "    print(i)"
   ]
  },
  {
   "cell_type": "code",
   "execution_count": 64,
   "id": "38df3c90-a16a-4545-bb4d-1d092cade9c7",
   "metadata": {},
   "outputs": [
    {
     "name": "stdout",
     "output_type": "stream",
     "text": [
      "2\n",
      "4\n",
      "6\n",
      "8\n",
      "10\n"
     ]
    }
   ],
   "source": [
    "#Use for loop and range() to print even numbers from 2 to 10.\n",
    "for i in range(2,11,2):\n",
    "    print(i)"
   ]
  },
  {
   "cell_type": "code",
   "execution_count": 66,
   "id": "cfabf84a-7766-40a1-873a-49315b20afc4",
   "metadata": {},
   "outputs": [
    {
     "name": "stdout",
     "output_type": "stream",
     "text": [
      "Hello\n",
      "Hello\n",
      "Hello\n",
      "Hello\n",
      "Hello\n"
     ]
    }
   ],
   "source": [
    "#Write a for loop to print the word \"Hello\" 5 times.\n",
    "for _ in range(5):    #The underscore _ is used as the loop variable when the actual value of the iteration is not needed within the loop's body.\n",
    "    print(\"Hello\")"
   ]
  },
  {
   "cell_type": "code",
   "execution_count": 69,
   "id": "67ab2796-bab7-47d2-b229-c3e227ad43cf",
   "metadata": {},
   "outputs": [
    {
     "name": "stdout",
     "output_type": "stream",
     "text": [
      "P\n",
      "y\n",
      "t\n",
      "h\n",
      "o\n",
      "n\n"
     ]
    }
   ],
   "source": [
    "#Loop over this string \"Python\" and print each character.\n",
    "a='Python'\n",
    "for i in a:\n",
    "    print(i)"
   ]
  },
  {
   "cell_type": "code",
   "execution_count": 75,
   "id": "b7d1d973-1455-4287-a6b8-bd5111d29203",
   "metadata": {},
   "outputs": [
    {
     "name": "stdout",
     "output_type": "stream",
     "text": [
      "1\n",
      "2\n",
      "3\n",
      "4\n",
      "5\n",
      "Found the number 5, breaking the loop\n"
     ]
    }
   ],
   "source": [
    "#Use `for` loop and `break` to stop the loop when the number 5 is found in `[1, 2, 3, 4, 5, 6, 7]`.\n",
    "for i in range(1,8):\n",
    "    print(i)\n",
    "    if i==5:\n",
    "        print(\"Found the number 5, breaking the loop\")\n",
    "        break\n",
    "    "
   ]
  },
  {
   "cell_type": "code",
   "execution_count": null,
   "id": "c0599631-655c-469a-b700-c45624ee6799",
   "metadata": {},
   "outputs": [],
   "source": [
    "#Use `for` loop and `continue` to skip printing the number 3 in the list `[1, 2, 3, 4, 5]`.\n"
   ]
  },
  {
   "cell_type": "code",
   "execution_count": 77,
   "id": "892f0731-48b2-4f53-b93e-a9bddf621a0e",
   "metadata": {},
   "outputs": [
    {
     "name": "stdout",
     "output_type": "stream",
     "text": [
      "0\n",
      "1\n",
      "2\n",
      "3\n",
      "4\n",
      "Loop done.\n"
     ]
    }
   ],
   "source": [
    "#Write a `for` loop with `else` that prints \"Loop done!\" after the loop completes.\n",
    "for i in range(5):\n",
    "    print(i)\n",
    "else:\n",
    "    print(\"Loop done.\")"
   ]
  },
  {
   "cell_type": "code",
   "execution_count": 2,
   "id": "cb896568-49ac-408a-9d8e-ee714fd2b456",
   "metadata": {},
   "outputs": [
    {
     "name": "stdout",
     "output_type": "stream",
     "text": [
      "0 a\n",
      "1 b\n",
      "2 c\n"
     ]
    }
   ],
   "source": [
    "# Use enumerate() in a for loop to print index and value for the list ['a', 'b', 'c'].\n",
    "my_list=['a','b','c']\n",
    "for index, lists in enumerate(my_list):\n",
    "    print(index, lists)"
   ]
  },
  {
   "cell_type": "code",
   "execution_count": 1,
   "id": "8a95881a-b03b-4ba6-9d8f-57d8d01b5ab2",
   "metadata": {},
   "outputs": [
    {
     "name": "stdout",
     "output_type": "stream",
     "text": [
      "[(1, 'a'), (2, 'b'), (3, 'c')]\n"
     ]
    }
   ],
   "source": [
    "# Use zip() to loop through [1, 2, 3] and ['a', 'b', 'c'] and print pairs.\n",
    "list1=[1,2,3]\n",
    "list2=['a','b','c']\n",
    "final_list=list(zip(list1,list2))\n",
    "print(final_list)"
   ]
  },
  {
   "cell_type": "code",
   "execution_count": 3,
   "id": "8fbcaab9-2669-4e28-8757-e85a0dec963b",
   "metadata": {},
   "outputs": [
    {
     "name": "stdout",
     "output_type": "stream",
     "text": [
      "[(1, 2, 3), ('x', 'y', 'z')]\n"
     ]
    }
   ],
   "source": [
    "# Unzip the list `[(1, 'x'), (2, 'y'), (3, 'z')]` into two separate lists using a `for` loop.\n",
    "lists=[(1, 'x'), (2, 'y'), (3, 'z')]\n",
    "new_list=list(zip(*lists))\n",
    "print(new_list)"
   ]
  },
  {
   "cell_type": "code",
   "execution_count": 5,
   "id": "d8a30bc1-385c-4ff4-a3b1-fab97677f638",
   "metadata": {},
   "outputs": [
    {
     "name": "stdout",
     "output_type": "stream",
     "text": [
      "1\n",
      "4\n",
      "9\n",
      "16\n",
      "25\n"
     ]
    }
   ],
   "source": [
    "# Use a `for` loop with list comprehension to create a list of squares from 1 to 5.\n",
    "for i in range(1,6):\n",
    "    i=i**2\n",
    "    print(i)\n",
    "    i=i+1"
   ]
  },
  {
   "cell_type": "code",
   "execution_count": 11,
   "id": "0b9f090b-184e-4962-869c-abdd1d1afc81",
   "metadata": {},
   "outputs": [
    {
     "name": "stdout",
     "output_type": "stream",
     "text": [
      "1\n",
      "3\n",
      "5\n",
      "7\n",
      "9\n"
     ]
    }
   ],
   "source": [
    "# Use a `for` loop with list comprehension to get all odd numbers from `range(10)`.\n",
    "for i in range(10):\n",
    "    if i%2!=0:\n",
    "        print(i)    "
   ]
  },
  {
   "cell_type": "code",
   "execution_count": 13,
   "id": "7d997486-3d82-4008-96d8-5856b8d994b1",
   "metadata": {},
   "outputs": [
    {
     "name": "stdout",
     "output_type": "stream",
     "text": [
      "1 is an odd number.\n",
      "2 is an even number.\n",
      "3 is an odd number.\n",
      "4 is an even number.\n",
      "5 is an odd number.\n"
     ]
    }
   ],
   "source": [
    "# Write a `for` loop that prints \"Even\" or \"Odd\" for each number in `[1, 2, 3, 4, 5]`.\n",
    "lists=[1, 2, 3, 4, 5]\n",
    "for i in lists:\n",
    "    if i%2==0:\n",
    "        print(i,\"is an even number.\")\n",
    "    else:\n",
    "        print(i,\"is an odd number.\")"
   ]
  },
  {
   "cell_type": "code",
   "execution_count": null,
   "id": "6cefe6fb-dfe4-410e-8864-7aea41eac5ec",
   "metadata": {},
   "outputs": [],
   "source": []
  }
 ],
 "metadata": {
  "kernelspec": {
   "display_name": "Python [conda env:base] *",
   "language": "python",
   "name": "conda-base-py"
  },
  "language_info": {
   "codemirror_mode": {
    "name": "ipython",
    "version": 3
   },
   "file_extension": ".py",
   "mimetype": "text/x-python",
   "name": "python",
   "nbconvert_exporter": "python",
   "pygments_lexer": "ipython3",
   "version": "3.12.7"
  }
 },
 "nbformat": 4,
 "nbformat_minor": 5
}
