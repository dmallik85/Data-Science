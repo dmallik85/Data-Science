{
 "cells": [
  {
   "cell_type": "code",
   "execution_count": 3,
   "id": "c9347155-b5b6-4b97-8100-0b26c2dba9a3",
   "metadata": {},
   "outputs": [],
   "source": [
    "#For using NumPy and to refer to an alias as 'np', you should import it by running below command. \n",
    "import numpy as np"
   ]
  },
  {
   "cell_type": "code",
   "execution_count": 5,
   "id": "aa1cc427-b671-452d-9c94-afdc82b57a2d",
   "metadata": {},
   "outputs": [
    {
     "data": {
      "text/plain": [
       "array([ 5,  9, 13])"
      ]
     },
     "execution_count": 5,
     "metadata": {},
     "output_type": "execute_result"
    }
   ],
   "source": [
    "#Create an array using NumPy\n",
    "np.array([5,9,13])"
   ]
  },
  {
   "cell_type": "code",
   "execution_count": 7,
   "id": "fa81ca19-0f3e-447b-a71b-0f69f8e09e82",
   "metadata": {},
   "outputs": [
    {
     "data": {
      "text/plain": [
       "list"
      ]
     },
     "execution_count": 7,
     "metadata": {},
     "output_type": "execute_result"
    }
   ],
   "source": [
    "type([5,9,13])"
   ]
  },
  {
   "cell_type": "code",
   "execution_count": 9,
   "id": "67f37be7-af8d-4596-a361-2b330c46e7fd",
   "metadata": {},
   "outputs": [
    {
     "data": {
      "text/plain": [
       "numpy.ndarray"
      ]
     },
     "execution_count": 9,
     "metadata": {},
     "output_type": "execute_result"
    }
   ],
   "source": [
    "a=np.array([5,9,13])\n",
    "type(a)"
   ]
  },
  {
   "cell_type": "code",
   "execution_count": 11,
   "id": "4075485e-75ae-4b49-a0db-37ef7e22488b",
   "metadata": {},
   "outputs": [
    {
     "name": "stdout",
     "output_type": "stream",
     "text": [
      "Type: int32\n",
      "\n",
      " [[1 2]\n",
      " [3 4]\n",
      " [5 6]]\n"
     ]
    }
   ],
   "source": [
    "#Two dimension - In such array 2 square bracket is used.\n",
    "a=np.array([[1,2],[3,4],[5,6]])\n",
    "print(\"Type:\",a.dtype)\n",
    "print(\"\\n\",a)"
   ]
  },
  {
   "cell_type": "code",
   "execution_count": 13,
   "id": "81b4f337-b375-406e-bad0-b5985060c97f",
   "metadata": {},
   "outputs": [
    {
     "data": {
      "text/plain": [
       "array([1., 2., 3.])"
      ]
     },
     "execution_count": 13,
     "metadata": {},
     "output_type": "execute_result"
    }
   ],
   "source": [
    "#dtype conversion\n",
    "np.array([1,2,3],dtype=float)"
   ]
  },
  {
   "cell_type": "code",
   "execution_count": 17,
   "id": "00277e9e-c9ca-40e3-b949-daafa8d2f6cb",
   "metadata": {},
   "outputs": [
    {
     "name": "stdout",
     "output_type": "stream",
     "text": [
      "float64\n"
     ]
    }
   ],
   "source": [
    "a=np.array([1,2,3],dtype=float)\n",
    "print(a.dtype)"
   ]
  },
  {
   "cell_type": "code",
   "execution_count": 19,
   "id": "b132cdc1-86d4-4318-ac8e-28ba8250b372",
   "metadata": {},
   "outputs": [
    {
     "name": "stdout",
     "output_type": "stream",
     "text": [
      "[1 2]\n"
     ]
    },
    {
     "data": {
      "text/plain": [
       "numpy.ndarray"
      ]
     },
     "execution_count": 19,
     "metadata": {},
     "output_type": "execute_result"
    }
   ],
   "source": [
    "#Convert a list to array\n",
    "a=[1,2]\n",
    "b=np.array(a)\n",
    "print(b)\n",
    "type(b)"
   ]
  },
  {
   "cell_type": "code",
   "execution_count": 21,
   "id": "e0abe24a-b35c-457b-bbde-4ac72b588e4a",
   "metadata": {},
   "outputs": [
    {
     "name": "stdout",
     "output_type": "stream",
     "text": [
      "[1 2]\n"
     ]
    }
   ],
   "source": [
    "#Copy array into other array\n",
    "c=np.asarray(b)\n",
    "print(c)"
   ]
  },
  {
   "cell_type": "code",
   "execution_count": 23,
   "id": "8da63df9-18c8-4dd7-8694-a1101a66e692",
   "metadata": {},
   "outputs": [
    {
     "name": "stdout",
     "output_type": "stream",
     "text": [
      "Type/class of this object: <class 'numpy.ndarray'>\n",
      "Here is the marks \n",
      "-------\n",
      " [[1 2 3]\n",
      " [4 5 6]\n",
      " [7 8 9]] \n",
      "------------\n",
      "\n",
      "Print dimension of this matrix: 2\n",
      "Size of the matrix: 9\n",
      "Shape of the matrix: (3, 3)\n",
      "Data type of the matrix: int32\n"
     ]
    }
   ],
   "source": [
    "#Data types\n",
    "my_mat=[[1,2,3],[4,5,6],[7,8,9]]\n",
    "mat=np.array(my_mat)\n",
    "print(\"Type/class of this object:\",type(mat))\n",
    "print(\"Here is the marks \\n-------\\n\",mat,\"\\n------------\\n\")\n",
    "print(\"Print dimension of this matrix:\",mat.ndim)\n",
    "print(\"Size of the matrix:\",mat.size)\n",
    "print(\"Shape of the matrix:\",mat.shape)\n",
    "print(\"Data type of the matrix:\",mat.dtype)"
   ]
  },
  {
   "cell_type": "code",
   "execution_count": 29,
   "id": "3fe88d56-1b17-405a-8b2f-02786d2bb008",
   "metadata": {},
   "outputs": [
    {
     "name": "stdout",
     "output_type": "stream",
     "text": [
      "[0 1 2 3 4 5 6 7 8 9]\n"
     ]
    }
   ],
   "source": [
    "#arange and linespace\n",
    "a=np.arange(10)\n",
    "print(a)"
   ]
  },
  {
   "cell_type": "code",
   "execution_count": 31,
   "id": "29a2715d-73f4-4698-9893-59dc6518acf4",
   "metadata": {},
   "outputs": [
    {
     "name": "stdout",
     "output_type": "stream",
     "text": [
      "[10.5 12.5 14.5 16.5 18.5]\n"
     ]
    }
   ],
   "source": [
    "#In numpy range function also work with float number\n",
    "a=np.arange(10.5,20.5,2)\n",
    "print(a)"
   ]
  },
  {
   "cell_type": "code",
   "execution_count": 39,
   "id": "24ec705b-b132-47b1-ab0f-82063c40a1ad",
   "metadata": {},
   "outputs": [
    {
     "name": "stdout",
     "output_type": "stream",
     "text": [
      "Every 5th number from 50 in reverse order: [50 45 40 35 30 25 20 15 10  5  0]\n"
     ]
    }
   ],
   "source": [
    "#arange in reverse order\n",
    "a=np.arange(50,-1,-5)\n",
    "print(\"Every 5th number from 50 in reverse order:\",a)"
   ]
  },
  {
   "cell_type": "code",
   "execution_count": 43,
   "id": "3320cda1-4411-4ac8-87de-adc657243883",
   "metadata": {},
   "outputs": [
    {
     "name": "stdout",
     "output_type": "stream",
     "text": [
      "Linear space from 10 to 50: [10.  17.5 25.  32.5 40. ]\n"
     ]
    }
   ],
   "source": [
    "#Linear space - in the below code we are generating 5 numbers with same distance between 10 and 40.\n",
    "a=np.linspace(10,40,5)\n",
    "print(\"Linear space from 10 to 50:\",a)"
   ]
  },
  {
   "cell_type": "code",
   "execution_count": 45,
   "id": "5aa413c6-3dba-4081-82e3-49621b0d2b2d",
   "metadata": {},
   "outputs": [
    {
     "name": "stdout",
     "output_type": "stream",
     "text": [
      "(array([2.        , 2.33333333, 2.66666667, 3.        ]), 0.3333333333333333)\n"
     ]
    }
   ],
   "source": [
    "#Include endpoints and check space between the points\n",
    "#By default endpoint=True\n",
    "#By default retstep=False          -retstep is used to know the distance between the numbers\n",
    "a=np.linspace(2.0,3.0,num=4,endpoint=True,retstep=True) #Generate 4 numbers between 2.0 and 3.0. Also display the distance between the number (retstep)\n",
    "print(a)"
   ]
  },
  {
   "cell_type": "code",
   "execution_count": 47,
   "id": "f50e24bc-d92e-4107-9ed4-b63c1ef0946e",
   "metadata": {},
   "outputs": [
    {
     "name": "stdout",
     "output_type": "stream",
     "text": [
      "Vector of zeros \n",
      "------------------------\n",
      "[0. 0. 0. 0. 0.]\n"
     ]
    }
   ],
   "source": [
    "#Matrix creation\n",
    "print(\"Vector of zeros \\n------------------------\")\n",
    "print(np.zeros(5))"
   ]
  },
  {
   "cell_type": "code",
   "execution_count": 51,
   "id": "23dc42da-00ae-4719-9391-20d24d0483b8",
   "metadata": {},
   "outputs": [
    {
     "name": "stdout",
     "output_type": "stream",
     "text": [
      "Vector of zeros \n",
      "------------------------\n",
      "[[0. 0. 0. 0. 0. 0.]\n",
      " [0. 0. 0. 0. 0. 0.]\n",
      " [0. 0. 0. 0. 0. 0.]\n",
      " [0. 0. 0. 0. 0. 0.]\n",
      " [0. 0. 0. 0. 0. 0.]]\n"
     ]
    }
   ],
   "source": [
    "print(\"Vector of zeros \\n------------------------\")\n",
    "print(np.zeros([5,6]))"
   ]
  },
  {
   "cell_type": "code",
   "execution_count": 53,
   "id": "7279c5f2-5fc6-470e-aba4-40e68aab4f40",
   "metadata": {},
   "outputs": [
    {
     "name": "stdout",
     "output_type": "stream",
     "text": [
      "Vector of ones \n",
      "------------------\n",
      "[[1. 1. 1. 1. 1. 1.]\n",
      " [1. 1. 1. 1. 1. 1.]\n",
      " [1. 1. 1. 1. 1. 1.]\n",
      " [1. 1. 1. 1. 1. 1.]\n",
      " [1. 1. 1. 1. 1. 1.]]\n"
     ]
    }
   ],
   "source": [
    "#Let's create vector using ONES\n",
    "print(\"Vector of ones \\n------------------\")\n",
    "print(np.ones([5,6]))"
   ]
  },
  {
   "cell_type": "code",
   "execution_count": null,
   "id": "cf68b6f3-c37f-4d27-b112-910785b162c4",
   "metadata": {},
   "outputs": [],
   "source": [
    "#Note: Above two vector of ZEROS and ONES works only for 0 and 1. It will not work with TWO, THREE etc...\n",
    "#However, if you would like to create matrix of other numbers other than 0 and 1, you could use below code. Below example create a matrix of 5"
   ]
  },
  {
   "cell_type": "code",
   "execution_count": 55,
   "id": "6668f220-5447-4dd1-ae07-faf7b07a2bdc",
   "metadata": {},
   "outputs": [
    {
     "name": "stdout",
     "output_type": "stream",
     "text": [
      "Matrix of 5 \n",
      "-------------\n",
      "[[5. 5. 5. 5. 5. 5.]\n",
      " [5. 5. 5. 5. 5. 5.]\n",
      " [5. 5. 5. 5. 5. 5.]\n",
      " [5. 5. 5. 5. 5. 5.]\n",
      " [5. 5. 5. 5. 5. 5.]]\n"
     ]
    }
   ],
   "source": [
    "print(\"Matrix of 5 \\n-------------\")\n",
    "print(5*np.ones([5,6]))"
   ]
  },
  {
   "cell_type": "code",
   "execution_count": 61,
   "id": "74cf70f5-50eb-4459-ac06-1b4bcbfebd54",
   "metadata": {},
   "outputs": [
    {
     "name": "stdout",
     "output_type": "stream",
     "text": [
      "[ 0  1  2  3  4  5  6  7  8  9 10 11 12 13 14 15 16 17 18 19 20 21 22 23\n",
      " 24 25 26 27 28 29]\n",
      "[[ 0  1  2  3  4  5]\n",
      " [ 6  7  8  9 10 11]\n",
      " [12 13 14 15 16 17]\n",
      " [18 19 20 21 22 23]\n",
      " [24 25 26 27 28 29]]\n"
     ]
    }
   ],
   "source": [
    "#Construct diagonal matrix\n",
    "x=np.arange(30)\n",
    "print(x)\n",
    "x=np.arange(30).reshape(5,6)    #Here generating 30 number and giving a shapre of 5 rows, 6 columns. 30=5*6 should match. reshape(5,5) will not work.\n",
    "print(x)"
   ]
  },
  {
   "cell_type": "code",
   "execution_count": 63,
   "id": "6cc73dc9-9478-4f02-a000-2dc5bcc5d187",
   "metadata": {},
   "outputs": [
    {
     "name": "stdout",
     "output_type": "stream",
     "text": [
      "[[ 0  1  2  3  4  5  6  7  8  9 10 11 12 13 14]\n",
      " [15 16 17 18 19 20 21 22 23 24 25 26 27 28 29]]\n"
     ]
    }
   ],
   "source": [
    "x=np.arange(30).reshape(2,15)\n",
    "print(x)"
   ]
  },
  {
   "cell_type": "code",
   "execution_count": 65,
   "id": "82b17b92-0861-4e83-be7a-6377dcc2055f",
   "metadata": {},
   "outputs": [
    {
     "name": "stdout",
     "output_type": "stream",
     "text": [
      "[[ 0  1  2  3  4  5  6  7  8  9]\n",
      " [10 11 12 13 14 15 16 17 18 19]\n",
      " [20 21 22 23 24 25 26 27 28 29]]\n"
     ]
    }
   ],
   "source": [
    "x=np.arange(30).reshape(3,10)\n",
    "print(x)"
   ]
  },
  {
   "cell_type": "markdown",
   "id": "6d8f04f6-be93-40c7-b802-282f9f075be3",
   "metadata": {},
   "source": [
    "# Random number generation\n",
    "**What is random?**\n",
    "\n",
    "numpy.random is a module in NumPy that provides tools for generating random numbers, performing random sampling, and working with various probability distributions.\n",
    "\n",
    "numpy.random includes:\n",
    "- Functions to generate random numbers\n",
    "- Tools to sample from distributions (normal, binomial, Poisson, etc.)\n",
    "- Methods to shuffle or permute data\n",
    "- Random integers, floats, choices, etc.\n",
    "\n",
    "**What is seed?**\n",
    "\n",
    "numpy.seed (specifically numpy.random.seed) is a function used to set the seed for NumPy’s random number generator. This makes random outputs predictable and repeatable — crucial for debugging, testing, or reproducible research.\n",
    "Random functions like np.random.rand() generate different values each time you run them. If you want the same \"random\" numbers every time (e.g., for consistent results), you set a seed.\n",
    "\n",
    "**What is rand?**\n",
    "\n",
    "The numpy.rand method is a function in NumPy used to generate random numbers from a **uniform distribution** over the interval. Dimensions of the returned array. For example, rand(2, 3) creates a 2x3 array.\n",
    "\n",
    "Syntax: numpy.random.rand(d0, d1, ..., dn) \n",
    "- d0, d1, ..., dn: These are optional integers representing the dimensions of the array you want to create. If no arguments are provided, rand() returns a single random float.\n",
    "\n",
    "**What is randn?**\n",
    "\n",
    "numpy.random.randn() is a function within the NumPy library in Python that generates an array of random numbers sampled from a standard **normal distribution**. \n",
    "- Standard Normal Distribution:\n",
    "This is a specific type of Gaussian distribution where the mean is 0 and the standard deviation is 1.\n",
    "\n",
    "Syntax: numpy.random.randn(*d0, *d1, ..., *dn)\n",
    "- d0, d1, ..., dn: These are optional integer arguments representing the dimensions of the desired array. If no arguments are provided, randn() returns a single float value. If positive arguments are provided, randn() generates an array of the shape (d0, d1, ..., dn). \n",
    "\n",
    "**What is randint?**\n",
    "\n",
    "numpy.random.randint is a function within the NumPy library in Python used to generate random integers. It allows for the creation of either a single random integer or an array of random integers within a specified range. \n",
    "\n",
    "Syntax: numpy.random.randint(low, high=None, size=None, dtype=int)"
   ]
  },
  {
   "cell_type": "code",
   "execution_count": 69,
   "id": "d8e83b5f-bfbc-4e61-a972-79f43bc57409",
   "metadata": {},
   "outputs": [
    {
     "name": "stdout",
     "output_type": "stream",
     "text": [
      "Random number generation from uniform distribution\n",
      "[[0.89286015 0.33197981 0.82122912 0.04169663 0.10765668 0.59505206]\n",
      " [0.52981736 0.41880743 0.33540785 0.62251943 0.43814143 0.73588211]\n",
      " [0.51803641 0.5788586  0.6453551  0.99022427 0.8198582  0.41320093]\n",
      " [0.87626766 0.82375943 0.05447451 0.71863724 0.80217056 0.73640664]\n",
      " [0.70913175 0.54093685 0.12482417 0.9576473  0.4032563  0.21695116]\n",
      " [0.71727585 0.99420744 0.25561406 0.67130943 0.59900591 0.71733215]\n",
      " [0.93734953 0.35180977 0.2536341  0.40247251 0.74651072 0.72407057]\n",
      " [0.4061078  0.98937985 0.45049928 0.37380843 0.70962861 0.08245855]\n",
      " [0.39837292 0.77088097 0.76475098 0.28385938 0.18954219 0.47125096]\n",
      " [0.33480604 0.73473504 0.18910712 0.33110407 0.84422842 0.61502403]]\n"
     ]
    }
   ],
   "source": [
    "np.random.seed(6)     #Each seed number will generate similar data. If I run this code what will be the output, if you run you will also get similar output\n",
    "print(\"Random number generation from uniform distribution\")\n",
    "print(np.random.rand(10,6))"
   ]
  },
  {
   "cell_type": "code",
   "execution_count": 71,
   "id": "4ebb3ffe-6a92-4fd0-8e8d-eb7662fa559e",
   "metadata": {},
   "outputs": [
    {
     "name": "stdout",
     "output_type": "stream",
     "text": [
      "Number from normal distribution with zero mean and standard deviation 1 i.e, standard normal\n",
      "[[-0.37550472  0.39636757 -0.47144628  2.33660781  1.50278553 -0.59545972]\n",
      " [ 0.52834106  0.9398248   0.42628539 -0.75815703 -0.16236698  0.72680996]\n",
      " [ 0.44408297 -0.85682264  0.44692842 -1.01464799 -2.1323234   0.17386307]\n",
      " [ 0.95120126  0.44189739  1.46901739  1.74951635  0.35353062 -0.64333729]\n",
      " [-0.04723705 -1.44903979 -0.03618977 -0.09084699  0.17629034  1.09462041]\n",
      " [-2.12647459  0.75144883 -0.54060704  0.79322236  0.17365335 -1.03543429]\n",
      " [ 0.87426839 -0.73957208  0.52294535 -0.59187648 -0.47748711  0.11252968]\n",
      " [ 1.90474232  0.69415315 -0.01958134  1.66284285  0.03060843 -0.29749921]\n",
      " [-0.96813764  0.16706673  0.11660197 -0.68225732 -1.91402115 -0.13990231]\n",
      " [ 0.11492459 -0.39500464 -0.95331626 -1.07282736 -0.48444561  1.36293786]]\n"
     ]
    }
   ],
   "source": [
    "print(\"Number from normal distribution with zero mean and standard deviation 1 i.e, standard normal\")\n",
    "print(np.random.randn(10,6))"
   ]
  },
  {
   "cell_type": "code",
   "execution_count": 75,
   "id": "0c120ea9-e512-4e33-b02d-bbaaa0ebc79a",
   "metadata": {},
   "outputs": [
    {
     "name": "stdout",
     "output_type": "stream",
     "text": [
      "The random integer vector: [ 7 17  6 19 17 19 15 14  7  5]\n"
     ]
    }
   ],
   "source": [
    "print(\"The random integer vector:\",np.random.randint(5,20,10))"
   ]
  },
  {
   "cell_type": "code",
   "execution_count": 79,
   "id": "2b56724b-9828-4c9a-9096-c7d7c0ea61c7",
   "metadata": {},
   "outputs": [
    {
     "name": "stdout",
     "output_type": "stream",
     "text": [
      "\n",
      " Random integer matrix.\n",
      "[[18780 18307 15355 11222 24641 15656  8972]\n",
      " [  599  3367 25489    10 16534 12574 19711]\n",
      " [ 7360 29664  7867  7193 14019 13020 13077]\n",
      " [18979   100 21484 21802  8255 12325  7663]\n",
      " [20160 19121 25216 16774  3611 16808  5847]\n",
      " [ 3810  3576 24615  1083 17826 26054  8618]]\n"
     ]
    }
   ],
   "source": [
    "#To generate a number between 1 and 30000, create a matrix with [6,7]\n",
    "print(\"\\n Random integer matrix.\")\n",
    "print(np.random.randint(1,30000,(6,7)))"
   ]
  },
  {
   "cell_type": "code",
   "execution_count": 84,
   "id": "fb911bc3-5446-4451-84c7-2fd435aa20d9",
   "metadata": {},
   "outputs": [
    {
     "name": "stdout",
     "output_type": "stream",
     "text": [
      "Your OTP is: [4292]\n"
     ]
    },
    {
     "name": "stdin",
     "output_type": "stream",
     "text": [
      "Please enter your OTP: 4292\n"
     ]
    },
    {
     "name": "stdout",
     "output_type": "stream",
     "text": [
      "Login successful!\n"
     ]
    }
   ],
   "source": [
    "#Geneerate OTP using randint\n",
    "def Generate_OTP():\n",
    "    otp=np.random.randint(1000,10000,1)\n",
    "    print(\"Your OTP is:\",otp)\n",
    "    user_otp=int(input(\"Please enter your OTP:\"))\n",
    "    if user_otp==otp:\n",
    "        print(\"Login successful!\")\n",
    "    else:\n",
    "        print(\"Please enter correct OTP.\")\n",
    "\n",
    "Generate_OTP()"
   ]
  },
  {
   "cell_type": "code",
   "execution_count": 86,
   "id": "0a417a6f-5cea-47d0-9240-1a7b3c14d963",
   "metadata": {},
   "outputs": [
    {
     "name": "stdout",
     "output_type": "stream",
     "text": [
      "[21 37 10 26 19 28 50 66 48 47]\n"
     ]
    }
   ],
   "source": [
    "emp_salary=np.random.randint(8,70,10)\n",
    "print(emp_salary)"
   ]
  },
  {
   "cell_type": "code",
   "execution_count": 88,
   "id": "1df81391-15c0-49db-8905-6c9b57ee4795",
   "metadata": {},
   "outputs": [
    {
     "data": {
      "text/plain": [
       "array([21, 37, 20, 26, 20, 28, 50, 50, 48, 47])"
      ]
     },
     "execution_count": 88,
     "metadata": {},
     "output_type": "execute_result"
    }
   ],
   "source": [
    "#Set minimum and maximum salary using a_min and a_max\n",
    "np.clip(emp_salary,a_min=20,a_max=50)  #If we use clip method, all maximum and minimum value we can set as per our use. \n",
    "#Here, number between 20/50 to display and any number which is less than 20 will be displayed as 20 | any number which more than 50 will be displayed as 50"
   ]
  },
  {
   "cell_type": "code",
   "execution_count": 5,
   "id": "6e78abd1-e300-406d-ba11-6a0eddbda89e",
   "metadata": {},
   "outputs": [
    {
     "name": "stdout",
     "output_type": "stream",
     "text": [
      "[ 8 43 64 51 62 39 69 22 64 37]\n",
      "(array([0, 7], dtype=int64),)\n"
     ]
    }
   ],
   "source": [
    "#Use where statement for finding a value based on criteria\n",
    "import numpy as np\n",
    "emp_salary=np.random.randint(8,70,10)\n",
    "print(emp_salary)\n",
    "print(np.where(emp_salary <25))   #It gives you the index number of the output from left to right."
   ]
  },
  {
   "cell_type": "code",
   "execution_count": 9,
   "id": "713512e7-3c68-4934-93a4-34cbdda2e5d3",
   "metadata": {},
   "outputs": [
    {
     "data": {
      "text/plain": [
       "array([ 8, 22])"
      ]
     },
     "execution_count": 9,
     "metadata": {},
     "output_type": "execute_result"
    }
   ],
   "source": [
    "#To check the actual value by using index by using double square brackets [[ ]]\n",
    "emp_salary[[0,7]]"
   ]
  },
  {
   "cell_type": "code",
   "execution_count": null,
   "id": "8672064c-4672-4fb8-9662-e17ae00de888",
   "metadata": {},
   "outputs": [],
   "source": [
    "#Similarly we can check any conditions (<,>,=,=>,<=)"
   ]
  },
  {
   "cell_type": "code",
   "execution_count": 13,
   "id": "d24a773d-a4b8-4e6e-9458-2ea2e3c8dad9",
   "metadata": {},
   "outputs": [],
   "source": [
    "#How to use alias for randint\n",
    "import numpy as np\n",
    "from numpy.random import randint as ri"
   ]
  },
  {
   "cell_type": "code",
   "execution_count": 15,
   "id": "b0e562b6-39f6-4af5-bb3d-afe205e4ad00",
   "metadata": {},
   "outputs": [
    {
     "name": "stdout",
     "output_type": "stream",
     "text": [
      "[27 90 89 64 49 17 68 71 81  4  2 49 61 59 88  3  4 23 20 29 24 56  5 40\n",
      " 32 19  4  9 84  2]\n"
     ]
    }
   ],
   "source": [
    "a=ri(1,99,30)\n",
    "print(a)"
   ]
  },
  {
   "cell_type": "code",
   "execution_count": 19,
   "id": "ddba4d7d-446b-449d-894e-39885a5c3b0d",
   "metadata": {},
   "outputs": [
    {
     "name": "stdout",
     "output_type": "stream",
     "text": [
      "[[[27 90 89 64 49]\n",
      "  [17 68 71 81  4]\n",
      "  [ 2 49 61 59 88]]\n",
      "\n",
      " [[ 3  4 23 20 29]\n",
      "  [24 56  5 40 32]\n",
      "  [19  4  9 84  2]]]\n"
     ]
    }
   ],
   "source": [
    "b=a.reshape(2,3,5)   #It creates 2 matrix, 3 rows and 5 columns\n",
    "print(b)"
   ]
  },
  {
   "cell_type": "code",
   "execution_count": 21,
   "id": "9ba6f6af-af4d-4490-93c3-570c989fde46",
   "metadata": {},
   "outputs": [
    {
     "name": "stdout",
     "output_type": "stream",
     "text": [
      "[[27 90 89 64 49]\n",
      " [17 68 71 81  4]\n",
      " [ 2 49 61 59 88]\n",
      " [ 3  4 23 20 29]\n",
      " [24 56  5 40 32]\n",
      " [19  4  9 84  2]]\n"
     ]
    }
   ],
   "source": [
    "c=a.reshape(6,5)\n",
    "print(c)"
   ]
  },
  {
   "cell_type": "code",
   "execution_count": 25,
   "id": "e3033aa3-f7b5-4819-96e1-48d302829904",
   "metadata": {},
   "outputs": [
    {
     "name": "stdout",
     "output_type": "stream",
     "text": [
      "Minimum of a is: 2\n",
      "Maximum of a is: 90\n"
     ]
    }
   ],
   "source": [
    "print(\"Minimum of a is:\",c.min())\n",
    "print(\"Maximum of a is:\",c.max())"
   ]
  },
  {
   "cell_type": "code",
   "execution_count": 27,
   "id": "7cbdc5f5-77de-4c1b-b7c9-0ad4f0fb555e",
   "metadata": {},
   "outputs": [
    {
     "name": "stdout",
     "output_type": "stream",
     "text": [
      "\n",
      " 5 x 5 matrix of random integer: \n",
      " -------------------------------------------------- \n",
      " [[65 52 48 68 76]\n",
      " [39 10 78 54 57]\n",
      " [55 10 92 90 54]\n",
      " [98 53 47 47 22]\n",
      " [74 59 97 70 19]]\n",
      "\n",
      " Here is the sorted matrix along each row: \n",
      " -------------------------------------------------- \n",
      " [[48 52 65 68 76]\n",
      " [10 39 54 57 78]\n",
      " [10 54 55 90 92]\n",
      " [22 47 47 53 98]\n",
      " [19 59 70 74 97]]\n",
      "\n",
      " Here is the sorted matrix along each column: \n",
      " -------------------------------------------------- \n",
      " [[39 10 47 47 19]\n",
      " [55 10 48 54 22]\n",
      " [65 52 78 68 54]\n",
      " [74 53 92 70 57]\n",
      " [98 59 97 90 76]]\n"
     ]
    }
   ],
   "source": [
    "#Sorting\n",
    "m=ri(1,100,25).reshape(5,5)   #Creating matrix of integer\n",
    "print(\"\\n 5 x 5 matrix of random integer: \\n\", \"-\"*50,\"\\n\",m)\n",
    "print(\"\\n Here is the sorted matrix along each row: \\n\", \"-\"*50,\"\\n\",np.sort(m))   #default axis=1\n",
    "print(\"\\n Here is the sorted matrix along each column: \\n\",\"-\"*50,\"\\n\",np.sort(m,axis=0))"
   ]
  },
  {
   "cell_type": "code",
   "execution_count": 29,
   "id": "7a5350cf-eedc-41f2-8ea4-1ce425bc27c9",
   "metadata": {},
   "outputs": [
    {
     "name": "stdout",
     "output_type": "stream",
     "text": [
      "Array: [13 14 15 16 17 18 19 20 21 22 23 24 25 26 27 28 29]\n"
     ]
    }
   ],
   "source": [
    "#Index and slicing\n",
    "arr=np.arange(13,30)\n",
    "print(\"Array:\",arr)"
   ]
  },
  {
   "cell_type": "code",
   "execution_count": 31,
   "id": "28f07659-7510-440d-a8d2-c1835bd1ecf6",
   "metadata": {},
   "outputs": [
    {
     "name": "stdout",
     "output_type": "stream",
     "text": [
      "Print 7th index of Array: 20\n"
     ]
    }
   ],
   "source": [
    "print(\"Print 7th index of Array:\",arr[7])"
   ]
  },
  {
   "cell_type": "code",
   "execution_count": 35,
   "id": "102ce295-b33c-4750-9d44-9d90ca589b89",
   "metadata": {},
   "outputs": [
    {
     "name": "stdout",
     "output_type": "stream",
     "text": [
      "Element of 3rd and 5th index is: [16 17]\n"
     ]
    }
   ],
   "source": [
    "print(\"Element of 3rd and 5th index is:\",arr[3:5])"
   ]
  },
  {
   "cell_type": "code",
   "execution_count": 37,
   "id": "da8706f3-673e-409e-bc0d-69b0f3914bfc",
   "metadata": {},
   "outputs": [
    {
     "name": "stdout",
     "output_type": "stream",
     "text": [
      "Elements from 4th to end is: [17 18 19 20 21 22 23 24 25 26 27 28 29]\n"
     ]
    }
   ],
   "source": [
    "print(\"Elements from 4th to end is:\",arr[4:])"
   ]
  },
  {
   "cell_type": "code",
   "execution_count": 39,
   "id": "56bc7980-2c98-498f-b0d5-231e10173047",
   "metadata": {},
   "outputs": [
    {
     "name": "stdout",
     "output_type": "stream",
     "text": [
      "[17 18 19 20 21 22 23 24 25 26 27 28 29]\n"
     ]
    }
   ],
   "source": [
    "#Save arr in abc and check from 4th to last index values\n",
    "abc=arr[4:]\n",
    "print(abc)"
   ]
  },
  {
   "cell_type": "code",
   "execution_count": 41,
   "id": "7c2f5f9b-68f1-4b27-b731-5c080e6a2ad2",
   "metadata": {},
   "outputs": [
    {
     "name": "stdout",
     "output_type": "stream",
     "text": [
      "Elements from last backwards: [29 27 25 23 21 19 17]\n"
     ]
    }
   ],
   "source": [
    "print(\"Elements from last backwards:\",abc[-1::-2])   #last index=-1 to first index with step size as -2"
   ]
  },
  {
   "cell_type": "code",
   "execution_count": 43,
   "id": "b13653a5-f2fa-43c3-8f20-6fc71681d2de",
   "metadata": {},
   "outputs": [
    {
     "name": "stdout",
     "output_type": "stream",
     "text": [
      "7th element from las backwards are: [29 28 27 26 25 24 23]\n"
     ]
    }
   ],
   "source": [
    "print(\"7th element from las backwards are:\",abc[-1:-8:-1])"
   ]
  },
  {
   "cell_type": "code",
   "execution_count": 47,
   "id": "235e3c4a-5b2e-4a90-a582-8a8e1db47bf4",
   "metadata": {},
   "outputs": [
    {
     "name": "stdout",
     "output_type": "stream",
     "text": [
      "Elements at 2nd 4th and 9th index are: [15 17 22]\n"
     ]
    }
   ],
   "source": [
    "print(\"Elements at 2nd 4th and 9th index are:\",arr[[2,4,9]])   #Pass a list as a index to subset"
   ]
  },
  {
   "cell_type": "code",
   "execution_count": 13,
   "id": "6a35183f-e8c5-42ea-92bc-4c94dae55513",
   "metadata": {},
   "outputs": [
    {
     "name": "stdout",
     "output_type": "stream",
     "text": [
      "[[1 2 3]\n",
      " [4 5 6]\n",
      " [7 8 9]]\n",
      "Entire row at index 2: \n",
      " [7 8 9]\n"
     ]
    }
   ],
   "source": [
    "import numpy as np\n",
    "my_mat=[[1,2,3],[4,5,6],[7,8,9]]\n",
    "mat=np.array(my_mat)\n",
    "print(mat)\n",
    "print(\"Entire row at index 2: \\n\",mat[2])"
   ]
  },
  {
   "cell_type": "code",
   "execution_count": 15,
   "id": "ca5d6114-7a78-48b1-bb22-b76ae7666b17",
   "metadata": {},
   "outputs": [
    {
     "name": "stdout",
     "output_type": "stream",
     "text": [
      "Entire row at index 2: \n",
      " [[1 2 3]\n",
      " [4 5 6]]\n"
     ]
    }
   ],
   "source": [
    "print(\"Entire row at index 2: \\n\",mat[0:2])"
   ]
  },
  {
   "cell_type": "code",
   "execution_count": 17,
   "id": "6258915f-5699-438c-9dc3-8d6a45f7d7bb",
   "metadata": {},
   "outputs": [
    {
     "name": "stdout",
     "output_type": "stream",
     "text": [
      "Entire row at index 2: \n",
      " [2 5]\n"
     ]
    }
   ],
   "source": [
    "print(\"Entire row at index 2: \\n\",mat[0:2,1])    #0:2= 0th row to 1st row | start from 1st index in column"
   ]
  },
  {
   "cell_type": "code",
   "execution_count": 19,
   "id": "956f03e8-b8de-4abd-952c-014d1987e99a",
   "metadata": {},
   "outputs": [
    {
     "name": "stdout",
     "output_type": "stream",
     "text": [
      "Entire row at specific index: \n",
      " [[1 2]\n",
      " [4 5]]\n"
     ]
    }
   ],
   "source": [
    "print(\"Entire row at specific index: \\n\",mat[0:2,0:2])"
   ]
  },
  {
   "cell_type": "code",
   "execution_count": 11,
   "id": "2bd956cb-5ecf-479d-9114-091c9b4b39bc",
   "metadata": {},
   "outputs": [
    {
     "name": "stdout",
     "output_type": "stream",
     "text": [
      "Entire column at index 3:\n",
      " [[2 3]\n",
      " [5 6]\n",
      " [8 9]]\n"
     ]
    }
   ],
   "source": [
    "print(\"Entire column at index 3:\\n\",mat[:,1:])"
   ]
  },
  {
   "cell_type": "code",
   "execution_count": 21,
   "id": "ad3f0133-24c6-405d-8a5e-b7f4c24aa820",
   "metadata": {},
   "outputs": [
    {
     "name": "stdout",
     "output_type": "stream",
     "text": [
      "Matrics with indices 1 and 2:\n",
      " [[5]]\n"
     ]
    }
   ],
   "source": [
    "print(\"Matrics with indices 1 and 2:\\n\",mat[1:2,1:2])"
   ]
  },
  {
   "cell_type": "code",
   "execution_count": 23,
   "id": "be26503a-5f5f-460d-acb3-cca39fe35a1f",
   "metadata": {},
   "outputs": [
    {
     "name": "stdout",
     "output_type": "stream",
     "text": [
      "[[2 3]\n",
      " [5 6]]\n"
     ]
    }
   ],
   "source": [
    "print(mat[0:2,[1,2]])   #[1,2] - it selects values of the column 1 and 2"
   ]
  },
  {
   "cell_type": "code",
   "execution_count": 25,
   "id": "8e3747ab-0513-4198-abf7-cf2cf676847c",
   "metadata": {},
   "outputs": [
    {
     "name": "stdout",
     "output_type": "stream",
     "text": [
      "[[  1   2 200]\n",
      " [  4   5   6]\n",
      " [  7   8   9]]\n"
     ]
    }
   ],
   "source": [
    "#Updating matrix\n",
    "\n",
    "mat[0,2]=200   #0th row and 2nd column to be replaced with 200. 3 will be replaced with 200.\n",
    "print(mat)"
   ]
  },
  {
   "cell_type": "code",
   "execution_count": 27,
   "id": "09ea1c8f-ce6c-432d-963a-6c4f86f7552a",
   "metadata": {},
   "outputs": [
    {
     "name": "stdout",
     "output_type": "stream",
     "text": [
      "[[  1   2 200]\n",
      " [100   5   6]\n",
      " [  7   8   9]]\n"
     ]
    }
   ],
   "source": [
    "mat[1,0]=100    #1st row and 0th column to be replaced with 100. 4 will be replaced with 100.\n",
    "print(mat)"
   ]
  },
  {
   "cell_type": "code",
   "execution_count": 31,
   "id": "d00f70de-19bb-4ad3-924b-9955e9c54051",
   "metadata": {},
   "outputs": [
    {
     "name": "stdout",
     "output_type": "stream",
     "text": [
      "Matrix of random 2 digit numbers:\n",
      " [[28 18 60 52 45]\n",
      " [58 30 90 39 89]\n",
      " [97 44 21 81 17]]\n"
     ]
    }
   ],
   "source": [
    "import numpy as np\n",
    "from numpy.random import randint as ri\n",
    "mat=np.array(ri(10,100,15).reshape(3,5))\n",
    "print(\"Matrix of random 2 digit numbers:\\n\",mat)"
   ]
  },
  {
   "cell_type": "code",
   "execution_count": 33,
   "id": "fcacabed-7959-4171-b3e2-5fdadbaa7ea5",
   "metadata": {},
   "outputs": [
    {
     "name": "stdout",
     "output_type": "stream",
     "text": [
      "Elements greater than 50:\n",
      " [60 52 58 90 89 97 81]\n"
     ]
    }
   ],
   "source": [
    "print(\"Elements greater than 50:\\n\",mat[mat>50])   "
   ]
  },
  {
   "cell_type": "code",
   "execution_count": 37,
   "id": "1552d3e8-d1ea-4934-9048-4267a2cfaedf",
   "metadata": {},
   "outputs": [
    {
     "name": "stdout",
     "output_type": "stream",
     "text": [
      "Elements greater than 50:\n",
      " [[False False  True  True False]\n",
      " [ True False  True False  True]\n",
      " [ True False False  True False]]\n"
     ]
    }
   ],
   "source": [
    "#if we wrote [mat>50] instead of mat[mat>50], we will get boolean values. Let's see\n",
    "print(\"Elements greater than 50:\\n\",mat>50) "
   ]
  },
  {
   "cell_type": "code",
   "execution_count": 13,
   "id": "ee4106a7-75a1-4f2e-a854-ba7f3b477802",
   "metadata": {},
   "outputs": [
    {
     "name": "stdout",
     "output_type": "stream",
     "text": [
      "[[96 23 31 21 21]\n",
      " [78 87 94 47 48]\n",
      " [17 45 52 45 51]]\n",
      "(array([], dtype=int64), array([], dtype=int64))\n"
     ]
    }
   ],
   "source": [
    "import numpy as np\n",
    "from numpy.random import randint as ri\n",
    "mat=np.array(ri(10,100,15).reshape(3,5))\n",
    "print(mat)\n",
    "print(np.where(mat==84))"
   ]
  },
  {
   "cell_type": "code",
   "execution_count": null,
   "id": "d91b1306-6fb8-43ef-922b-112e0dadc66d",
   "metadata": {},
   "outputs": [],
   "source": []
  }
 ],
 "metadata": {
  "kernelspec": {
   "display_name": "Python [conda env:base] *",
   "language": "python",
   "name": "conda-base-py"
  },
  "language_info": {
   "codemirror_mode": {
    "name": "ipython",
    "version": 3
   },
   "file_extension": ".py",
   "mimetype": "text/x-python",
   "name": "python",
   "nbconvert_exporter": "python",
   "pygments_lexer": "ipython3",
   "version": "3.12.7"
  }
 },
 "nbformat": 4,
 "nbformat_minor": 5
}
