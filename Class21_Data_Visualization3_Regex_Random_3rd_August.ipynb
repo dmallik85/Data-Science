{
 "cells": [
  {
   "cell_type": "markdown",
   "id": "3f53e14f-48a1-457d-ab75-f0c326accfde",
   "metadata": {},
   "source": [
    "# Data Visualization (continued)"
   ]
  },
  {
   "cell_type": "code",
   "execution_count": 9,
   "id": "bd5b6400-7047-46ea-a250-98e3941fa427",
   "metadata": {},
   "outputs": [
    {
     "data": {
      "text/html": [
       "<div>\n",
       "<style scoped>\n",
       "    .dataframe tbody tr th:only-of-type {\n",
       "        vertical-align: middle;\n",
       "    }\n",
       "\n",
       "    .dataframe tbody tr th {\n",
       "        vertical-align: top;\n",
       "    }\n",
       "\n",
       "    .dataframe thead th {\n",
       "        text-align: right;\n",
       "    }\n",
       "</style>\n",
       "<table border=\"1\" class=\"dataframe\">\n",
       "  <thead>\n",
       "    <tr style=\"text-align: right;\">\n",
       "      <th></th>\n",
       "      <th>X</th>\n",
       "      <th>Y</th>\n",
       "      <th>Category</th>\n",
       "    </tr>\n",
       "  </thead>\n",
       "  <tbody>\n",
       "    <tr>\n",
       "      <th>0</th>\n",
       "      <td>57.450712</td>\n",
       "      <td>43.297005</td>\n",
       "      <td>2</td>\n",
       "    </tr>\n",
       "    <tr>\n",
       "      <th>1</th>\n",
       "      <td>47.926035</td>\n",
       "      <td>43.719582</td>\n",
       "      <td>2</td>\n",
       "    </tr>\n",
       "    <tr>\n",
       "      <th>2</th>\n",
       "      <td>59.715328</td>\n",
       "      <td>56.288183</td>\n",
       "      <td>1</td>\n",
       "    </tr>\n",
       "    <tr>\n",
       "      <th>3</th>\n",
       "      <td>72.845448</td>\n",
       "      <td>64.822675</td>\n",
       "      <td>1</td>\n",
       "    </tr>\n",
       "    <tr>\n",
       "      <th>4</th>\n",
       "      <td>46.487699</td>\n",
       "      <td>44.874842</td>\n",
       "      <td>1</td>\n",
       "    </tr>\n",
       "    <tr>\n",
       "      <th>...</th>\n",
       "      <td>...</td>\n",
       "      <td>...</td>\n",
       "      <td>...</td>\n",
       "    </tr>\n",
       "    <tr>\n",
       "      <th>95</th>\n",
       "      <td>28.047276</td>\n",
       "      <td>31.900450</td>\n",
       "      <td>3</td>\n",
       "    </tr>\n",
       "    <tr>\n",
       "      <th>96</th>\n",
       "      <td>54.441804</td>\n",
       "      <td>45.603230</td>\n",
       "      <td>3</td>\n",
       "    </tr>\n",
       "    <tr>\n",
       "      <th>97</th>\n",
       "      <td>53.915829</td>\n",
       "      <td>55.453080</td>\n",
       "      <td>2</td>\n",
       "    </tr>\n",
       "    <tr>\n",
       "      <th>98</th>\n",
       "      <td>50.076702</td>\n",
       "      <td>50.658789</td>\n",
       "      <td>3</td>\n",
       "    </tr>\n",
       "    <tr>\n",
       "      <th>99</th>\n",
       "      <td>46.481193</td>\n",
       "      <td>35.051490</td>\n",
       "      <td>1</td>\n",
       "    </tr>\n",
       "  </tbody>\n",
       "</table>\n",
       "<p>100 rows × 3 columns</p>\n",
       "</div>"
      ],
      "text/plain": [
       "            X          Y  Category\n",
       "0   57.450712  43.297005         2\n",
       "1   47.926035  43.719582         2\n",
       "2   59.715328  56.288183         1\n",
       "3   72.845448  64.822675         1\n",
       "4   46.487699  44.874842         1\n",
       "..        ...        ...       ...\n",
       "95  28.047276  31.900450         3\n",
       "96  54.441804  45.603230         3\n",
       "97  53.915829  55.453080         2\n",
       "98  50.076702  50.658789         3\n",
       "99  46.481193  35.051490         1\n",
       "\n",
       "[100 rows x 3 columns]"
      ]
     },
     "execution_count": 9,
     "metadata": {},
     "output_type": "execute_result"
    }
   ],
   "source": [
    "# Generate random data\n",
    "import pandas as pd\n",
    "np.random.seed(42)\n",
    "x = np.random.normal(loc=50, scale=15, size=100)\n",
    "y = x + np.random.normal(loc=0, scale=10, size=100)\n",
    "z = np.random.randint(1, 4, size=100)  # for categories\n",
    "\n",
    "# Create DataFrame\n",
    "df = pd.DataFrame({'X': x, 'Y': y, 'Category': z})\n",
    "df"
   ]
  },
  {
   "cell_type": "code",
   "execution_count": 11,
   "id": "4db7d194-10e0-4c81-947e-035368dbd23b",
   "metadata": {},
   "outputs": [
    {
     "name": "stderr",
     "output_type": "stream",
     "text": [
      "C:\\Users\\DEBU\\AppData\\Local\\Temp\\ipykernel_2244\\398191518.py:7: FutureWarning: \n",
      "\n",
      "`shade` is now deprecated in favor of `fill`; setting `fill=True`.\n",
      "This will become an error in seaborn v0.14.0; please update your code.\n",
      "\n",
      "  sns.kdeplot(df['X'], shade=True, label='Density of X')\n",
      "C:\\Users\\DEBU\\AppData\\Local\\Temp\\ipykernel_2244\\398191518.py:8: FutureWarning: \n",
      "\n",
      "`shade` is now deprecated in favor of `fill`; setting `fill=True`.\n",
      "This will become an error in seaborn v0.14.0; please update your code.\n",
      "\n",
      "  sns.kdeplot(df['Y'], shade=True, label='Density of Y')\n"
     ]
    },
    {
     "data": {
      "image/png": "[encoded data removed]",
      "text/plain": [
       "<Figure size 800x500 with 1 Axes>"
      ]
     },
     "metadata": {},
     "output_type": "display_data"
    }
   ],
   "source": [
    "# Density Plot (KDE)\n",
    "\n",
    "import numpy as np\n",
    "import seaborn as sns\n",
    "import matplotlib.pyplot as plt\n",
    "plt.figure(figsize=(8, 5))\n",
    "sns.kdeplot(df['X'], shade=True, label='Density of X')\n",
    "sns.kdeplot(df['Y'], shade=True, label='Density of Y')\n",
    "plt.title('Density Plot')\n",
    "plt.legend()\n",
    "plt.show()"
   ]
  },
  {
   "cell_type": "code",
   "execution_count": 13,
   "id": "b153d41f-9a8e-4eda-98b8-5a7bea03f40c",
   "metadata": {},
   "outputs": [
    {
     "data": {
      "image/png": "[encoded data removed]",
      "text/plain": [
       "<Figure size 800x500 with 1 Axes>"
      ]
     },
     "metadata": {},
     "output_type": "display_data"
    }
   ],
   "source": [
    "# How to avoid above warning message?\n",
    "\n",
    "import warnings\n",
    "warnings.filterwarnings(\"ignore\")\n",
    "\n",
    "plt.figure(figsize=(8, 5))\n",
    "sns.kdeplot(df['X'], shade=True, label='Density of X')\n",
    "sns.kdeplot(df['Y'], shade=True, label='Density of Y')\n",
    "plt.title('Density Plot')\n",
    "plt.legend()\n",
    "plt.show()"
   ]
  },
  {
   "cell_type": "code",
   "execution_count": 21,
   "id": "386223a1-7ce4-49a8-b12b-9411d6fffc76",
   "metadata": {},
   "outputs": [
    {
     "data": {
      "image/png": "[encoded data removed]",
      "text/plain": [
       "<Figure size 600x400 with 2 Axes>"
      ]
     },
     "metadata": {},
     "output_type": "display_data"
    }
   ],
   "source": [
    "# Correlation Heatmap\n",
    "plt.figure(figsize=(6, 4))\n",
    "sns.heatmap(df.corr(), annot=False, cmap='coolwarm')  # It doesn't display values in the plot\n",
    "plt.title('Correlation Heatmap')\n",
    "plt.show()"
   ]
  },
  {
   "cell_type": "code",
   "execution_count": 23,
   "id": "de3fcff0-cbd1-454c-bb58-db0443712960",
   "metadata": {},
   "outputs": [
    {
     "data": {
      "image/png": "[encoded data removed]",
      "text/plain": [
       "<Figure size 600x400 with 2 Axes>"
      ]
     },
     "metadata": {},
     "output_type": "display_data"
    }
   ],
   "source": [
    "plt.figure(figsize=(6, 4))\n",
    "sns.heatmap(df.corr(), annot=True, cmap='coolwarm')  # It displays values in the plot\n",
    "plt.title('Correlation Heatmap')\n",
    "plt.show()"
   ]
  },
  {
   "cell_type": "markdown",
   "id": "c009df8a-8db6-404e-88d5-a42089de64cf",
   "metadata": {},
   "source": [
    "# Regular Expression"
   ]
  },
  {
   "cell_type": "markdown",
   "id": "55aa9107-dc41-45a0-b04e-461e2df605ac",
   "metadata": {},
   "source": [
    "### Regex (Regular Expression)\n",
    "\n",
    "**Regex** (short for *Regular Expression*) is a tool used to **find**, **match**, or **replace** patterns in a text.\n",
    "\n",
    "It works like a search filter. Instead of searching for just one word, it lets you search for:\n",
    "\n",
    "- **Numbers**\n",
    "- **Characters**\n",
    "- **Special symbols**\n",
    "- Any **specific pattern** (like email, phone number, IP address, etc.)\n",
    "\n",
    "---\n",
    "\n",
    "### Think of Regex Like:\n",
    "\n",
    "> A **smart search engine** that understands **rules**, not just words.\n",
    "\n",
    "#### Usage of Regex:\n",
    "\n",
    "- NLP (Natural Language Processing)\n",
    "- Web Scrapping"
   ]
  },
  {
   "cell_type": "markdown",
   "id": "c02e9fde-86bf-4ee6-ae83-106b0b1d3033",
   "metadata": {},
   "source": [
    "### Regex methods\n",
    "\n",
    "| **Regex**  | **Meaning**                          | **Matches Example**                       | **Real-Life Use**                        |\n",
    "|------------|--------------------------------------|-------------------------------------------|------------------------------------------|\n",
    "| `.`        | Any character (except newline)       | `a`, `1`, `@`, etc.                        | Any single character                      |\n",
    "| `\\d`       | Digit (0-9)                          | `1`, `9`, `0`                              | Phone numbers, IDs                        |\n",
    "| `\\D`       | Non-digit                            | `a`, `#`, space                            | Find where number is **not** present      |\n",
    "| `\\w`       | Word character (a-z, A-Z, 0-9, `_`)  | `a`, `B`, `3`, `_`                         | Usernames, variable names                 |\n",
    "| `\\W`       | Non-word character                   | `@`, `#`, `-`                              | Special characters only                   |\n",
    "| `\\s`       | Whitespace (space, tab, newline)     | `' '`, `\\n`, `\\t`                          | Detect gaps or indents                    |\n",
    "| `\\S`       | Non-whitespace                       | `a`, `3`, `@`                              | Compact text                              |\n",
    "| `^`        | Start of string                      | `^Hello` → matches `Hello World`          | Check if string starts with something     |\n",
    "| `$`        | End of string                        | `end$` → matches `The end`                | Check if string ends with something       |\n",
    "| `*`        | 0 or more times                      | `a*` → `\"\"`, `a`, `aa`, `aaaa`            | Optional repetitions                      |\n",
    "| `+`        | 1 or more times                      | `a+` → `a`, `aa` (not `\"\"`)               | At least one required                     |\n",
    "| `?`        | 0 or 1 time (optional)               | `a?` → `\"\"` or `a`                        | Optional characters                       |\n",
    "| `{n}`      | Exactly `n` times                    | `a{3}` → `aaa`                             | Fixed length                              |\n",
    "| `{n,}`     | At least `n` times                   | `a{2,}` → `aa`, `aaa`, `aaaa...`          | Min repeat constraint                     |\n",
    "| `{n,m}`    | Between `n` and `m` times            | `a{2,4}` → `aa`, `aaa`, `aaaa`            | Range of repeat count                     |\n",
    "| `[abc]`    | One of a, b, or c                    | `a` or `b` or `c`                          | Specific character set                    |\n",
    "| `[^abc]`   | Any char **except** a, b, or c       | `x`, `y`, etc.                             | Exclude specific characters               |\n",
    "| `[a-z]`    | Any lowercase letter                 | `a`, `b`, ..., `z`                         | Alphabet detection                        |\n",
    "| `[A-Z]`    | Any uppercase letter                 | `A`, `B`, ..., `Z`                         | Capital letter check                      |\n",
    "| `[0-9]`    | Any digit                            | `0` to `9`                                 | Numeric only                              |\n",
    "| `\\|`       | OR operator                          | `cat\\|dog` matches either `cat` or `dog`  | Choice-based matching                     |\n",
    "| `( )`      | Grouping                             | `(ab)+` → `ab`, `abab`                     | Repeat groups                             |\n",
    "| `\\b`       | Word boundary                        | `\\bis\\b` → matches `is` only               | Exact word match                          |\n",
    "| `\\B`       | Not a word boundary                  | `\\Bis` → matches `this`, `his`, etc.      | Match part of word only                   |\n"
   ]
  },
  {
   "cell_type": "markdown",
   "id": "9755acf9-f7e2-455f-a975-6d60a4dde3a9",
   "metadata": {},
   "source": [
    "##  What is \"Non-Overlapping\" in Regex?\n",
    "\n",
    "When we use functions like `re.findall()` or `re.finditer()`, they return **non-overlapping** matches.\n",
    "\n",
    "###  Meaning:\n",
    "Once a part of the string is matched, the regex engine **does not re-use** those characters for another match.\n",
    "\n",
    "---\n",
    "\n",
    "###  Example:\n",
    "\n",
    "Text: `\"aaaaa\"`  \n",
    "Pattern: `\"aa\"`\n",
    "\n",
    "Using: `re.findall(\"aa\", \"aaaaa\")`\n",
    "\n",
    "###  Matches (non-overlapping):\n",
    "- First match: `\"aa\"` → uses positions 0 and 1\n",
    "- Second match: `\"aa\"` → uses positions 2 and 3\n",
    "- Remaining `\"a\"` at position 4 is ignored (no overlap)\n",
    "\n",
    " Output: `['aa', 'aa']`\n",
    "\n",
    "---\n",
    "\n",
    "###  Overlapping (NOT done by re.findall):\n",
    "If overlapping were allowed:\n",
    "- First match: `\"aa\"` at position 0-1\n",
    "- Second match: `\"aa\"` at position 1-2\n",
    "- Third match: `\"aa\"` at position 2-3\n",
    "- ...\n",
    "\n",
    "But Python's `re.findall()` does **not** do this by default.\n",
    "\n",
    "---\n",
    "\n",
    "###  Summary:\n",
    "- **Non-overlapping** means: Once characters are used in a match, they won't be reused for the next.\n",
    "- `re.findall()` and `re.finditer()` follow this behavior.\n",
    "- For overlapping matches, you'd need a custom approach (e.g., lookahead).\n",
    "\n",
    "---\n"
   ]
  },
  {
   "cell_type": "code",
   "execution_count": 36,
   "id": "f2ed7a5c-3ffe-449d-b2fa-2444b071c432",
   "metadata": {},
   "outputs": [
    {
     "name": "stdout",
     "output_type": "stream",
     "text": [
      "Requirement already satisfied: regex in c:\\users\\debu\\anaconda3\\lib\\site-packages (2024.9.11)\n"
     ]
    }
   ],
   "source": [
    "### How to install Regex?\n",
    "!pip install regex"
   ]
  },
  {
   "cell_type": "code",
   "execution_count": 38,
   "id": "7d5cad1d-b4a9-4b2a-966d-fe74a9afc39c",
   "metadata": {},
   "outputs": [],
   "source": [
    "import regex as re"
   ]
  },
  {
   "cell_type": "markdown",
   "id": "994665ad-f655-4435-8d6a-d6062d3cf2d9",
   "metadata": {},
   "source": [
    "##  1. re.match()\n",
    "\n",
    "**Definition**:  \n",
    "`re.match()` tries to match a pattern **only at the beginning** of the string.\n",
    "\n",
    "**Example**:  \n",
    "Pattern: `\"Hello\"`  \n",
    "Text: `\"Hello world\"`  \n",
    " Match hota hai\n",
    "\n",
    "Pattern: `\"world\"`  \n",
    "Text: `\"Hello world\"`  \n",
    " Match nahi hota (kyunki \"world\" start me nahi hai)"
   ]
  },
  {
   "cell_type": "code",
   "execution_count": 43,
   "id": "810fb94a-a5ce-4f35-a54a-801d71487577",
   "metadata": {},
   "outputs": [
    {
     "name": "stdout",
     "output_type": "stream",
     "text": [
      "re.match() > hello\n"
     ]
    }
   ],
   "source": [
    "# re.match()\n",
    "text=\"hello world\"\n",
    "match=re.match(\"hello\",text)  # match() searches for first word.\n",
    "\n",
    "if match:\n",
    "    print(\"re.match() >\",match.group())\n",
    "else:\n",
    "    print(\"re.match() > No match\")"
   ]
  },
  {
   "cell_type": "code",
   "execution_count": 45,
   "id": "5ae3c318-be3c-431d-b7d6-cd30261692d4",
   "metadata": {},
   "outputs": [
    {
     "name": "stdout",
     "output_type": "stream",
     "text": [
      "re.match() > No match\n"
     ]
    }
   ],
   "source": [
    "text=\"hello world\"\n",
    "match=re.match(\"world\",text)  # It displays 'no match' as \"world\" is not the first word.\n",
    "\n",
    "if match:\n",
    "    print(\"re.match() >\",match.group())\n",
    "else:\n",
    "    print(\"re.match() > No match\")"
   ]
  },
  {
   "cell_type": "markdown",
   "id": "3235bcc0-afa5-4357-8534-497cf4d07669",
   "metadata": {},
   "source": [
    "---\n",
    "\n",
    "##  2. re.search()\n",
    "\n",
    "**Definition**:  \n",
    "`re.search()` scans the entire string and returns the **first occurrence** of the pattern.\n",
    "\n",
    "**Example**:  \n",
    "Pattern: `\"love\"`  \n",
    "Text: `\"I love Python\"`  \n",
    " Match hota hai (beech me mil gaya)\n"
   ]
  },
  {
   "cell_type": "code",
   "execution_count": 48,
   "id": "fe9cdce4-ef4e-44f9-8212-45d940f2e423",
   "metadata": {},
   "outputs": [
    {
     "name": "stdout",
     "output_type": "stream",
     "text": [
      "re.search() > love\n"
     ]
    }
   ],
   "source": [
    "text=\"I love python\"\n",
    "match=re.search(\"love\",text)    # .search() looks for specified word for the first occurence and display it, it doesn't check after finding it first time.\n",
    "\n",
    "if match:\n",
    "    print(\"re.search() >\",match.group())\n",
    "else:\n",
    "    print(\"No match\")"
   ]
  },
  {
   "cell_type": "code",
   "execution_count": 56,
   "id": "0effbc49-08cc-44b1-b142-ab8d4a6e3300",
   "metadata": {},
   "outputs": [
    {
     "name": "stdout",
     "output_type": "stream",
     "text": [
      "No match\n"
     ]
    }
   ],
   "source": [
    "text=\"I like python, I also like Java\"\n",
    "match=re.search(\"love\",text)    # .search() looks for specified word for the first occurence and display it, it doesn't check after finding it first time.\n",
    "\n",
    "if match:\n",
    "    print(\"re.search() >\",match.group())\n",
    "else:\n",
    "    print(\"No match\")"
   ]
  },
  {
   "cell_type": "markdown",
   "id": "02f74457-3caa-4d1e-a5c3-f34e6b8c5225",
   "metadata": {},
   "source": [
    "##  3. re.findall()\n",
    "\n",
    "**Definition**:  \n",
    "`re.findall()` returns **all non-overlapping matches** of the pattern as a list of strings.\n",
    "\n",
    "**Example**:  \n",
    "Pattern: `\\d+`  \n",
    "Text: `\"There are 2 cats, 3 dogs, and 5 birds\"`  \n",
    " Output: `['2', '3', '5']`\n"
   ]
  },
  {
   "cell_type": "code",
   "execution_count": 61,
   "id": "bdfc4b71-46f2-4101-a020-e7edb99ad2e3",
   "metadata": {},
   "outputs": [
    {
     "name": "stdout",
     "output_type": "stream",
     "text": [
      "re.findall() → ['cat', 'bat', 'rat', 'mat']\n"
     ]
    }
   ],
   "source": [
    "text=\"cat bat rat mat love\"\n",
    "matches=re.findall(r\"\\b\\w{3}\\b\",text)\n",
    "# \\b <condition> \\b > to determine the start and end\n",
    "# \\w > word character (a-z, A-Z, 0-9, _)\n",
    "# {3} > word with 3 letters it considers\n",
    "print(\"re.findall() →\", matches)  # Output: ['cat', 'bat', 'rat', 'mat']"
   ]
  },
  {
   "cell_type": "code",
   "execution_count": 68,
   "id": "3d3583f6-a588-48b9-bb85-88a1970c593b",
   "metadata": {},
   "outputs": [
    {
     "name": "stdout",
     "output_type": "stream",
     "text": [
      "re.findall() → ['love']\n"
     ]
    }
   ],
   "source": [
    "text=\"cat bat rat mat love\"\n",
    "matches=re.findall(r\"\\b\\w{4}\\b\",text)\n",
    "# \\b <condition> \\b > word boundary to determine the start and end\n",
    "# \\w > word character (a-z, A-Z, 0-9, _)\n",
    "# {4} > word with 4 letters it considers\n",
    "print(\"re.findall() →\", matches)  # Output: ['love']"
   ]
  },
  {
   "cell_type": "markdown",
   "id": "9fd5bc46-338a-4b1e-b17b-5464dc11b7af",
   "metadata": {},
   "source": [
    " \n",
    "##  4. re.sub() Substitute (Replace Text Using Regex)\n",
    "\n",
    "**Definition**:  \n",
    "`re.sub()` is used to **replace** occurrences of a pattern with a replacement string.\n",
    "\n",
    "**Example**:  \n",
    "Pattern: `\"bad\"`  \n",
    "Replacement: `\"good\"`  \n",
    "Text: `\"Today is bad\"`  \n",
    " Output: `\"Today is good\"`\n"
   ]
  },
  {
   "cell_type": "code",
   "execution_count": 70,
   "id": "6659b95f-9b9e-4988-b9fd-f53067568f5e",
   "metadata": {},
   "outputs": [
    {
     "name": "stdout",
     "output_type": "stream",
     "text": [
      "re.sub() > Today is good, very good!\n"
     ]
    }
   ],
   "source": [
    "text = \"Today is bad, very bad!\"\n",
    "replaced = re.sub(\"bad\", \"good\", text)\n",
    "print(\"re.sub() >\", replaced)  # Output: Today is good, very good!"
   ]
  },
  {
   "cell_type": "markdown",
   "id": "758b9606-5933-4a59-8300-e92aafbc793a",
   "metadata": {},
   "source": [
    " \n",
    "##  5. re.fullmatch()\n",
    "\n",
    "**Definition**:  \n",
    "`re.fullmatch()` retuns a match **only if the whole string matches** the pattern exactly.\n",
    "\n",
    "**Example**:  \n",
    "Pattern: `\"[a-z0-9]+\"`  \n",
    "Text: `\"abc123\"`  \n"
   ]
  },
  {
   "cell_type": "code",
   "execution_count": 73,
   "id": "0773d0ec-5f6f-4551-9501-fdcb76583e61",
   "metadata": {},
   "outputs": [],
   "source": [
    "# We will dig down fullmatch() in NLP"
   ]
  },
  {
   "cell_type": "code",
   "execution_count": 75,
   "id": "e02c5300-2239-473d-947e-675ce5b84e84",
   "metadata": {},
   "outputs": [
    {
     "name": "stdout",
     "output_type": "stream",
     "text": [
      "['in', 'in', 'in', 'in', 'in', 'in', 'in']\n"
     ]
    }
   ],
   "source": [
    "# Some examples of Regex\n",
    "\n",
    "text = \"The rain in Spain stays mainly in the plain and it rain heavily\"\n",
    "match = re.findall(\"in\", text)\n",
    "print(match)  # Output: rain"
   ]
  },
  {
   "cell_type": "markdown",
   "id": "52e543c3-886f-4776-a152-a7de797414bb",
   "metadata": {},
   "source": [
    "# 🔹 2. Metacharacters\n",
    "These are special characters in regex: . ^ $ * + ? {} [] \\ | ()"
   ]
  },
  {
   "cell_type": "code",
   "execution_count": 79,
   "id": "102dc468-97b0-419b-8982-ebbc63eec4d2",
   "metadata": {},
   "outputs": [
    {
     "name": "stdout",
     "output_type": "stream",
     "text": [
      "['run', 'ran', 'ren', 'ron']\n"
     ]
    }
   ],
   "source": [
    "text = \"run ran ren ron roont\"\n",
    "pattern = \"r.n\"   #Dot (.) – Any single character (except newline)\n",
    "print(re.findall(pattern, text ))  # ['run', 'ran', 'ren', 'ron']"
   ]
  },
  {
   "cell_type": "markdown",
   "id": "bae5aa5f-f8c7-4d6f-8945-75dc68e74ceb",
   "metadata": {},
   "source": [
    "#  Code Explanation Table\n",
    "\n",
    "|  Line of Code                |  Kya Karta Hai (Hinglish Explanation)                                                                  |\n",
    "|-------------------------------|----------------------------------------------------------------------------------------------------------|\n",
    "| `import re`                   | Importing **regex (regular expression)** module                                        |\n",
    "| `text = \"run ran ren ron ront\"` | A string from which pattern will be matched                                   |\n",
    "| `pattern = \"r.n\"`             | regex pattern where word starts with 'r' and after that any letter and then ends with 'n' |\n",
    "| `re.findall(pattern, text)`   | The words starts with 'r' and ends with 'n' where there is only letter in between them like ran, ron etc...|\n",
    "| `print(...)`                  | Print the matched word |\n"
   ]
  },
  {
   "cell_type": "markdown",
   "id": "be27a19f-c1f4-47e7-b807-e49f5860e1e6",
   "metadata": {},
   "source": [
    " # Caret (^) and Dollar ($) - Start and end of string"
   ]
  },
  {
   "cell_type": "code",
   "execution_count": 90,
   "id": "f0cef81b-cc80-4ecf-a79c-b911e89ce7c7",
   "metadata": {},
   "outputs": [
    {
     "name": "stdout",
     "output_type": "stream",
     "text": [
      "<regex.Match object; span=(0, 2), match='my'>\n",
      "['digicrome']\n"
     ]
    }
   ],
   "source": [
    "print(re.match(\"my\", \"my name is divya solanki and i teach in digicrome\"))  # Matching 'my' and it displays index number like span=(0,2)\n",
    "print(re.findall(\"digicrome$\", \"my name is divya solanki and i teach in digicrome\"))  # Is 'digicrome' last word, it is defined by using $."
   ]
  },
  {
   "cell_type": "code",
   "execution_count": 94,
   "id": "d4ae6b1b-e8b4-41d0-9006-e5d627905e22",
   "metadata": {},
   "outputs": [
    {
     "name": "stdout",
     "output_type": "stream",
     "text": [
      "[]\n"
     ]
    }
   ],
   "source": [
    "print(re.findall(\"digicrome$\", \"my name is divya solanki and i teach in digicrome some\"))  # Here 'digicrom' is not the last word and hence no output"
   ]
  },
  {
   "cell_type": "code",
   "execution_count": 96,
   "id": "19e2dc3d-88f6-4e3b-9917-ed3190cabd32",
   "metadata": {},
   "outputs": [
    {
     "name": "stdout",
     "output_type": "stream",
     "text": [
      "['The']\n",
      "['rises']\n"
     ]
    }
   ],
   "source": [
    "### Caret (^)\n",
    "\n",
    "# Is 'The' first word? It is defined by ^\n",
    "# Is 'rises' last word? It is defined by $\n",
    "print(re.findall(\"^The\", \"The sun rises\"))  # ['The']\n",
    "print(re.findall(\"rises$\", \"The sun rises\"))  # ['rises']"
   ]
  },
  {
   "cell_type": "code",
   "execution_count": 100,
   "id": "7b172192-bcfc-484b-ac34-3cb327e10601",
   "metadata": {},
   "outputs": [
    {
     "name": "stdout",
     "output_type": "stream",
     "text": [
      "[]\n",
      "[]\n"
     ]
    }
   ],
   "source": [
    "# In the below example first and last words are not matching. See the output\n",
    "print(re.findall(\"^The\", \"abc The sun rises\"))  # ['The']\n",
    "print(re.findall(\"rises$\", \"The sun rises abcd\"))  # ['rises']"
   ]
  },
  {
   "cell_type": "markdown",
   "id": "d7f51c60-8d46-430f-8f0b-ddbac3bb0ee8",
   "metadata": {},
   "source": [
    "# Star (*) – 0 or more occurrences"
   ]
  },
  {
   "cell_type": "code",
   "execution_count": 105,
   "id": "24327a92-4550-4e96-9e56-b27a163073a0",
   "metadata": {},
   "outputs": [
    {
     "name": "stdout",
     "output_type": "stream",
     "text": [
      "['gd', 'god', 'goood', 'goooood']\n"
     ]
    }
   ],
   "source": [
    "# Star (8) - it find any condition 0 or more times\n",
    "# a* means: \"\" (not present at all), a (1 time), aa (3 times), aaa... (multiple times)\n",
    "\n",
    "print(re.findall(\"go*d\", \"gd god goood goooood gaod\"))  # It starts with 'g' and ends with 'd'. It displays words with/without 'o' in between 'g' and 'd'"
   ]
  },
  {
   "cell_type": "markdown",
   "id": "18c34d8d-8d8e-48f9-919a-aa8f21d98043",
   "metadata": {},
   "source": [
    "# Plus (+) – 1 or more occurrences"
   ]
  },
  {
   "cell_type": "code",
   "execution_count": 108,
   "id": "ec10f194-5410-4b1e-8951-96088f28ef4a",
   "metadata": {},
   "outputs": [
    {
     "name": "stdout",
     "output_type": "stream",
     "text": [
      "['god', 'goood', 'goooood']\n"
     ]
    }
   ],
   "source": [
    "print(re.findall(\"go+d\", \"gd god goood goooood gaod\"))  # Word should start with 'g' and at least 'o' is there and ends with 'd'"
   ]
  },
  {
   "cell_type": "markdown",
   "id": "e1e8a2d0-b9bf-4a58-89a7-c9a1b8298ee0",
   "metadata": {},
   "source": [
    "# Question mark (?) – 0 or 1 occurrence (optional)"
   ]
  },
  {
   "cell_type": "code",
   "execution_count": 112,
   "id": "b850938c-6bb5-4c5f-9fe8-5933f2062404",
   "metadata": {},
   "outputs": [
    {
     "name": "stdout",
     "output_type": "stream",
     "text": [
      "['color', 'colour']\n"
     ]
    }
   ],
   "source": [
    "print(re.findall(\"colou?r\", \"color colour coldfghr\"))  # Eithere 'u' or none in place of 'u' and ends with 'r'. See the output"
   ]
  },
  {
   "cell_type": "markdown",
   "id": "878a11ca-2433-44c3-a6de-e24e493f2e27",
   "metadata": {},
   "source": [
    "# Regex Quantifier Example: `{n,m}` – Specific Number of Repetitions"
   ]
  },
  {
   "cell_type": "code",
   "execution_count": 115,
   "id": "830bc306-918f-4d69-b048-0858db87c839",
   "metadata": {},
   "outputs": [
    {
     "name": "stdout",
     "output_type": "stream",
     "text": [
      "['aa', 'aaa', 'aaa', 'aaa', 'aaa', 'aaa']\n"
     ]
    }
   ],
   "source": [
    "print(re.findall(\"a{2,3}\", \"aa aaaa aaaa aaaaaaaaaa \")) # a{2,3} means: words starts with 'a' twice or thrice. It splits a words like 'aaaaaaaaa' into 3 x 'aaa'"
   ]
  },
  {
   "cell_type": "markdown",
   "id": "93639c9c-3bf2-45a5-9934-f0ec651082d0",
   "metadata": {},
   "source": [
    "# Character Sets []\n",
    "\n",
    "[] used for letter matching. If it finds a or e or i or o or u, it keeps on displaying the values."
   ]
  },
  {
   "cell_type": "code",
   "execution_count": 118,
   "id": "f063fcc2-b892-4ad0-ba81-d59987315ed9",
   "metadata": {},
   "outputs": [
    {
     "name": "stdout",
     "output_type": "stream",
     "text": [
      "['i', 'i', 'a', 'a', 'e', 'o', 'e', 'i']\n"
     ]
    }
   ],
   "source": [
    "print(re.findall(\"[aeiou]\", \"i did my maasters from delhi\"))  # ['e', 'o', 'o']"
   ]
  },
  {
   "cell_type": "code",
   "execution_count": 120,
   "id": "cc8ac6b1-7086-459b-9a98-ee5e21b5ebcf",
   "metadata": {},
   "outputs": [
    {
     "name": "stdout",
     "output_type": "stream",
     "text": [
      "['2', '3', '4', '5', '4', '9', '8', '2', '5', '3', '3', '4', '7']\n",
      "['2', '3', '4', '5', '4', '9', '8', '2', '5', '3', '3', '4', '7']\n"
     ]
    }
   ],
   "source": [
    "b=re.findall(\"[0-9]\", \" this is my phone number 2345498253347\")\n",
    "print(re.findall(\"[0-9]\", \" this is my phone number 2345498253347\")) \n",
    "print(b)"
   ]
  },
  {
   "cell_type": "markdown",
   "id": "b3a3de8a-5bec-453d-9cf7-b91783fc35a9",
   "metadata": {},
   "source": [
    "# Negated Sets [^]"
   ]
  },
  {
   "cell_type": "code",
   "execution_count": 124,
   "id": "3f057e69-53f1-4aa7-8331-82686bbab551",
   "metadata": {},
   "outputs": [
    {
     "name": "stdout",
     "output_type": "stream",
     "text": [
      "['m', 'y', ' ', 'n', 'm', ' ', 's', ' ', 'd', 'v', 'y']\n"
     ]
    }
   ],
   "source": [
    "print(re.findall(\"[^aeiou]\", \"my name is divya\"))   # It displays others except [aeiou]"
   ]
  },
  {
   "cell_type": "markdown",
   "id": "f2dee78b-5c32-4a91-abc0-73994295af35",
   "metadata": {},
   "source": [
    "# Alternation |"
   ]
  },
  {
   "cell_type": "code",
   "execution_count": 127,
   "id": "a92779ea-8f29-4099-9d95-481694ee5ba2",
   "metadata": {},
   "outputs": [
    {
     "name": "stdout",
     "output_type": "stream",
     "text": [
      "['cat', 'cat', 'cat', 'cat', 'dog', 'dog']\n"
     ]
    }
   ],
   "source": [
    "print(re.findall(\"cat|dog\", \"I love cat cat cat cat dog and dogs\"))  # Print if cat or dog"
   ]
  },
  {
   "cell_type": "markdown",
   "id": "edfd1b24-cb27-4060-a66c-d8c2ccdf500f",
   "metadata": {},
   "source": [
    "# Grouping ()"
   ]
  },
  {
   "cell_type": "code",
   "execution_count": 130,
   "id": "cebb0c57-a655-44ff-9e5d-49cbd7f7ee80",
   "metadata": {},
   "outputs": [
    {
     "name": "stdout",
     "output_type": "stream",
     "text": [
      "sun\n"
     ]
    }
   ],
   "source": [
    "match = re.search(\"(sun|snow|rain)\", \"There is  today might there will be a  by tomorrow or a chily sun day\")\n",
    "# search() prints only the first occurence\n",
    "print(match.group())"
   ]
  },
  {
   "cell_type": "code",
   "execution_count": 132,
   "id": "cbdd5a2c-5249-4d1c-8589-fea69399d6d5",
   "metadata": {},
   "outputs": [
    {
     "name": "stdout",
     "output_type": "stream",
     "text": [
      "by\n"
     ]
    }
   ],
   "source": [
    "match = re.search(\"(sun|snow|by)\", \"There is  today might there will be a  by tomorrow or a chily sun day\")\n",
    "# search() prints only the first occurence\n",
    "print(match.group())"
   ]
  },
  {
   "cell_type": "code",
   "execution_count": 134,
   "id": "d7ed16e3-45eb-4fd3-9ffa-5a0ac93ba98a",
   "metadata": {},
   "outputs": [
    {
     "name": "stdout",
     "output_type": "stream",
     "text": [
      "is\n"
     ]
    }
   ],
   "source": [
    "match = re.search(\"(sun|is|by)\", \"There is  today might there will be a  by tomorrow or a chily sun day\")\n",
    "# search() prints only the first occurence\n",
    "print(match.group())"
   ]
  },
  {
   "cell_type": "markdown",
   "id": "7304c91d-fab7-4f8c-aa07-039266fe092a",
   "metadata": {},
   "source": [
    "# Escape Sequences (\\)"
   ]
  },
  {
   "cell_type": "code",
   "execution_count": 137,
   "id": "685eb995-512c-47b5-b7a4-bc7a68bbdfe2",
   "metadata": {},
   "outputs": [
    {
     "name": "stdout",
     "output_type": "stream",
     "text": [
      "['$100']\n"
     ]
    }
   ],
   "source": [
    "text = \"Price: $100\"\n",
    "print(re.findall(r\"\\$\\d+\", text))  # From the string \"Price: #100\", \\$\\d+ tells about displaying only $100. \\$ - to start with '$' and \\d+ - any numbers"
   ]
  },
  {
   "cell_type": "markdown",
   "id": "8a2d6b83-b0a3-4f9c-b588-087cadc6e961",
   "metadata": {},
   "source": [
    "##  Regex Character Classes in Action: `\\d+` and `\\w+`"
   ]
  },
  {
   "cell_type": "code",
   "execution_count": 140,
   "id": "ade4fd8a-fdf8-48bd-b509-d573f427e58a",
   "metadata": {},
   "outputs": [
    {
     "name": "stdout",
     "output_type": "stream",
     "text": [
      "['456']\n",
      "['Python_3']\n"
     ]
    }
   ],
   "source": [
    "print(re.findall(r\"\\d+\", \"User ID: 456\"))  \n",
    "# \\d+ - digits one or multiple times present\n",
    "print(re.findall(r\"\\w+\", \"Python_3!\"))   # ! doesn't come under \\w character\n",
    "# \\w+ - any word character (a-z, A-Z, 0-9, _), one or multiple times present"
   ]
  },
  {
   "cell_type": "markdown",
   "id": "260a7b77-9204-4ded-ad34-0b2876a9225d",
   "metadata": {},
   "source": [
    "# Extract All Email Addresses"
   ]
  },
  {
   "cell_type": "code",
   "execution_count": 143,
   "id": "446e63dd-a91d-493a-bdf9-7915cabb4908",
   "metadata": {},
   "outputs": [
    {
     "name": "stdout",
     "output_type": "stream",
     "text": [
      "Emails: ['support@example.com', 'sales@example.org', 'poojakumari@yahoo.co']\n"
     ]
    }
   ],
   "source": [
    "text_1 = \"Contact us at support@example.com or sales@example.org. and poojakumari@yahoo.co\"\n",
    "emails = re.findall(r\"[a-zA-Z0-9._%+-]+@[a-zA-Z0-9.-]+\\.[a-zA-Z]{2,}\", text_1)\n",
    "# [a-zA-Z0-9._%+-] - anything is found within these\n",
    "# +@[a-zA-Z0-9.-] - find @ and any of these after @   # We can also use +@\\w+ as \\w also considers any word character (a-z, A-Z, 0-9, _)\n",
    "print(\"Emails:\", emails)  # ['support@example.com', 'sales@example.org']"
   ]
  },
  {
   "cell_type": "markdown",
   "id": "e939c9bc-5e16-4d84-8a84-a5f5f7110c01",
   "metadata": {},
   "source": [
    "# Random\n",
    "\n",
    "Randomness is used in many areas of programming, from games to simulations to security. In Python, the 'random' module provides tools to generate random numbers, choose random elements, shuffle elements, and more."
   ]
  },
  {
   "cell_type": "markdown",
   "id": "39a68c7c-5416-4137-b6c8-8014e0a385c3",
   "metadata": {},
   "source": [
    "### Example 1: Generating a random integer"
   ]
  },
  {
   "cell_type": "code",
   "execution_count": 155,
   "id": "9d63667b-a3a9-485b-a8d4-5e5015fc2f27",
   "metadata": {},
   "outputs": [
    {
     "name": "stdout",
     "output_type": "stream",
     "text": [
      "Random integer between 1 and 10: 9\n"
     ]
    }
   ],
   "source": [
    "import random\n",
    "from numpy.random import randint as ri\n",
    "random_int = ri(1, 10)   # It generates randomly from 1 to 9\n",
    "print(\"Random integer between 1 and 10:\", random_int)"
   ]
  },
  {
   "cell_type": "code",
   "execution_count": 157,
   "id": "6785f851-b3d7-43f9-babe-bee30f8d4a4f",
   "metadata": {},
   "outputs": [
    {
     "ename": "TypeError",
     "evalue": "Random.randint() takes 3 positional arguments but 4 were given",
     "output_type": "error",
     "traceback": [
      "\u001b[1;31m---------------------------------------------------------------------------\u001b[0m",
      "\u001b[1;31mTypeError\u001b[0m                                 Traceback (most recent call last)",
      "Cell \u001b[1;32mIn[157], line 1\u001b[0m\n\u001b[1;32m----> 1\u001b[0m random\u001b[38;5;241m.\u001b[39mrandint(\u001b[38;5;241m1\u001b[39m,\u001b[38;5;241m10\u001b[39m,\u001b[38;5;241m100\u001b[39m)\n",
      "\u001b[1;31mTypeError\u001b[0m: Random.randint() takes 3 positional arguments but 4 were given"
     ]
    }
   ],
   "source": [
    "random.randint(1,10,100)   # It is random method"
   ]
  },
  {
   "cell_type": "code",
   "execution_count": 159,
   "id": "970f73da-031e-48ae-9943-19423ac344d2",
   "metadata": {},
   "outputs": [
    {
     "data": {
      "text/plain": [
       "array([5, 1, 4, 5, 5, 7, 4, 1, 5, 7, 6, 5, 4, 2, 4, 3, 1, 8, 5, 4, 8, 7,\n",
       "       2, 1, 4, 8, 2, 3, 1, 1, 3, 5, 3, 1, 1, 8, 2, 3, 2, 3, 7, 1, 8, 2,\n",
       "       3, 9, 7, 4, 5, 2, 8, 4, 9, 5, 9, 4, 5, 9, 8, 3, 1, 3, 4, 2, 1, 7,\n",
       "       8, 7, 5, 1, 7, 7, 9, 3, 9, 1, 1, 4, 9, 6, 3, 1, 4, 9, 3, 9, 7, 4,\n",
       "       3, 5, 5, 3, 9, 4, 5, 4, 5, 7, 9, 7])"
      ]
     },
     "execution_count": 159,
     "metadata": {},
     "output_type": "execute_result"
    }
   ],
   "source": [
    "ri(1,10,100)   # It is a nympy method."
   ]
  },
  {
   "cell_type": "markdown",
   "id": "0a226e68-da55-4f35-b670-698eeec15c4f",
   "metadata": {},
   "source": [
    "### Example 2: Generating a random float"
   ]
  },
  {
   "cell_type": "code",
   "execution_count": 162,
   "id": "eacc5c6b-4716-4e0d-a585-d8d5384a6756",
   "metadata": {},
   "outputs": [
    {
     "name": "stdout",
     "output_type": "stream",
     "text": [
      "Random float between 0 and 1: 0.30866786434010585\n"
     ]
    }
   ],
   "source": [
    "random_float = random.random()   # It always lies between 0 to 1 only\n",
    "print(\"Random float between 0 and 1:\", random_float)"
   ]
  },
  {
   "cell_type": "markdown",
   "id": "872a9323-158c-4188-bdd7-41e67b028c74",
   "metadata": {},
   "source": [
    "### Example 3: Selecting a random element from a list"
   ]
  },
  {
   "cell_type": "code",
   "execution_count": 165,
   "id": "ab07b897-0861-41ef-a450-e795127f59da",
   "metadata": {},
   "outputs": [
    {
     "name": "stdout",
     "output_type": "stream",
     "text": [
      "Random element from list: 6\n"
     ]
    }
   ],
   "source": [
    "# This can be used to play LUDO :)\n",
    "sample_list = [1, 2, 3, 4, 5,6]\n",
    "random_element = random.choice(sample_list)\n",
    "print(\"Random element from list:\", random_element)"
   ]
  },
  {
   "cell_type": "code",
   "execution_count": 167,
   "id": "dc63402f-cd2a-437e-81ea-a7a71856d31e",
   "metadata": {},
   "outputs": [
    {
     "name": "stdout",
     "output_type": "stream",
     "text": [
      "Pseudo-random number (seeded): 74\n"
     ]
    }
   ],
   "source": [
    "random.seed(10)  # Setting seed for reproducibility\n",
    "pseudo_random = random.randint(1, 100)\n",
    "print(\"Pseudo-random number (seeded):\", pseudo_random)"
   ]
  },
  {
   "cell_type": "code",
   "execution_count": 169,
   "id": "74b4980c-4371-4b65-833d-f4d5cb1e6755",
   "metadata": {},
   "outputs": [
    {
     "name": "stdout",
     "output_type": "stream",
     "text": [
      "Pseudo-random number (seeded): 74\n"
     ]
    }
   ],
   "source": [
    "# seed(10) reserves a number with given range. If we run multiple times, it outputs the same all the time\n",
    "random.seed(10)  # Setting seed for reproducibility\n",
    "pseudo_random = random.randint(1, 100)\n",
    "print(\"Pseudo-random number (seeded):\", pseudo_random)"
   ]
  },
  {
   "cell_type": "markdown",
   "id": "e70a26cd-8ad6-4936-a136-311ac1791a3a",
   "metadata": {},
   "source": [
    "### Example 1: Shuffling a list"
   ]
  },
  {
   "cell_type": "code",
   "execution_count": 172,
   "id": "ecfbf819-562b-4bc4-9b3e-1599c733926c",
   "metadata": {},
   "outputs": [
    {
     "name": "stdout",
     "output_type": "stream",
     "text": [
      "Shuffled list: [3, 5, 2, 4, 1]\n"
     ]
    }
   ],
   "source": [
    "sample_list = [1, 2, 3, 4, 5]\n",
    "random.shuffle(sample_list)\n",
    "print(\"Shuffled list:\", sample_list)"
   ]
  },
  {
   "cell_type": "markdown",
   "id": "ae0c3e02-09dc-45a3-8cf5-5301a19bac33",
   "metadata": {},
   "source": [
    "### Example 2: Generating a permutation of a list"
   ]
  },
  {
   "cell_type": "code",
   "execution_count": 175,
   "id": "0a869bc5-ed09-4e21-b202-895ed5c50df1",
   "metadata": {},
   "outputs": [
    {
     "name": "stdout",
     "output_type": "stream",
     "text": [
      "Random permutation of array: [2 3 1]\n"
     ]
    }
   ],
   "source": [
    "import numpy as np\n",
    "arr = np.array([1, 2, 3])\n",
    "permutations = np.random.permutation(arr)\n",
    "print(\"Random permutation of array:\", permutations)"
   ]
  },
  {
   "cell_type": "markdown",
   "id": "167d9e6b-4635-423f-b45a-bc677ca683e5",
   "metadata": {},
   "source": [
    "### Example 3: Generating all possible permutations of a list"
   ]
  },
  {
   "cell_type": "code",
   "execution_count": 178,
   "id": "e0d95277-467d-4591-a2a0-1e9f63736b11",
   "metadata": {},
   "outputs": [
    {
     "name": "stdout",
     "output_type": "stream",
     "text": [
      "All possible permutations:\n",
      "(1, 2, 3)\n",
      "(1, 3, 2)\n",
      "(2, 1, 3)\n",
      "(2, 3, 1)\n",
      "(3, 1, 2)\n",
      "(3, 2, 1)\n"
     ]
    }
   ],
   "source": [
    "from itertools import permutations\n",
    "perm = permutations([1, 2, 3])\n",
    "print(\"All possible permutations:\")\n",
    "for p in perm:\n",
    "    print(p)"
   ]
  },
  {
   "cell_type": "markdown",
   "id": "85174dc2-1d59-44de-aca4-007343ee6f19",
   "metadata": {},
   "source": [
    "### Example 1: Generating a Normal distribution"
   ]
  },
  {
   "cell_type": "code",
   "execution_count": 181,
   "id": "bc78e264-e6da-4755-9eb5-54ab116b3f7d",
   "metadata": {},
   "outputs": [
    {
     "name": "stdout",
     "output_type": "stream",
     "text": [
      "Random samples from a normal distribution: [-0.69914658 -0.00881705 -2.09001775  1.77043152 -0.30909251  0.80381305\n",
      "  0.61384134  1.35788079 -0.43330341  0.20382273]\n"
     ]
    }
   ],
   "source": [
    "normal_dist = np.random.normal(loc=0, scale=1, size=10)   # loc=0 means mean. scale=1 means std. dev and size=10 means 10 random numbers\n",
    "print(\"Random samples from a normal distribution:\", normal_dist)"
   ]
  },
  {
   "cell_type": "code",
   "execution_count": null,
   "id": "74441f0c-3f92-4ceb-ad12-7b63222b21bc",
   "metadata": {},
   "outputs": [],
   "source": []
  }
 ],
 "metadata": {
  "kernelspec": {
   "display_name": "Python [conda env:base] *",
   "language": "python",
   "name": "conda-base-py"
  },
  "language_info": {
   "codemirror_mode": {
    "name": "ipython",
    "version": 3
   },
   "file_extension": ".py",
   "mimetype": "text/x-python",
   "name": "python",
   "nbconvert_exporter": "python",
   "pygments_lexer": "ipython3",
   "version": "3.12.7"
  }
 },
 "nbformat": 4,
 "nbformat_minor": 5
}
