{
 "cells": [
  {
   "cell_type": "markdown",
   "id": "5619ae72-5603-4cc5-a706-2532c9acf4f9",
   "metadata": {},
   "source": [
    "# Question 1: Area of a Circle\n",
    "Formula:\n",
    "area=π*r^2\n",
    "\n",
    "(Use π = 3.14159)\n",
    "\n",
    "Input:\n",
    "Radius ( r = 7 )"
   ]
  },
  {
   "cell_type": "code",
   "execution_count": 12,
   "id": "f86588dd-a268-43ba-8fbf-8b900d2a55a5",
   "metadata": {},
   "outputs": [
    {
     "name": "stdin",
     "output_type": "stream",
     "text": [
      "Please input the radius of the circle: 7\n"
     ]
    },
    {
     "name": "stdout",
     "output_type": "stream",
     "text": [
      "The area of the circle would be: 153.86\n"
     ]
    }
   ],
   "source": [
    "radius=int(input(\"Please input the radius of the circle:\"))\n",
    "pie=3.14\n",
    "area=pie*(radius ** 2)\n",
    "print(\"The area of the circle would be:\",area)"
   ]
  },
  {
   "cell_type": "markdown",
   "id": "b84ef0a7-16cc-4ba8-a6e8-69d3fe6d09ac",
   "metadata": {},
   "source": [
    "# Question 2: Area of a Rectangle\n",
    "Formula:\n",
    "area=length*breadth\n",
    "\n",
    "Input:\n",
    "Length = 10\n",
    "Breadth = 5"
   ]
  },
  {
   "cell_type": "code",
   "execution_count": 15,
   "id": "9113dff3-8773-48b3-b5b5-245573f26b10",
   "metadata": {},
   "outputs": [
    {
     "name": "stdin",
     "output_type": "stream",
     "text": [
      "Please enter the length of the rectangle: 10\n",
      "Please enter the breadth of the rectangle: 5\n"
     ]
    },
    {
     "name": "stdout",
     "output_type": "stream",
     "text": [
      "The area of the rectangle is: 50\n"
     ]
    }
   ],
   "source": [
    "length=int(input(\"Please enter the length of the rectangle:\"))\n",
    "breadth=int(input(\"Please enter the breadth of the rectangle:\"))\n",
    "area=length*breadth\n",
    "print(\"The area of the rectangle is:\",area)       "
   ]
  },
  {
   "cell_type": "markdown",
   "id": "b1b9c3d9-3ed9-441c-87ce-e08114e282d4",
   "metadata": {},
   "source": [
    "# Question 3: Simple Interest\n",
    "Formula:\n",
    "SI= (PxRxT)/100 \n",
    "\n",
    "Input:\n",
    "Principal (P) = 2000\n",
    "Rate (R) = 5\n",
    "Time (T) = 2 years"
   ]
  },
  {
   "cell_type": "code",
   "execution_count": 20,
   "id": "dffd85fd-983c-4139-b83a-afe15d300ef3",
   "metadata": {},
   "outputs": [
    {
     "name": "stdin",
     "output_type": "stream",
     "text": [
      "Please enter the principal amount: 2000\n",
      "Please enter the rate of interest: 5.5\n",
      "Please enter the duration in years: 2.5\n"
     ]
    },
    {
     "name": "stdout",
     "output_type": "stream",
     "text": [
      "The simple interest for your inputs will be: 275.0\n"
     ]
    }
   ],
   "source": [
    "principal=float(input(\"Please enter the principal amount:\"))\n",
    "rate=float(input(\"Please enter the rate of interest:\"))\n",
    "time=float(input(\"Please enter the duration in years:\"))\n",
    "si=(principal*rate*time)/100\n",
    "print(\"The simple interest for your inputs will be:\",si)"
   ]
  },
  {
   "cell_type": "markdown",
   "id": "109aa4db-6e25-4872-af67-edeeb1b8ac34",
   "metadata": {},
   "source": [
    "# Question 6: Find Average of 3 Numbers\n",
    "Formula:\n",
    " \n",
    "\n",
    "Input:\n",
    "num1 = 45\n",
    "num2 = 60\n",
    "num3 = 75"
   ]
  },
  {
   "cell_type": "code",
   "execution_count": 25,
   "id": "579fea89-a833-43ec-af55-62864604baa4",
   "metadata": {},
   "outputs": [
    {
     "name": "stdin",
     "output_type": "stream",
     "text": [
      "Please enter the 1st number: 30\n",
      "Please enter the 2nd number: 20\n",
      "Please enter the 3rd number: 50\n"
     ]
    },
    {
     "name": "stdout",
     "output_type": "stream",
     "text": [
      "The average of 3 numbers is: 33\n"
     ]
    }
   ],
   "source": [
    "num1=int(input(\"Please enter the 1st number:\"))\n",
    "num2=int(input(\"Please enter the 2nd number:\"))\n",
    "num3=int(input(\"Please enter the 3rd number:\"))\n",
    "avg=(num1+num2+num3)/3\n",
    "avg=round(avg)\n",
    "print(\"The average of 3 numbers is:\",avg)"
   ]
  },
  {
   "cell_type": "markdown",
   "id": "cc38504c-5500-4f8b-9198-ba59e42d18ae",
   "metadata": {},
   "source": [
    "# Question 7: Convert Minutes to Seconds\n",
    "Formula:\n",
    "Seconds=Minutes*60\n",
    "\n",
    "Input:\n",
    "Minutes = 15"
   ]
  },
  {
   "cell_type": "code",
   "execution_count": 38,
   "id": "f406e204-1697-473a-afb9-c484fb81894d",
   "metadata": {},
   "outputs": [
    {
     "name": "stdin",
     "output_type": "stream",
     "text": [
      "Please enter minutes to convert: 2.5\n"
     ]
    },
    {
     "name": "stdout",
     "output_type": "stream",
     "text": [
      "The value of 2.5 minutes in second is: 150 seconds.\n"
     ]
    }
   ],
   "source": [
    "minutes=float(input(\"Please enter minutes to convert:\"))\n",
    "seconds=minutes*60\n",
    "seconds=round(seconds)\n",
    "print(\"The value of\",minutes,\"minutes in second is:\",seconds,\"seconds.\")"
   ]
  },
  {
   "cell_type": "markdown",
   "id": "b39b6fd3-081d-4495-aaff-be751ba49a63",
   "metadata": {},
   "source": [
    "# Question 8: Calculate Total Marks and Percentage\n",
    "Formula:\n",
    "Total=m1+m2+m3+m4+m5\n",
    "Percentage=(Total/500)*100\n",
    " \n",
    "\n",
    "Input:\n",
    "m1 = 78\n",
    "m2 = 85\n",
    "m3 = 69\n",
    "m4 = 90\n",
    "m5 = 74"
   ]
  },
  {
   "cell_type": "code",
   "execution_count": 41,
   "id": "22c4c592-c689-43e0-ad00-bd5ff2c6ab1f",
   "metadata": {},
   "outputs": [
    {
     "name": "stdin",
     "output_type": "stream",
     "text": [
      "Please enter the value of m1: 78\n",
      "Please enter the value of m2: 85\n",
      "Please enter the value of m3: 69\n",
      "Please enter the value of m4: 90\n",
      "Please enter the value of m5: 74\n"
     ]
    },
    {
     "name": "stdout",
     "output_type": "stream",
     "text": [
      "Total value is: 396\n",
      "percentage of total value is: 79.2 %\n"
     ]
    }
   ],
   "source": [
    "m1=int(input(\"Please enter the value of m1:\"))\n",
    "m2=int(input(\"Please enter the value of m2:\"))\n",
    "m3=int(input(\"Please enter the value of m3:\"))\n",
    "m4=int(input(\"Please enter the value of m4:\"))\n",
    "m5=int(input(\"Please enter the value of m5:\"))\n",
    "total=m1+m2+m3+m4+m5\n",
    "percentage=(total/500)*100\n",
    "print(\"Total value is:\",total)\n",
    "print(\"percentage of total value is:\",percentage,\"%\")"
   ]
  },
  {
   "cell_type": "markdown",
   "id": "1570a8c3-3b11-4434-8b17-8c77f3e0398d",
   "metadata": {},
   "source": [
    "# Question 9: Convert Kilometers to Meters\n",
    "Formula:\n",
    "Meters=Kilometers*1000\n",
    "\n",
    "Input:\n",
    "Kilometers = 6.5"
   ]
  },
  {
   "cell_type": "code",
   "execution_count": 46,
   "id": "bcf9a951-1bae-4306-9ee9-320cab9cbb21",
   "metadata": {},
   "outputs": [
    {
     "name": "stdin",
     "output_type": "stream",
     "text": [
      "Please enter the value in kilometer: 6.5\n"
     ]
    },
    {
     "name": "stdout",
     "output_type": "stream",
     "text": [
      "The value of 6.5 kilometers in meter is: 6500.0\n"
     ]
    }
   ],
   "source": [
    "kilometers=float(input(\"Please enter the value in kilometer:\"))\n",
    "meters=kilometers*1000\n",
    "print(\"The value of\",kilometers,\"kilometers in meter is:\",meters)"
   ]
  },
  {
   "cell_type": "markdown",
   "id": "55fed58a-dbc5-48d9-8a23-b3d43169a4ba",
   "metadata": {},
   "source": [
    "# Question 10: Volume of a Cube\n",
    "Formula:\n",
    "Volume=Side**3\n",
    "\n",
    "Input:\n",
    "Side = 4"
   ]
  },
  {
   "cell_type": "code",
   "execution_count": 51,
   "id": "5f15226e-ffed-4bd7-bce0-d8053869fcad",
   "metadata": {},
   "outputs": [
    {
     "name": "stdin",
     "output_type": "stream",
     "text": [
      "Please enter the value of the side of a cube: 4\n"
     ]
    },
    {
     "name": "stdout",
     "output_type": "stream",
     "text": [
      "The volume of a cube is: 64\n"
     ]
    }
   ],
   "source": [
    "side=int(input(\"Please enter the value of the side of a cube:\"))\n",
    "volume=side**3\n",
    "print(\"The volume of a cube is:\",volume)"
   ]
  },
  {
   "cell_type": "markdown",
   "id": "0b76f329-3eda-46e7-ac61-32408824a057",
   "metadata": {},
   "source": [
    "# Question 11: Calculate Speed\n",
    "Formula:\n",
    "Speed=Distance/Time\n",
    "\n",
    "Input:\n",
    "Distance = 150 km\n",
    "Time = 3 hours"
   ]
  },
  {
   "cell_type": "code",
   "execution_count": 60,
   "id": "3417a4e4-ac9e-4e37-91f2-1f69eca78737",
   "metadata": {},
   "outputs": [
    {
     "name": "stdin",
     "output_type": "stream",
     "text": [
      "Please enter the kilometer you have travelled: 150\n",
      "Please enter the time you have taken to travel in hours: 3\n"
     ]
    },
    {
     "name": "stdout",
     "output_type": "stream",
     "text": [
      "Your speed was: 50 kilometers/hour.\n"
     ]
    }
   ],
   "source": [
    "dist=float(input(\"Please enter the kilometer you have travelled:\"))\n",
    "time=float(input(\"Please enter the time you have taken to travel in hours:\"))\n",
    "speed=dist/time\n",
    "speed=round(speed)\n",
    "print(\"Your speed was:\",speed,\"kilometers/hour.\")"
   ]
  },
  {
   "cell_type": "code",
   "execution_count": null,
   "id": "31296524-ad87-4380-84e0-270304f45d39",
   "metadata": {},
   "outputs": [],
   "source": []
  }
 ],
 "metadata": {
  "kernelspec": {
   "display_name": "Python [conda env:base] *",
   "language": "python",
   "name": "conda-base-py"
  },
  "language_info": {
   "codemirror_mode": {
    "name": "ipython",
    "version": 3
   },
   "file_extension": ".py",
   "mimetype": "text/x-python",
   "name": "python",
   "nbconvert_exporter": "python",
   "pygments_lexer": "ipython3",
   "version": "3.12.7"
  }
 },
 "nbformat": 4,
 "nbformat_minor": 5
}
