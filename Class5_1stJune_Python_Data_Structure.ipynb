{
 "cells": [
  {
   "cell_type": "markdown",
   "id": "65fd5bd5-bd68-4d4b-80c6-841852d4d633",
   "metadata": {},
   "source": [
    "# Tuple - Unpack\n",
    "Unpacking a tuple means assigning it's elements to individual variable."
   ]
  },
  {
   "cell_type": "code",
   "execution_count": 3,
   "id": "52a9b20e-e359-42bc-9310-641867c7c8bc",
   "metadata": {},
   "outputs": [
    {
     "name": "stdout",
     "output_type": "stream",
     "text": [
      "Cricket\n",
      "Football\n",
      "Hockey\n",
      "('Cricket', 'Football', 'Hockey')\n"
     ]
    }
   ],
   "source": [
    "games=(\"Cricket\",\"Football\",\"Hockey\")\n",
    "(first, second, third)=games\n",
    "print(first)\n",
    "print(second)\n",
    "print(third)\n",
    "print(games)"
   ]
  },
  {
   "cell_type": "markdown",
   "id": "25d8393d-634f-4519-a83b-c355473b71e7",
   "metadata": {},
   "source": [
    "### Using asteric to unpack remaining variables.\n",
    "In the below example, first element will be assigned to first variable and rest of the elements will be assigned to a variable 'rest'. \n",
    "\n",
    "NOTE: here asteric is * and when we write anything after * it is called as argument. It could be anything after *temp or *rest etc...\n",
    "### When to use argument?\n",
    "When we do not know how many elements will be stored in the variable temp or rest.\n",
    "\n",
    "Let's see how it works:"
   ]
  },
  {
   "cell_type": "code",
   "execution_count": 5,
   "id": "1fff25e8-ffe5-49f7-b08b-31237e6a8c74",
   "metadata": {},
   "outputs": [
    {
     "name": "stdout",
     "output_type": "stream",
     "text": [
      "Cricket\n",
      "['Football', 'Hockey']\n"
     ]
    }
   ],
   "source": [
    "games=(\"Cricket\",\"Football\",\"Hockey\")\n",
    "(first, *rest)=games\n",
    "print(first)\n",
    "print(rest)"
   ]
  },
  {
   "cell_type": "code",
   "execution_count": 7,
   "id": "6619adab-e51d-489b-9c02-315a72ab618c",
   "metadata": {},
   "outputs": [
    {
     "name": "stdout",
     "output_type": "stream",
     "text": [
      "Cricket\n",
      "Football\n",
      "Hockey\n"
     ]
    }
   ],
   "source": [
    "# Ignoring certian variables during unpacking\n",
    "games=(\"Cricket\",\"Football\",\"Hockey\")\n",
    "(first,_,third)=games   #Generally, _ is not used as variable. The intention is to ignore the value 'Football'.\n",
    "print(first)\n",
    "print(_)\n",
    "print(third)"
   ]
  },
  {
   "cell_type": "markdown",
   "id": "5dd6e971-f38e-43e9-8ea5-523ec0414d7e",
   "metadata": {},
   "source": [
    "### Tuple - Join\n",
    "Joining tuple = joining two or more tuples into a single tuple"
   ]
  },
  {
   "cell_type": "code",
   "execution_count": 14,
   "id": "95367fbc-7e9d-483b-a81a-a0475d2cd4fe",
   "metadata": {},
   "outputs": [
    {
     "name": "stdout",
     "output_type": "stream",
     "text": [
      "('Cricket', 'Football', 'Hockey', 'Banana', 'Cherry', 'Apple')\n"
     ]
    }
   ],
   "source": [
    "#Joining two tuples with '+'\n",
    "tuple1=(\"Cricket\",\"Football\",\"Hockey\")\n",
    "tuple2=(\"Banana\",\"Cherry\",\"Apple\")\n",
    "tup=tuple1+tuple2\n",
    "print(tup)"
   ]
  },
  {
   "cell_type": "code",
   "execution_count": 16,
   "id": "e71dae46-19cb-4a26-b637-35cabec153e8",
   "metadata": {},
   "outputs": [
    {
     "name": "stdout",
     "output_type": "stream",
     "text": [
      "('Cricket', 'Football', 'Hockey', 'Cricket', 'Football', 'Hockey')\n"
     ]
    }
   ],
   "source": [
    "#Multiplying a tuple with a number\n",
    "tuple1=(\"Cricket\",\"Football\",\"Hockey\")\n",
    "multiply_tuple=tuple1*2\n",
    "print(multiply_tuple)"
   ]
  },
  {
   "cell_type": "code",
   "execution_count": 28,
   "id": "b0e5d4fc-9e88-4b98-b84e-d38c7fb7e251",
   "metadata": {},
   "outputs": [
    {
     "name": "stdout",
     "output_type": "stream",
     "text": [
      "('Banana', 'Cherry', 'Apple', 'Mango', 'Grapes')\n"
     ]
    }
   ],
   "source": [
    "#Using extend() method to (not directly applicable to tuples, so we need to convert it to list)\n",
    "fruits=(\"Banana\",\"Cherry\",\"Apple\")\n",
    "more_fruits=(\"Mango\",\"Grapes\")\n",
    "fruit_list=list(fruits)\n",
    "fruit_list.extend(more_fruits)\n",
    "fruits=tuple(fruit_list)\n",
    "print(fruits)"
   ]
  },
  {
   "cell_type": "markdown",
   "id": "61a182b4-6cf4-4ba8-8553-88c55a0d4f53",
   "metadata": {},
   "source": [
    "## Methods used in tuple\n",
    "Tuple methods are built-in functions that perform specific operations on tuple elements. Since tuples are immutable, they have fewer methods than list."
   ]
  },
  {
   "cell_type": "markdown",
   "id": "df2d77c7-f1bd-4f54-b1c7-6e8e71699184",
   "metadata": {},
   "source": [
    "### Using count() for occurences"
   ]
  },
  {
   "cell_type": "code",
   "execution_count": 34,
   "id": "22a54c96-1455-498d-8a8c-69f01a5dd42d",
   "metadata": {},
   "outputs": [
    {
     "data": {
      "text/plain": [
       "2"
      ]
     },
     "execution_count": 34,
     "metadata": {},
     "output_type": "execute_result"
    }
   ],
   "source": [
    "fruits=(\"Banana\",\"Cherry\",\"Apple\",\"Banana\",\"Cherry\")\n",
    "fruits.count(\"Banana\")"
   ]
  },
  {
   "cell_type": "code",
   "execution_count": 38,
   "id": "4a5d4a21-5f59-4333-a508-cefd0b4e49d0",
   "metadata": {},
   "outputs": [
    {
     "name": "stdout",
     "output_type": "stream",
     "text": [
      "1\n",
      "2\n"
     ]
    }
   ],
   "source": [
    "# Using index() for finding the first occurence\n",
    "print(fruits.index(\"Cherry\"))\n",
    "print(fruits.index(\"Apple\"))"
   ]
  },
  {
   "cell_type": "code",
   "execution_count": 44,
   "id": "8be36f8a-af82-4bd2-a407-cfd41c159ba1",
   "metadata": {},
   "outputs": [
    {
     "name": "stdout",
     "output_type": "stream",
     "text": [
      "('Banana', 'Cherry', 'Apple', 'Banana', 'Cherry', 'Orange')\n"
     ]
    }
   ],
   "source": [
    "# Using append() to add an element\n",
    "fruits=(\"Banana\",\"Cherry\",\"Apple\",\"Banana\",\"Cherry\")\n",
    "fruit_list=list(fruits)\n",
    "fruit_list.append(\"Orange\")\n",
    "fruits=tuple(fruit_list)\n",
    "print(fruits)"
   ]
  },
  {
   "cell_type": "markdown",
   "id": "c642833f-c65d-4348-8d1d-25b5b9be038d",
   "metadata": {},
   "source": [
    "# Set\n",
    "Set is an unodered collection of unique elements.\n",
    "1. Elements should be distinct - duplicate values are removed automatically\n",
    "2. They do not have defined order\n",
    "3. It is mutable\n",
    "4. It is defined in {} or it can be created using built-in set() function"
   ]
  },
  {
   "cell_type": "code",
   "execution_count": 49,
   "id": "efa8dbd1-3989-4c9a-a496-79841446e639",
   "metadata": {},
   "outputs": [
    {
     "name": "stdout",
     "output_type": "stream",
     "text": [
      "{1, 2, 4, 5, 6}\n"
     ]
    }
   ],
   "source": [
    "# Example\n",
    "my_set=set([1,2,4,5,6])\n",
    "print(my_set)"
   ]
  },
  {
   "cell_type": "code",
   "execution_count": 53,
   "id": "b6107b18-f271-42bc-b53d-b8652cffce76",
   "metadata": {},
   "outputs": [
    {
     "name": "stdout",
     "output_type": "stream",
     "text": [
      "The original list: [1, 2, 3, 4, 2, 3, 4, 5, 6, 7, 5, 7]\n",
      "The Set after removing duplicates: {1, 2, 3, 4, 5, 6, 7}\n"
     ]
    }
   ],
   "source": [
    "my_list=[1,2,3,4,2,3,4,5,6,7,5,7]\n",
    "my_set=set(my_list)\n",
    "print(\"The original list:\",my_list)\n",
    "print(\"The Set after removing duplicates:\",my_set)"
   ]
  },
  {
   "cell_type": "code",
   "execution_count": 55,
   "id": "4d1cf7bb-ad1e-4795-9f5c-3e9ea11d2c8d",
   "metadata": {},
   "outputs": [
    {
     "data": {
      "text/plain": [
       "set"
      ]
     },
     "execution_count": 55,
     "metadata": {},
     "output_type": "execute_result"
    }
   ],
   "source": [
    "roll_num=set()\n",
    "# Created a variable 'roll_num' with a blank set\n",
    "type(roll_num)"
   ]
  },
  {
   "cell_type": "code",
   "execution_count": 57,
   "id": "2fef9bf8-e34c-4191-b98e-122ba0d4f041",
   "metadata": {},
   "outputs": [
    {
     "name": "stdout",
     "output_type": "stream",
     "text": [
      "{1}\n"
     ]
    }
   ],
   "source": [
    "#Add into a set using add() function\n",
    "roll_num.add(1)\n",
    "print(roll_num)"
   ]
  },
  {
   "cell_type": "code",
   "execution_count": 59,
   "id": "c07a8ccf-cc60-4d25-89fa-7f364bfc23a8",
   "metadata": {},
   "outputs": [
    {
     "name": "stdout",
     "output_type": "stream",
     "text": [
      "{1, 2}\n"
     ]
    }
   ],
   "source": [
    "roll_num.add(2)\n",
    "print(roll_num)"
   ]
  },
  {
   "cell_type": "code",
   "execution_count": 61,
   "id": "674ced97-2611-47d0-85d8-0536deb9b3cd",
   "metadata": {},
   "outputs": [
    {
     "name": "stdout",
     "output_type": "stream",
     "text": [
      "{1, 2}\n"
     ]
    }
   ],
   "source": [
    "# Try to add one of the same element once again\n",
    "roll_num.add(1)\n",
    "print(roll_num)"
   ]
  },
  {
   "cell_type": "markdown",
   "id": "4d81f27b-db41-4397-9fdf-2c383a5925fb",
   "metadata": {},
   "source": [
    "### When to use set() method?\n",
    "set can be used for removing the duplicate from a list."
   ]
  },
  {
   "cell_type": "code",
   "execution_count": 66,
   "id": "7e74a400-15b7-402e-8ab2-33c89a1e69d0",
   "metadata": {},
   "outputs": [
    {
     "name": "stdout",
     "output_type": "stream",
     "text": [
      "{1, 65, 67, 3, 4, 5, 34, 75, 45, 23, 56}\n",
      "[1, 65, 67, 3, 4, 5, 34, 75, 45, 23, 56]\n"
     ]
    }
   ],
   "source": [
    "numbers=[1,3,4,5,67,65,67,65,45,45,3,4,56,67,75,34,45,23,23,34,56,67]\n",
    "remove_dup=set(numbers)\n",
    "print(remove_dup)\n",
    "numbers=list(remove_dup)     # To convert to list\n",
    "print(numbers)"
   ]
  },
  {
   "cell_type": "markdown",
   "id": "1c5a8f90-1c0f-4c4b-8f9e-5eb9513433cd",
   "metadata": {},
   "source": [
    "### How to access elements in a set()?\n",
    "It cannot be accessed by using an index() because sets are unordered."
   ]
  },
  {
   "cell_type": "code",
   "execution_count": 71,
   "id": "9fd61396-2ccf-4322-ac07-049f0187b53e",
   "metadata": {},
   "outputs": [
    {
     "name": "stdout",
     "output_type": "stream",
     "text": [
      "{'Orange', 'apple', 'banana', 'Grapes'}\n",
      "{'Orange', 'apple', 'banana', 'Grapes'}\n"
     ]
    }
   ],
   "source": [
    "#Accessing element by using a loop\n",
    "fruits={\"apple\", \"banana\",\"Orange\",\"Grapes\"}\n",
    "print(fruits)\n",
    "print(fruits)"
   ]
  },
  {
   "cell_type": "code",
   "execution_count": 73,
   "id": "24734fa8-a1a8-46cd-98f5-4d4677bfc57d",
   "metadata": {},
   "outputs": [
    {
     "name": "stdout",
     "output_type": "stream",
     "text": [
      "True\n"
     ]
    }
   ],
   "source": [
    "#Check the existance of an item in a set\n",
    "print(\"Grapes\" in fruits)"
   ]
  },
  {
   "cell_type": "code",
   "execution_count": 75,
   "id": "dde27be0-3c67-43b3-b995-89e0ded5c191",
   "metadata": {},
   "outputs": [
    {
     "name": "stdout",
     "output_type": "stream",
     "text": [
      "{'apple', 'banana', 'Grapes'}\n"
     ]
    }
   ],
   "source": [
    "fruits.pop()\n",
    "print(fruits)"
   ]
  },
  {
   "cell_type": "markdown",
   "id": "7df0dd8b-7461-4a0f-9245-ac8f13acee82",
   "metadata": {},
   "source": [
    "### Set - Add function\n",
    "1. add() is used for adding single element.\n",
    "2. update() is used for updating or adding multiple elements."
   ]
  },
  {
   "cell_type": "code",
   "execution_count": 5,
   "id": "a8d6afbf-e97c-4f64-83de-e19f6bacdb0b",
   "metadata": {},
   "outputs": [
    {
     "name": "stdout",
     "output_type": "stream",
     "text": [
      "{'banana', 'Grapes', 'Orange', 'apple', 'Pine Apple'}\n"
     ]
    }
   ],
   "source": [
    "fruits={\"apple\", \"banana\",\"Orange\",\"Grapes\"}\n",
    "fruits.add(\"Pine Apple\")\n",
    "print(fruits)"
   ]
  },
  {
   "cell_type": "code",
   "execution_count": 7,
   "id": "9985b084-b2e5-4577-a228-0c01a9a2c4f1",
   "metadata": {},
   "outputs": [
    {
     "name": "stdout",
     "output_type": "stream",
     "text": [
      "{'banana', 'Litchi', 'Grapes', 'Orange', 'apple', 'Pine Apple'}\n"
     ]
    }
   ],
   "source": [
    "fruits.update([\"Litchi\", \"Orange\"])\n",
    "print(fruits)"
   ]
  },
  {
   "cell_type": "code",
   "execution_count": 9,
   "id": "2d367506-7ca4-43ad-8a73-3ab90ffc1931",
   "metadata": {},
   "outputs": [
    {
     "name": "stdout",
     "output_type": "stream",
     "text": [
      "{'banana', 'Pineapple', 'Litchi', 'Papaya', 'Grapes', 'Orange', 'apple', 'Pine Apple'}\n"
     ]
    }
   ],
   "source": [
    "# Adding items from another set\n",
    "more_fruits= {\"Pineapple\",\"Papaya\"}\n",
    "fruits.update(more_fruits)\n",
    "print(fruits)"
   ]
  },
  {
   "cell_type": "markdown",
   "id": "1290933a-2f9a-489d-8b16-be274e8e7a73",
   "metadata": {},
   "source": [
    "### Set - remove() function\n",
    "Two ways to remove an item from the set:\n",
    "1. remove() - it throws an error if item is not present in the set\n",
    "2. discard() - it doesn't return any error"
   ]
  },
  {
   "cell_type": "code",
   "execution_count": 7,
   "id": "cbf5daf5-5c89-419d-bd7d-edcc44cf4f09",
   "metadata": {},
   "outputs": [
    {
     "name": "stdout",
     "output_type": "stream",
     "text": [
      "{'apple', 'Orange', 'Grapes'}\n"
     ]
    }
   ],
   "source": [
    "fruits={\"apple\", \"banana\",\"Orange\",\"Grapes\"}\n",
    "fruits.remove(\"banana\")\n",
    "print(fruits)"
   ]
  },
  {
   "cell_type": "code",
   "execution_count": 9,
   "id": "dfdf31f7-77c9-4d9d-bda5-ccb3aa461c15",
   "metadata": {},
   "outputs": [
    {
     "name": "stdout",
     "output_type": "stream",
     "text": [
      "{'apple', 'Grapes'}\n"
     ]
    },
    {
     "ename": "KeyError",
     "evalue": "'Papaya'",
     "output_type": "error",
     "traceback": [
      "\u001b[1;31m---------------------------------------------------------------------------\u001b[0m",
      "\u001b[1;31mKeyError\u001b[0m                                  Traceback (most recent call last)",
      "Cell \u001b[1;32mIn[9], line 3\u001b[0m\n\u001b[0;32m      1\u001b[0m fruits\u001b[38;5;241m.\u001b[39mdiscard(\u001b[38;5;124m\"\u001b[39m\u001b[38;5;124mOrange\u001b[39m\u001b[38;5;124m\"\u001b[39m)\n\u001b[0;32m      2\u001b[0m \u001b[38;5;28mprint\u001b[39m(fruits)\n\u001b[1;32m----> 3\u001b[0m fruits\u001b[38;5;241m.\u001b[39mremove(\u001b[38;5;124m\"\u001b[39m\u001b[38;5;124mPapaya\u001b[39m\u001b[38;5;124m\"\u001b[39m)\n\u001b[0;32m      4\u001b[0m \u001b[38;5;28mprint\u001b[39m(fruits)\n",
      "\u001b[1;31mKeyError\u001b[0m: 'Papaya'"
     ]
    }
   ],
   "source": [
    "fruits.discard(\"Orange\")\n",
    "print(fruits)\n",
    "fruits.remove(\"Papaya\")\n",
    "print(fruits)"
   ]
  },
  {
   "cell_type": "code",
   "execution_count": 11,
   "id": "f44adf8d-eb58-49ef-8a72-795335eed45d",
   "metadata": {},
   "outputs": [
    {
     "name": "stdout",
     "output_type": "stream",
     "text": [
      "apple\n",
      "{'Grapes'}\n"
     ]
    }
   ],
   "source": [
    "# Removing an arbitrary item using pop()\n",
    "popped=fruits.pop()\n",
    "print(popped)\n",
    "print(fruits)"
   ]
  },
  {
   "cell_type": "markdown",
   "id": "7545b3c6-c8d5-4e69-b039-95e936915ed2",
   "metadata": {},
   "source": [
    "### Set join() function\n",
    "Joining sets using set operations like\n",
    "1. union - combines all unique items from both the sets\n",
    "2. intersection - shows only common items\n",
    "3. difference - ???\n",
    "4. symmetric difference - shows items that are not common from both the sets"
   ]
  },
  {
   "cell_type": "code",
   "execution_count": 4,
   "id": "c918e1bd-4786-4ce9-a765-825f9a023b8e",
   "metadata": {},
   "outputs": [
    {
     "name": "stdout",
     "output_type": "stream",
     "text": [
      "{1, 2, 3, 4, 5, 6, 7, 8}\n"
     ]
    }
   ],
   "source": [
    "set1={1,2,3,4}\n",
    "set2={1,3,5,6,7,8}\n",
    "sets=set1.union(set2)\n",
    "print(sets)"
   ]
  },
  {
   "cell_type": "code",
   "execution_count": 6,
   "id": "15bc4cf8-e637-4488-98e7-d3ecbca91d5c",
   "metadata": {},
   "outputs": [
    {
     "name": "stdout",
     "output_type": "stream",
     "text": [
      "{1, 3}\n"
     ]
    }
   ],
   "source": [
    "set_intersection=set1.intersection(set2)\n",
    "print(set_intersection)"
   ]
  },
  {
   "cell_type": "markdown",
   "id": "74a350ac-4622-453f-9c71-828449953f22",
   "metadata": {},
   "source": [
    "### Few more methods used for Set"
   ]
  },
  {
   "cell_type": "code",
   "execution_count": 9,
   "id": "eae148be-b970-4887-98d3-9aff700e5d65",
   "metadata": {},
   "outputs": [
    {
     "name": "stdout",
     "output_type": "stream",
     "text": [
      "{'apple', 'orange', 'banana', 'cherry'}\n"
     ]
    }
   ],
   "source": [
    "# Adding an element to a set\n",
    "fruits={\"apple\",\"banana\",\"cherry\"}\n",
    "fruits.add(\"orange\")\n",
    "print(fruits)"
   ]
  },
  {
   "cell_type": "code",
   "execution_count": 11,
   "id": "3ab2349c-e1fe-4c9b-b1cd-6ff76909672e",
   "metadata": {},
   "outputs": [
    {
     "name": "stdout",
     "output_type": "stream",
     "text": [
      "set()\n"
     ]
    }
   ],
   "source": [
    "# Using clear() to empty a set\n",
    "fruits.clear()\n",
    "print(fruits)"
   ]
  },
  {
   "cell_type": "code",
   "execution_count": 15,
   "id": "47483259-1016-4fd1-8111-e61bb30d45ec",
   "metadata": {},
   "outputs": [
    {
     "name": "stdout",
     "output_type": "stream",
     "text": [
      "{'apple', 'banana', 'cherry'}\n"
     ]
    }
   ],
   "source": [
    "# Using copy() to create shallow copy\n",
    "fruits={\"apple\",\"banana\",\"cherry\"}\n",
    "fruits_cp=fruits.copy()\n",
    "print(fruits_cp)"
   ]
  },
  {
   "cell_type": "markdown",
   "id": "2336dd8f-f7e7-4e15-b2ea-287e180a7399",
   "metadata": {},
   "source": [
    "#### What are Shallow and Deep copy in Python?\n",
    "Shallow Copy: it creates a new compound object like list, dictionary or set but it actually references to the original object. Modifying the new object impacts the originial object and vice-versa.\n",
    "\n",
    "Deep Copy: Changes made to the deep copy, including modifications to nested mutable objects, will not affect the original object, and vice-versa."
   ]
  },
  {
   "cell_type": "markdown",
   "id": "a49db7a4-7b03-4251-8b42-30663e381bae",
   "metadata": {},
   "source": [
    "# Dictionary in Python\n",
    "A dictionary contains a key and it's corresponding value. It is defined in also using {}.\n",
    "It also accepts all data types."
   ]
  },
  {
   "cell_type": "code",
   "execution_count": 21,
   "id": "cce25454-1c19-4a59-90a7-bf60a7868e83",
   "metadata": {},
   "outputs": [
    {
     "name": "stdout",
     "output_type": "stream",
     "text": [
      "{'key1': 'value1', 'key2': 'value2'}\n"
     ]
    }
   ],
   "source": [
    "# Example\n",
    "my_dict={'key1':'value1','key2':'value2'}\n",
    "print(my_dict)"
   ]
  },
  {
   "cell_type": "code",
   "execution_count": 25,
   "id": "950e5a9d-6cad-4b89-be4d-b148e624be81",
   "metadata": {},
   "outputs": [
    {
     "name": "stdout",
     "output_type": "stream",
     "text": [
      "value1\n"
     ]
    }
   ],
   "source": [
    "# Call the value by the key\n",
    "print(my_dict['key1'])"
   ]
  },
  {
   "cell_type": "code",
   "execution_count": 28,
   "id": "b96c47fa-ab59-47d6-8845-78e40813b9dd",
   "metadata": {},
   "outputs": [
    {
     "name": "stdout",
     "output_type": "stream",
     "text": [
      "{'Roll Number': 123, 'Subject': ['Maths', 'Science', 'Computer'], 'Marks': [78, 67, 90]}\n"
     ]
    }
   ],
   "source": [
    "# Let's see an example of complex dictionary\n",
    "my_dict={'Roll Number':123,'Subject':['Maths','Science','Computer'],'Marks':[78,67,90]}\n",
    "print(my_dict)"
   ]
  },
  {
   "cell_type": "code",
   "execution_count": 30,
   "id": "42d44846-0610-4364-905d-0cfe64d1c609",
   "metadata": {},
   "outputs": [
    {
     "name": "stdout",
     "output_type": "stream",
     "text": [
      "['Maths', 'Science', 'Computer']\n"
     ]
    }
   ],
   "source": [
    "# Calling the values from dictionary\n",
    "print(my_dict['Subject'])"
   ]
  },
  {
   "cell_type": "code",
   "execution_count": 32,
   "id": "3c9a4f07-c58c-4617-8ea0-51778526b12c",
   "metadata": {},
   "outputs": [
    {
     "name": "stdout",
     "output_type": "stream",
     "text": [
      "[78, 67, 90]\n"
     ]
    }
   ],
   "source": [
    "print(my_dict['Marks'])"
   ]
  },
  {
   "cell_type": "code",
   "execution_count": 5,
   "id": "647a06d4-6968-4a12-bc90-b4905b1e8b3e",
   "metadata": {},
   "outputs": [
    {
     "name": "stdout",
     "output_type": "stream",
     "text": [
      "Science\n"
     ]
    }
   ],
   "source": [
    "# Calling using index of the value\n",
    "my_dict={'Roll Number':123,'Subject':['Maths','Science','Computer'],'Marks':[78,67,90]}\n",
    "print(my_dict['Subject'][1])"
   ]
  },
  {
   "cell_type": "code",
   "execution_count": 9,
   "id": "37ab1098-0974-4128-a447-2b5272ce955a",
   "metadata": {},
   "outputs": [
    {
     "name": "stdout",
     "output_type": "stream",
     "text": [
      "Maths\n"
     ]
    }
   ],
   "source": [
    "print(my_dict['Subject'][0])"
   ]
  },
  {
   "cell_type": "code",
   "execution_count": 15,
   "id": "d68005e2-ea39-4b62-929a-f7607e00c200",
   "metadata": {},
   "outputs": [
    {
     "name": "stdout",
     "output_type": "stream",
     "text": [
      "SCIENCE\n"
     ]
    }
   ],
   "source": [
    "# Capitalize the value of a dictionary\n",
    "my_dict={'Roll Number':123,'Subject':['Maths','Science','Computer'],'Marks':[78,67,90]}\n",
    "dict_up=my_dict['Subject'][1].upper()\n",
    "print(dict_up)"
   ]
  },
  {
   "cell_type": "code",
   "execution_count": 19,
   "id": "f8e5b108-e4a2-469f-a0e9-6bae7780145f",
   "metadata": {},
   "outputs": [
    {
     "name": "stdout",
     "output_type": "stream",
     "text": [
      "{'Roll Number': 123, 'Subject': ['Maths', 'Science', 'Computer'], 'Marks': [90, 67, 90]}\n"
     ]
    }
   ],
   "source": [
    "# How to update a dictionary\n",
    "# In the below example, we are adding 6 into the value of 0th index of Marks key.\n",
    "my_dict['Marks'][0]=my_dict['Marks'][0]+6\n",
    "print(my_dict)"
   ]
  },
  {
   "cell_type": "code",
   "execution_count": 21,
   "id": "89b1ff73-e34f-49ab-b9a1-f832813c7701",
   "metadata": {},
   "outputs": [
    {
     "name": "stdout",
     "output_type": "stream",
     "text": [
      "{'Roll Number': 123, 'Subject': ['Maths', 'Science', 'Computer'], 'Marks': [90, 73, 90]}\n"
     ]
    }
   ],
   "source": [
    "# Other way of writing the above code\n",
    "my_dict['Marks'][1]+=6\n",
    "print(my_dict)"
   ]
  },
  {
   "cell_type": "code",
   "execution_count": 23,
   "id": "fcaffeca-3d82-43d1-9af3-dfe7a7525035",
   "metadata": {},
   "outputs": [
    {
     "name": "stdout",
     "output_type": "stream",
     "text": [
      "{'Roll Number': 123, 'Subject': ['Maths', 'Science', 'Computer'], 'Marks': [80, 73, 90]}\n"
     ]
    }
   ],
   "source": [
    "# Similarly we can subtract a value\n",
    "my_dict['Marks'][0]-=10\n",
    "print(my_dict)"
   ]
  },
  {
   "cell_type": "code",
   "execution_count": 25,
   "id": "84358516-1dca-462b-9f5e-2462a749d080",
   "metadata": {},
   "outputs": [
    {
     "name": "stdout",
     "output_type": "stream",
     "text": [
      "{'Roll Number': 123, 'Subject': ['Maths', 'Science', 'Computer'], 'Marks': [80, 73, 90], 'Year': 2025}\n"
     ]
    }
   ],
   "source": [
    "# Adding a pair of key:value into an existing dictionary\n",
    "my_dict['Year']=2025\n",
    "print(my_dict)"
   ]
  },
  {
   "cell_type": "code",
   "execution_count": 27,
   "id": "73cae1b7-fd4c-49b5-b342-554d536b243f",
   "metadata": {},
   "outputs": [
    {
     "name": "stdout",
     "output_type": "stream",
     "text": [
      "{'Roll Number': 100, 'Subject': ['Maths', 'Science', 'Computer'], 'Marks': [80, 73, 90], 'Year': 2025}\n"
     ]
    }
   ],
   "source": [
    "# How to update a value of a key\n",
    "my_dict.update({'Roll Number':100})\n",
    "print(my_dict)"
   ]
  },
  {
   "cell_type": "code",
   "execution_count": 29,
   "id": "1516ae72-36d6-4b30-8873-1da8f35dd5d3",
   "metadata": {},
   "outputs": [
    {
     "name": "stdout",
     "output_type": "stream",
     "text": [
      "dict_items([('Roll Number', 100), ('Subject', ['Maths', 'Science', 'Computer']), ('Marks', [80, 73, 90]), ('Year', 2025)])\n"
     ]
    }
   ],
   "source": [
    "# To list all the keys and their corresponding values\n",
    "print(my_dict.items())"
   ]
  },
  {
   "cell_type": "code",
   "execution_count": null,
   "id": "48f4c073-a97c-4da5-bb3d-aac7906c78f5",
   "metadata": {},
   "outputs": [],
   "source": []
  }
 ],
 "metadata": {
  "kernelspec": {
   "display_name": "Python [conda env:base] *",
   "language": "python",
   "name": "conda-base-py"
  },
  "language_info": {
   "codemirror_mode": {
    "name": "ipython",
    "version": 3
   },
   "file_extension": ".py",
   "mimetype": "text/x-python",
   "name": "python",
   "nbconvert_exporter": "python",
   "pygments_lexer": "ipython3",
   "version": "3.12.7"
  }
 },
 "nbformat": 4,
 "nbformat_minor": 5
}
